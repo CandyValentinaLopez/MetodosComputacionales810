{
  "cells": [
    {
      "cell_type": "markdown",
      "metadata": {
        "id": "view-in-github",
        "colab_type": "text"
      },
      "source": [
        "<a href=\"https://colab.research.google.com/github/Galloncito/MetodosComputacionales810/blob/main/Te_damos_la_bienvenida_a_Colaboratory.ipynb\" target=\"_parent\"><img src=\"https://colab.research.google.com/assets/colab-badge.svg\" alt=\"Open In Colab\"/></a>"
      ]
    },
    {
      "cell_type": "code",
      "source": [
        "#varianles int float str\n",
        "\n",
        "lista=['azul','rojo']\n",
        "print(lista[0])\n",
        "len(lista)"
      ],
      "metadata": {
        "id": "7MMVJ3Bayl3X",
        "outputId": "d71f6032-74a0-41bc-c2a6-7fb3fbb48849",
        "colab": {
          "base_uri": "https://localhost:8080/"
        }
      },
      "execution_count": 15,
      "outputs": [
        {
          "output_type": "stream",
          "name": "stdout",
          "text": [
            "azul\n"
          ]
        },
        {
          "output_type": "execute_result",
          "data": {
            "text/plain": [
              "2"
            ]
          },
          "metadata": {},
          "execution_count": 15
        }
      ]
    },
    {
      "cell_type": "code",
      "source": [
        "#Diccionarios\n",
        "dic={'Gabriel Garcia':'cien años',\n",
        "      'jorgito':'messi el mas grande',\n",
        "      'miguelito':'uno de arroz por dos de'\n",
        "}\n",
        "dic['miguelito']\n"
      ],
      "metadata": {
        "id": "HHWKf0sM1AQX",
        "outputId": "6ee1237a-a8d4-47f7-fbd2-6b62be84eee6",
        "colab": {
          "base_uri": "https://localhost:8080/",
          "height": 35
        }
      },
      "execution_count": 22,
      "outputs": [
        {
          "output_type": "execute_result",
          "data": {
            "text/plain": [
              "'uno de arroz por dos de'"
            ],
            "application/vnd.google.colaboratory.intrinsic+json": {
              "type": "string"
            }
          },
          "metadata": {},
          "execution_count": 22
        }
      ]
    },
    {
      "cell_type": "code",
      "source": [
        "#Tuplas - son invariables\n",
        "coor=(10,20)\n",
        "type(coor)\n"
      ],
      "metadata": {
        "id": "e8m_8f2e19Fl",
        "outputId": "bd4117d0-9121-4a1a-a1cd-6c84bf6b0737",
        "colab": {
          "base_uri": "https://localhost:8080/"
        }
      },
      "execution_count": 24,
      "outputs": [
        {
          "output_type": "execute_result",
          "data": {
            "text/plain": [
              "tuple"
            ]
          },
          "metadata": {},
          "execution_count": 24
        }
      ]
    },
    {
      "cell_type": "code",
      "source": [
        "#conjuntos\n",
        "con={1,2,3,4,0,'a','b','c'}\n",
        "con.add(6)\n",
        "con.remove('a') #elimina a directo y no se puede usar\n",
        "con.discard('a') #simplemente lo ignora\n",
        "\n",
        "con2={1.0,2.,5.,3.}\n",
        "con.union(con2)"
      ],
      "metadata": {
        "id": "6TjXTP7n2czr",
        "outputId": "f0237080-4ef1-411e-999d-27d432f04d88",
        "colab": {
          "base_uri": "https://localhost:8080/"
        }
      },
      "execution_count": 33,
      "outputs": [
        {
          "output_type": "execute_result",
          "data": {
            "text/plain": [
              "{0, 1, 2, 3, 4, 5.0, 6, 'b', 'c'}"
            ]
          },
          "metadata": {},
          "execution_count": 33
        }
      ]
    },
    {
      "cell_type": "code",
      "source": [
        "#Agregar elemento a lista\n",
        "lista=['pera', 'mango','papa']\n",
        "lista.append('sopa')\n",
        "print(lista)\n",
        "lista.remove('pera')\n",
        "print(lista)"
      ],
      "metadata": {
        "id": "v8ciauMT3xtP",
        "outputId": "534970b2-a346-45e3-9384-4af4d3e88102",
        "colab": {
          "base_uri": "https://localhost:8080/"
        }
      },
      "execution_count": 37,
      "outputs": [
        {
          "output_type": "stream",
          "name": "stdout",
          "text": [
            "['pera', 'mango', 'papa', 'sopa']\n",
            "['mango', 'papa', 'sopa']\n"
          ]
        }
      ]
    },
    {
      "cell_type": "markdown",
      "source": [
        "CICLOS"
      ],
      "metadata": {
        "id": "IrG7ShOH4cjg"
      }
    },
    {
      "cell_type": "code",
      "source": [
        "#For\n",
        "for i in range(3):\n",
        "  print(i)"
      ],
      "metadata": {
        "id": "1-B5LTMV4fXx",
        "outputId": "0da163db-63cb-465b-e5ff-e487dfa11463",
        "colab": {
          "base_uri": "https://localhost:8080/"
        }
      },
      "execution_count": 38,
      "outputs": [
        {
          "output_type": "stream",
          "name": "stdout",
          "text": [
            "0\n",
            "1\n",
            "2\n"
          ]
        }
      ]
    },
    {
      "cell_type": "code",
      "source": [
        "for i in lista:\n",
        "  print(i)"
      ],
      "metadata": {
        "id": "sOVh7ns25RmA",
        "outputId": "0aa86fd6-1894-4ae4-a43d-d1b59bdf45eb",
        "colab": {
          "base_uri": "https://localhost:8080/"
        }
      },
      "execution_count": 42,
      "outputs": [
        {
          "output_type": "stream",
          "name": "stdout",
          "text": [
            "mango\n",
            "papa\n",
            "sopa\n"
          ]
        }
      ]
    },
    {
      "cell_type": "code",
      "source": [
        "for i in range(0,6,2): #de 0 a 6, de 2 en 2\n",
        "  print(i)"
      ],
      "metadata": {
        "id": "wh7ac4Qk5eVX",
        "outputId": "90a9c878-b44d-4d7f-fe63-bb253520321f",
        "colab": {
          "base_uri": "https://localhost:8080/"
        }
      },
      "execution_count": 50,
      "outputs": [
        {
          "output_type": "stream",
          "name": "stdout",
          "text": [
            "0\n",
            "2\n",
            "4\n"
          ]
        }
      ]
    },
    {
      "cell_type": "code",
      "source": [
        "#._sizeof_() para saber cuanto ocupa de espacio la lista o rango... el range ocupa menos bits y se puede optimizar un proceso"
      ],
      "metadata": {
        "id": "di0BqVku6NAe"
      },
      "execution_count": null,
      "outputs": []
    },
    {
      "cell_type": "code",
      "source": [
        "for i in range(len(lista)):\n",
        "  print(f'indice{i}:{lista[i]}')"
      ],
      "metadata": {
        "id": "WtXSCSG76btn",
        "outputId": "d33a1a1f-aefc-4529-fbf0-9d4ea730a8b5",
        "colab": {
          "base_uri": "https://localhost:8080/"
        }
      },
      "execution_count": 53,
      "outputs": [
        {
          "output_type": "stream",
          "name": "stdout",
          "text": [
            "indice0:mango\n",
            "indice1:papa\n",
            "indice2:sopa\n"
          ]
        }
      ]
    },
    {
      "cell_type": "code",
      "source": [
        "for idx, fruta in enumerate(lista):\n",
        "  print(idx)\n",
        "  print(fruta)"
      ],
      "metadata": {
        "id": "7OgnWIVE60Rw",
        "outputId": "51365c25-9a99-4533-f27f-c6c161d13521",
        "colab": {
          "base_uri": "https://localhost:8080/"
        }
      },
      "execution_count": 54,
      "outputs": [
        {
          "output_type": "stream",
          "name": "stdout",
          "text": [
            "0\n",
            "mango\n",
            "1\n",
            "papa\n",
            "2\n",
            "sopa\n"
          ]
        }
      ]
    },
    {
      "cell_type": "code",
      "source": [
        "#para seleccionar en la lista, por ejemplo los pares\n",
        "lista_n      ????"
      ],
      "metadata": {
        "id": "94uUx6Ef7Emr",
        "outputId": "d6a89dfc-24b9-4237-9544-5df05fc9dc3f",
        "colab": {
          "base_uri": "https://localhost:8080/",
          "height": 159
        }
      },
      "execution_count": 55,
      "outputs": [
        {
          "output_type": "error",
          "ename": "NameError",
          "evalue": "name 'lista_n' is not defined",
          "traceback": [
            "\u001b[0;31m---------------------------------------------------------------------------\u001b[0m",
            "\u001b[0;31mNameError\u001b[0m                                 Traceback (most recent call last)",
            "\u001b[0;32m<ipython-input-55-5a7482eb0ad3>\u001b[0m in \u001b[0;36m<cell line: 0>\u001b[0;34m()\u001b[0m\n\u001b[1;32m      1\u001b[0m \u001b[0;31m#para seleccionar en la lista, por ejemplo los pares\u001b[0m\u001b[0;34m\u001b[0m\u001b[0;34m\u001b[0m\u001b[0m\n\u001b[0;32m----> 2\u001b[0;31m \u001b[0mlista_n\u001b[0m\u001b[0;34m\u001b[0m\u001b[0;34m\u001b[0m\u001b[0m\n\u001b[0m",
            "\u001b[0;31mNameError\u001b[0m: name 'lista_n' is not defined"
          ]
        }
      ]
    },
    {
      "cell_type": "code",
      "source": [
        "#while\n",
        "numero=0\n",
        "while numero<5:\n",
        "  print(numero)\n",
        "  numero+=1"
      ],
      "metadata": {
        "id": "bYLn1pG47iMw",
        "outputId": "c86bc02e-bee9-468c-e996-b522f948336d",
        "colab": {
          "base_uri": "https://localhost:8080/"
        }
      },
      "execution_count": 56,
      "outputs": [
        {
          "output_type": "stream",
          "name": "stdout",
          "text": [
            "0\n",
            "1\n",
            "2\n",
            "3\n",
            "4\n"
          ]
        }
      ]
    },
    {
      "cell_type": "code",
      "source": [
        "#Usar break para salir del ciclo\n",
        "ver luego"
      ],
      "metadata": {
        "id": "34XFOr5D79d4"
      },
      "execution_count": null,
      "outputs": []
    },
    {
      "cell_type": "markdown",
      "source": [
        "CONDICIONALES"
      ],
      "metadata": {
        "id": "FLkYU6aF8YPD"
      }
    },
    {
      "cell_type": "code",
      "source": [
        "nota=float(input('ingrese una nota: '))\n",
        "if nota == 5:\n",
        "    print('exelente')\n",
        "elif nota >= 4:\n",
        "    print('bien')\n",
        "elif nota==3:\n",
        "    print('gano')\n",
        "else:print('perdio')"
      ],
      "metadata": {
        "id": "GMR5TpfJ8a42",
        "outputId": "b2e186fe-9440-439b-a838-c0cc30145e3d",
        "colab": {
          "base_uri": "https://localhost:8080/"
        }
      },
      "execution_count": 75,
      "outputs": [
        {
          "output_type": "stream",
          "name": "stdout",
          "text": [
            "ingrese una nota: 2\n",
            "perdio\n"
          ]
        }
      ]
    },
    {
      "cell_type": "code",
      "source": [
        "#Se puede usar not en las condicionales"
      ],
      "metadata": {
        "id": "CBfFv3Jb924J"
      },
      "execution_count": null,
      "outputs": []
    },
    {
      "cell_type": "markdown",
      "source": [
        "LIST CROMPREHENSION"
      ],
      "metadata": {
        "id": "upmhOl-y-DLf"
      }
    },
    {
      "cell_type": "code",
      "source": [
        "lista_n=[0,1,2,3,4,5,6,7,8,9]\n",
        "lista_alcuadrado=[x**2 for x in lista_n]  #un for en una sola linea, evitando el proceso completo\n",
        "print(lista_alcuadrado)"
      ],
      "metadata": {
        "id": "6vZHjTc8-GQo",
        "outputId": "eef18002-1c80-46f5-fc68-04eedfb72419",
        "colab": {
          "base_uri": "https://localhost:8080/"
        }
      },
      "execution_count": 79,
      "outputs": [
        {
          "output_type": "stream",
          "name": "stdout",
          "text": [
            "[0, 1, 4, 9, 16, 25, 36, 49, 64, 81]\n"
          ]
        }
      ]
    },
    {
      "cell_type": "code",
      "source": [
        "lista2=[]\n",
        "for i in lista_n:\n",
        "  lista2.append(x**2 for x in lista_n)\n",
        "  print(lista2)\n"
      ],
      "metadata": {
        "id": "j8pj080T-sKT",
        "outputId": "00523924-ac0b-41d4-ed67-2863ba4e6c4d",
        "colab": {
          "base_uri": "https://localhost:8080/"
        }
      },
      "execution_count": 86,
      "outputs": [
        {
          "output_type": "stream",
          "name": "stdout",
          "text": [
            "[<generator object <genexpr> at 0x7966da83dff0>]\n",
            "[<generator object <genexpr> at 0x7966da83dff0>, <generator object <genexpr> at 0x7966da83c6c0>]\n",
            "[<generator object <genexpr> at 0x7966da83dff0>, <generator object <genexpr> at 0x7966da83c6c0>, <generator object <genexpr> at 0x7966da83cfb0>]\n",
            "[<generator object <genexpr> at 0x7966da83dff0>, <generator object <genexpr> at 0x7966da83c6c0>, <generator object <genexpr> at 0x7966da83cfb0>, <generator object <genexpr> at 0x7966da83c1e0>]\n",
            "[<generator object <genexpr> at 0x7966da83dff0>, <generator object <genexpr> at 0x7966da83c6c0>, <generator object <genexpr> at 0x7966da83cfb0>, <generator object <genexpr> at 0x7966da83c1e0>, <generator object <genexpr> at 0x7966da83f9f0>]\n",
            "[<generator object <genexpr> at 0x7966da83dff0>, <generator object <genexpr> at 0x7966da83c6c0>, <generator object <genexpr> at 0x7966da83cfb0>, <generator object <genexpr> at 0x7966da83c1e0>, <generator object <genexpr> at 0x7966da83f9f0>, <generator object <genexpr> at 0x7966da83d700>]\n",
            "[<generator object <genexpr> at 0x7966da83dff0>, <generator object <genexpr> at 0x7966da83c6c0>, <generator object <genexpr> at 0x7966da83cfb0>, <generator object <genexpr> at 0x7966da83c1e0>, <generator object <genexpr> at 0x7966da83f9f0>, <generator object <genexpr> at 0x7966da83d700>, <generator object <genexpr> at 0x7966da83f030>]\n",
            "[<generator object <genexpr> at 0x7966da83dff0>, <generator object <genexpr> at 0x7966da83c6c0>, <generator object <genexpr> at 0x7966da83cfb0>, <generator object <genexpr> at 0x7966da83c1e0>, <generator object <genexpr> at 0x7966da83f9f0>, <generator object <genexpr> at 0x7966da83d700>, <generator object <genexpr> at 0x7966da83f030>, <generator object <genexpr> at 0x7966da83d080>]\n",
            "[<generator object <genexpr> at 0x7966da83dff0>, <generator object <genexpr> at 0x7966da83c6c0>, <generator object <genexpr> at 0x7966da83cfb0>, <generator object <genexpr> at 0x7966da83c1e0>, <generator object <genexpr> at 0x7966da83f9f0>, <generator object <genexpr> at 0x7966da83d700>, <generator object <genexpr> at 0x7966da83f030>, <generator object <genexpr> at 0x7966da83d080>, <generator object <genexpr> at 0x7966da83ec20>]\n",
            "[<generator object <genexpr> at 0x7966da83dff0>, <generator object <genexpr> at 0x7966da83c6c0>, <generator object <genexpr> at 0x7966da83cfb0>, <generator object <genexpr> at 0x7966da83c1e0>, <generator object <genexpr> at 0x7966da83f9f0>, <generator object <genexpr> at 0x7966da83d700>, <generator object <genexpr> at 0x7966da83f030>, <generator object <genexpr> at 0x7966da83d080>, <generator object <genexpr> at 0x7966da83ec20>, <generator object <genexpr> at 0x7966da83c5f0>]\n"
          ]
        }
      ]
    },
    {
      "cell_type": "markdown",
      "source": [
        "FUNCIONES\n",
        "#existen implicitas y explicitas"
      ],
      "metadata": {
        "id": "7KUBzglvAJ2J"
      }
    },
    {
      "cell_type": "code",
      "source": [
        "def multiplicar(a,b):\n",
        "  '''\n",
        "  esta funcion multiplica dos numeros\n",
        "  a=numero 1\n",
        "  b=numero 2\n",
        "  retorna a*b\n",
        "  '''\n",
        "  return\n",
        "  a= input(float('ingrese primer numero'))\n",
        "  b =input(float('ingrese segundo numero'))\n",
        "  print('resultad: %.2f' %multiplicar(a,b))"
      ],
      "metadata": {
        "id": "5RA44ffMAP9J"
      },
      "execution_count": 98,
      "outputs": []
    }
  ],
  "metadata": {
    "colab": {
      "name": "Te damos la bienvenida a Colaboratory",
      "toc_visible": true,
      "provenance": [],
      "include_colab_link": true
    },
    "kernelspec": {
      "display_name": "Python 3",
      "name": "python3"
    }
  },
  "nbformat": 4,
  "nbformat_minor": 0
}