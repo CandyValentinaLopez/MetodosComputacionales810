{
  "nbformat": 4,
  "nbformat_minor": 0,
  "metadata": {
    "colab": {
      "provenance": [],
      "authorship_tag": "ABX9TyOI7xVsF/nBcgHjGbiKitUj",
      "include_colab_link": true
    },
    "kernelspec": {
      "name": "python3",
      "display_name": "Python 3"
    },
    "language_info": {
      "name": "python"
    }
  },
  "cells": [
    {
      "cell_type": "markdown",
      "metadata": {
        "id": "view-in-github",
        "colab_type": "text"
      },
      "source": [
        "<a href=\"https://colab.research.google.com/github/jmmarinr/MetodosComputacionales810/blob/main/Parciales/Parcial2_810.ipynb\" target=\"_parent\"><img src=\"https://colab.research.google.com/assets/colab-badge.svg\" alt=\"Open In Colab\"/></a>"
      ]
    },
    {
      "cell_type": "code",
      "execution_count": null,
      "metadata": {
        "id": "7Y1lCE6sq6dB"
      },
      "outputs": [],
      "source": [
        "import numpy as np # Númerica\n",
        "import matplotlib.pyplot as plt # Gráficas\n",
        "from scipy.interpolate import CubicSpline, lagrange, interp1d # Interpolación\n",
        "from scipy.integrate import quad, dblquad, tplquad, trapezoid, simpson # Integración\n",
        "import sympy as sp # Símbolos"
      ]
    },
    {
      "cell_type": "markdown",
      "source": [
        "# ⚠ Importante\n",
        "\n",
        "👁 Puede usar unicamente las librerias vistas en clase (estas están en la parte superior) en caso de agregar una nueva, debe justificarla.\n",
        "\n",
        "💀 No está permitido el uso de IA's en caso de hacerlo su parcial será **anulado**!\n",
        "\n",
        "❗ Comente su código y funciones, esto hace parte de la nota.\n",
        "\n",
        "✅ Responda ordenadamente y con claridad.\n",
        "\n",
        "\n",
        "## Nombre: ________"
      ],
      "metadata": {
        "id": "ejroOZ4F4qg3"
      }
    },
    {
      "cell_type": "markdown",
      "source": [
        "# 1\n",
        "\n",
        "**(30 puntos)** Sea la función $f(x) = 3^x$,\n",
        "\n",
        "---\n",
        "\n",
        "a. Defina una función llamada derivada (ver abajo) que encuentre el valor de la derivada en $x=2$ usando diferencias finitas centrales,\n",
        "\n",
        "$$\n",
        "f'(x) ≈ \\frac{f(x+h) - f(x-h)}{2h}\n",
        "$$\n",
        "\n",
        "con una tolerancia menor a $10^{-8}$ y que retorne el valor de $f'(x=2)$ para cada valor de $h$. Tome con $h$ inicial 0.1.\n",
        "\n",
        "---\n",
        "\n",
        "b. Realice un gráfico logaritmico del error asociado a $f'(x)$ absoluto en función de $h$, conociendo que\n",
        "\n",
        "$$\n",
        "\\frac{d}{dx}(b^x) = b^x\\ln b\n",
        "$$\n",
        "\n",
        "\n",
        "\n",
        "\n",
        "\n",
        "```python\n",
        "def derivada(f,x, tol = 1e-8):\n",
        "'''\n",
        "Recuerde hacer su documentación\n",
        "'''\n",
        "\n",
        "  return valor_derivada, h_valores\n",
        "```\n",
        "\n"
      ],
      "metadata": {
        "id": "wNcvYgSvMr0P"
      }
    },
    {
      "cell_type": "code",
      "source": [
        "# Aqui va su código"
      ],
      "metadata": {
        "id": "05W5XN0czDur"
      },
      "execution_count": null,
      "outputs": []
    },
    {
      "cell_type": "markdown",
      "source": [
        "## 2\n",
        "\n",
        "\n",
        "**(40 puntos)** Considere una barra delgada y homogénea de longitud $L = 1.0\\ \\text{m}$ que está sometida a una conducción de calor en régimen estacionario. Se ha medido la temperatura a lo largo de la barra en ciertos puntos:\n",
        "\n",
        "| $x$ (m) | $T(x)$ (°C) |\n",
        "|--------|--------------|\n",
        "| 0.0    | 100.0        |\n",
        "| 0.2    | 92.1         |\n",
        "| 0.4    | 77.8         |\n",
        "| 0.6    | 59.3         |\n",
        "| 0.8    | 35.6         |\n",
        "| 1.0    | 10.0         |\n",
        "\n",
        "\n",
        "Con base en estos datos responda:\n",
        "\n",
        "---\n",
        "\n",
        "a. Encuentre una expresión para el polinomio interpolador de **Lagrange** para $T(x)$\n",
        "\n",
        "---\n",
        "\n",
        "b. Usando la función obtenida por **Lagrange** y haciendo **CubicSpline**, haga un gráfico donde muestre el comportanmiento de las funciones en comparación con los datos experimentales.\n",
        "\n",
        "---\n",
        "\n",
        "c. Calcule el **gradiente térmico** $\\frac{dT}{dx}$ usando los datos procedentes de interpolación CubicSpline. Use `np.gradient` con $h = 10^{-4}$.\n",
        "\n",
        "---\n",
        "\n",
        "d. Determinar el **flujo de calor** $q(x) = -k \\frac{dT}{dx}$ con $k = 401\\ \\text{W/m·K}$ (cobre) y grafique para $x\\in [0, 1]$.\n",
        "\n"
      ],
      "metadata": {
        "id": "5EKblGOCzUVm"
      }
    },
    {
      "cell_type": "code",
      "source": [
        "# Aquí va su código"
      ],
      "metadata": {
        "id": "q7CPKP_yzY17"
      },
      "execution_count": null,
      "outputs": []
    },
    {
      "cell_type": "markdown",
      "source": [
        "# 3\n",
        "\n",
        "**(30 puntos)** Consideremos una lámina triangular $R$ con vértices (0,0), (0,3), (3,0) y con densidad  $\\rho (x,y) = xy$ [kg/m$^2$]\n",
        "\n",
        "a. Calcule la masa total del sistema si:\n",
        "\n",
        "$$\n",
        "m = \\iint_R \\rho(x, y)\\, dA = \\int_0^3\\int_0^{3-x} \\rho(x,y)\\, dydx\n",
        "$$\n",
        "\n",
        "Usando una forma iterativa de `quad`, compare su resultado con `dblquad`.\n",
        "\n",
        "\n",
        "b. Ahora, encuentre el centro de masa de la lámina, si\n",
        "\n",
        "$$\n",
        "\\bar{x} = \\frac{M_y}{m} = \\frac{\\iint_R x \\rho(x, y)\\, dA}{\\iint_R \\rho(x, y)\\, dA}\n",
        "$$\n",
        "\n",
        "$$\n",
        "\\bar{y} = \\frac{M_x}{m} = \\frac{\\iint_R y \\rho(x, y)\\, dA}{\\iint_R \\rho(x, y)\\, dA}.\n",
        "$$\n",
        "\n",
        "Puede usar la forma iterativa de `quad` o `dblquad`.\n",
        "\n",
        "c. Calcule el **momento de inercia respecto al eje \\$x\\$**, definido como:\n",
        "\n",
        "$$\n",
        "I_x = \\iint_R y^2\\, \\rho(x, y)\\, dA,\n",
        "$$\n",
        "\n",
        "\n",
        "\n"
      ],
      "metadata": {
        "id": "_H53DGdt-J3h"
      }
    },
    {
      "cell_type": "code",
      "source": [
        "# Aquí va su código"
      ],
      "metadata": {
        "id": "utAiyT7izosX"
      },
      "execution_count": null,
      "outputs": []
    }
  ]
}