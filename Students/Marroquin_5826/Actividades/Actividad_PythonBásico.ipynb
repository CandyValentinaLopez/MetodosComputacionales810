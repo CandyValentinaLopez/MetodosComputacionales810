{
  "nbformat": 4,
  "nbformat_minor": 0,
  "metadata": {
    "colab": {
      "provenance": [],
      "include_colab_link": true
    },
    "kernelspec": {
      "name": "python3",
      "display_name": "Python 3"
    },
    "language_info": {
      "name": "python"
    }
  },
  "cells": [
    {
      "cell_type": "markdown",
      "metadata": {
        "id": "view-in-github",
        "colab_type": "text"
      },
      "source": [
        "<a href=\"https://colab.research.google.com/github/nataliaMS21/MetodosComputacionales810/blob/main/Basics/Actividad_PythonB%C3%A1sico.ipynb\" target=\"_parent\"><img src=\"https://colab.research.google.com/assets/colab-badge.svg\" alt=\"Open In Colab\"/></a>"
      ]
    },
    {
      "cell_type": "markdown",
      "source": [
        "# Actividad: Introducción a Python (sin librerías)\n",
        "\n",
        "---"
      ],
      "metadata": {
        "id": "ym3QAv5yfZSO"
      }
    },
    {
      "cell_type": "markdown",
      "source": [
        "## Problema 1: Números primos entre 2 y 50 con la Criba de Eratóstenes\n",
        "\n",
        "La **Criba de Eratóstenes** es un método eficiente para encontrar todos los números primos menores que un número dado. El algoritmo consiste en:\n",
        "\n",
        "1. Crear una lista de valores booleanos para representar los números del 2 al 50, todos inicialmente marcados como verdaderos.\n",
        "2. Comenzando desde el primer número primo (2), eliminar todos sus múltiplos (marcándolos como falsos).\n",
        "3. Repetir el proceso para el siguiente número no eliminado.\n",
        "4. Los números que permanezcan marcados como verdaderos son primos.\n",
        "\n",
        "Usando funciones, implementa este método y muestra en pantalla todos los números primos entre 2 y 50.\n",
        "\n"
      ],
      "metadata": {
        "id": "W0C9oNGXfwDj"
      }
    },
    {
      "cell_type": "code",
      "source": [
        "def criba_eratostenes(limite):\n",
        "    # Paso 1: Crear una lista de valores booleanos, todos inicialmente marcados como verdaderos.\n",
        "    # Usamos índices de 0 a limite, pero solo nos interesan del 2 al limite.\n",
        "    es_primo = [True] * (limite + 1)\n",
        "\n",
        "    # 0 y 1 no son primos\n",
        "    es_primo[0] = es_primo[1] = False\n",
        "\n",
        "    # Paso 2 y 3: Marcar múltiplos como no primos\n",
        "    for i in range(2, int(limite**0.5) + 1):\n",
        "        # Si i es primo, eliminar sus múltiplos\n",
        "        if es_primo[i]:\n",
        "            # Comenzamos desde i*i porque los múltiplos menores ya fueron marcados\n",
        "            for j in range(i*i, limite + 1, i):\n",
        "                es_primo[j] = False\n",
        "\n",
        "    # Paso 4: Recopilar los números primos\n",
        "    primos = []\n",
        "    for i in range(2, limite + 1):\n",
        "        if es_primo[i]:\n",
        "            primos.append(i)\n",
        "\n",
        "    return primos\n",
        "\n",
        "primos = criba_eratostenes(50)\n",
        "print(\"Primos entre 2 y 50:\", primos)"
      ],
      "metadata": {
        "id": "GIk3OsqxfZ50",
        "outputId": "74deab47-3cf1-4f22-b6fa-71ce1b70e2eb",
        "colab": {
          "base_uri": "https://localhost:8080/"
        }
      },
      "execution_count": 7,
      "outputs": [
        {
          "output_type": "stream",
          "name": "stdout",
          "text": [
            "Primos entre 2 y 50: [2, 3, 5, 7, 11, 13, 17, 19, 23, 29, 31, 37, 41, 43, 47]\n"
          ]
        }
      ]
    },
    {
      "cell_type": "markdown",
      "source": [
        "## Problema 2: Aproximación de π usando la serie de Leibniz\n",
        "\n",
        "La serie de Leibniz es una forma sencilla de aproximar el valor de π:\n",
        "\n",
        "$$\n",
        "\\pi \\approx 4 \\sum_{n=0}^{N} \\frac{(-1)^n}{2n + 1}\n",
        "$$\n",
        "\n",
        "Implementa una función que realice este calculo y muestra la aproximación para distintos valores de $N$ (por ejemplo: 10, 100, 1000, 10000)."
      ],
      "metadata": {
        "id": "WzI-FhIWf2iJ"
      }
    },
    {
      "cell_type": "code",
      "source": [
        "def aproximar_pi_leibniz(N):\n",
        "    \"\"\"\n",
        "    Aproxima el valor de π usando la serie de Leibniz.\n",
        "    \"\"\"\n",
        "    suma = 0\n",
        "    for n in range(N + 1):\n",
        "        termino = ((-1) ** n) / (2 * n + 1)\n",
        "        suma += termino\n",
        "    return 4 * suma\n",
        "\n",
        "# Valor real de π (constante)\n",
        "pi_real = 3.14159265358979\n",
        "\n",
        "# Valores de N a evaluar\n",
        "valores_N = [10, 100, 1000, 10000]\n",
        "aproximaciones = []\n",
        "errores = []\n",
        "\n",
        "# Calcular aproximaciones y errores\n",
        "for N in valores_N:\n",
        "    aproximacion = aproximar_pi_leibniz(N)\n",
        "    error = abs(aproximacion - pi_real)\n",
        "    aproximaciones.append(aproximacion)\n",
        "    errores.append(error)\n",
        "\n",
        "# Imprimir resultados como listas\n",
        "print(\"Valores de N:\", valores_N)\n",
        "print(\"Aproximaciones de π:\", aproximaciones)\n",
        "print(\"Errores:\", errores)"
      ],
      "metadata": {
        "id": "DfVwDvrRf7Fz",
        "outputId": "7d8f60a2-c274-48b7-9486-da44831f3acc",
        "colab": {
          "base_uri": "https://localhost:8080/"
        }
      },
      "execution_count": 13,
      "outputs": [
        {
          "output_type": "stream",
          "name": "stdout",
          "text": [
            "Valores de N: [10, 100, 1000, 10000]\n",
            "Aproximaciones de π: [3.232315809405594, 3.1514934010709914, 3.1425916543395442, 3.1416926435905346]\n",
            "Errores: [0.09072315581580392, 0.0099007474812014, 0.0009990007497542308, 9.999000074456532e-05]\n"
          ]
        }
      ]
    },
    {
      "cell_type": "markdown",
      "source": [
        "## Problema 3: Números amigos en un rango dado\n",
        "\n",
        "Dos números naturales $a$ y $b$ se llaman **números amigos** si la suma de los divisores propios (excluyendo el número mismo) de $a$ es igual a $b$, y viceversa.\n",
        "\n",
        "Por ejemplo, 220 y 284 son números amigos porque:\n",
        "- Los divisores propios de 220 son: 1, 2, 4, 5, 10, 11, 20, 22, 44, 55, 110 → suma: 284\n",
        "- Los divisores propios de 284 son: 1, 2, 4, 71, 142 → suma: 220\n",
        "\n",
        "Escribe un programa que encuentre todos los pares de números amigos en un rango dado por el usuario (por ejemplo, entre 1 y 10000)."
      ],
      "metadata": {
        "id": "Z1-gsRbNf7jy"
      }
    },
    {
      "cell_type": "code",
      "source": [
        "def suma_divisores_propios(n):\n",
        "    \"\"\"Calcula la suma de los divisores propios de un número.\"\"\"\n",
        "    suma = 1  # El 1 siempre es divisor\n",
        "    for i in range(2, int(n**0.5) + 1):\n",
        "        if n % i == 0:\n",
        "            suma += i\n",
        "            if i != n // i:  # Evitar duplicados en números cuadrados\n",
        "                suma += n // i\n",
        "    return suma\n",
        "\n",
        "def encontrar_numeros_amigos(inicio, fin):\n",
        "    \"\"\"Encuentra todos los pares de números amigos en un rango dado.\"\"\"\n",
        "    # Diccionario para almacenar sumas de divisores\n",
        "    sumas = {num: suma_divisores_propios(num) for num in range(inicio, fin + 1)}\n",
        "\n",
        "    # Encontrar pares de números amigos\n",
        "    pares = []\n",
        "    for a in range(inicio, fin + 1):\n",
        "        b = sumas[a]\n",
        "        # Verificar si forman un par de amigos y evitar duplicados (a < b)\n",
        "        if a < b <= fin and sumas.get(b, 0) == a:\n",
        "            pares.append((a, b))\n",
        "\n",
        "    return pares\n",
        "\n",
        "# Ejecutar y mostrar resultados\n",
        "rango_inicio, rango_fin = 1, 10000\n",
        "pares_amigos = encontrar_numeros_amigos(rango_inicio, rango_fin)\n",
        "\n",
        "# Mostrar solo la lista de pares encontrados\n",
        "print(pares_amigos)"
      ],
      "metadata": {
        "id": "m87mKCXlgGjN",
        "outputId": "2ad9262c-ce4e-4cc7-9766-3eaee5f14427",
        "colab": {
          "base_uri": "https://localhost:8080/"
        }
      },
      "execution_count": 11,
      "outputs": [
        {
          "output_type": "stream",
          "name": "stdout",
          "text": [
            "[(220, 284), (1184, 1210), (2620, 2924), (5020, 5564), (6232, 6368)]\n"
          ]
        }
      ]
    },
    {
      "cell_type": "markdown",
      "source": [
        "\n",
        "## Problema 4: Contador de frecuencias de letras en una palabra\n",
        "\n",
        "Escribe un programa que lea una palabra ingresada por el usuario y construya un diccionario donde cada clave sea una letra de la palabra, y el valor asociado sea la cantidad de veces que esa letra aparece. Imprime el resultado.\n"
      ],
      "metadata": {
        "id": "ASKmJNuBgHIp"
      }
    },
    {
      "cell_type": "code",
      "source": [
        "# Solicitar la palabra al usuario\n",
        "palabra = input(\"Ingresa una palabra: \")\n",
        "\n",
        "# Crear un diccionario vacío para almacenar las frecuencias\n",
        "frecuencias = {}\n",
        "\n",
        "# Recorrer cada letra en la palabra\n",
        "for letra in palabra:\n",
        "    if letra in frecuencias:\n",
        "        frecuencias[letra] += 1  # Sumar 1 si ya está en el diccionario\n",
        "    else:\n",
        "        frecuencias[letra] = 1   # Agregarla con valor 1 si no está\n",
        "\n",
        "# Imprimir el resultado\n",
        "print(\"Frecuencia de letras:\")\n",
        "for letra, cantidad in frecuencias.items():\n",
        "    print(f\"{letra}: {cantidad}\")\n"
      ],
      "metadata": {
        "id": "klMGSddPgUQ5",
        "outputId": "3769759b-1523-4471-aea4-c42321d36329",
        "colab": {
          "base_uri": "https://localhost:8080/"
        }
      },
      "execution_count": 12,
      "outputs": [
        {
          "output_type": "stream",
          "name": "stdout",
          "text": [
            "Ingresa una palabra: natalia\n",
            "Frecuencia de letras:\n",
            "n: 1\n",
            "a: 3\n",
            "t: 1\n",
            "l: 1\n",
            "i: 1\n"
          ]
        }
      ]
    }
  ]
}