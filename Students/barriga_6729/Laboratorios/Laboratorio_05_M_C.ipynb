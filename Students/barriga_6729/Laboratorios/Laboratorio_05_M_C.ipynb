{
  "nbformat": 4,
  "nbformat_minor": 0,
  "metadata": {
    "colab": {
      "provenance": []
    },
    "kernelspec": {
      "name": "python3",
      "display_name": "Python 3"
    },
    "language_info": {
      "name": "python"
    }
  },
  "cells": [
    {
      "cell_type": "markdown",
      "source": [
        "#1.\n",
        "\n",
        "En un cirtcuito con un voltaje de ε(t) y una inductancia de L, la primera ley de Kirchhoff nos da la siguiente relación:\n",
        "\n",
        "ε(t)=L di/dt + Ri\n",
        "donde R, es la resistencia del ciruito, I\n",
        " es la corriente. Suponga que medimos la corriente con varios valores de t\n",
        " y obtenemos:\n",
        "\n",
        "t = np.array([1.00, 1.01, 1.02, 1.03, 1.04])  # tiempo\n",
        "i = np.array([3.10, 3.12, 3.14, 3.18, 3.24])  # corriente\n",
        "\n",
        "donde t se mide en segundos, I se da en Amperios, la inductancia L=0.98 H y la resistencia es de 0.142 Ω. Aproxime el votaje ε(t) en los valores t=1.00, 1.01, 1.02, 1.03, 1.04 , para ello realice lo siguiente:\n",
        "\n",
        "a) Construya un data frame de pandas con los valores de tiempo y corriente\n",
        "\n",
        "b)Emplee el metodo de diferencias finitas y de tres puntos para calcular la derivada numérica.\n",
        "\n",
        "c)Ahora, encuentre un polinomio de interpolación usando alguno de los métodos vistos y calcule la derivada 'exacta'. Compare sus resultados."
      ],
      "metadata": {
        "id": "LGgzP13EBOsO"
      }
    },
    {
      "cell_type": "code",
      "execution_count": 3,
      "metadata": {
        "colab": {
          "base_uri": "https://localhost:8080/"
        },
        "id": "fcbf9QFxBEUO",
        "outputId": "9d1d4b3c-3e32-45c8-da94-338646761ac9"
      },
      "outputs": [
        {
          "output_type": "stream",
          "name": "stdout",
          "text": [
            "   Tiempo (s)  Corriente (A)\n",
            "0        1.00           3.10\n",
            "1        1.01           3.12\n",
            "2        1.02           3.14\n",
            "3        1.03           3.18\n",
            "4        1.04           3.24\n",
            "\n",
            "Con diferencias finitas:\n",
            "   Tiempo (s)  Corriente (A)  di/dt (aprox)  ε(t) aproximado (V)\n",
            "0        1.00           3.10            2.0              2.40020\n",
            "1        1.01           3.12            2.0              2.40304\n",
            "2        1.02           3.14            3.0              3.38588\n",
            "3        1.03           3.18            5.0              5.35156\n",
            "4        1.04           3.24            7.0              7.32008\n",
            "   Tiempo (s)  Corriente (A)  di/dt (aprox)  ε(t) aproximado (V)  \\\n",
            "0        1.00           3.10            2.0              2.40020   \n",
            "1        1.01           3.12            2.0              2.40304   \n",
            "2        1.02           3.14            3.0              3.38588   \n",
            "3        1.03           3.18            5.0              5.35156   \n",
            "4        1.04           3.24            7.0              7.32008   \n",
            "\n",
            "   di/dt (interp)  ε(t) interp  \n",
            "0        3.159006     3.536026  \n",
            "1        1.500013     1.913052  \n",
            "2        2.833338     3.222551  \n",
            "3        5.166662     5.514889  \n",
            "4        6.499658     6.829745  \n"
          ]
        }
      ],
      "source": [
        "import numpy as np\n",
        "import pandas as pd\n",
        "import matplotlib.pyplot as plt\n",
        "from scipy.interpolate import BarycentricInterpolator\n",
        "\n",
        "\n",
        "# Datos\n",
        "t = np.array([1.00, 1.01, 1.02, 1.03, 1.04])   # segundos\n",
        "i = np.array([3.10, 3.12, 3.14, 3.18, 3.24])   # amperios\n",
        "\n",
        "# Constantes del circuito\n",
        "L = 0.98   # Henry\n",
        "R = 0.142  # Ohms\n",
        "\n",
        "# a)\n",
        "df = pd.DataFrame({'Tiempo (s)': t, 'Corriente (A)': i})\n",
        "print(df)\n",
        "\n",
        "# b) Derivada con diferencias finitas de 3 puntos\n",
        "di_dt = np.zeros_like(i)\n",
        "\n",
        "h = t[1] - t[0]\n",
        "\n",
        "# Usamos fórmulas de 3 puntos: centradas e inclinadas\n",
        "di_dt[0] = (-3*i[0] + 4*i[1] - i[2]) / (2*h)              # hacia adelante\n",
        "for j in range(1, len(i)-1):\n",
        "    di_dt[j] = (i[j+1] - i[j-1]) / (2*h)                  # centradas\n",
        "di_dt[-1] = (3*i[-1] - 4*i[-2] + i[-3]) / (2*h)           # hacia atrás\n",
        "\n",
        "# Calculamos el voltaje: ε(t) = L * di/dt + R * i\n",
        "epsilon_df = L * di_dt + R * i\n",
        "\n",
        "df['di/dt (aprox)'] = di_dt\n",
        "df['ε(t) aproximado (V)'] = epsilon_df\n",
        "print(\"\\nCon diferencias finitas:\")\n",
        "print(df)\n",
        "\n",
        "# c) Interpolación + derivada usando np.gradient (derivada del interpolador)\n",
        "interp = BarycentricInterpolator(t, i)\n",
        "\n",
        "# Derivada de la función interpolada en los mismos puntos\n",
        "# Aproximamos con np.gradient (es robusto y evita problemas de importación)\n",
        "ti_fine = np.linspace(t[0], t[-1], 1000)\n",
        "ii_fine = interp(ti_fine)\n",
        "di_dt_interp_fine = np.gradient(ii_fine, ti_fine)\n",
        "\n",
        "# Interpolamos esa derivada fina en los puntos originales\n",
        "from scipy.interpolate import interp1d\n",
        "interp_deriv = interp1d(ti_fine, di_dt_interp_fine)\n",
        "di_dt_interp = interp_deriv(t)\n",
        "\n",
        "epsilon_interp = L * di_dt_interp + R * i\n",
        "\n",
        "df[\"di/dt (interp)\"] = di_dt_interp\n",
        "df[\"ε(t) interp\"] = epsilon_interp\n",
        "\n",
        "# Mostrar DataFrame\n",
        "print(df)"
      ]
    },
    {
      "cell_type": "markdown",
      "source": [
        "#2.\n",
        "\n",
        "Utilizando los siguientes datos de tiempo y distancia:\n",
        "\n",
        "t = np.array([0, 3, 5, 8, 10, 13])  # Tiempo en s\n",
        "x = np.array([0, 225, 383, 623, 742, 993])  # Distancia recorrida en m\n",
        "Determinar la velocidad instantanea para cada uno de los tiempos y distancias mostrados.\n",
        "\n",
        "¿Cuál será la velocidad para t=12?"
      ],
      "metadata": {
        "id": "fxa4mNrOBP1f"
      }
    },
    {
      "cell_type": "code",
      "source": [
        "# Datos\n",
        "t = np.array([0, 3, 5, 8, 10, 13])  # Tiempo (s)\n",
        "x = np.array([0, 225, 383, 623, 742, 993])  # Distancia (m)\n",
        "\n",
        "# a) Derivada numérica (diferencias finitas centradas)\n",
        "v = np.zeros_like(x, dtype=float)\n",
        "n = len(t)\n",
        "\n",
        "# Extremos (adelantada y retrasada)\n",
        "v[0] = (x[1] - x[0]) / (t[1] - t[0])\n",
        "v[-1] = (x[-1] - x[-2]) / (t[-1] - t[-2])\n",
        "\n",
        "# Puntos intermedios (centradas)\n",
        "for i in range(1, n-1):\n",
        "    v[i] = (x[i+1] - x[i-1]) / (t[i+1] - t[i-1])\n",
        "\n",
        "# Mostrar resultados en un DataFrame\n",
        "df = pd.DataFrame({\n",
        "    'Tiempo (s)': t,\n",
        "    'Distancia (m)': x,\n",
        "    'Velocidad (m/s)': v\n",
        "})\n",
        "print(df)\n",
        "\n",
        "# b) Estimar velocidad en t = 12 usando interpolación\n",
        "interp = BarycentricInterpolator(t, x)\n",
        "\n",
        "# Derivar numéricamente la función interpolada en muchos puntos\n",
        "ti = np.linspace(min(t), max(t), 1000)\n",
        "xi = interp(ti)\n",
        "dx_dt = np.gradient(xi, ti)\n",
        "\n",
        "# Crear interpolador de la derivada\n",
        "from scipy.interpolate import interp1d\n",
        "dx_dt_interp = interp1d(ti, dx_dt)\n",
        "\n",
        "# Estimar velocidad en t = 12\n",
        "v_12 = dx_dt_interp(12.0)\n",
        "print(f\"\\nVelocidad estimada en t=12 s: {v_12:.3f} m/s\")"
      ],
      "metadata": {
        "colab": {
          "base_uri": "https://localhost:8080/"
        },
        "id": "9SeVxIljBQPN",
        "outputId": "9bc9168b-2608-4913-c5fc-c6a20bfbf163"
      },
      "execution_count": 4,
      "outputs": [
        {
          "output_type": "stream",
          "name": "stdout",
          "text": [
            "   Tiempo (s)  Distancia (m)  Velocidad (m/s)\n",
            "0           0              0        75.000000\n",
            "1           3            225        76.600000\n",
            "2           5            383        79.600000\n",
            "3           8            623        71.800000\n",
            "4          10            742        74.000000\n",
            "5          13            993        83.666667\n",
            "\n",
            "Velocidad estimada en t=12 s: 91.738 m/s\n"
          ]
        }
      ]
    },
    {
      "cell_type": "markdown",
      "source": [
        "#3.\n",
        "\n",
        "Las estaciones de radar A y B, separadas por una distancia a=500m, rastrean un avión C registrando los ángulos α y β en intervalos de 1 segundo. Tres lecturas sucesivas son:\n",
        "\n",
        "data = {\n",
        "    't (s)': [9, 10, 11],\n",
        "    'alpha (°)': [54.80, 54.06, 53.34],\n",
        "    'beta (°)': [65.59, 64.59, 63.62]\n",
        "}\n",
        "\n",
        "df = pd.DataFrame(data)\n",
        "\n",
        "Calcular la velocidad v\n",
        " del avión y el ángulo de ascenso γ\n",
        " en t=10s. Las coordenadas del avión pueden expresarse como:\n",
        "\n",
        "x= a tanβ/(tanβ−tanα)\n",
        "\n",
        "y= a (tanα tanβ)/(tanβ−tanα)"
      ],
      "metadata": {
        "id": "sVUTlZqdBQp2"
      }
    },
    {
      "cell_type": "code",
      "source": [
        "from math import tan, radians, sqrt, atan2, degrees\n",
        "\n",
        "# Datos\n",
        "a = 500  # Distancia entre radares (m)\n",
        "data = {\n",
        "    't (s)': [9, 10, 11],\n",
        "    'alpha (°)': [54.80, 54.06, 53.34],\n",
        "    'beta (°)': [65.59, 64.59, 63.62]\n",
        "}\n",
        "df = pd.DataFrame(data)\n",
        "\n",
        "# Convertir a radianes\n",
        "alpha = np.radians(df['alpha (°)'])\n",
        "beta = np.radians(df['beta (°)'])\n",
        "\n",
        "# Calcular posiciones (x, y) en cada t\n",
        "x = a * np.tan(beta) / (np.tan(beta) - np.tan(alpha))\n",
        "y = a * (np.tan(alpha) * np.tan(beta)) / (np.tan(beta) - np.tan(alpha))\n",
        "\n",
        "df['x (m)'] = x\n",
        "df['y (m)'] = y\n",
        "\n",
        "# Derivar usando diferencias centradas para t = 10 s (índice 1)\n",
        "dt = 1  # Intervalo de tiempo en segundos\n",
        "vx = (x[2] - x[0]) / (2 * dt)\n",
        "vy = (y[2] - y[0]) / (2 * dt)\n",
        "\n",
        "# Magnitud de la velocidad\n",
        "v = np.sqrt(vx**2 + vy**2)\n",
        "\n",
        "# Ángulo de ascenso\n",
        "gamma = np.arctan2(vy, vx)\n",
        "gamma_deg = np.degrees(gamma)\n",
        "\n",
        "# Resultados\n",
        "print(df)\n",
        "print(f\"\\nVelocidad del avión en t=10s: v = {v:.2f} m/s\")\n",
        "print(f\"Ángulo de ascenso γ = {gamma_deg:.2f}°\")"
      ],
      "metadata": {
        "colab": {
          "base_uri": "https://localhost:8080/"
        },
        "id": "gAlR9F_aBRB_",
        "outputId": "6de91834-daf6-4ddf-f38a-98f3851a41d4"
      },
      "execution_count": 5,
      "outputs": [
        {
          "output_type": "stream",
          "name": "stdout",
          "text": [
            "   t (s)  alpha (°)  beta (°)        x (m)        y (m)\n",
            "0      9      54.80     65.59  1401.918398  1987.346016\n",
            "1     10      54.06     64.59  1450.497006  2000.840713\n",
            "2     11      53.34     63.62  1498.640350  2013.512411\n",
            "\n",
            "Velocidad del avión en t=10s: v = 50.10 m/s\n",
            "Ángulo de ascenso γ = 15.14°\n"
          ]
        }
      ]
    },
    {
      "cell_type": "markdown",
      "source": [
        "#4.\n",
        "\n",
        "Se proporcionan los siguientes datos para la velocidad de un objeto en función del tiempo:\n",
        "\n",
        "Datos de tiempo y velocidad\n",
        "t = np.array([0, 4, 8, 12, 16, 20, 24, 28, 32, 36])  # segundos\n",
        "v = np.array([0, 34.7, 61.8, 82.8, 99.2, 112.0, 121.9, 129.7, 135.7, 140.4])  # m/s\n",
        "¿Qué tan lejos viaja el objeto desde t=0 hasta 28 s?\n",
        "¿Cuál es la aceleración del objeto a t=28s?"
      ],
      "metadata": {
        "id": "4MgwcUoPBVOP"
      }
    },
    {
      "cell_type": "code",
      "source": [
        "from scipy.integrate import simpson, trapezoid\n",
        "\n",
        "# Datos\n",
        "t = np.array([0, 4, 8, 12, 16, 20, 24, 28, 32, 36])  # tiempo en segundos\n",
        "v = np.array([0, 34.7, 61.8, 82.8, 99.2, 112.0, 121.9, 129.7, 135.7, 140.4])  # velocidad en m/s\n",
        "\n",
        "# 1. Distancia desde t = 0 hasta t = 28 s (tomamos primeros 8 puntos, hasta t=28)\n",
        "t_subset = t[:8 + 1]  # hasta índice 7 (t=28)\n",
        "v_subset = v[:8 + 1]\n",
        "\n",
        "# Método del trapecio\n",
        "dist_trapz = trapezoid(v_subset, t_subset)\n",
        "\n",
        "# Método de Simpson\n",
        "dist_simpson = simpson(v_subset, t_subset)\n",
        "\n",
        "# 2. Aceleración en t = 28 s (índice 7)\n",
        "# Usamos diferencias centradas con puntos 6, 7 y 8\n",
        "i = 7\n",
        "a_28 = (v[i + 1] - v[i - 1]) / (t[i + 1] - t[i - 1])\n",
        "\n",
        "# Resultados\n",
        "print(f\"Distancia recorrida (Trapecio): {dist_trapz:.2f} m\")\n",
        "print(f\"Distancia recorrida (Simpson): {dist_simpson:.2f} m\")\n",
        "print(f\"Aceleración en t = 28 s: {a_28:.2f} m/s²\")"
      ],
      "metadata": {
        "colab": {
          "base_uri": "https://localhost:8080/"
        },
        "id": "nzb2YFXOBVpt",
        "outputId": "bb790740-dd60-4073-ddec-217134ed0eeb"
      },
      "execution_count": 7,
      "outputs": [
        {
          "output_type": "stream",
          "name": "stdout",
          "text": [
            "Distancia recorrida (Trapecio): 2839.80 m\n",
            "Distancia recorrida (Simpson): 2851.07 m\n",
            "Aceleración en t = 28 s: 1.72 m/s²\n"
          ]
        }
      ]
    },
    {
      "cell_type": "markdown",
      "source": [
        "#5.\n",
        "El área superficial horizontal A_s(m^2) de un lago a una profundidad particular puede calcularse a partir del volumen por diferenciación:\n",
        "\n",
        "A_s(z)=−dV(z)/dz\n",
        "\n",
        "donde:\n",
        "\n",
        "V= volumen (m^3)\n",
        "z= profundidad (m) medida desde la superficie hacia el fondo\n",
        "La concentración promedio de una sustancia que varía con la profundidad c\n",
        " (g/m^3) puede calcularse por integración:\n",
        "\n",
        " c=(∫desde 0 hasta Z c(z)A_s(z)dz)/VT\n",
        "\n",
        " donde:\n",
        "\n",
        "Z= profundidad total (m)\n",
        "VT= volumen total del lago, dado también por:\n",
        "\n",
        "VT=∫desde 0 hasta Z A_s(z)dz\n",
        "\n",
        "Con base en los siguientes datos, determine la concentración promedio.\n",
        "\n",
        "Datos proporcionados\n",
        "\n",
        "z = np.array([0, 4, 8, 12, 16])  # profundidad en metros\n",
        "V = np.array([9.8175, 5.1051, 1.9635, 0.3927, 0.0000]) * 1e6  # volumen en m³\n",
        "c = np.array([10.2, 8.5, 7.4, 5.2, 4.1])  # concentración en g/m³\n",
        "\n",
        "Parámetros importantes\n",
        "\n",
        "Z = z[-1]  # profundidad total (16 m)"
      ],
      "metadata": {
        "id": "7epVYRMqBWEe"
      }
    },
    {
      "cell_type": "code",
      "source": [
        "\n",
        "\n",
        "# Datos\n",
        "z = np.array([0, 4, 8, 12, 16])  # profundidad (m)\n",
        "V = np.array([9.8175, 5.1051, 1.9635, 0.3927, 0.0000]) * 1e6  # volumen (m³)\n",
        "c = np.array([10.2, 8.5, 7.4, 5.2, 4.1])  # concentración (g/m³)\n",
        "Z = z[-1]\n",
        "\n",
        "# 1. Derivar volumen para obtener A_s(z)\n",
        "# Usamos np.gradient para derivada con respecto a z\n",
        "dV_dz = np.gradient(V, z)\n",
        "A_s = -dV_dz  # negativo según la fórmula\n",
        "\n",
        "# 2. Volumen total VT = ∫ A_s(z) dz\n",
        "VT = simpson(A_s, z)\n",
        "\n",
        "# 3. Integrar c(z) * A_s(z)\n",
        "num = simpson(c * A_s, z)\n",
        "\n",
        "# 4. Concentración promedio\n",
        "c_prom = num / VT\n",
        "\n",
        "# Resultados\n",
        "print(f\"Área superficial A_s(z): {A_s}\")\n",
        "print(f\"Volumen total del lago VT: {VT:.2f} m³\")\n",
        "print(f\"Concentración promedio: {c_prom:.4f} g/m³\")"
      ],
      "metadata": {
        "colab": {
          "base_uri": "https://localhost:8080/"
        },
        "id": "o5cjSR8PBWV-",
        "outputId": "c9a795b4-aa05-46b0-d729-42756d1cbbad"
      },
      "execution_count": 9,
      "outputs": [
        {
          "output_type": "stream",
          "name": "stdout",
          "text": [
            "Área superficial A_s(z): [1178100.   981750.   589050.   245437.5   98175. ]\n",
            "Volumen total del lago VT: 9817500.00 m³\n",
            "Concentración promedio: 8.0973 g/m³\n"
          ]
        }
      ]
    },
    {
      "cell_type": "markdown",
      "source": [
        "#6.\n",
        "La función de onda del electrón en estado 2s (n=2, l=0, m=0) en unidades radiales adimensionales es:\n",
        "\n",
        "ψ_200(r,θ,φ)=(1/(4√2π)) (2−r)e^(−r/2)\n",
        "\n",
        "La probabilidad de encontrar el electrón entre r=0 y r=R está dada por:\n",
        "\n",
        "P(R)=1/8 ∫desde 0 hasta R r^2 (2−r)^2 e^−r dr\n",
        "\n",
        "donde las integrales angulares contribuyen un factor de 4π.\n",
        "\n",
        "a) Calcule las probabilidades P(R) para R∈[10,25] con incrementos de 1 utilizando los métodos:\n",
        "Trapezoidal\n",
        "Simpson\n",
        "Cuadratura\n",
        "Garantizando que el error sea menor a ε=10^−6\n",
        "\n",
        "b) Calcule la integral radial desde r=0 hasta +∞, verifique que la probabilidad total sea 1.\n"
      ],
      "metadata": {
        "id": "IIMpTUenBWpO"
      }
    },
    {
      "cell_type": "code",
      "source": [
        "from scipy.integrate import quad\n",
        "\n",
        "# Función bajo la integral\n",
        "def integrand(r):\n",
        "    return r**2 * (2 - r)**2 * np.exp(-r)\n",
        "\n",
        "# R en el rango de 10 a 25\n",
        "R_vals = np.arange(10, 26, 1)\n",
        "P_trap = []\n",
        "P_simp = []\n",
        "P_quad = []\n",
        "\n",
        "print(\"Valores de P(R):\")\n",
        "print(f\"{'R':>3} {'Trapezoidal':>15} {'Simpson':>15} {'Quad':>15}\")\n",
        "for R in R_vals:\n",
        "    r = np.linspace(0, R, 1000)\n",
        "    f_r = integrand(r)\n",
        "\n",
        "    # Trapezoidal y Simpson\n",
        "    I_trap = (1/8) * trapezoid(f_r, r)\n",
        "    I_simp = (1/8) * simpson(f_r, r)\n",
        "\n",
        "    # Cuadratura con tolerancia de error\n",
        "    I_quad, _ = quad(lambda r: integrand(r)/8, 0, R, epsabs=1e-8)\n",
        "\n",
        "    P_trap.append(I_trap)\n",
        "    P_simp.append(I_simp)\n",
        "    P_quad.append(I_quad)\n",
        "\n",
        "    print(f\"{R:>3} {I_trap:15.10f} {I_simp:15.10f} {I_quad:15.10f}\")\n",
        "\n",
        "# Calcular la probabilidad total (desde 0 hasta infinito)\n",
        "P_total, _ = quad(lambda r: integrand(r)/8, 0, np.inf, epsabs=1e-10)\n",
        "print(f\"\\nProbabilidad total P(∞): {P_total:.10f}\")"
      ],
      "metadata": {
        "colab": {
          "base_uri": "https://localhost:8080/"
        },
        "id": "0YWthZqbBXDO",
        "outputId": "fa7ded72-355a-4f0f-e247-90a7ccb28a50"
      },
      "execution_count": 11,
      "outputs": [
        {
          "output_type": "stream",
          "name": "stdout",
          "text": [
            "Valores de P(R):\n",
            "  R     Trapezoidal         Simpson            Quad\n",
            " 10    0.9404805252    0.9404806924    0.9404806921\n",
            " 11    0.9682228032    0.9682229270    0.9682229265\n",
            " 12    0.9835518591    0.9835519442    0.9835519435\n",
            " 13    0.9917076446    0.9917077000    0.9917076990\n",
            " 14    0.9959130029    0.9959130376    0.9959130363\n",
            " 15    0.9980248835    0.9980249051    0.9980249034\n",
            " 16    0.9990617827    0.9990617964    0.9990617942\n",
            " 17    0.9995610511    0.9995610607    0.9995610579\n",
            " 18    0.9997973914    0.9997973991    0.9997973956\n",
            " 19    0.9999076036    0.9999076107    0.9999076064\n",
            " 20    0.9999583192    0.9999583268    0.9999583214\n",
            " 21    0.9999813808    0.9999813893    0.9999813828\n",
            " 22    0.9999917558    0.9999917658    0.9999917580\n",
            " 23    0.9999963783    0.9999963901    0.9999963808\n",
            " 24    0.9999984197    0.9999984337    0.9999984226\n",
            " 25    0.9999993139    0.9999993302    0.9999993172\n",
            "\n",
            "Probabilidad total P(∞): 1.0000000000\n"
          ]
        }
      ]
    },
    {
      "cell_type": "markdown",
      "source": [
        "#7.\n",
        "Una lámina cuadrada uniforme de metal flota inmóvil en el espacio:\n",
        "\n",
        "La lámina cuadrada tiene 10 m de lado y espesor despreciable. La componente de la fuerza gravitacional a lo largo del eje z sobre una masa de prueba de 1 kg ubicada a distancia z del centro de la lámina es:\n",
        "\n",
        "Fz=Gσz∬desde−L/2 hasta L/2 dxdy/((x^2+y^2+z^2)^3/2)\n",
        "\n",
        "donde G=6.674×10^−11 m^3 kg^−1 s^−2, σ=M/L^2, L=10 m y M=10,000 kg.\n",
        "\n",
        "a) Calcular numéricamente esta integral doble.\n",
        "\n",
        "b) Graficar Fz como función de z desde z=0 hasta z=10 m\n"
      ],
      "metadata": {
        "id": "qBXC4orXBXqf"
      }
    },
    {
      "cell_type": "code",
      "source": [
        "from scipy.integrate import dblquad\n",
        "\n",
        "# Constantes\n",
        "G = 6.674e-11  # Constante gravitacional (m^3/kg/s^2)\n",
        "L = 10         # Lado de la lámina (m)\n",
        "M = 10000      # Masa total (kg)\n",
        "sigma = M / L**2  # Densidad superficial de masa (kg/m^2)\n",
        "\n",
        "# Definimos la función a integrar para Fz\n",
        "def integrand(y, x, z):\n",
        "    return z / ((x**2 + y**2 + z**2)**(3/2))\n",
        "\n",
        "# Función que evalúa Fz para un valor dado de z\n",
        "def Fz(z):\n",
        "    val, err = dblquad(\n",
        "        integrand,\n",
        "        -L/2, L/2,                   # límites en x\n",
        "        lambda x: -L/2, lambda x: L/2,  # límites en y\n",
        "        args=(z,)\n",
        "    )\n",
        "    return G * sigma * z * val\n",
        "\n",
        "# Vector de valores de z\n",
        "z_vals = np.linspace(0.01, 10, 100)  # z desde 0.01 hasta 10 m\n",
        "Fz_vals = np.array([Fz(z) for z in z_vals])\n",
        "\n",
        "# Gráfica\n",
        "plt.figure(figsize=(8, 5))\n",
        "plt.plot(z_vals, Fz_vals, label=r'$F_z(z)$', color='navy')\n",
        "plt.xlabel('Distancia z (m)')\n",
        "plt.ylabel('Fuerza gravitacional $F_z$ (N)')\n",
        "plt.title('Fuerza gravitacional sobre masa de prueba vs. z')\n",
        "plt.grid(True)\n",
        "plt.legend()\n",
        "plt.tight_layout()\n",
        "plt.show()"
      ],
      "metadata": {
        "colab": {
          "base_uri": "https://localhost:8080/",
          "height": 507
        },
        "id": "09GJKw2VBYB2",
        "outputId": "40e239bc-9904-4358-eb8d-b78d06c285f4"
      },
      "execution_count": 12,
      "outputs": [
        {
          "output_type": "display_data",
          "data": {
            "text/plain": [
              "<Figure size 800x500 with 1 Axes>"
            ],
            "image/png": "[encoded data removed]"
          },
          "metadata": {}
        }
      ]
    }
  ]
}