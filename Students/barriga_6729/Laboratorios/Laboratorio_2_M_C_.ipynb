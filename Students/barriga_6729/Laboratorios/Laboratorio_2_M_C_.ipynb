{
  "nbformat": 4,
  "nbformat_minor": 0,
  "metadata": {
    "colab": {
      "provenance": []
    },
    "kernelspec": {
      "name": "python3",
      "display_name": "Python 3"
    },
    "language_info": {
      "name": "python"
    }
  },
  "cells": [
    {
      "cell_type": "markdown",
      "source": [
        "1.\n",
        "Cree una función llamada myint pero que a partir de un número binario con base de 16 bits encuentre el entero correspondiente. Compare su resultado con int(0b1000011100001)"
      ],
      "metadata": {
        "id": "LSxnT1v0DRX4"
      }
    },
    {
      "cell_type": "code",
      "source": [
        "def myint(bin_string):\n",
        "    \"\"\"\n",
        "    Convierte una cadena binaria de 16 bits en un entero.\n",
        "    bin_string: cadena de 16 caracteres, e.g., '0000000001000010'\n",
        "    Retorna: entero correspondiente\n",
        "    \"\"\"\n",
        "    bin_string = bin_string.strip()  # quitar espacios si los hay\n",
        "\n",
        "    if len(bin_string) != 16 or not set(bin_string).issubset({'0', '1'}):\n",
        "        raise ValueError(\"La cadena debe ser binaria y tener exactamente 16 bits.\")\n",
        "\n",
        "    decimal = 0\n",
        "    for i, bit in enumerate(reversed(bin_string)):\n",
        "        if bit == '1':\n",
        "            decimal += 2**i\n",
        "    return decimal\n",
        "\n",
        "# Ejemplo de uso\n",
        "binario = '0000001000010001'  # representa 0b1000010001\n",
        "mi_resultado = myint(binario)\n",
        "esperado = int(0b1000010001)\n",
        "\n",
        "print(f\"Resultado de myint: {mi_resultado}\")\n",
        "print(f\"Resultado con int(): {esperado}\")\n",
        "print(f\"¿Coinciden?: {mi_resultado == esperado}\")"
      ],
      "metadata": {
        "colab": {
          "base_uri": "https://localhost:8080/"
        },
        "id": "xRAyId3XDTbV",
        "outputId": "40c9070f-08b5-40c1-bb89-b454342b0243"
      },
      "execution_count": 1,
      "outputs": [
        {
          "output_type": "stream",
          "name": "stdout",
          "text": [
            "Resultado de myint: 529\n",
            "Resultado con int(): 529\n",
            "¿Coinciden?: True\n"
          ]
        }
      ]
    },
    {
      "cell_type": "markdown",
      "source": [
        "2.\n",
        "Generar una función llamada number64 para flotantes de precisión doble (64bits) donde a partir de un número binario encuentre el valor real. Compruebe su solución usando\n",
        "\n",
        "number64(\"0100000000111011100100001111111111111111111111111111111111111111\")"
      ],
      "metadata": {
        "id": "4foQnTDgDU0F"
      }
    },
    {
      "cell_type": "code",
      "source": [
        "def number64(bin_string):\n",
        "    \"\"\"\n",
        "    Convierte una cadena binaria de 64 bits a un número flotante de doble precisión (IEEE 754).\n",
        "    \"\"\"\n",
        "    if len(bin_string) != 64 or not set(bin_string).issubset({'0', '1'}):\n",
        "        raise ValueError(\"La cadena debe tener exactamente 64 bits binarios.\")\n",
        "\n",
        "    s = int(bin_string[0], 2)  # signo\n",
        "    e = int(bin_string[1:12], 2)  # exponente\n",
        "    m_bits = bin_string[12:]  # 52 bits de la mantisa\n",
        "\n",
        "    # Convertir la mantisa binaria en fracción decimal\n",
        "    mantisa = 0\n",
        "    for i, bit in enumerate(m_bits):\n",
        "        if bit == '1':\n",
        "            mantisa += 2**(-(i + 1))\n",
        "\n",
        "    # Casos especiales: infinito, NaN o subnormal\n",
        "    if e == 2047:\n",
        "        if mantisa == 0:\n",
        "            return float('inf') if s == 0 else float('-inf')\n",
        "        else:\n",
        "            return float('nan')\n",
        "    elif e == 0:  # subnormal\n",
        "        real = (-1)**s * (mantisa) * 2**(-1022)\n",
        "    else:\n",
        "        real = (-1)**s * (1 + mantisa) * 2**(e - 1023)\n",
        "\n",
        "    return real\n",
        "bin64 = \"0100000000111011100100001111111111111111111111111111111111111111\"\n",
        "resultado = number64(bin64)\n",
        "print(\"Resultado:\", resultado)"
      ],
      "metadata": {
        "colab": {
          "base_uri": "https://localhost:8080/"
        },
        "id": "oHGUWOKJDVtl",
        "outputId": "e3f170d5-0005-400e-817b-f8fc2d90f6ff"
      },
      "execution_count": 2,
      "outputs": [
        {
          "output_type": "stream",
          "name": "stdout",
          "text": [
            "Resultado: 27.566406249999996\n"
          ]
        }
      ]
    },
    {
      "cell_type": "markdown",
      "source": [
        "3. Aproximación de π\n",
        "\n",
        "La serie de Maclaurin para la función tangente inversa converge en −1<x≤1\n",
        " y está dada por:\n",
        "\n",
        " arctanx=limn→∞Pn(x)=limn→∞∑i=1n(−1)^i+1 (x^(2i−1))/(2i−1)\n",
        "\n",
        " Aproximación básica\n",
        "\n",
        "Utilizando el hecho de que tan(π/4)=1, implemente en Python una función que calcule 4Pn(1) y determina el número mínimo de términos n\n",
        " necesarios para que |4Pn(1)−π|<10^−3. Compare su resultado con el valor de π\n",
        " de la librería math. Requiriendo que el valor de π\n",
        " esté dentro de un error de 10^−4. ¿Cuántos términos de la serie se necesitaría sumar para obtener esta precisión? Implemente una solución en Python para encontrar este valor.\n",
        "\n",
        " Mejora de la convergencia El método anterior puede mejorarse significativamente usando la identidad:\n",
        "π4=arctan(1/2)+arctan(1/3)\n",
        "Implemente en Python una función que evalúe la serie para arctan(1/2)\n",
        " y arctan(1/3) por separado y luego las sume. Determine el número mínimo de términos necesarios para cada serie (pueden ser diferentes) para aproximar π\n",
        " con un error menor a 10^−3 y 10^−6.\n",
        "\n",
        " Método de alta precisión Para obtener una convergencia aún más rápida usamos la identidad:\n",
        "π4=4arctan(1/5)−arctan(1/239)\n",
        "Desarrolle un programa en Python que implemente esta fórmula y determine:\n",
        "El número mínimo de términos necesarios en cada serie para aproximar π\n",
        " con error menor a 10^−3 y 10^−6.\n",
        "Compare el rendimiento (número de términos requeridos) con los métodos anteriores."
      ],
      "metadata": {
        "id": "vzflr-G4Fo2m"
      }
    },
    {
      "cell_type": "code",
      "source": [
        "#primera parte\n",
        "import math\n",
        "\n",
        "def arctan_series(x, tol=1e-6):\n",
        "    \"\"\"\n",
        "    Calcula arctan(x) mediante su serie de Maclaurin con tolerancia dada.\n",
        "    Retorna el valor aproximado y el número de términos usados.\n",
        "    \"\"\"\n",
        "    result = 0.0\n",
        "    term = x\n",
        "    i = 1\n",
        "    n = 0\n",
        "    while abs(term) > tol:\n",
        "        term = ((-1)**(i+1)) * (x**(2*i - 1)) / (2*i - 1)\n",
        "        result += term\n",
        "        i += 1\n",
        "        n += 1\n",
        "    return result, n\n",
        "\n",
        "# Aproximar π con arctan(1)\n",
        "def pi_approximation_arctan1(tol):\n",
        "    approx, n = arctan_series(1, tol/4)  # divide tol entre 4 porque se multiplica por 4\n",
        "    return 4 * approx, n\n",
        "\n",
        "# Comparaciones\n",
        "pi_lib = math.pi\n",
        "\n",
        "# Para error < 1e-3\n",
        "pi_est1, n1 = pi_approximation_arctan1(1e-3)\n",
        "# Para error < 1e-4\n",
        "pi_est2, n2 = pi_approximation_arctan1(1e-4)\n",
        "\n",
        "print(f\"Error < 1e-3: π ≈ {pi_est1:.6f} con {n1} términos\")\n",
        "print(f\"Error < 1e-4: π ≈ {pi_est2:.6f} con {n2} términos\")\n",
        "\n",
        "#segunda parte\n",
        "def pi_approximation_sum_arctan(tol):\n",
        "    target_error = tol / 4\n",
        "\n",
        "    def arctan_sum_terms(x, tol):\n",
        "        result = 0.0\n",
        "        term = x\n",
        "        i = 1\n",
        "        n = 0\n",
        "        while abs(term) > tol:\n",
        "            term = ((-1)**(i+1)) * (x**(2*i - 1)) / (2*i - 1)\n",
        "            result += term\n",
        "            i += 1\n",
        "            n += 1\n",
        "        return result, n\n",
        "\n",
        "    atan1_2, n1 = arctan_sum_terms(1/2, target_error)\n",
        "    atan1_3, n2 = arctan_sum_terms(1/3, target_error)\n",
        "\n",
        "    pi_est = 4 * (atan1_2 + atan1_3)\n",
        "    return pi_est, n1, n2\n",
        "\n",
        "# Comparación para error < 1e-3 y 1e-6\n",
        "pi13_1e3, n13_1, n13_2 = pi_approximation_sum_arctan(1e-3)\n",
        "pi13_1e6, m13_1, m13_2 = pi_approximation_sum_arctan(1e-6)\n",
        "\n",
        "print(f\"Error < 1e-3: π ≈ {pi13_1e3:.6f} con n1={n13_1}, n2={n13_2}\")\n",
        "print(f\"Error < 1e-6: π ≈ {pi13_1e6:.10f} con n1={m13_1}, n2={m13_2}\")\n",
        "\n",
        "#tercera parte\n",
        "def pi_machin(tol):\n",
        "    target_error = tol / 4\n",
        "\n",
        "    def arctan_series_fixed(x, tol):\n",
        "        result = 0.0\n",
        "        term = x\n",
        "        i = 1\n",
        "        n = 0\n",
        "        while abs(term) > tol:\n",
        "            term = ((-1)**(i+1)) * (x**(2*i - 1)) / (2*i - 1)\n",
        "            result += term\n",
        "            i += 1\n",
        "            n += 1\n",
        "        return result, n\n",
        "\n",
        "    a1, n1 = arctan_series_fixed(1/5, target_error/4)\n",
        "    a2, n2 = arctan_series_fixed(1/239, target_error)\n",
        "\n",
        "    pi_est = 4 * (4 * a1 - a2)\n",
        "    return pi_est, n1, n2\n",
        "\n",
        "# Para errores <1e-3 y <1e-6\n",
        "pi_mach_1e3, n_mach_1, n_mach_2 = pi_machin(1e-3)\n",
        "pi_mach_1e6, m_mach_1, m_mach_2 = pi_machin(1e-6)\n",
        "\n",
        "print(f\"Machin Error < 1e-3: π ≈ {pi_mach_1e3:.6f}, n1={n_mach_1}, n2={n_mach_2}\")\n",
        "print(f\"Machin Error < 1e-6: π ≈ {pi_mach_1e6:.10f}, n1={m_mach_1}, n2={m_mach_2}\")"
      ],
      "metadata": {
        "colab": {
          "base_uri": "https://localhost:8080/"
        },
        "id": "Pxkr14HQFpPE",
        "outputId": "7f85863d-d4bf-4b84-bce2-fadc88e84a74"
      },
      "execution_count": 3,
      "outputs": [
        {
          "output_type": "stream",
          "name": "stdout",
          "text": [
            "Error < 1e-3: π ≈ 3.142092 con 2001 términos\n",
            "Error < 1e-4: π ≈ 3.141643 con 20001 términos\n",
            "Error < 1e-3: π ≈ 3.141719 con n1=5, n2=4\n",
            "Error < 1e-6: π ≈ 3.1415925965 con n1=10, n2=7\n",
            "Machin Error < 1e-3: π ≈ 3.141592, n1=4, n2=2\n",
            "Machin Error < 1e-6: π ≈ 3.1415926824, n1=5, n2=2\n"
          ]
        }
      ]
    },
    {
      "cell_type": "markdown",
      "source": [
        "4. Serie Exponencial\n",
        "Considere la serie para e^−x:\n",
        "\n",
        "e^−x=∑n=0N(−1)^n (x^n)/n!\n",
        "\n",
        "a) Calcula la serie para x≤1 y compárela con la función incorporada np.exp(x) (asuma que la función exponencial incorporada es exacta). Elegir un N para el cual el siguiente término en la serie no sea más que 10^−7 de la suma hasta ese punto.\n",
        "\n",
        "∣((−x)^(N+1))/((N+1)!)∣ ≤ ∣10^−7∑N=0N(−x)^n/n!∣\n",
        "\n",
        "b) Examine los términos de la serie para x≈10 y observa las cancelaciones sustractivas significativas que ocurren cuando términos grandes se suman para dar respuestas pequeñas. En particular, imprime la cancelación casi perfecta en n≈x−1.\n",
        "\n",
        "c) Compruebe si se obtiene una mejor precisión siendo ingenioso y usando e^−x=1/e^x para valores grandes de x. Esto elimina la cancelación sustractiva, pero no elimina todos los errores de redondeo.\n",
        "\n",
        "d) Incrementando progresivamente x de 1 a 10, y luego de 10 a 100, use el programa para determinar experimentalmente cuándo la serie comienza a perder precisión, y cuándo la serie ya no converge.\n",
        "\n",
        "e) Realice una serie de gráficos del error versus N para diferentes valores de x."
      ],
      "metadata": {
        "id": "cTjP2GMtIau0"
      }
    },
    {
      "cell_type": "code",
      "source": [
        "import numpy as np\n",
        "import matplotlib.pyplot as plt\n",
        "import math\n",
        "\n",
        "# a) Aproximación de e^(-x) para x <= 1\n",
        "def exp_neg_series(x, tol=1e-7):\n",
        "    n = 0\n",
        "    term = 1  # Primer término (x^0 / 0!) = 1\n",
        "    sum_series = term\n",
        "    terms = [term]\n",
        "\n",
        "    while True:\n",
        "        n += 1\n",
        "        term *= -x / n  # siguiente término\n",
        "        sum_series += term\n",
        "        terms.append(term)\n",
        "\n",
        "        if abs(term) <= tol * abs(sum_series):\n",
        "            break\n",
        "\n",
        "    return sum_series, n, terms\n",
        "\n",
        "# b) Examinar cancelaciones sustractivas en x ~ 10\n",
        "def print_terms(x, max_n=30):\n",
        "    print(f\"Términos de la serie para x = {x}\")\n",
        "    term = 1\n",
        "    print(f\"n = 0: {term}\")\n",
        "    for n in range(1, max_n + 1):\n",
        "        term *= -x / n\n",
        "        print(f\"n = {n}: {term}\")\n",
        "\n",
        "# c) Comparar con 1 / exp(x)\n",
        "def stable_exp_neg(x):\n",
        "    return 1 / math.exp(x)\n",
        "\n",
        "# d) Estudio experimental de pérdida de precisión\n",
        "def test_precision(x_values, max_n=100):\n",
        "    print(f\"{'x':>5} | {'Direct':>12} | {'Stable':>12} | {'Exact':>12} | {'Rel. Error':>12}\")\n",
        "    print(\"-\" * 65)\n",
        "    for x in x_values:\n",
        "        approx, _, _ = exp_neg_series(x)\n",
        "        stable = stable_exp_neg(x)\n",
        "        exact = math.exp(-x)\n",
        "        rel_error = abs(approx - exact) / exact if exact != 0 else float('inf')\n",
        "        print(f\"{x:5} | {approx:12.4e} | {stable:12.4e} | {exact:12.4e} | {rel_error:12.4e}\")\n",
        "\n",
        "# e) Graficar error vs N para distintos x\n",
        "def plot_error_vs_n(x_values, max_n=50):\n",
        "    plt.figure(figsize=(10, 6))\n",
        "\n",
        "    for x in x_values:\n",
        "        true_val = math.exp(-x)\n",
        "        sum_series = 0\n",
        "        term = 1\n",
        "        errors = []\n",
        "        for n in range(max_n):\n",
        "            if n > 0:\n",
        "                term *= -x / n\n",
        "            sum_series += term\n",
        "            rel_error = abs(sum_series - true_val) / abs(true_val)\n",
        "            errors.append(rel_error)\n",
        "\n",
        "        plt.plot(range(max_n), errors, label=f\"x={x}\")\n",
        "\n",
        "    plt.yscale(\"log\")\n",
        "    plt.xlabel(\"N (número de términos)\")\n",
        "    plt.ylabel(\"Error relativo\")\n",
        "    plt.title(\"Error relativo vs N para diferentes x\")\n",
        "    plt.legend()\n",
        "    plt.grid(True)\n",
        "    plt.show()\n",
        "\n",
        "# a) Para x <= 1\n",
        "approx, terms_used, terms = exp_neg_series(0.5)\n",
        "print(f\"Aproximación: {approx}, términos usados: {terms_used}, valor exacto: {math.exp(-0.5)}\")\n",
        "\n",
        "# b) Términos para x = 10 (ver cancelaciones)\n",
        "print_terms(10)\n",
        "\n",
        "# c) Comparación con método más estable\n",
        "x = 10\n",
        "print(f\"Serie directa: {exp_neg_series(x)[0]}\")\n",
        "print(f\"Alternativa estable (1/exp(x)): {stable_exp_neg(x)}\")\n",
        "print(f\"Valor exacto: {math.exp(-x)}\")\n",
        "\n",
        "# d) Evaluación de precisión para x de 1 a 100\n",
        "x_values = list(range(1, 101, 10))\n",
        "test_precision(x_values)\n",
        "\n",
        "# e) Gráfico de error vs N para distintos x\n",
        "plot_error_vs_n([1, 5, 10, 20, 50])"
      ],
      "metadata": {
        "colab": {
          "base_uri": "https://localhost:8080/",
          "height": 1000
        },
        "id": "vnObYdFAIboD",
        "outputId": "488784dd-cb8b-4c5d-c773-bbdf51749eea"
      },
      "execution_count": 5,
      "outputs": [
        {
          "output_type": "stream",
          "name": "stdout",
          "text": [
            "Aproximación: 0.6065306594552606, términos usados: 9, valor exacto: 0.6065306597126334\n",
            "Términos de la serie para x = 10\n",
            "n = 0: 1\n",
            "n = 1: -10.0\n",
            "n = 2: 50.0\n",
            "n = 3: -166.66666666666669\n",
            "n = 4: 416.66666666666674\n",
            "n = 5: -833.3333333333335\n",
            "n = 6: 1388.8888888888891\n",
            "n = 7: -1984.1269841269846\n",
            "n = 8: 2480.1587301587306\n",
            "n = 9: -2755.7319223985896\n",
            "n = 10: 2755.7319223985896\n",
            "n = 11: -2505.2108385441725\n",
            "n = 12: 2087.6756987868107\n",
            "n = 13: -1605.9043836821622\n",
            "n = 14: 1147.074559772973\n",
            "n = 15: -764.716373181982\n",
            "n = 16: 477.94773323873875\n",
            "n = 17: -281.1457254345522\n",
            "n = 18: 156.19206968586235\n",
            "n = 19: -82.20635246624333\n",
            "n = 20: 41.103176233121665\n",
            "n = 21: -19.57294106339127\n",
            "n = 22: 8.896791392450577\n",
            "n = 23: -3.8681701706306857\n",
            "n = 24: 1.611737571096119\n",
            "n = 25: -0.6446950284384476\n",
            "n = 26: 0.24795962632247986\n",
            "n = 27: -0.0918368986379555\n",
            "n = 28: 0.03279889237069839\n",
            "n = 29: -0.011309962886447722\n",
            "n = 30: 0.003769987628815907\n",
            "Serie directa: 4.5399929990200534e-05\n",
            "Alternativa estable (1/exp(x)): 4.539992976248485e-05\n",
            "Valor exacto: 4.5399929762484854e-05\n",
            "    x |       Direct |       Stable |        Exact |   Rel. Error\n",
            "-----------------------------------------------------------------\n",
            "    1 |   3.6788e-01 |   3.6788e-01 |   3.6788e-01 |   5.2676e-09\n",
            "   11 |   1.6702e-05 |   1.6702e-05 |   1.6702e-05 |   3.1740e-08\n",
            "   21 |   1.5084e-08 |   7.5826e-10 |   7.5826e-10 |   1.8893e+01\n",
            "   31 |   2.7499e-04 |   3.4425e-14 |   3.4425e-14 |   7.9882e+09\n",
            "   41 |  -7.1775e+00 |   1.5629e-18 |   1.5629e-18 |   4.5925e+18\n",
            "   51 |   9.8548e+04 |   7.0955e-23 |   7.0955e-23 |   1.3889e+27\n",
            "   61 |   2.5464e+08 |   3.2213e-27 |   3.2213e-27 |   7.9049e+34\n",
            "   71 |   6.9119e+12 |   1.4625e-31 |   1.4625e-31 |   4.7261e+43\n",
            "   81 |  -5.5048e+16 |   6.6397e-36 |   6.6397e-36 |   8.2908e+51\n",
            "   91 |   9.5887e+20 |   3.0144e-40 |   3.0144e-40 |   3.1810e+60\n"
          ]
        },
        {
          "output_type": "display_data",
          "data": {
            "text/plain": [
              "<Figure size 1000x600 with 1 Axes>"
            ],
            "image/png": "[encoded data removed]"
          },
          "metadata": {}
        }
      ]
    },
    {
      "cell_type": "markdown",
      "source": [
        "5.\n",
        "Supongamos que tenemos una función f(x) y queremos calcular su derivada en un punto x. Podemos hacerlo manualmente si conocemos la forma matemática de la función, o podemos hacerlo computacionalmente usando la definición de derivada:\n",
        "\n",
        "df/dx=limδ→0 (f(x+δ)−f(x))/δ.\n",
        "\n",
        "En el computador no podemos tomar el límite cuando δ\n",
        " tiende a cero, pero podemos obtener una aproximación razonable usando valores pequeños de δ.\n",
        "\n",
        "Escriba un programa que:\n",
        "\n",
        "a)Defina una función f(x) que retorne el valor x(x−1)\n",
        "b)Calcule la derivada de la función en x=1 usando la fórmula anterior con δ=10^−2\n",
        "c)Compare este resultado con el valor exacto obtenido analíticamente\n",
        "Los resultados no coincidirán exactamente. ¿Por qué?\n",
        "\n",
        "d)Repita el cálculo para δ=10^−4,10^−6,10^−8,10^−10,10^−12, y 10^−14. Observará que la precisión mejora inicialmente al disminuir δ, pero luego empeora. Explique este comportamiento."
      ],
      "metadata": {
        "id": "S-KpnMWKP5z5"
      }
    },
    {
      "cell_type": "code",
      "source": [
        "import numpy as np\n",
        "\n",
        "# a) Definir función f(x) = x(x - 1)\n",
        "def f(x):\n",
        "    return x * (x - 1)\n",
        "\n",
        "# b) Derivada numérica usando definición de límite\n",
        "def derivada_numerica(f, x, delta):\n",
        "    return (f(x + delta) - f(x)) / delta\n",
        "\n",
        "# c) Derivada analítica exacta de f(x) = x(x - 1) => f'(x) = 2x - 1\n",
        "def derivada_analitica(x):\n",
        "    return 2 * x - 1\n",
        "\n",
        "# Comparación para múltiples valores de delta\n",
        "x0 = 1\n",
        "delta_vals = [1e-2, 1e-4, 1e-6, 1e-8, 1e-10, 1e-12, 1e-14]\n",
        "deriv_exacta = derivada_analitica(x0)\n",
        "\n",
        "print(f\"{'Delta':>10} | {'Aproximada':>12} | {'Exacta':>8} | {'Error Absoluto':>16}\")\n",
        "print(\"-\" * 50)\n",
        "\n",
        "for delta in delta_vals:\n",
        "    deriv_aprox = derivada_numerica(f, x0, delta)\n",
        "    error = abs(deriv_aprox - deriv_exacta)\n",
        "    print(f\"{delta:10.0e} | {deriv_aprox:12.8f} | {deriv_exacta:8.2f} | {error:16.8e}\")"
      ],
      "metadata": {
        "colab": {
          "base_uri": "https://localhost:8080/"
        },
        "id": "ltMXxEudP7hH",
        "outputId": "caca5506-77e5-4ffe-f124-239ad172ffb1"
      },
      "execution_count": 6,
      "outputs": [
        {
          "output_type": "stream",
          "name": "stdout",
          "text": [
            "     Delta |   Aproximada |   Exacta |   Error Absoluto\n",
            "--------------------------------------------------\n",
            "     1e-02 |   1.01000000 |     1.00 |   1.00000000e-02\n",
            "     1e-04 |   1.00010000 |     1.00 |   9.99999999e-05\n",
            "     1e-06 |   1.00000100 |     1.00 |   9.99917733e-07\n",
            "     1e-08 |   1.00000000 |     1.00 |   3.92252875e-09\n",
            "     1e-10 |   1.00000008 |     1.00 |   8.28403710e-08\n",
            "     1e-12 |   1.00008890 |     1.00 |   8.89005833e-05\n",
            "     1e-14 |   0.99920072 |     1.00 |   7.99277837e-04\n"
          ]
        }
      ]
    }
  ]
}