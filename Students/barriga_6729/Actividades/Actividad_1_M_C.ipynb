{
  "nbformat": 4,
  "nbformat_minor": 0,
  "metadata": {
    "colab": {
      "provenance": []
    },
    "kernelspec": {
      "name": "python3",
      "display_name": "Python 3"
    },
    "language_info": {
      "name": "python"
    }
  },
  "cells": [
    {
      "cell_type": "markdown",
      "source": [
        "# Actividad: Introducción a Python (sin librerías)\n",
        "\n",
        "---"
      ],
      "metadata": {
        "id": "ym3QAv5yfZSO"
      }
    },
    {
      "cell_type": "markdown",
      "source": [
        "## Problema 1: Números primos entre 2 y 50 con la Criba de Eratóstenes\n",
        "\n",
        "La **Criba de Eratóstenes** es un método eficiente para encontrar todos los números primos menores que un número dado. El algoritmo consiste en:\n",
        "\n",
        "1. Crear una lista de valores booleanos para representar los números del 2 al 50, todos inicialmente marcados como verdaderos.\n",
        "2. Comenzando desde el primer número primo (2), eliminar todos sus múltiplos (marcándolos como falsos).\n",
        "3. Repetir el proceso para el siguiente número no eliminado.\n",
        "4. Los números que permanezcan marcados como verdaderos son primos.\n",
        "\n",
        "Usando funciones, implementa este método y muestra en pantalla todos los números primos entre 2 y 50.\n",
        "\n"
      ],
      "metadata": {
        "id": "W0C9oNGXfwDj"
      }
    },
    {
      "cell_type": "code",
      "source": [
        "#Aqui va su código\n",
        "# Crear lista de booleanos\n",
        "num_primos = [True] * 51\n",
        "num_primos[0] = num_primos[1] = False  # 0 y 1 no son primos\n",
        "\n",
        "# Aplicar la criba\n",
        "for i in range(2, 50):\n",
        "    if num_primos[i]:\n",
        "        for j in range(i*2, 51, i):\n",
        "            num_primos[j] = False\n",
        "\n",
        "\n",
        "print('Números primos entre 2 y 50:')\n",
        "for i in range(2, 51):\n",
        "    if num_primos[i]:\n",
        "        print(i, end=' ')"
      ],
      "metadata": {
        "id": "GIk3OsqxfZ50",
        "outputId": "e36e1fe9-239c-4028-97d0-19afa11e175a",
        "colab": {
          "base_uri": "https://localhost:8080/"
        }
      },
      "execution_count": null,
      "outputs": [
        {
          "output_type": "stream",
          "name": "stdout",
          "text": [
            "Números primos entre 2 y 50:\n",
            "2 3 5 7 11 13 17 19 23 29 31 37 41 43 47 "
          ]
        }
      ]
    },
    {
      "cell_type": "markdown",
      "source": [
        "## Problema 2: Aproximación de π usando la serie de Leibniz\n",
        "\n",
        "La serie de Leibniz es una forma sencilla de aproximar el valor de π:\n",
        "\n",
        "$$\n",
        "\\pi \\approx 4 \\sum_{n=0}^{N} \\frac{(-1)^n}{2n + 1}\n",
        "$$\n",
        "\n",
        "Implementa una función que realice este calculo y muestra la aproximación para distintos valores de $N$ (por ejemplo: 10, 100, 1000, 10000)."
      ],
      "metadata": {
        "id": "WzI-FhIWf2iJ"
      }
    },
    {
      "cell_type": "code",
      "source": [
        "#Aqui va su código\n",
        "def aproximar_pi(N):\n",
        "    suma = 0\n",
        "    for n in range(N):\n",
        "        termino = (-1)**n / (2*n + 1)\n",
        "        suma += termino\n",
        "    pi_aproximado = 4 * suma\n",
        "    return pi_aproximado\n",
        "\n",
        "# Probar la función con diferentes valores de N\n",
        "valores_N = [10, 100, 1000, 10000]\n",
        "\n",
        "for N in valores_N:\n",
        "    pi_estimado = aproximar_pi(N)\n",
        "    print(f\"Para N = {N}, pi ≈ {pi_estimado}\")"
      ],
      "metadata": {
        "id": "DfVwDvrRf7Fz",
        "outputId": "3dd63141-17d3-44d0-a0a2-5d760eaf8903",
        "colab": {
          "base_uri": "https://localhost:8080/"
        }
      },
      "execution_count": null,
      "outputs": [
        {
          "output_type": "stream",
          "name": "stdout",
          "text": [
            "Para N = 10, pi ≈ 3.0418396189294032\n",
            "Para N = 100, pi ≈ 3.1315929035585537\n",
            "Para N = 1000, pi ≈ 3.140592653839794\n",
            "Para N = 10000, pi ≈ 3.1414926535900345\n"
          ]
        }
      ]
    },
    {
      "cell_type": "markdown",
      "source": [
        "## Problema 3: Números amigos en un rango dado\n",
        "\n",
        "Dos números naturales $a$ y $b$ se llaman **números amigos** si la suma de los divisores propios (excluyendo el número mismo) de $a$ es igual a $b$, y viceversa.\n",
        "\n",
        "Por ejemplo, 220 y 284 son números amigos porque:\n",
        "- Los divisores propios de 220 son: 1, 2, 4, 5, 10, 11, 20, 22, 44, 55, 110 → suma: 284\n",
        "- Los divisores propios de 284 son: 1, 2, 4, 71, 142 → suma: 220\n",
        "\n",
        "Escribe un programa que encuentre todos los pares de números amigos en un rango dado por el usuario (por ejemplo, entre 1 y 10000)."
      ],
      "metadata": {
        "id": "Z1-gsRbNf7jy"
      }
    },
    {
      "cell_type": "code",
      "source": [
        "#Aqui va su código\n",
        "def suma_divisores_propios(n):\n",
        "    suma = 0\n",
        "    for i in range(1, n):\n",
        "        if n % i == 0:\n",
        "            suma += i\n",
        "    return suma\n",
        "\n",
        "def encontrar_numeros_amigos(limite):\n",
        "    for a in range(2, limite + 1):\n",
        "        b = suma_divisores_propios(a)\n",
        "        if b > a and b <= limite:\n",
        "            if suma_divisores_propios(b) == a:\n",
        "                print(f\"{a} y {b} son números amigos\")\n",
        "\n",
        "# Pedir el rango\n",
        "limite = int(input(\"Introduce el límite superior: \"))\n",
        "encontrar_numeros_amigos(limite)"
      ],
      "metadata": {
        "id": "m87mKCXlgGjN",
        "outputId": "6df7f43f-93e1-475a-84c4-5fc044f5a3ca",
        "colab": {
          "base_uri": "https://localhost:8080/"
        }
      },
      "execution_count": null,
      "outputs": [
        {
          "output_type": "stream",
          "name": "stdout",
          "text": [
            "Introduce el límite superior: 10000\n",
            "220 y 284 son números amigos\n",
            "1184 y 1210 son números amigos\n",
            "2620 y 2924 son números amigos\n",
            "5020 y 5564 son números amigos\n",
            "6232 y 6368 son números amigos\n"
          ]
        }
      ]
    },
    {
      "cell_type": "markdown",
      "source": [
        "\n",
        "## Problema 4: Contador de frecuencias de letras en una palabra\n",
        "\n",
        "Escribe un programa que lea una palabra ingresada por el usuario y construya un diccionario donde cada clave sea una letra de la palabra, y el valor asociado sea la cantidad de veces que esa letra aparece. Imprime el resultado.\n"
      ],
      "metadata": {
        "id": "ASKmJNuBgHIp"
      }
    },
    {
      "cell_type": "code",
      "source": [
        "#Aqui va su código\n",
        "def contar_frecuencia_letras(palabra):\n",
        "    frecuencia = {}\n",
        "    for letra in palabra:\n",
        "        if letra in frecuencia:\n",
        "            frecuencia[letra] += 1\n",
        "        else:\n",
        "            frecuencia[letra] = 1\n",
        "    return frecuencia\n",
        "\n",
        "# Leer palabra del usuario\n",
        "palabra = input(\"Introduce una palabra: \")\n",
        "\n",
        "# Obtener el diccionario de frecuencias\n",
        "resultado = contar_frecuencia_letras(palabra)\n",
        "\n",
        "# Imprimir el resultado\n",
        "print(\"Frecuencia de letras:\")\n",
        "for letra, cantidad in resultado.items():\n",
        "    print(f\"'{letra}': {cantidad}\")"
      ],
      "metadata": {
        "id": "klMGSddPgUQ5",
        "outputId": "3a9c0e20-02c3-4ec0-94f0-80350d7c0780",
        "colab": {
          "base_uri": "https://localhost:8080/"
        }
      },
      "execution_count": null,
      "outputs": [
        {
          "output_type": "stream",
          "name": "stdout",
          "text": [
            "Introduce una palabra: esternocleidomastoideo\n",
            "Frecuencia de letras:\n",
            "'e': 4\n",
            "'s': 2\n",
            "'t': 2\n",
            "'r': 1\n",
            "'n': 1\n",
            "'o': 4\n",
            "'c': 1\n",
            "'l': 1\n",
            "'i': 2\n",
            "'d': 2\n",
            "'m': 1\n",
            "'a': 1\n"
          ]
        }
      ]
    }
  ]
}