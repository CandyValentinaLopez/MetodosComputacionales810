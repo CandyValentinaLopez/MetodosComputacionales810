{
  "nbformat": 4,
  "nbformat_minor": 0,
  "metadata": {
    "colab": {
      "provenance": []
    },
    "kernelspec": {
      "name": "python3",
      "display_name": "Python 3"
    },
    "language_info": {
      "name": "python"
    }
  },
  "cells": [
    {
      "cell_type": "code",
      "execution_count": 2,
      "metadata": {
        "id": "z7RCty67y3ME"
      },
      "outputs": [],
      "source": [
        "import numpy as np\n",
        "import matplotlib.pyplot as plt\n",
        "import scipy.linalg as la"
      ]
    },
    {
      "cell_type": "markdown",
      "source": [
        "# Actividad 08: Algebra Lineal y Matrices\n",
        "\n",
        "---\n",
        "### Profesor: Juan Marcos Marín\n",
        "### Nombre: ______\n",
        "*Métodos computacionales*\n",
        "\n",
        "---"
      ],
      "metadata": {
        "id": "GGQpGoujzAnQ"
      }
    },
    {
      "cell_type": "markdown",
      "source": [
        "#1\n",
        "Escriba tres matrices aleatorias $A$, $B$ y $C$ de $3\\times 3$, y demuestre las siguientes relaciones\n",
        "\n",
        "- $ \\mathbf{A}\\mathbf{B} \\neq \\mathbf{B}\\mathbf{A} $, en general.\n",
        "- $ (\\mathbf{A}\\mathbf{B})\\mathbf{C} = \\mathbf{A}(\\mathbf{B}\\mathbf{C}) $.\n",
        "- $ \\mathbf{A}(\\mathbf{B} + \\mathbf{C}) = \\mathbf{A}\\mathbf{B} + \\mathbf{A}\\mathbf{C} $.\n",
        "- $ (\\mathbf{A} + \\mathbf{B})\\mathbf{C} = \\mathbf{A}\\mathbf{C} + \\mathbf{B}\\mathbf{C} $.\n",
        "- $ (\\mathbf{A}\\mathbf{B})^\\top = \\mathbf{B}^\\top \\mathbf{A}^\\top $.\n",
        "- $ \\det(\\mathbf{A}\\mathbf{B}) = \\det(\\mathbf{A}) \\det(\\mathbf{B}) $.\n",
        "- $ (\\mathbf{A}^\\top)^\\top = \\mathbf{A} $.\n",
        "- $ (c\\mathbf{A})^\\top = c\\mathbf{A}^\\top $.\n",
        "- $ (\\mathbf{A} + \\mathbf{B})^\\top = \\mathbf{A}^\\top + \\mathbf{B}^\\top $.\n",
        "\n"
      ],
      "metadata": {
        "id": "U9hC1R-F0-iH"
      }
    },
    {
      "cell_type": "code",
      "source": [
        "# Matrices\n",
        "A = np.array([[1, 2, 3],\n",
        "              [0, 1, 4],\n",
        "              [5, 6, 0]])\n",
        "\n",
        "B = np.array([[7, 8, 9],\n",
        "              [1, 3, 5],\n",
        "              [2, 4, 6]])\n",
        "\n",
        "C = np.array([[1, 0, 2],\n",
        "              [0, 1, 0],\n",
        "              [3, 0, 1]])\n",
        "\n",
        "c = 4  # escalar\n",
        "\n",
        "# 1. AB ≠ BA en general\n",
        "AB = A @ B\n",
        "BA = B @ A\n",
        "print(\"1. ¿AB = BA?:\", np.allclose(AB, BA))\n",
        "print(\"AB:\\n\", AB)\n",
        "print(\"BA:\\n\", BA)\n",
        "\n",
        "# 2. (AB)C = A(BC)\n",
        "lhs = (A @ B) @ C\n",
        "rhs = A @ (B @ C)\n",
        "print(\"\\n2. ¿(AB)C = A(BC)?:\", np.allclose(lhs, rhs))\n",
        "\n",
        "# 3. A(B + C) = AB + AC\n",
        "lhs = A @ (B + C)\n",
        "rhs = A @ B + A @ C\n",
        "print(\"\\n3. ¿A(B+C) = AB + AC?:\", np.allclose(lhs, rhs))\n",
        "\n",
        "# 4. (A + B)C = AC + BC\n",
        "lhs = (A + B) @ C\n",
        "rhs = A @ C + B @ C\n",
        "print(\"\\n4. ¿(A+B)C = AC + BC?:\", np.allclose(lhs, rhs))\n",
        "\n",
        "# 5. (AB)^T = B^T A^T\n",
        "lhs = (A @ B).T\n",
        "rhs = B.T @ A.T\n",
        "print(\"\\n5. ¿(AB)^T = B^T A^T?:\", np.allclose(lhs, rhs))\n",
        "\n",
        "# 6. det(AB) = det(A) * det(B)\n",
        "det_AB = np.linalg.det(A @ B)\n",
        "det_prod = np.linalg.det(A) * np.linalg.det(B)\n",
        "print(\"\\n6. ¿det(AB) = det(A) * det(B)?:\", np.isclose(det_AB, det_prod))\n",
        "\n",
        "# 7. (A^T)^T = A\n",
        "print(\"\\n7. ¿(A^T)^T = A?:\", np.allclose(A.T.T, A))\n",
        "\n",
        "# 8. (cA)^T = c A^T\n",
        "print(\"\\n8. ¿(cA)^T = c A^T?:\", np.allclose((c * A).T, c * A.T))\n",
        "\n",
        "# 9. (A + B)^T = A^T + B^T\n",
        "print(\"\\n9. ¿(A + B)^T = A^T + B^T?:\", np.allclose((A + B).T, A.T + B.T))\n",
        "\n"
      ],
      "metadata": {
        "id": "cQQ6cPGW1anK",
        "colab": {
          "base_uri": "https://localhost:8080/"
        },
        "outputId": "35ae2277-72b8-4f74-de1e-22489972ef12"
      },
      "execution_count": 3,
      "outputs": [
        {
          "output_type": "stream",
          "name": "stdout",
          "text": [
            "1. ¿AB = BA?: False\n",
            "AB:\n",
            " [[15 26 37]\n",
            " [ 9 19 29]\n",
            " [41 58 75]]\n",
            "BA:\n",
            " [[52 76 53]\n",
            " [26 35 15]\n",
            " [32 44 22]]\n",
            "\n",
            "2. ¿(AB)C = A(BC)?: True\n",
            "\n",
            "3. ¿A(B+C) = AB + AC?: True\n",
            "\n",
            "4. ¿(A+B)C = AC + BC?: True\n",
            "\n",
            "5. ¿(AB)^T = B^T A^T?: True\n",
            "\n",
            "6. ¿det(AB) = det(A) * det(B)?: True\n",
            "\n",
            "7. ¿(A^T)^T = A?: True\n",
            "\n",
            "8. ¿(cA)^T = c A^T?: True\n",
            "\n",
            "9. ¿(A + B)^T = A^T + B^T?: True\n"
          ]
        }
      ]
    },
    {
      "cell_type": "markdown",
      "source": [
        "#2\n",
        "\n",
        "El **Teorema de Laplace** es un método para calcular el determinante de una matriz cuadrada, particularmente útil para matrices de orden mayor a 2. Este teorema se basa en la expansión del determinante por los elementos de una fila o una columna cualquiera.\n",
        "\n",
        "\n",
        "\n",
        "$$\n",
        "\\det(A) = \\sum_{j=1}^n (-1)^{1+j} a_{1j} M_{1j}\n",
        "$$\n",
        "\n",
        "donde:\n",
        "- $a_{1j}$ es el elemento de la primera fila y columna $j$.\n",
        "- $M_{1j}$ es el menor asociado al elemento $a_{1j}$, es decir, el determinante de la submatriz de $3 \\times 3$ que se obtiene al eliminar la fila 1 y la columna $j$.\n",
        "- $(-1)^{1+j}$ es el signo correspondiente al cofactor del elemento $a_{1j}$.\n",
        "\n",
        "Podemos realizar una función recursiva para el cálculo del determinante, sabiendo que el valor del determinante de una matriz de orden uno es el único elemento de esa matriz, y el de una matriz de orden superior a uno es la suma de cada uno de los elementos de una fila o columna por los Adjuntos a ese elemento, como en la función recursiva se emplea la misma función definida el cálculo lo haremos por Menor complementario, un ejemplo desarrollado por la primera fila sería:\n",
        "\n",
        "$$\n",
        "   \\det (A_{j,j}) =\n",
        "   \\left \\{\n",
        "   \\begin{array}{llcl}\n",
        "      si & j = 1 & \\to & a_{1,1} \\\\\n",
        "                                 \\\\\n",
        "      si & j > 1 & \\to & \\displaystyle \\sum_{k=1}^j \\; (-1)^{(1+k)} \\cdot a_{1,k} \\cdot \\det( \\alpha_{1,k})\n",
        "   \\end{array}\n",
        "   \\right .\n",
        "$$\n",
        "\n",
        "Realice una función que encuentre el determinante de una matriz usando la recursividad aqui planteada, explique explicitamente su código"
      ],
      "metadata": {
        "id": "ibYf2I9T2pIw"
      }
    },
    {
      "cell_type": "code",
      "source": [
        "def determinante_laplace(A):\n",
        "    \"\"\"\n",
        "    Calcula el determinante de una matriz cuadrada A usando el Teorema de Laplace (expansión por cofactores).\n",
        "    El método es recursivo.\n",
        "\n",
        "    Parámetros:\n",
        "    - A: matriz cuadrada (numpy.ndarray)\n",
        "\n",
        "    Retorna:\n",
        "    - determinante (float)\n",
        "    \"\"\"\n",
        "    n = A.shape[0]  # número de filas (debe ser cuadrada)\n",
        "\n",
        "    # Caso base 1: matriz de 1x1\n",
        "    if n == 1:\n",
        "        return A[0, 0]\n",
        "\n",
        "    # Caso base 2: matriz de 2x2 (más eficiente calcular directamente)\n",
        "    if n == 2:\n",
        "        return A[0, 0]*A[1, 1] - A[0, 1]*A[1, 0]\n",
        "\n",
        "    # Caso general: expansión por cofactores (primera fila)\n",
        "    det = 0\n",
        "    for j in range(n):\n",
        "        signo = (-1) ** j  # como usamos primera fila, la fórmula es (-1)^(1+j) → j ya parte en 0\n",
        "        a_1j = A[0, j]  # elemento de la primera fila, columna j\n",
        "\n",
        "        # Menor M_1j: eliminar fila 0 y columna j\n",
        "        menor = np.delete(np.delete(A, 0, axis=0), j, axis=1)\n",
        "\n",
        "        # llamada recursiva\n",
        "        det += signo * a_1j * determinante_laplace(menor)\n",
        "\n",
        "    return det\n",
        "\n",
        "#Ejemplo\n",
        "A = np.array([[1, 2, 3],\n",
        "              [0, 4, 5],\n",
        "              [7, 8, 9]])\n",
        "\n",
        "print(\"Determinante (Laplace):\", determinante_laplace(A))\n",
        "print(\"Determinante (NumPy):\", np.linalg.det(A))"
      ],
      "metadata": {
        "id": "-8tYERLHtrtY",
        "colab": {
          "base_uri": "https://localhost:8080/"
        },
        "outputId": "5f17e69c-8b1b-4094-f58c-705c15d51aab"
      },
      "execution_count": 5,
      "outputs": [
        {
          "output_type": "stream",
          "name": "stdout",
          "text": [
            "Determinante (Laplace): -18\n",
            "Determinante (NumPy): -17.999999999999996\n"
          ]
        }
      ]
    },
    {
      "cell_type": "markdown",
      "source": [
        "#3 Método de Gauss - Seidel\n",
        "\n",
        "Sea \\$A\\in\\mathbb{R}^{n\\times n}\\$ no singular y sea \\$b\\in\\mathbb{R}^n\\$.\n",
        "Descomponga \\$A\\$ como\n",
        "\n",
        "$$\n",
        "A \\;=\\; D \\;+\\; L \\;+\\; U,\n",
        "$$\n",
        "\n",
        "donde\n",
        "\n",
        "* \\$D\\$ es la matriz diagonal de \\$A\\$,\n",
        "* \\$L\\$ es la parte estrictamente triangular inferior,\n",
        "* \\$U\\$ es la parte estrictamente triangular superior.\n",
        "\n",
        "El algoritmo de Gauss - Seidel reorganiza el sistema \\$Ax=b\\$ como\n",
        "\n",
        "$$\n",
        "x \\;=\\; (D+L)^{-1}\\bigl(b \\;-\\; Ux\\bigr),\n",
        "$$\n",
        "\n",
        "y genera la sucesión\n",
        "\n",
        "$$\n",
        "x_i^{(k+1)}\n",
        "= \\frac{1}{a_{ii}}\n",
        "\\Bigl(b_i - \\sum_{j<i} a_{ij}\\,x_j^{(k+1)} - \\sum_{j>i} a_{ij}\\,x_j^{(k)}\\Bigr),\n",
        "\\qquad i=1,\\dots,n.\n",
        "$$\n",
        "\n",
        "Implemente una función `gauss_seidel(A, b, tol=1e-7, max_iter=100)` que:\n",
        "   * Realice las iteraciones hasta que\n",
        "     $\\lVert x^{(k+1)}-x^{(k)}\\rVert_\\infty<\\text{tol}$\n",
        "     o se alcance `max_iter`;\n",
        "   * devuelva el vector solución aproximado \\$x\\$, el número de iteraciones realizadas y la norma del último residuo.\n",
        "\n",
        "Incluya una documentación clara.\n",
        "\n",
        "Luego,\n",
        "\n",
        "   * Genere una matriz aleatoria \\$5\\times5\\$ (por ejemplo, con `np.random.rand`) y un vector \\$b\\$ aleatorio.\n",
        "   * Resuelva \\$Ax=b\\$ con su función; calcule el error relativo frente a `numpy.linalg.solve`.\n",
        "   * Estime igualmente el error respecto a la solución obtenida mediante \\$x=A^{-1}b\\$ (usando `numpy.linalg.inv`).\n",
        "   * Presente las normas de los residuos y los errores relativos."
      ],
      "metadata": {
        "id": "fTSweDGhnAUN"
      }
    },
    {
      "cell_type": "code",
      "source": [
        "def gauss_seidel(A, b, tol=1e-7, max_iter=100):\n",
        "    \"\"\"\n",
        "    Resuelve el sistema Ax = b usando el método de Gauss-Seidel.\n",
        "\n",
        "    Parámetros:\n",
        "    - A: matriz cuadrada de tamaño (n, n)\n",
        "    - b: vector columna de tamaño (n,)\n",
        "    - tol: tolerancia para el criterio de convergencia\n",
        "    - max_iter: número máximo de iteraciones permitidas\n",
        "\n",
        "    Devuelve:\n",
        "    - x: solución aproximada\n",
        "    - k: número de iteraciones realizadas\n",
        "    - residuo: norma infinito del último residuo (Ax - b)\n",
        "    \"\"\"\n",
        "    n = len(b)\n",
        "    x = np.zeros_like(b, dtype=np.float64)  # vector inicial x^(0)\n",
        "\n",
        "    for k in range(max_iter):\n",
        "        x_new = np.copy(x)  # nueva iteración\n",
        "\n",
        "        for i in range(n):\n",
        "            # Suma de la parte inferior (usa valores ya actualizados)\n",
        "            sum_L = np.dot(A[i, :i], x_new[:i])\n",
        "            # Suma de la parte superior (usa valores de la iteración anterior)\n",
        "            sum_U = np.dot(A[i, i+1:], x[i+1:])\n",
        "            # Actualización de x_i^(k+1)\n",
        "            x_new[i] = (b[i] - sum_L - sum_U) / A[i, i]\n",
        "\n",
        "        # Norma infinito de la diferencia entre iteraciones sucesivas\n",
        "        norm_diff = np.linalg.norm(x_new - x, ord=np.inf)\n",
        "\n",
        "        # Verificamos el criterio de convergencia\n",
        "        if norm_diff < tol:\n",
        "            residuo = np.linalg.norm(A @ x_new - b, ord=np.inf)\n",
        "            return x_new, k + 1, residuo\n",
        "\n",
        "        x = x_new  # Actualizamos para la siguiente iteración\n",
        "\n",
        "    # Si no converge:\n",
        "    residuo = np.linalg.norm(A @ x - b, ord=np.inf)\n",
        "    return x, max_iter, residuo\n",
        "\n",
        "# Generar matriz 5x5 y vector b aleatorios\n",
        "np.random.seed(0)\n",
        "A = np.random.rand(5, 5) * 10\n",
        "# Hacemos A estrictamente diagonal dominante (para asegurar convergencia)\n",
        "for i in range(5):\n",
        "    A[i, i] += np.sum(np.abs(A[i]))  # diagonal > suma del resto\n",
        "\n",
        "b = np.random.rand(5) * 10\n",
        "\n",
        "# Resolver con Gauss-Seidel\n",
        "x_gs, iters, residuo_gs = gauss_seidel(A, b)\n",
        "\n",
        "# Solución exacta con NumPy\n",
        "x_exact = np.linalg.solve(A, b)\n",
        "\n",
        "# Solución con inversa (menos recomendable pero útil para comparación)\n",
        "x_inv = np.linalg.inv(A) @ b\n",
        "\n",
        "# Cálculo de errores relativos\n",
        "error_rel_solve = np.linalg.norm(x_gs - x_exact, ord=np.inf) / np.linalg.norm(x_exact, ord=np.inf)\n",
        "error_rel_inv = np.linalg.norm(x_gs - x_inv, ord=np.inf) / np.linalg.norm(x_inv, ord=np.inf)\n",
        "\n",
        "# Mostrar resultados\n",
        "print(\"Solución Gauss-Seidel:\", x_gs)\n",
        "print(\"Iteraciones:\", iters)\n",
        "print(\"Residuo final (norma ∞ de Ax - b):\", residuo_gs)\n",
        "print(\"Error relativo vs. np.linalg.solve:\", error_rel_solve)\n",
        "print(\"Error relativo vs. A⁻¹b:\", error_rel_inv)"
      ],
      "metadata": {
        "id": "xXuUhfjznlnO",
        "colab": {
          "base_uri": "https://localhost:8080/"
        },
        "outputId": "fb50a467-1539-4346-fa47-440a7731e2d3"
      },
      "execution_count": 4,
      "outputs": [
        {
          "output_type": "stream",
          "name": "stdout",
          "text": [
            "Solución Gauss-Seidel: [ 0.14320825 -0.06666852  0.22772673  0.0828462   0.04853291]\n",
            "Iteraciones: 11\n",
            "Residuo final (norma ∞ de Ax - b): 5.058993390871791e-07\n",
            "Error relativo vs. np.linalg.solve: 4.947351627370065e-08\n",
            "Error relativo vs. A⁻¹b: 4.947351621276012e-08\n"
          ]
        }
      ]
    },
    {
      "cell_type": "markdown",
      "source": [
        "#4 Método de potencias para el valor propio dominante\n",
        "\n",
        "Sea \\$A\\in\\mathbb{R}^{n\\times n}\\$ diagonalizable con valor propio dominante \\$\\lambda\\_{\\max}\\$ (en magnitud) y vector propio asociado \\$v\\_{\\max}\\$.\n",
        "\n",
        "El método de potencias genera, a partir de un vector inicial \\$q^{(0)}\\neq 0\\$, la sucesión\n",
        "\n",
        "$$\n",
        "q^{(k+1)} \\;=\\; \\frac{A\\,q^{(k)}}{\\lVert A\\,q^{(k)}\\rVert_2},\n",
        "\\qquad\n",
        "\\lambda^{(k+1)} \\;=\\; (q^{(k+1)})^{\\!\\top} A\\, q^{(k+1)},\n",
        "$$\n",
        "\n",
        "que converge a \\$v\\_{\\max}/\\lVert v\\_{\\max}\\rVert\\_2\\$ y a \\$\\lambda\\_{\\max}\\$ respectivamente, bajo hipótesis estándar.\n",
        "\n",
        "Implemente `power_method(A, tol=1e-7, max_iter=1000)` que:\n",
        "\n",
        "   * Acepte matrices reales cuadradas,\n",
        "   * Devuelva \\$\\lambda\\_{\\max}\\$, el vector propio normalizado \\$v\\_{\\max}\\$, el número de iteraciones y la última variación relativa de \\$\\lambda\\$,\n",
        "   * detenga la iteración cuando\n",
        "     $\\bigl|\\lambda^{(k+1)}-\\lambda^{(k)}\\bigr|<\\text{tol}\\,|\\lambda^{(k+1)}|$\n",
        "     o se alcance `max_iter`.\n",
        "\n",
        "Luego,\n",
        "   * Genere una matriz simétrica aleatoria \\$6\\times6\\$ (por ejemplo, \\$A = (M+M^\\top)/2\\$ con \\$M\\$ aleatoria).\n",
        "   * Aplique su `power_method` y compare \\$\\lambda\\_{\\max}\\$ y \\$v\\_{\\max}\\$ con los resultados de `numpy.linalg.eig`."
      ],
      "metadata": {
        "id": "REVJcqYtnmM-"
      }
    },
    {
      "cell_type": "code",
      "source": [
        "def power_method(A, tol=1e-7, max_iter=1000):\n",
        "    \"\"\"\n",
        "    Método de potencias para encontrar el valor propio dominante y su vector propio asociado.\n",
        "\n",
        "    Parámetros:\n",
        "    - A: matriz cuadrada real (n x n)\n",
        "    - tol: tolerancia para el cambio relativo en el valor propio\n",
        "    - max_iter: máximo número de iteraciones\n",
        "\n",
        "    Devuelve:\n",
        "    - lambda_max: valor propio dominante\n",
        "    - v_max: vector propio normalizado correspondiente\n",
        "    - iteraciones: número de iteraciones realizadas\n",
        "    - error: última variación relativa en lambda\n",
        "    \"\"\"\n",
        "    n = A.shape[0]\n",
        "    q = np.random.rand(n)  # vector inicial aleatorio\n",
        "    q = q / np.linalg.norm(q)  # normalización inicial\n",
        "\n",
        "    lambda_old = 0\n",
        "\n",
        "    for k in range(max_iter):\n",
        "        z = A @ q\n",
        "        q = z / np.linalg.norm(z)\n",
        "        lambda_new = q.T @ A @ q  # estimación del valor propio\n",
        "\n",
        "        # Verificamos convergencia\n",
        "        if np.abs(lambda_new - lambda_old) < tol * np.abs(lambda_new):\n",
        "            return lambda_new, q, k + 1, np.abs(lambda_new - lambda_old)\n",
        "\n",
        "        lambda_old = lambda_new\n",
        "\n",
        "    # Si no converge\n",
        "    return lambda_new, q, max_iter, np.abs(lambda_new - lambda_old)\n",
        "\n",
        "# Generar matriz simétrica aleatoria 6x6\n",
        "np.random.seed(0)\n",
        "M = np.random.rand(6, 6)\n",
        "A = (M + M.T) / 2  # matriz simétrica\n",
        "\n",
        "# Aplicar método de potencias\n",
        "lambda_max, v_max, iters, delta = power_method(A)\n",
        "\n",
        "# Comparar con numpy.linalg.eig\n",
        "eigvals, eigvecs = np.linalg.eig(A)\n",
        "idx_max = np.argmax(np.abs(eigvals))\n",
        "lambda_np = eigvals[idx_max]\n",
        "v_np = eigvecs[:, idx_max]\n",
        "v_np_normalized = v_np / np.linalg.norm(v_np)\n",
        "\n",
        "# Mostrar resultados\n",
        "print(\"λ_max (power method):\", lambda_max)\n",
        "print(\"v_max (power method):\", v_max)\n",
        "print(\"Iteraciones:\", iters)\n",
        "print(\"Variación relativa final:\", delta)\n",
        "\n",
        "print(\"\\nλ_max (np.linalg.eig):\", lambda_np)\n",
        "print(\"v_max (np.linalg.eig normalizado):\", v_np_normalized)"
      ],
      "metadata": {
        "id": "lPzFAOE7obZY",
        "colab": {
          "base_uri": "https://localhost:8080/"
        },
        "outputId": "6e29e561-6a73-47d7-8b09-be7e3ead4123"
      },
      "execution_count": 5,
      "outputs": [
        {
          "output_type": "stream",
          "name": "stdout",
          "text": [
            "λ_max (power method): 3.465978050224171\n",
            "v_max (power method): [0.37004228 0.51462091 0.36214784 0.46598181 0.30943356 0.39267644]\n",
            "Iteraciones: 6\n",
            "Variación relativa final: 3.8499494703359005e-08\n",
            "\n",
            "λ_max (np.linalg.eig): 3.465978051980294\n",
            "v_max (np.linalg.eig normalizado): [-0.37004404 -0.51463065 -0.3621312  -0.46598546 -0.30942801 -0.39267742]\n"
          ]
        }
      ]
    },
    {
      "cell_type": "markdown",
      "source": [
        "#5\n",
        "\n",
        "Verifique que cualquier matriz hermitiana de 2 × 2 $ L $ puede escribirse como una suma de cuatro términos:\n",
        "\n",
        "$$ L = a\\sigma_x + b\\sigma_y + c\\sigma_z + dI $$\n",
        "\n",
        "donde $ a $, $ b $, $ c $ y $ d $ son números reales.\n",
        "\n",
        "Las cuatro matrices de Pauli son:\n",
        "\n",
        "$$ \\sigma_x = \\begin{pmatrix} 0 & 1 \\\\ 1 & 0 \\end{pmatrix}, \\quad \\sigma_y = \\begin{pmatrix} 0 & -i \\\\ i & 0 \\end{pmatrix}, \\quad \\sigma_z = \\begin{pmatrix} 1 & 0 \\\\ 0 & -1 \\end{pmatrix}, \\quad I = \\begin{pmatrix} 1 & 0 \\\\ 0 & 1 \\end{pmatrix} $$\n",
        "\n",
        "\n"
      ],
      "metadata": {
        "id": "iggu2jNwVpnK"
      }
    },
    {
      "cell_type": "code",
      "source": [
        "# matrices\n",
        "sigma_x = np.array([[0, 1], [1, 0]])\n",
        "sigma_y = np.array([[0, -1j], [1j, 0]])\n",
        "sigma_z = np.array([[1, 0], [0, -1]])\n",
        "I = np.eye(2)\n",
        "\n",
        "# Matriz Hermitiana arbitraria\n",
        "L = np.array([[2, 3 + 1j], [3 - 1j, 4]])\n",
        "\n",
        "# Coeficientes reales\n",
        "p, s = L[0, 0].real, L[1, 1].real\n",
        "q, r = L[0, 1].real, L[0, 1].imag\n",
        "\n",
        "d = (p + s) / 2\n",
        "c = (p - s) / 2\n",
        "a = q\n",
        "b = r\n",
        "\n",
        "# Combinación lineal\n",
        "L_reconstruida = a * sigma_x + b * sigma_y + c * sigma_z + d * I\n",
        "\n",
        "# Verificación\n",
        "print(\"Matriz original:\\n\", L)\n",
        "print(\"\\nReconstrucción:\\n\", L_reconstruida)\n",
        "print(\"\\n¿Son iguales?:\", np.allclose(L, L_reconstruida))"
      ],
      "metadata": {
        "id": "8WN9_cOCV7cM",
        "colab": {
          "base_uri": "https://localhost:8080/"
        },
        "outputId": "c7d3edaa-75ad-4dd1-ac84-ce5baa29852b"
      },
      "execution_count": 7,
      "outputs": [
        {
          "output_type": "stream",
          "name": "stdout",
          "text": [
            "Matriz original:\n",
            " [[2.+0.j 3.+1.j]\n",
            " [3.-1.j 4.+0.j]]\n",
            "\n",
            "Reconstrucción:\n",
            " [[2.+0.j 3.-1.j]\n",
            " [3.+1.j 4.+0.j]]\n",
            "\n",
            "¿Son iguales?: False\n"
          ]
        }
      ]
    },
    {
      "cell_type": "markdown",
      "source": [
        "# 6\n",
        "\n",
        "Haga un breve resumen en Markdown de las funciones y métodos más relevantes para algebra lineal usando Python. Emplee ejemplos."
      ],
      "metadata": {
        "id": "GnCw5_O5pMxl"
      }
    },
    {
      "cell_type": "code",
      "source": [
        "'''\n",
        "a continuación planteare las funciones y métodos más relevantes para algebra lineal usando Python.\n",
        "\n",
        "Función\t                          Descripción\n",
        "np.dot(A, B)\t                    Producto matricial.\n",
        "np.transpose(A) o A.T\t            Transpuesta de una matriz.\n",
        "np.linalg.inv(A)\t                Inversa de una matriz cuadrada.\n",
        "np.linalg.det(A)\t                Determinante de una matriz.\n",
        "np.linalg.solve(A, b)\t            Solución del sistema lineal 𝐴𝑥=𝑏\n",
        "np.linalg.eig(A)\t                Autovalores y autovectores de 𝐴.\n",
        "np.linalg.norm(x)\t                Norma de un vector o matriz.\n",
        "'''\n",
        "\n",
        "# ejemplo 1 --> Esto resuelve el sistema de ecuaciones lineales sin invertir explícitamente la matriz.\n",
        "\n",
        "A = np.array([[2, 1], [1, 3]])\n",
        "b = np.array([8, 13])\n",
        "\n",
        "x = np.linalg.solve(A, b)\n",
        "print(\"Solución del sistema Ax = b:\", x)\n",
        "\n",
        "# ejemplo 2 --> Se verifica que 𝐴⋅𝐴^−1 ≈ 𝐼, la matriz identidad.\n",
        "\n",
        "A = np.array([[4, 7], [2, 6]])\n",
        "\n",
        "det_A = np.linalg.det(A)\n",
        "A_inv = np.linalg.inv(A)\n",
        "producto = np.dot(A, A_inv)\n",
        "\n",
        "print(\"Determinante:\", det_A)\n",
        "print(\"Inversa de A:\\n\", A_inv)\n",
        "print(\"Verificación A * A_inv:\\n\", producto)\n",
        "\n",
        "#ejemplo 3 --> muestra de autovalores y auto vectores\n",
        "\n",
        "A = np.array([[5, 4], [1, 2]])\n",
        "\n",
        "valores, vectores = np.linalg.eig(A)\n",
        "\n",
        "print(\"Autovalores:\", valores)\n",
        "print(\"Autovectores:\\n\", vectores)"
      ],
      "metadata": {
        "id": "djdVPgpoparm",
        "colab": {
          "base_uri": "https://localhost:8080/"
        },
        "outputId": "ea07b1a1-2fa1-4c8c-c97c-e39633d7e45b"
      },
      "execution_count": 3,
      "outputs": [
        {
          "output_type": "stream",
          "name": "stdout",
          "text": [
            "Solución del sistema Ax = b: [2.2 3.6]\n",
            "Determinante: 10.000000000000002\n",
            "Inversa de A:\n",
            " [[ 0.6 -0.7]\n",
            " [-0.2  0.4]]\n",
            "Verificación A * A_inv:\n",
            " [[ 1.00000000e+00 -1.11022302e-16]\n",
            " [ 1.11022302e-16  1.00000000e+00]]\n",
            "Autovalores: [6. 1.]\n",
            "Autovectores:\n",
            " [[ 0.9701425  -0.70710678]\n",
            " [ 0.24253563  0.70710678]]\n"
          ]
        }
      ]
    }
  ]
}