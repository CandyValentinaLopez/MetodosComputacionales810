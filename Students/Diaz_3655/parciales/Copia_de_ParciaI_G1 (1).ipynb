{
  "nbformat": 4,
  "nbformat_minor": 0,
  "metadata": {
    "colab": {
      "provenance": []
    },
    "kernelspec": {
      "name": "python3",
      "display_name": "Python 3"
    },
    "language_info": {
      "name": "python"
    }
  },
  "cells": [
    {
      "cell_type": "markdown",
      "source": [
        "# Parcial I - Métodos Computacionales\n",
        "\n",
        "**2025-1**\n",
        "\n",
        "---\n",
        "\n",
        "Nombre: Diego Felipe Diaz Perez\n",
        "\n",
        "Identificación: 1021673655\n",
        "\n",
        "---\n",
        "\n",
        "* ⚠ Explique su código usando con comentarios,\n",
        "\n",
        "* ❗Todas las funciones deben tener documentación básica,\n",
        "\n",
        "* 🛑 El uso de IA's no está permitido,\n",
        "\n",
        "* ⚛ La interpretación del enunciado hace parte de la evaluación,\n",
        "\n",
        "* ⏲ Este parcial tiene una duración de 2 horas"
      ],
      "metadata": {
        "id": "bcIQtfNJ4sBq"
      }
    },
    {
      "cell_type": "code",
      "source": [
        "# Librerias\n",
        "import numpy as np\n",
        "import matplotlib.pyplot as plt\n",
        "import pandas as pd\n",
        "from math import factorial\n",
        "from scipy.optimize import root_scalar, newton, bisect # Funciones para raices\n",
        "\n",
        "## Ayudas\n",
        "# np.sign (Signo de una variable)\n",
        "# np.deg2rad (Convertir grados a radianes)\n",
        "# pd.Dataframe Genera un dataframe a partir de un diccionario o listas\n",
        "# df['Columna'] == valor (Crea un filtro para buscar el valor)\n",
        "# range(0, 10, 2) (Pasos de 2 comenzando en 0 hasta 10)"
      ],
      "metadata": {
        "id": "-86TwvuE48Kp"
      },
      "execution_count": 1,
      "outputs": []
    },
    {
      "cell_type": "markdown",
      "source": [
        "# 1\n",
        "\n",
        "**(40 puntos)** El **método de Steffensen** es un algoritmo iterativo para encontrar raíces de ecuaciones no lineales de la forma:\n",
        "\n",
        "$$\n",
        "f(x) = 0.\n",
        "$$\n",
        "\n",
        "Se basa en aplicar una **aceleración cuadrática** al método de punto fijo, sin necesidad de calcular derivadas, a diferencia del método de Newton.\n",
        "\n",
        "---\n",
        "### Pasos para implementar\n",
        "\n",
        "1. **Definir la función** $f(x)$ cuya raíz se desea encontrar.\n",
        "\n",
        "   - Se busca una raíz $\\alpha$ tal que $f(\\alpha) = 0$.\n",
        "\n",
        "2. **Elegir una aproximación inicial** $x_0$ razonablemente cercana a la raíz.\n",
        "\n",
        "3. **Aplicar la iteración de Steffensen**:\n",
        "\n",
        "   Para cada iteración $n$, calcular:\n",
        "\n",
        "   $$\n",
        "   y_n = x_n + f(x_n)\n",
        "   $$\n",
        "\n",
        "   $$\n",
        "   x_{n+1} = x_n - \\frac{f(x_n)^2}{f(y_n) - f(x_n)}\n",
        "   $$\n",
        "\n",
        "   Asegurarse de que $f(y_n) \\ne f(x_n)$ para evitar división por cero.\n",
        "\n",
        "4. **Evaluar el criterio de convergencia**:\n",
        "\n",
        "   - Repetir el paso 3 hasta que se cumpla\n",
        "     - $|x_{n+1} - x_n| < \\varepsilon$ (precisión sobre el valor de la raíz).\n",
        "\n",
        "     donde $\\varepsilon$ son tolerancias pequeñas definidas por el usuario.\n",
        "\n",
        "5. **Resultado final**:\n",
        "\n",
        "   - Cuando se cumple el criterio de convergencia, tomar $x_{n+1}$ como una aproximación a la raíz de $f(x) = 0$.\n",
        "\n",
        "---\n",
        "\n",
        "\n",
        "* Defina una función llamada `Steffensen` que calcule la raiz de una función dada. Su función debe tener documentación y retornar el valor de la raiz junto con el número de iteraciones empleadas para alcanzar la convergencia dada una tolerancia.\n",
        "\n",
        "* Usando\n",
        "$$\\cos(x) = x^2,$$\n",
        "\n",
        "Grafique la función para $0\\leq x \\leq \\pi/2$ usando 100 puntos. Luego, cree un DataFrame llamado `df` con los datos de $x$ y $f(x)$  encuentre una primera aproximación a la raiz aplicando un filtro en el dataframe con los valores más cercanos a cero.\n",
        "\n",
        "* Usando el método de Steffensen encuentre la raiz númericamente y compare su resultado usando el método de bisección y secante.\n",
        "\n",
        "* Para las siguientes tolerancias (ver código) realice un gráfico usando escala logaritimica en $y$ de cuantas iteraciones son necesarias hasta alcanzar la convergencia. ¿Qué puede concluir acerca de la misma?\n",
        "\n",
        "```python\n",
        "# Tolerancias\n",
        "tol = np.logspace(-1, -10, 10)\n",
        "\n",
        "# Grafico semilog\n",
        "\n",
        "plt.semilogy(N, tol)\n",
        "\n",
        "```"
      ],
      "metadata": {
        "id": "rNIchL-H5ZII"
      }
    },
    {
      "cell_type": "code",
      "source": [
        "#a\n",
        "def steffensen(f,x0,tol=1e-4,m=100): #defino la funcion\n",
        "# le entran una funcion f, un punto x0, la tolerancia y el maximo de iteraciones\n",
        "  for i in range(1,m+1):\n",
        "    y=x0+f(x0) #definimos yn\n",
        "    if f(y)==f(x0): # vemos que no se cumpla que f(y)=f(x)\n",
        "      return print(\"f(y) y f(x) son iguales por lo que no se puede continuar\")\n",
        "    x=x0-((f(x0)**2)/(f(y)-f(x0))) #definimos xn+1\n",
        "    if abs(x-x0)<tol: #vemos si se cumple el criterio de parada\n",
        "      return x, i\n",
        "    else:\n",
        "      x0=x  # convertimos xn en xn+1\n",
        "  return print(\"maximo de iteraciones alcanzado\", x)# en caso de alcanzar el maximo de iteraciones devolvemos este mensaje\n",
        "#b.1 la parte de la grafica\n",
        "f=lambda x: x**2-np.cos(x) #definimos f(x)=0\n",
        "x=np.linspace(0,np.pi/2,100) #hacemos un array con 0<x<π/2 con 100 valores\n",
        "plt.plot(x,f(x)) #hacemos la grafica\n",
        "plt.grid() #añadimos cuadricula\n",
        "plt.axhline(0,color=\"black\") # hacemos una linea horizontal en 0 para poder ver mas o menos donde es la raiz"
      ],
      "metadata": {
        "id": "phBAIpoX7Y9W",
        "colab": {
          "base_uri": "https://localhost:8080/",
          "height": 430
        },
        "outputId": "498975c3-96b1-476c-dee3-f86f2578e3c0"
      },
      "execution_count": 4,
      "outputs": [
        {
          "output_type": "display_data",
          "data": {
            "text/plain": [
              "<Figure size 640x480 with 1 Axes>"
            ],
            "image/png": "[encoded data removed]"
          },
          "metadata": {}
        }
      ]
    },
    {
      "cell_type": "code",
      "source": [
        "#b.2 la parte de pandas\n",
        "valores={\"x\":x,\"f(x)\":f(x)} #creamos un diccionario con los valores de x y f(x)\n",
        "v=pd.DataFrame(valores) #creamos el dataframe\n",
        "v[\"abs_f(x)\"]=v[\"f(x)\"].abs()\n",
        "v[\"abs_f(x)\"].short_values"
      ],
      "metadata": {
        "colab": {
          "base_uri": "https://localhost:8080/",
          "height": 297
        },
        "id": "pfi2BkXUH_yb",
        "outputId": "4d774687-2adb-4a8d-8178-c3a4cf76e85d"
      },
      "execution_count": 36,
      "outputs": [
        {
          "output_type": "error",
          "ename": "AttributeError",
          "evalue": "'Series' object has no attribute 'short_values'",
          "traceback": [
            "\u001b[0;31m---------------------------------------------------------------------------\u001b[0m",
            "\u001b[0;31mAttributeError\u001b[0m                            Traceback (most recent call last)",
            "\u001b[0;32m<ipython-input-36-ce02ebad181e>\u001b[0m in \u001b[0;36m<cell line: 0>\u001b[0;34m()\u001b[0m\n\u001b[1;32m      3\u001b[0m \u001b[0mv\u001b[0m\u001b[0;34m=\u001b[0m\u001b[0mpd\u001b[0m\u001b[0;34m.\u001b[0m\u001b[0mDataFrame\u001b[0m\u001b[0;34m(\u001b[0m\u001b[0mvalores\u001b[0m\u001b[0;34m)\u001b[0m \u001b[0;31m#creamos el dataframe\u001b[0m\u001b[0;34m\u001b[0m\u001b[0;34m\u001b[0m\u001b[0m\n\u001b[1;32m      4\u001b[0m \u001b[0mv\u001b[0m\u001b[0;34m[\u001b[0m\u001b[0;34m\"abs_f(x)\"\u001b[0m\u001b[0;34m]\u001b[0m\u001b[0;34m=\u001b[0m\u001b[0mv\u001b[0m\u001b[0;34m[\u001b[0m\u001b[0;34m\"f(x)\"\u001b[0m\u001b[0;34m]\u001b[0m\u001b[0;34m.\u001b[0m\u001b[0mabs\u001b[0m\u001b[0;34m(\u001b[0m\u001b[0;34m)\u001b[0m\u001b[0;34m\u001b[0m\u001b[0;34m\u001b[0m\u001b[0m\n\u001b[0;32m----> 5\u001b[0;31m \u001b[0mv\u001b[0m\u001b[0;34m[\u001b[0m\u001b[0;34m\"abs_f(x)\"\u001b[0m\u001b[0;34m]\u001b[0m\u001b[0;34m.\u001b[0m\u001b[0mshort_values\u001b[0m\u001b[0;34m\u001b[0m\u001b[0;34m\u001b[0m\u001b[0m\n\u001b[0m",
            "\u001b[0;32m/usr/local/lib/python3.11/dist-packages/pandas/core/generic.py\u001b[0m in \u001b[0;36m__getattr__\u001b[0;34m(self, name)\u001b[0m\n\u001b[1;32m   6297\u001b[0m         ):\n\u001b[1;32m   6298\u001b[0m             \u001b[0;32mreturn\u001b[0m \u001b[0mself\u001b[0m\u001b[0;34m[\u001b[0m\u001b[0mname\u001b[0m\u001b[0;34m]\u001b[0m\u001b[0;34m\u001b[0m\u001b[0;34m\u001b[0m\u001b[0m\n\u001b[0;32m-> 6299\u001b[0;31m         \u001b[0;32mreturn\u001b[0m \u001b[0mobject\u001b[0m\u001b[0;34m.\u001b[0m\u001b[0m__getattribute__\u001b[0m\u001b[0;34m(\u001b[0m\u001b[0mself\u001b[0m\u001b[0;34m,\u001b[0m \u001b[0mname\u001b[0m\u001b[0;34m)\u001b[0m\u001b[0;34m\u001b[0m\u001b[0;34m\u001b[0m\u001b[0m\n\u001b[0m\u001b[1;32m   6300\u001b[0m \u001b[0;34m\u001b[0m\u001b[0m\n\u001b[1;32m   6301\u001b[0m     \u001b[0;34m@\u001b[0m\u001b[0mfinal\u001b[0m\u001b[0;34m\u001b[0m\u001b[0;34m\u001b[0m\u001b[0m\n",
            "\u001b[0;31mAttributeError\u001b[0m: 'Series' object has no attribute 'short_values'"
          ]
        }
      ]
    },
    {
      "cell_type": "code",
      "source": [
        "# c\n",
        "ste=steffensen(f,1,1e-10)\n",
        "bis=bisect(f,0.6,1)\n",
        "sec=root_scalar(f,method=\"secant\",x0=0.6,x1=1).root\n",
        "print(\"steffensen:\",ste) #vemos el valor con el metodo de steffensen\n",
        "print(\"biseccion:\", bis) #vemos el valor con el metodo de biseccion\n",
        "print(\"secante:\", sec) #vemos el valor con el metodo de la secante\n",
        "err_est=(abs(steffensen(f,1,1e-10)[0]-sec)/sec)*100 #haremos el erro de steffensen y biseccion tomando a secante comoel valor real\n",
        "err_bis=(abs(bis-sec)/sec)*100\n",
        "print(\"error de steffensen:\",err_est,\"%\")\n",
        "print(\"error de biseccion:\",err_bis,\"%\")\n"
      ],
      "metadata": {
        "colab": {
          "base_uri": "https://localhost:8080/"
        },
        "id": "3pBzPxFTJ5hb",
        "outputId": "ea908464-512e-4e82-94fb-ccebf2f496d6"
      },
      "execution_count": 38,
      "outputs": [
        {
          "output_type": "stream",
          "name": "stdout",
          "text": [
            "steffensen: (np.float64(0.8241323123025224), 6)\n",
            "biseccion: 0.8241323123031179\n",
            "secante: 0.8241323123025225\n",
            "error de steffensen: 1.3471417247593806e-14 %\n",
            "error de biseccion: 7.224721069884557e-11 %\n"
          ]
        }
      ]
    },
    {
      "cell_type": "code",
      "source": [
        "#d\n",
        "tol = np.logspace(-1, -10, 10)\n",
        "plt.semilogy(steffensen(f,1,tol)[1],tol)"
      ],
      "metadata": {
        "colab": {
          "base_uri": "https://localhost:8080/",
          "height": 297
        },
        "id": "bfH_53RYMfNQ",
        "outputId": "bdfbc533-849a-4f7c-c3f6-bcd87b2092fc"
      },
      "execution_count": 39,
      "outputs": [
        {
          "output_type": "error",
          "ename": "ValueError",
          "evalue": "The truth value of an array with more than one element is ambiguous. Use a.any() or a.all()",
          "traceback": [
            "\u001b[0;31m---------------------------------------------------------------------------\u001b[0m",
            "\u001b[0;31mValueError\u001b[0m                                Traceback (most recent call last)",
            "\u001b[0;32m<ipython-input-39-df1545d97dad>\u001b[0m in \u001b[0;36m<cell line: 0>\u001b[0;34m()\u001b[0m\n\u001b[1;32m      1\u001b[0m \u001b[0;31m#d\u001b[0m\u001b[0;34m\u001b[0m\u001b[0;34m\u001b[0m\u001b[0m\n\u001b[1;32m      2\u001b[0m \u001b[0mtol\u001b[0m \u001b[0;34m=\u001b[0m \u001b[0mnp\u001b[0m\u001b[0;34m.\u001b[0m\u001b[0mlogspace\u001b[0m\u001b[0;34m(\u001b[0m\u001b[0;34m-\u001b[0m\u001b[0;36m1\u001b[0m\u001b[0;34m,\u001b[0m \u001b[0;34m-\u001b[0m\u001b[0;36m10\u001b[0m\u001b[0;34m,\u001b[0m \u001b[0;36m10\u001b[0m\u001b[0;34m)\u001b[0m\u001b[0;34m\u001b[0m\u001b[0;34m\u001b[0m\u001b[0m\n\u001b[0;32m----> 3\u001b[0;31m \u001b[0mplt\u001b[0m\u001b[0;34m.\u001b[0m\u001b[0msemilogy\u001b[0m\u001b[0;34m(\u001b[0m\u001b[0msteffensen\u001b[0m\u001b[0;34m(\u001b[0m\u001b[0mf\u001b[0m\u001b[0;34m,\u001b[0m\u001b[0;36m1\u001b[0m\u001b[0;34m,\u001b[0m\u001b[0mtol\u001b[0m\u001b[0;34m)\u001b[0m\u001b[0;34m[\u001b[0m\u001b[0;36m1\u001b[0m\u001b[0;34m]\u001b[0m\u001b[0;34m,\u001b[0m\u001b[0mtol\u001b[0m\u001b[0;34m)\u001b[0m\u001b[0;34m\u001b[0m\u001b[0;34m\u001b[0m\u001b[0m\n\u001b[0m",
            "\u001b[0;32m<ipython-input-4-1230e97697de>\u001b[0m in \u001b[0;36msteffensen\u001b[0;34m(f, x0, tol, m)\u001b[0m\n\u001b[1;32m      7\u001b[0m       \u001b[0;32mreturn\u001b[0m \u001b[0mprint\u001b[0m\u001b[0;34m(\u001b[0m\u001b[0;34m\"f(y) y f(x) son iguales por lo que no se puede continuar\"\u001b[0m\u001b[0;34m)\u001b[0m\u001b[0;34m\u001b[0m\u001b[0;34m\u001b[0m\u001b[0m\n\u001b[1;32m      8\u001b[0m     \u001b[0mx\u001b[0m\u001b[0;34m=\u001b[0m\u001b[0mx0\u001b[0m\u001b[0;34m-\u001b[0m\u001b[0;34m(\u001b[0m\u001b[0;34m(\u001b[0m\u001b[0mf\u001b[0m\u001b[0;34m(\u001b[0m\u001b[0mx0\u001b[0m\u001b[0;34m)\u001b[0m\u001b[0;34m**\u001b[0m\u001b[0;36m2\u001b[0m\u001b[0;34m)\u001b[0m\u001b[0;34m/\u001b[0m\u001b[0;34m(\u001b[0m\u001b[0mf\u001b[0m\u001b[0;34m(\u001b[0m\u001b[0my\u001b[0m\u001b[0;34m)\u001b[0m\u001b[0;34m-\u001b[0m\u001b[0mf\u001b[0m\u001b[0;34m(\u001b[0m\u001b[0mx0\u001b[0m\u001b[0;34m)\u001b[0m\u001b[0;34m)\u001b[0m\u001b[0;34m)\u001b[0m \u001b[0;31m#definimos xn+1\u001b[0m\u001b[0;34m\u001b[0m\u001b[0;34m\u001b[0m\u001b[0m\n\u001b[0;32m----> 9\u001b[0;31m     \u001b[0;32mif\u001b[0m \u001b[0mabs\u001b[0m\u001b[0;34m(\u001b[0m\u001b[0mx\u001b[0m\u001b[0;34m-\u001b[0m\u001b[0mx0\u001b[0m\u001b[0;34m)\u001b[0m\u001b[0;34m<\u001b[0m\u001b[0mtol\u001b[0m\u001b[0;34m:\u001b[0m \u001b[0;31m#vemos si se cumple el criterio de parada\u001b[0m\u001b[0;34m\u001b[0m\u001b[0;34m\u001b[0m\u001b[0m\n\u001b[0m\u001b[1;32m     10\u001b[0m       \u001b[0;32mreturn\u001b[0m \u001b[0mx\u001b[0m\u001b[0;34m,\u001b[0m \u001b[0mi\u001b[0m\u001b[0;34m\u001b[0m\u001b[0;34m\u001b[0m\u001b[0m\n\u001b[1;32m     11\u001b[0m     \u001b[0;32melse\u001b[0m\u001b[0;34m:\u001b[0m\u001b[0;34m\u001b[0m\u001b[0;34m\u001b[0m\u001b[0m\n",
            "\u001b[0;31mValueError\u001b[0m: The truth value of an array with more than one element is ambiguous. Use a.any() or a.all()"
          ]
        }
      ]
    },
    {
      "cell_type": "markdown",
      "source": [
        "#2\n",
        "\n",
        "**(60 puntos)** El periodo de oscilación $T$ de un péndulo simple con amplitud angular $\\theta_0$ está dado por la integral elíptica:\n",
        "\n",
        "$$T = 4\\sqrt{\\frac{L}{g}}\\int_0^{\\theta_0/2} \\frac{d\\theta}{\\sqrt{\\cos\\theta - \\cos\\theta_0}}$$\n",
        "\n",
        "Esta expresión puede representarse mediante la siguiente serie infinita:\n",
        "\n",
        "$$T = 2\\pi\\sqrt{\\frac{L}{g}}\\left[1 + \\sum_{n=1}^{\\infty}c_n\\sin^{2n}\\left(\\frac{\\theta_0}{2}\\right)\\right]$$\n",
        "\n",
        "donde los coeficientes $c_n$ están dados por:\n",
        "\n",
        "$$c_n = \\left(\\frac{(2n-1)!!}{2^n n!}\\right)^2$$\n",
        "\n",
        "El doble factorial $(2n-1)!!$ significa el producto de todos los números impares desde 1 hasta $(2n-1)$.\n",
        "\n",
        "Los primeros términos de esta serie son:\n",
        "\n",
        "$$T \\approx 2\\pi\\sqrt{\\frac{L}{g}}\\left[1 + \\frac{1}{4}\\sin^2\\left(\\frac{\\theta_0}{2}\\right) + \\frac{9}{64}\\sin^4\\left(\\frac{\\theta_0}{2}\\right) + \\frac{25}{256}\\sin^6\\left(\\frac{\\theta_0}{2}\\right) + \\frac{1225}{16384}\\sin^8\\left(\\frac{\\theta_0}{2}\\right) + \\ldots\\right]$$\n",
        "\n",
        "Para un péndulo de longitud $L = 1.2$ metros:\n",
        "\n",
        "## Parte A\n",
        "\n",
        "* Realice una función llamada `doble_factorial` que calcule $(2n - 1)!!$ y luego una llamada `coeficiente_cn` que devuelva el coeficiente $c_n$\n",
        "\n",
        "* Para una amplitud de $\\theta_0 = 90°$ y $\\theta_0 = 15°$, determine el valor de $T$ utilizando:\n",
        "  - La aproximación de pequeñas oscilaciones $T_0 = 2\\pi\\sqrt{L/g}$\n",
        "  - La serie truncada a 3 términos.\n",
        "  - ¿Cuál será el error de las aproximaciones anteriores si toma 10 terminos como el valor exacto? ¿Cómo influye el valor del ángulo usado?\n",
        "\n",
        "## Parte B\n",
        "\n",
        "* Encuentre una función $f(\\theta_0)$ para  $\\theta_0$ (en radianes) en la cual el periodo real es exactamente un 10% mayor que el periodo para oscilaciones infinitesimales ($T_0 = 2\\pi\\sqrt{L/g}$). Utilice para $T(\\theta_0)$ los primeros 4 términos de la serie y grafique esta función para $\\theta_0 \\in [0, \\pi/2]$.\n",
        "\n",
        "* Resuelva numéricamente la ecuación para $f(\\theta_0) = 0$ utilizando el método de Bisección y Newton-Raphson (sin incluir la derivada).\n",
        "\n",
        "\n",
        "\n"
      ],
      "metadata": {
        "id": "od2GDFK5-QJC"
      }
    },
    {
      "cell_type": "code",
      "source": [
        "#parte A\n",
        "# a\n",
        "def doble_factorial(n): #funcion del doble factorial\n",
        "  if n <= 0:\n",
        "    return 1\n",
        "  else:\n",
        "    res=1\n",
        "    for i in range(1,n+1,2):\n",
        "      res *=1\n",
        "    return res\n",
        "def coeficiente_cn(n):\n",
        "  cn=((doble_factorial(2*n-1))/((2**n)*factorial(n)))**(2*n)\n",
        "  return cn\n",
        "#b\n",
        "l=1.2\n",
        "g=9.8\n",
        "t0=2*np.pi*((l/g)**(1/2))\n",
        "def t(o,n):\n",
        "  o=np.deg2rad(o) #convierto el angulo en radianes\n",
        "  sum=1 #inicio la suma en uno pues a la serie se le suma 1\n",
        "  for n in range(1,n+1): #hago la serie desde n=1 hasta n\n",
        "    t=coeficiente_cn(n)*(np.sin(o/2))**(2*n) #terminos de la serie\n",
        "    sum +=t # sumo cada termino\n",
        "  return t0*sum #retorno lo que me dio la serie con lamultiplicacion de t0\n",
        "#por alguna razon esta funcion da lo mismo sin importar el angulo o los terminos,e revisado por un buen rato pero no encuentro el error :(\n",
        "#lo que sigue de aqui va a estar mal pues la funcion t falla, si t funcionara el resto deberia quedar bien\n",
        "print(\"aprox 90°:\", t0)\n",
        "print(\"serie 90°:\",t(90,3))\n",
        "print(\"aprox 15°:\", t0)\n",
        "print(\"serie 15°:\",t(15,3))\n",
        "ter10_90=t(90,10)\n",
        "ter10_15=t(15,10)\n",
        "err_t090=(abs(t0-ter10_90)/ter10_90)*100\n",
        "err_t015=(abs(t0-ter10_15)/ter10_15)*100\n",
        "err_t90=(abs(t(90,3)-ter10_90)/ter10_90)*100\n",
        "err_t15=(abs(t(15,3)-ter10_15)/ter10_15)*100\n",
        "print(\"error t0 para 90°:\", err_t090,\"%\")\n",
        "print(\"error t0 para 15°:\", err_t015,\"%\")\n",
        "print(\"error para aprox en 90°:\",err_t90,\"%\")\n",
        "print(\"error para aprox en 15°:\",err_t15,\"%\")\n",
        "#la aproximacion de la serie es mucho mejor que la de t0 sobre todo para angulos grandes"
      ],
      "metadata": {
        "id": "hkHRzyB9-mSS",
        "colab": {
          "base_uri": "https://localhost:8080/"
        },
        "outputId": "aff9bc35-6acc-4494-ae9a-39b41a6db510"
      },
      "execution_count": 63,
      "outputs": [
        {
          "output_type": "stream",
          "name": "stdout",
          "text": [
            "aprox 90°: 2.1986568517060525\n",
            "serie 90°: 2.473623153556264\n",
            "aprox 15°: 2.1986568517060525\n",
            "serie 15°: 2.20802168445046\n",
            "error t0 para 90°: 11.115933381157902 %\n",
            "error t0 para 15°: 0.42412775247441065 %\n",
            "error para aprox en 90°: 0.0 %\n",
            "error para aprox en 15°: 0.0 %\n"
          ]
        }
      ]
    },
    {
      "cell_type": "code",
      "source": [
        "#parte B\n",
        "#a\n",
        "def f(o):\n",
        "  o=np.deg2rad(o)\n",
        "  f=t(o,4)-1.1*t0\n",
        "  return f\n",
        "o=np.linspace(0,np.pi/2,100)\n",
        "plt.plot(o,f(o))"
      ],
      "metadata": {
        "colab": {
          "base_uri": "https://localhost:8080/",
          "height": 462
        },
        "id": "lq7HhjHfXHl5",
        "outputId": "abf02ac4-2781-4f95-9c85-db41e5bc6fec"
      },
      "execution_count": 55,
      "outputs": [
        {
          "output_type": "execute_result",
          "data": {
            "text/plain": [
              "[<matplotlib.lines.Line2D at 0x7b3158e29750>]"
            ]
          },
          "metadata": {},
          "execution_count": 55
        },
        {
          "output_type": "display_data",
          "data": {
            "text/plain": [
              "<Figure size 640x480 with 1 Axes>"
            ],
            "image/png": "[encoded data removed]"
          },
          "metadata": {}
        }
      ]
    },
    {
      "cell_type": "code",
      "source": [
        "#b\n",
        "print(bisect(f,0,100))"
      ],
      "metadata": {
        "colab": {
          "base_uri": "https://localhost:8080/",
          "height": 280
        },
        "id": "DyUzNN6nZJxo",
        "outputId": "163f72e2-ae3f-43c4-d7f2-63546d8109e9"
      },
      "execution_count": 62,
      "outputs": [
        {
          "output_type": "error",
          "ename": "ValueError",
          "evalue": "f(a) and f(b) must have different signs",
          "traceback": [
            "\u001b[0;31m---------------------------------------------------------------------------\u001b[0m",
            "\u001b[0;31mValueError\u001b[0m                                Traceback (most recent call last)",
            "\u001b[0;32m<ipython-input-62-2f473d7d6ea0>\u001b[0m in \u001b[0;36m<cell line: 0>\u001b[0;34m()\u001b[0m\n\u001b[1;32m      1\u001b[0m \u001b[0;31m#b\u001b[0m\u001b[0;34m\u001b[0m\u001b[0;34m\u001b[0m\u001b[0m\n\u001b[0;32m----> 2\u001b[0;31m \u001b[0mprint\u001b[0m\u001b[0;34m(\u001b[0m\u001b[0mbisect\u001b[0m\u001b[0;34m(\u001b[0m\u001b[0mf\u001b[0m\u001b[0;34m,\u001b[0m\u001b[0;36m0\u001b[0m\u001b[0;34m,\u001b[0m\u001b[0;36m100\u001b[0m\u001b[0;34m)\u001b[0m\u001b[0;34m)\u001b[0m\u001b[0;34m\u001b[0m\u001b[0;34m\u001b[0m\u001b[0m\n\u001b[0m",
            "\u001b[0;32m/usr/local/lib/python3.11/dist-packages/scipy/optimize/_zeros_py.py\u001b[0m in \u001b[0;36mbisect\u001b[0;34m(f, a, b, args, xtol, rtol, maxiter, full_output, disp)\u001b[0m\n\u001b[1;32m    575\u001b[0m         \u001b[0;32mraise\u001b[0m \u001b[0mValueError\u001b[0m\u001b[0;34m(\u001b[0m\u001b[0;34mf\"rtol too small ({rtol:g} < {_rtol:g})\"\u001b[0m\u001b[0;34m)\u001b[0m\u001b[0;34m\u001b[0m\u001b[0;34m\u001b[0m\u001b[0m\n\u001b[1;32m    576\u001b[0m     \u001b[0mf\u001b[0m \u001b[0;34m=\u001b[0m \u001b[0m_wrap_nan_raise\u001b[0m\u001b[0;34m(\u001b[0m\u001b[0mf\u001b[0m\u001b[0;34m)\u001b[0m\u001b[0;34m\u001b[0m\u001b[0;34m\u001b[0m\u001b[0m\n\u001b[0;32m--> 577\u001b[0;31m     \u001b[0mr\u001b[0m \u001b[0;34m=\u001b[0m \u001b[0m_zeros\u001b[0m\u001b[0;34m.\u001b[0m\u001b[0m_bisect\u001b[0m\u001b[0;34m(\u001b[0m\u001b[0mf\u001b[0m\u001b[0;34m,\u001b[0m \u001b[0ma\u001b[0m\u001b[0;34m,\u001b[0m \u001b[0mb\u001b[0m\u001b[0;34m,\u001b[0m \u001b[0mxtol\u001b[0m\u001b[0;34m,\u001b[0m \u001b[0mrtol\u001b[0m\u001b[0;34m,\u001b[0m \u001b[0mmaxiter\u001b[0m\u001b[0;34m,\u001b[0m \u001b[0margs\u001b[0m\u001b[0;34m,\u001b[0m \u001b[0mfull_output\u001b[0m\u001b[0;34m,\u001b[0m \u001b[0mdisp\u001b[0m\u001b[0;34m)\u001b[0m\u001b[0;34m\u001b[0m\u001b[0;34m\u001b[0m\u001b[0m\n\u001b[0m\u001b[1;32m    578\u001b[0m     \u001b[0;32mreturn\u001b[0m \u001b[0mresults_c\u001b[0m\u001b[0;34m(\u001b[0m\u001b[0mfull_output\u001b[0m\u001b[0;34m,\u001b[0m \u001b[0mr\u001b[0m\u001b[0;34m,\u001b[0m \u001b[0;34m\"bisect\"\u001b[0m\u001b[0;34m)\u001b[0m\u001b[0;34m\u001b[0m\u001b[0;34m\u001b[0m\u001b[0m\n\u001b[1;32m    579\u001b[0m \u001b[0;34m\u001b[0m\u001b[0m\n",
            "\u001b[0;31mValueError\u001b[0m: f(a) and f(b) must have different signs"
          ]
        }
      ]
    }
  ]
}