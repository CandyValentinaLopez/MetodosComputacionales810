{
  "nbformat": 4,
  "nbformat_minor": 0,
  "metadata": {
    "colab": {
      "provenance": []
    },
    "kernelspec": {
      "name": "python3",
      "display_name": "Python 3"
    },
    "language_info": {
      "name": "python"
    }
  },
  "cells": [
    {
      "cell_type": "markdown",
      "source": [
        "# Actividad: Introducción a Python (sin librerías)\n",
        "\n",
        "---"
      ],
      "metadata": {
        "id": "ym3QAv5yfZSO"
      }
    },
    {
      "cell_type": "markdown",
      "source": [
        "## Problema 1: Números primos entre 2 y 50 con la Criba de Eratóstenes\n",
        "\n",
        "La **Criba de Eratóstenes** es un método eficiente para encontrar todos los números primos menores que un número dado. El algoritmo consiste en:\n",
        "\n",
        "1. Crear una lista de valores booleanos para representar los números del 2 al 50, todos inicialmente marcados como verdaderos.\n",
        "2. Comenzando desde el primer número primo (2), eliminar todos sus múltiplos (marcándolos como falsos).\n",
        "3. Repetir el proceso para el siguiente número no eliminado.\n",
        "4. Los números que permanezcan marcados como verdaderos son primos.\n",
        "\n",
        "Usando funciones, implementa este método y muestra en pantalla todos los números primos entre 2 y 50.\n",
        "\n"
      ],
      "metadata": {
        "id": "W0C9oNGXfwDj"
      }
    },
    {
      "cell_type": "code",
      "source": [
        "#1\n",
        "lista= [i for i in range(2,51)]\n",
        "listab=[]\n",
        "for i in lista:\n",
        "  i = True\n",
        "  listab.append(i)\n",
        "#2\n",
        "for i in lista:\n",
        "  if i%2==0 and i!=2:\n",
        "    listab[i-2]= False\n",
        "  else:\n",
        "    continue\n",
        "#3\n",
        "x= 2\n",
        "while x<=50:\n",
        "  for i in lista:\n",
        "    if i%x==0 and i!=x:\n",
        "      listab[i-2]= False\n",
        "    else:\n",
        "      continue\n",
        "  x=x+1\n",
        "#4\n",
        "print(listab)\n",
        "for i in lista:\n",
        "  if listab[i-2] == True:\n",
        "    print(i)\n",
        "  else:\n",
        "    continue"
      ],
      "metadata": {
        "id": "GIk3OsqxfZ50",
        "outputId": "787cd422-da74-4f56-daa0-1e0ce1e68af5",
        "colab": {
          "base_uri": "https://localhost:8080/"
        }
      },
      "execution_count": null,
      "outputs": [
        {
          "output_type": "stream",
          "name": "stdout",
          "text": [
            "[True, True, False, True, False, True, False, False, False, True, False, True, False, False, False, True, False, True, False, False, False, True, False, False, False, False, False, True, False, True, False, False, False, False, False, True, False, False, False, True, False, True, False, False, False, True, False, False, False]\n",
            "2\n",
            "3\n",
            "5\n",
            "7\n",
            "11\n",
            "13\n",
            "17\n",
            "19\n",
            "23\n",
            "29\n",
            "31\n",
            "37\n",
            "41\n",
            "43\n",
            "47\n"
          ]
        }
      ]
    },
    {
      "cell_type": "markdown",
      "source": [
        "## Problema 2: Aproximación de π usando la serie de Leibniz\n",
        "\n",
        "La serie de Leibniz es una forma sencilla de aproximar el valor de π:\n",
        "\n",
        "$$\n",
        "\\pi \\approx 4 \\sum_{n=0}^{N} \\frac{(-1)^n}{2n + 1}\n",
        "$$\n",
        "\n",
        "Implementa una función que realice este calculo y muestra la aproximación para distintos valores de $N$ (por ejemplo: 10, 100, 1000, 10000)."
      ],
      "metadata": {
        "id": "WzI-FhIWf2iJ"
      }
    },
    {
      "cell_type": "code",
      "source": [
        "# 10\n",
        "pi=0\n",
        "for n in range(0,11):\n",
        "  p= float(((-1)**n)/((2*n)+1))\n",
        "  pi= pi+p\n",
        "pi=4*pi\n",
        "print(pi)\n",
        "#100\n",
        "pi=0\n",
        "for n in range(0,101):\n",
        "  p= float(((-1)**n)/((2*n)+1))\n",
        "  pi= pi+p\n",
        "pi=4*pi\n",
        "print(pi)\n",
        "# 1000\n",
        "pi=0\n",
        "for n in range(0,1001):\n",
        "  p= float(((-1)**n)/((2*n)+1))\n",
        "  pi= pi+p\n",
        "pi=4*pi\n",
        "print(pi)\n",
        "#10000\n",
        "pi=0\n",
        "for n in range(0,10001):\n",
        "  p= float(((-1)**n)/((2*n)+1))\n",
        "  pi= pi+p\n",
        "pi=4*pi\n",
        "print(pi)"
      ],
      "metadata": {
        "id": "DfVwDvrRf7Fz",
        "colab": {
          "base_uri": "https://localhost:8080/"
        },
        "outputId": "847ec736-c037-4b5b-8edf-96c589795d46"
      },
      "execution_count": null,
      "outputs": [
        {
          "output_type": "stream",
          "name": "stdout",
          "text": [
            "3.232315809405594\n",
            "3.1514934010709914\n",
            "3.1425916543395442\n",
            "3.1416926435905346\n"
          ]
        }
      ]
    },
    {
      "cell_type": "markdown",
      "source": [
        "## Problema 3: Números amigos en un rango dado\n",
        "\n",
        "Dos números naturales $a$ y $b$ se llaman **números amigos** si la suma de los divisores propios (excluyendo el número mismo) de $a$ es igual a $b$, y viceversa.\n",
        "\n",
        "Por ejemplo, 220 y 284 son números amigos porque:\n",
        "- Los divisores propios de 220 son: 1, 2, 4, 5, 10, 11, 20, 22, 44, 55, 110 → suma: 284\n",
        "- Los divisores propios de 284 son: 1, 2, 4, 71, 142 → suma: 220\n",
        "\n",
        "Escribe un programa que encuentre todos los pares de números amigos en un rango dado por el usuario (por ejemplo, entre 1 y 10000)."
      ],
      "metadata": {
        "id": "Z1-gsRbNf7jy"
      }
    },
    {
      "cell_type": "code",
      "source": [
        "x=4\n",
        "lista= []\n",
        "while x<=10000:\n",
        "  s=0\n",
        "  p=0\n",
        "  for i in range(1,10001):\n",
        "    if x>i and x%i==0:\n",
        "      s=s+i\n",
        "    else:\n",
        "      continue\n",
        "  for i in range(1,10001):\n",
        "    if s>i and s%i==0:\n",
        "      p=p+i\n",
        "    else:\n",
        "      continue\n",
        "  if p==x and s!= p and x not in lista:\n",
        "    print(x, s)\n",
        "    lista.append(s)\n",
        "  x=x+1\n"
      ],
      "metadata": {
        "id": "m87mKCXlgGjN",
        "colab": {
          "base_uri": "https://localhost:8080/"
        },
        "collapsed": true,
        "outputId": "28591bfe-81ae-4428-e2c6-6912d75dbe7b"
      },
      "execution_count": null,
      "outputs": [
        {
          "output_type": "stream",
          "name": "stdout",
          "text": [
            "220 284\n",
            "1184 1210\n",
            "2620 2924\n",
            "5020 5564\n",
            "6232 6368\n"
          ]
        }
      ]
    },
    {
      "cell_type": "markdown",
      "source": [
        "\n",
        "## Problema 4: Contador de frecuencias de letras en una palabra\n",
        "\n",
        "Escribe un programa que lea una palabra ingresada por el usuario y construya un diccionario donde cada clave sea una letra de la palabra, y el valor asociado sea la cantidad de veces que esa letra aparece. Imprime el resultado.\n"
      ],
      "metadata": {
        "id": "ASKmJNuBgHIp"
      }
    },
    {
      "cell_type": "code",
      "source": [
        "p= input(str(\"escriba una palabra:\"))\n",
        "dic= {}\n",
        "lista=[i for i in p]\n",
        "for i in lista:\n",
        "  dic[i]= lista.count(i)\n",
        "print(dic)"
      ],
      "metadata": {
        "id": "klMGSddPgUQ5",
        "colab": {
          "base_uri": "https://localhost:8080/"
        },
        "outputId": "2565d903-97f6-459b-9f1a-a33b17b5d9e1"
      },
      "execution_count": null,
      "outputs": [
        {
          "output_type": "stream",
          "name": "stdout",
          "text": [
            "escriba una palabra:esternocleidomastoideo\n",
            "{'e': 4, 's': 2, 't': 2, 'r': 1, 'n': 1, 'o': 4, 'c': 1, 'l': 1, 'i': 2, 'd': 2, 'm': 1, 'a': 1}\n"
          ]
        }
      ]
    }
  ]
}