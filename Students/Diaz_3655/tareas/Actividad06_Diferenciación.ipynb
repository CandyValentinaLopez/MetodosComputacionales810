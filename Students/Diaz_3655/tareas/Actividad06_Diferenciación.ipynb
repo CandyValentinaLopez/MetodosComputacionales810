{
  "nbformat": 4,
  "nbformat_minor": 0,
  "metadata": {
    "colab": {
      "provenance": []
    },
    "kernelspec": {
      "name": "python3",
      "display_name": "Python 3"
    },
    "language_info": {
      "name": "python"
    }
  },
  "cells": [
    {
      "cell_type": "code",
      "execution_count": null,
      "metadata": {
        "id": "rZuc8vXcWuxy"
      },
      "outputs": [],
      "source": [
        "#@title Librerias\n",
        "import numpy as np\n",
        "import matplotlib.pyplot as plt\n",
        "import pandas as pd\n",
        "import sympy as sp\n",
        "import scipy.interpolate as sci"
      ]
    },
    {
      "cell_type": "markdown",
      "source": [
        "# Actividad 06: Diferenciación númerica\n",
        "\n",
        "---\n",
        "### Profesor: Juan Marcos Marín\n",
        "### Nombre: Diego Felipe Diaz Perez\n",
        "---"
      ],
      "metadata": {
        "id": "MGwGfceuWxy3"
      }
    },
    {
      "cell_type": "markdown",
      "source": [
        "# 1.\n",
        "Implementar el método de la derivada de cinco puntos a través de una función llamada `five_point_derivative`. Luego,\n",
        "* Calcule el valor para $f(x) = \\cos(x)$ utilizando un arreglo con 10 datos $[0\\leq x\\leq 2\\pi]$ y encuentre $f'(\\pi/8)$ variando el $h$ y encuentre el error de convergencia, comparando su respuesta con el valor exacto.\n",
        "\n",
        "* Determine $f''(\\pi/8)$ con $h = 0.05$ y encuentre el error de su aproximación. ¿Mejorará con un $h$ menor o mayor?\n",
        "\n"
      ],
      "metadata": {
        "id": "E8ME9Aa7TbKA"
      }
    },
    {
      "cell_type": "code",
      "execution_count": null,
      "metadata": {
        "id": "vyTohkly7IW_",
        "colab": {
          "base_uri": "https://localhost:8080/"
        },
        "outputId": "b51a6b7f-445a-428a-e515-3b7fc7f84569"
      },
      "outputs": [
        {
          "output_type": "stream",
          "name": "stdout",
          "text": [
            "error para h=0.5: 1.5545824022056474 %\n",
            "error para h=0.1: 510.36158910632514 %\n",
            "error para h=0.05: 1120.7231782126505 %\n",
            "error para h=0.01: 6003.6158910632485 %\n"
          ]
        }
      ],
      "source": [
        "def five_point_derivative(f,x,h):\n",
        "  if len(x)<5:\n",
        "    return print(\"deben haber minimo cinco puntos\")\n",
        "  df=np.zeros_like(x)\n",
        "  for i in range(0,len(x)):\n",
        "    if i==0 or i==1:\n",
        "      df[i]=(-25*f(x[i])+48*f(x[i+1])-36*f(x[i+2])+16*f(x[i+3])-3*f(x[i+4]))/(12*h)\n",
        "    elif i==len(x)-2 or i==len(x)-1:\n",
        "      df[i]=(25*f(x[i])-48*f(x[i-1])+36*f(x[i-2])-16*f(x[i-3])+3*f(x[i-4]))/(12*h)\n",
        "    else:\n",
        "      df[i]=(f(x[i-2])-8*f(x[i-1])+8*f(x[i+1])-f(x[i+2]))/(12*h)\n",
        "  return df\n",
        "#a\n",
        "f=lambda x: np.cos(x)\n",
        "fp=lambda x: -np.sin(x)\n",
        "x=np.linspace(0,2*np.pi,10)\n",
        "df_h1= five_point_derivative(f,x,0.62)\n",
        "cubh1= sci.CubicSpline(x,df_h1)\n",
        "df_h2= five_point_derivative(f,x,0.1)\n",
        "cubh2= sci.CubicSpline(x,df_h2)\n",
        "df_h3= five_point_derivative(f,x,0.05)\n",
        "cubh3= sci.CubicSpline(x,df_h3)\n",
        "df_h4= five_point_derivative(f,x,0.01)\n",
        "cubh4= sci.CubicSpline(x,df_h4)\n",
        "errh1= abs((fp(np.pi/8)-cubh1(np.pi/8))/fp(np.pi/8))*100\n",
        "errh2= abs((fp(np.pi/8)-cubh2(np.pi/8))/fp(np.pi/8))*100\n",
        "errh3= abs((fp(np.pi/8)-cubh3(np.pi/8))/fp(np.pi/8))*100\n",
        "errh4= abs((fp(np.pi/8)-cubh4(np.pi/8))/fp(np.pi/8))*100\n",
        "print(\"error para h=0.5:\",errh1,\"%\")\n",
        "print(\"error para h=0.1:\",errh2,\"%\")\n",
        "print(\"error para h=0.05:\",errh3,\"%\")\n",
        "print(\"error para h=0.01:\",errh4,\"%\")"
      ]
    },
    {
      "cell_type": "code",
      "source": [
        "#b\n",
        "d2f=lambda x: -np.cos(x)\n",
        "x=np.linspace(0,2*np.pi,10)\n",
        "fp=lambda x: -np.sin(x)\n",
        "df2=five_point_derivative(fp,x,0.5)\n",
        "cubdf2=sci.CubicSpline(x,df2)\n",
        "errdf2=abs((cubdf2(np.pi/8)-d2f(np.pi/8))/d2f(np.pi/8))*100\n",
        "print(\"error para f''(π/8):\",errdf2,\"%\")\n",
        "# dado que tomamos 10 puntos la distancia del intervalo es 0.62 por lo que ese es el h optimo y por ende deberiamos aunmentar el h para una mejor aproximacion"
      ],
      "metadata": {
        "colab": {
          "base_uri": "https://localhost:8080/"
        },
        "id": "L_r_l7ZpmxQ4",
        "outputId": "94ef9732-15cb-49f2-9938-6ac90a3c034f"
      },
      "execution_count": null,
      "outputs": [
        {
          "output_type": "stream",
          "name": "stdout",
          "text": [
            "error para f''(π/8): 41.73675784717326 %\n"
          ]
        }
      ]
    },
    {
      "cell_type": "markdown",
      "source": [
        "#2.\n",
        "Considere la función:\n",
        "\n",
        "$$f(x) = x e^x$$\n",
        "\n",
        "Encuentre la derivada númerica $f'(x)$ y $f''(x)$ para $x = 2.0$ usando diferencias finitas. Considere un arreglo con 6 puntos $[1.8\\leq x\\leq 2.2]$.\n",
        "\n",
        "*   Cambie los valores de $h$ desde 0.01 hasta 0.1 (tomando 10 diferentes) y compare su resultado con el dado por `scipy` y `numpy.gradient`. Realice un gráfico logaritmico de los errores.\n",
        "\n",
        "*   ¿Cuál será el valor óptimo de $h$?"
      ],
      "metadata": {
        "id": "Dx40CzPL-V8i"
      }
    },
    {
      "cell_type": "code",
      "execution_count": null,
      "metadata": {
        "id": "a2ZJlGT58g3Z",
        "colab": {
          "base_uri": "https://localhost:8080/"
        },
        "outputId": "f5cc25e9-f9bc-4951-df81-c066af90c90b"
      },
      "outputs": [
        {
          "output_type": "stream",
          "name": "stdout",
          "text": [
            "f'(2)= 25.37043874084843\n",
            "f''(2)= 33.822384213343746\n"
          ]
        }
      ],
      "source": [
        "#a\n",
        "def diferencias_finitas(f,x,h):\n",
        "  fp = np.zeros_like(x)\n",
        "  for i in range(len(x)):\n",
        "    if i == 0:\n",
        "      fp[i] = (f(x[i+1])-f(x[i]))/h\n",
        "    elif i == len(x)-1:\n",
        "      fp[i] = (f(x[i])-f(x[i-1]))/h\n",
        "    else:\n",
        "      fp[i] = (f(x[i+1])-f(x[i-1]))/(2*h)\n",
        "  return fp\n",
        "f= lambda x: x*np.exp(x)\n",
        "df= lambda x: np.exp(x)+x*np.exp(x)\n",
        "x=np.linspace(1.8,2.2,6)\n",
        "fp= diferencias_finitas(f,x,0.07)\n",
        "cubfp= sci.CubicSpline(x,fp)\n",
        "fpp= diferencias_finitas(df,x,0.07)\n",
        "cubfpp= sci.CubicSpline(x,fpp)\n",
        "print(\"f'(2)=\",cubfp(2))\n",
        "print(\"f''(2)=\",cubfpp(2))"
      ]
    },
    {
      "cell_type": "code",
      "source": [
        "#b\n",
        "f= lambda x: x*np.exp(x)\n",
        "x=np.linspace(1.8,2.2,6)\n",
        "h=np.linspace(0.1,0.01,10)\n",
        "y=np.zeros_like(x)\n",
        "for i in range(0,len(x)):\n",
        "  y[i]=f(x[i])\n",
        "gra=np.gradient(y,0.667,edge_order=2)\n",
        "cubg=sci.CubicSpline(x,gra)\n",
        "r=cubg(2)\n",
        "err=[]\n",
        "for i in h:\n",
        "  fpri=diferencias_finitas(f,x,i)\n",
        "  cub=sci.CubicSpline(x,fpri)\n",
        "  e=abs((cub(2)-r)/r)\n",
        "  err.append(e)\n",
        "plt.loglog(h,err)\n",
        "plt.grid()\n",
        "print(r)\n",
        "#al parcecer el valor optimo de h es el mas grande que en este caso es h=0.1"
      ],
      "metadata": {
        "colab": {
          "base_uri": "https://localhost:8080/",
          "height": 451
        },
        "id": "bFEgV-JUv3Oi",
        "outputId": "7c271b09-a419-40f9-c0f2-2b0089d8c13b"
      },
      "execution_count": null,
      "outputs": [
        {
          "output_type": "stream",
          "name": "stdout",
          "text": [
            "2.663098718256777\n"
          ]
        },
        {
          "output_type": "display_data",
          "data": {
            "text/plain": [
              "<Figure size 640x480 with 1 Axes>"
            ],
            "image/png": "[encoded data removed]"
          },
          "metadata": {}
        }
      ]
    }
  ]
}