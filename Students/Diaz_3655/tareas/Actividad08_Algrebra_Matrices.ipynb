{
  "nbformat": 4,
  "nbformat_minor": 0,
  "metadata": {
    "colab": {
      "provenance": []
    },
    "kernelspec": {
      "name": "python3",
      "display_name": "Python 3"
    },
    "language_info": {
      "name": "python"
    }
  },
  "cells": [
    {
      "cell_type": "code",
      "execution_count": 164,
      "metadata": {
        "id": "z7RCty67y3ME"
      },
      "outputs": [],
      "source": [
        "import numpy as np\n",
        "import matplotlib.pyplot as plt\n",
        "import scipy.linalg as la"
      ]
    },
    {
      "cell_type": "markdown",
      "source": [
        "# Actividad 08: Algebra Lineal y Matrices\n",
        "\n",
        "---\n",
        "### Profesor: Juan Marcos Marín\n",
        "### Nombre: Diego Felipe Diaz Perez\n",
        "*Métodos computacionales*\n",
        "\n",
        "---"
      ],
      "metadata": {
        "id": "GGQpGoujzAnQ"
      }
    },
    {
      "cell_type": "markdown",
      "source": [
        "#1\n",
        "Escriba tres matrices aleatorias $A$, $B$ y $C$ de $3\\times 3$, y demuestre las siguientes relaciones\n",
        "\n",
        "- $ \\mathbf{A}\\mathbf{B} \\neq \\mathbf{B}\\mathbf{A} $, en general.\n",
        "- $ (\\mathbf{A}\\mathbf{B})\\mathbf{C} = \\mathbf{A}(\\mathbf{B}\\mathbf{C}) $.\n",
        "- $ \\mathbf{A}(\\mathbf{B} + \\mathbf{C}) = \\mathbf{A}\\mathbf{B} + \\mathbf{A}\\mathbf{C} $.\n",
        "- $ (\\mathbf{A} + \\mathbf{B})\\mathbf{C} = \\mathbf{A}\\mathbf{C} + \\mathbf{B}\\mathbf{C} $.\n",
        "- $ (\\mathbf{A}\\mathbf{B})^\\top = \\mathbf{B}^\\top \\mathbf{A}^\\top $.\n",
        "- $ \\det(\\mathbf{A}\\mathbf{B}) = \\det(\\mathbf{A}) \\det(\\mathbf{B}) $.\n",
        "- $ (\\mathbf{A}^\\top)^\\top = \\mathbf{A} $.\n",
        "- $ (c\\mathbf{A})^\\top = c\\mathbf{A}^\\top $.\n",
        "- $ (\\mathbf{A} + \\mathbf{B})^\\top = \\mathbf{A}^\\top + \\mathbf{B}^\\top $.\n",
        "\n"
      ],
      "metadata": {
        "id": "U9hC1R-F0-iH"
      }
    },
    {
      "cell_type": "code",
      "source": [
        "A=np.random.randint(-10,10,(3,3))\n",
        "B=np.random.randint(-10,10,(3,3))\n",
        "C=np.random.randint(-10,10,(3,3))\n",
        "#a\n",
        "print(\"AB:\",A@B)\n",
        "print(\"BA:\",B@A)"
      ],
      "metadata": {
        "id": "cQQ6cPGW1anK",
        "colab": {
          "base_uri": "https://localhost:8080/"
        },
        "outputId": "25176846-2190-4402-914b-e1e390cc21ee"
      },
      "execution_count": 165,
      "outputs": [
        {
          "output_type": "stream",
          "name": "stdout",
          "text": [
            "AB: [[-65  31 -58]\n",
            " [ 44  15 -19]\n",
            " [-45 -34 -85]]\n",
            "BA: [[   0 -107  -21]\n",
            " [ -48  -86    3]\n",
            " [ -16   29  -49]]\n"
          ]
        }
      ]
    },
    {
      "cell_type": "code",
      "source": [
        "#b\n",
        "print(\"(AB)C:\",(A@B)@C)\n",
        "print(\"A(BC):\",A@(B@C))"
      ],
      "metadata": {
        "colab": {
          "base_uri": "https://localhost:8080/"
        },
        "id": "1ykswvccVhfH",
        "outputId": "cd4b22ff-14f3-4177-f914-05071d39e959"
      },
      "execution_count": 166,
      "outputs": [
        {
          "output_type": "stream",
          "name": "stdout",
          "text": [
            "(AB)C: [[ 589  719 -147]\n",
            " [-385 -120  -53]\n",
            " [ 252 1279 -136]]\n",
            "A(BC): [[ 589  719 -147]\n",
            " [-385 -120  -53]\n",
            " [ 252 1279 -136]]\n"
          ]
        }
      ]
    },
    {
      "cell_type": "code",
      "source": [
        "#c\n",
        "print(\"A(B+C):\",A@(B+C))\n",
        "print(\"AB+AC:\",A@B+A@C)"
      ],
      "metadata": {
        "colab": {
          "base_uri": "https://localhost:8080/"
        },
        "id": "w3btnnAfV73E",
        "outputId": "f2f45c50-5019-4479-8e70-eb89b31cbab1"
      },
      "execution_count": 167,
      "outputs": [
        {
          "output_type": "stream",
          "name": "stdout",
          "text": [
            "A(B+C): [[-74  76 -44]\n",
            " [ 12  36 -24]\n",
            " [-16  53 -82]]\n",
            "AB+AC: [[-74  76 -44]\n",
            " [ 12  36 -24]\n",
            " [-16  53 -82]]\n"
          ]
        }
      ]
    },
    {
      "cell_type": "code",
      "source": [
        "#d\n",
        "print(\"(A+B)C:\",(A+B)@C)\n",
        "print(\"AC+BC:\",A@C+B@C)"
      ],
      "metadata": {
        "colab": {
          "base_uri": "https://localhost:8080/"
        },
        "id": "na-2196qWSpN",
        "outputId": "69b2017b-7f92-417a-f8aa-a3a2edf7d82b"
      },
      "execution_count": 168,
      "outputs": [
        {
          "output_type": "stream",
          "name": "stdout",
          "text": [
            "(A+B)C: [[-50 -84  13]\n",
            " [-67 -51  12]\n",
            " [128  22  14]]\n",
            "AC+BC: [[-50 -84  13]\n",
            " [-67 -51  12]\n",
            " [128  22  14]]\n"
          ]
        }
      ]
    },
    {
      "cell_type": "code",
      "source": [
        "#e\n",
        "print(\"(A@B)T:\",(A@B).T)\n",
        "print(\"BT*AT:\",B.T@A.T)"
      ],
      "metadata": {
        "colab": {
          "base_uri": "https://localhost:8080/"
        },
        "id": "8V_x_FTaWoa1",
        "outputId": "c9aaf991-3742-4776-f92e-f6d5b07e0970"
      },
      "execution_count": 169,
      "outputs": [
        {
          "output_type": "stream",
          "name": "stdout",
          "text": [
            "(A@B)T: [[-65  44 -45]\n",
            " [ 31  15 -34]\n",
            " [-58 -19 -85]]\n",
            "BT*AT: [[-65  44 -45]\n",
            " [ 31  15 -34]\n",
            " [-58 -19 -85]]\n"
          ]
        }
      ]
    },
    {
      "cell_type": "code",
      "source": [
        "#f\n",
        "print(\"det(AB):\",np.linalg.det(A@B))\n",
        "print(\"det(A)det(B):\",np.linalg.det(A)*np.linalg.det(B))\n",
        "print(np.isclose(np.linalg.det(A@B),np.linalg.det(A)*np.linalg.det(B)))"
      ],
      "metadata": {
        "colab": {
          "base_uri": "https://localhost:8080/"
        },
        "id": "jnOrnK2_XE4T",
        "outputId": "f5532af4-331a-49ce-95bf-aa659fe11019"
      },
      "execution_count": 170,
      "outputs": [
        {
          "output_type": "stream",
          "name": "stdout",
          "text": [
            "det(AB): 314928.0000000002\n",
            "det(A)det(B): 314928.0000000002\n",
            "True\n"
          ]
        }
      ]
    },
    {
      "cell_type": "code",
      "source": [
        "#g\n",
        "print(\"(AT)T:\",(A.T).T)\n",
        "print(\"A:\",A)"
      ],
      "metadata": {
        "colab": {
          "base_uri": "https://localhost:8080/"
        },
        "id": "5vYrK_oOXq7x",
        "outputId": "f9abc6a3-5040-42a2-d306-fdf16b4e5b1b"
      },
      "execution_count": 171,
      "outputs": [
        {
          "output_type": "stream",
          "name": "stdout",
          "text": [
            "(AT)T: [[ -1 -10   2]\n",
            " [  3  -1  -3]\n",
            " [ -5  -7  -2]]\n",
            "A: [[ -1 -10   2]\n",
            " [  3  -1  -3]\n",
            " [ -5  -7  -2]]\n"
          ]
        }
      ]
    },
    {
      "cell_type": "code",
      "source": [
        "#h\n",
        "c=np.random.randint(-10,10)\n",
        "print(\"(cA)T:\",(c*A).T)\n",
        "print(\"c*AT:\",c*A.T)"
      ],
      "metadata": {
        "colab": {
          "base_uri": "https://localhost:8080/"
        },
        "id": "UGuEoxFBX7CY",
        "outputId": "25a706f4-0b95-4b6e-da3f-25b63c5ad7ac"
      },
      "execution_count": 172,
      "outputs": [
        {
          "output_type": "stream",
          "name": "stdout",
          "text": [
            "(cA)T: [[ 10 -30  50]\n",
            " [100  10  70]\n",
            " [-20  30  20]]\n",
            "c*AT: [[ 10 -30  50]\n",
            " [100  10  70]\n",
            " [-20  30  20]]\n"
          ]
        }
      ]
    },
    {
      "cell_type": "code",
      "source": [
        "#i\n",
        "print(\"(A+B)T:\",(A+B).T)\n",
        "print(\"AT+BT:\",A.T+B.T)"
      ],
      "metadata": {
        "colab": {
          "base_uri": "https://localhost:8080/"
        },
        "id": "239rDA7SY3sf",
        "outputId": "8c164a78-b329-4036-97cb-7ea373d0dbc2"
      },
      "execution_count": 173,
      "outputs": [
        {
          "output_type": "stream",
          "name": "stdout",
          "text": [
            "(A+B)T: [[  6   7 -14]\n",
            " [ -1  -4  -2]\n",
            " [  6   4   6]]\n",
            "AT+BT: [[  6   7 -14]\n",
            " [ -1  -4  -2]\n",
            " [  6   4   6]]\n"
          ]
        }
      ]
    },
    {
      "cell_type": "markdown",
      "source": [
        "#2\n",
        "\n",
        "El **Teorema de Laplace** es un método para calcular el determinante de una matriz cuadrada, particularmente útil para matrices de orden mayor a 2. Este teorema se basa en la expansión del determinante por los elementos de una fila o una columna cualquiera.\n",
        "\n",
        "\n",
        "\n",
        "$$\n",
        "\\det(A) = \\sum_{j=1}^n (-1)^{1+j} a_{1j} M_{1j}\n",
        "$$\n",
        "\n",
        "donde:\n",
        "- $a_{1j}$ es el elemento de la primera fila y columna $j$.\n",
        "- $M_{1j}$ es el menor asociado al elemento $a_{1j}$, es decir, el determinante de la submatriz de $3 \\times 3$ que se obtiene al eliminar la fila 1 y la columna $j$.\n",
        "- $(-1)^{1+j}$ es el signo correspondiente al cofactor del elemento $a_{1j}$.\n",
        "\n",
        "Podemos realizar una función recursiva para el cálculo del determinante, sabiendo que el valor del determinante de una matriz de orden uno es el único elemento de esa matriz, y el de una matriz de orden superior a uno es la suma de cada uno de los elementos de una fila o columna por los Adjuntos a ese elemento, como en la función recursiva se emplea la misma función definida el cálculo lo haremos por Menor complementario, un ejemplo desarrollado por la primera fila sería:\n",
        "\n",
        "$$\n",
        "   \\det (A_{j,j}) =\n",
        "   \\left \\{\n",
        "   \\begin{array}{llcl}\n",
        "      si & j = 1 & \\to & a_{1,1} \\\\\n",
        "                                 \\\\\n",
        "      si & j > 1 & \\to & \\displaystyle \\sum_{k=1}^j \\; (-1)^{(1+k)} \\cdot a_{1,k} \\cdot \\det( \\alpha_{1,k})\n",
        "   \\end{array}\n",
        "   \\right .\n",
        "$$\n",
        "\n",
        "Realice una función que encuentre el determinante de una matriz usando la recursividad aqui planteada, explique explicitamente su código"
      ],
      "metadata": {
        "id": "ibYf2I9T2pIw"
      }
    },
    {
      "cell_type": "code",
      "source": [
        "def det(A):\n",
        "  j = A.shape[0] # Use A.shape[0] to get the dimension\n",
        "  if j == 1:\n",
        "    return A[0,0]\n",
        "  d=0\n",
        "  for k in range(j):\n",
        "    m = [list(row[:k]) + list(row[k+1:]) for row in A[1:]]#calculamos m\n",
        "    m = np.array(m)#convertimos la lista en array\n",
        "    c=((-1)**(1+(k+1)))*A[0][k]*det(m)#calculamos el cofactor\n",
        "    d+=c#hacemos la sumatoria\n",
        "  return d #devuelve el determinante"
      ],
      "metadata": {
        "id": "-8tYERLHtrtY"
      },
      "execution_count": 174,
      "outputs": []
    },
    {
      "cell_type": "code",
      "source": [
        "A=np.random.randint(-10,10,(3,3))\n",
        "print(det(A))\n",
        "print(np.linalg.det(A))\n",
        "print(np.isclose(det(A),np.linalg.det(A)))"
      ],
      "metadata": {
        "colab": {
          "base_uri": "https://localhost:8080/"
        },
        "id": "UwFsdK8rcANM",
        "outputId": "c47d6600-9c80-4999-b5e4-2ea4e8bd102d"
      },
      "execution_count": 175,
      "outputs": [
        {
          "output_type": "stream",
          "name": "stdout",
          "text": [
            "29\n",
            "29.000000000000018\n",
            "True\n"
          ]
        }
      ]
    },
    {
      "cell_type": "markdown",
      "source": [
        "#3 Método de Gauss - Seidel\n",
        "\n",
        "Sea \\$A\\in\\mathbb{R}^{n\\times n}\\$ no singular y sea \\$b\\in\\mathbb{R}^n\\$.\n",
        "Descomponga \\$A\\$ como\n",
        "\n",
        "$$\n",
        "A \\;=\\; D \\;+\\; L \\;+\\; U,\n",
        "$$\n",
        "\n",
        "donde\n",
        "\n",
        "* \\$D\\$ es la matriz diagonal de \\$A\\$,\n",
        "* \\$L\\$ es la parte estrictamente triangular inferior,\n",
        "* \\$U\\$ es la parte estrictamente triangular superior.\n",
        "\n",
        "El algoritmo de Gauss - Seidel reorganiza el sistema \\$Ax=b\\$ como\n",
        "\n",
        "$$\n",
        "x \\;=\\; (D+L)^{-1}\\bigl(b \\;-\\; Ux\\bigr),\n",
        "$$\n",
        "\n",
        "y genera la sucesión\n",
        "\n",
        "$$\n",
        "x_i^{(k+1)}\n",
        "= \\frac{1}{a_{ii}}\n",
        "\\Bigl(b_i - \\sum_{j<i} a_{ij}\\,x_j^{(k+1)} - \\sum_{j>i} a_{ij}\\,x_j^{(k)}\\Bigr),\n",
        "\\qquad i=1,\\dots,n.\n",
        "$$\n",
        "\n",
        "Implemente una función `gauss_seidel(A, b, tol=1e-7, max_iter=100)` que:\n",
        "   * Realice las iteraciones hasta que\n",
        "     $\\lVert x^{(k+1)}-x^{(k)}\\rVert_\\infty<\\text{tol}$\n",
        "     o se alcance `max_iter`;\n",
        "   * devuelva el vector solución aproximado \\$x\\$, el número de iteraciones realizadas y la norma del último residuo.\n",
        "\n",
        "Incluya una documentación clara.\n",
        "\n",
        "Luego,\n",
        "\n",
        "   * Genere una matriz aleatoria \\$5\\times5\\$ (por ejemplo, con `np.random.rand`) y un vector \\$b\\$ aleatorio.\n",
        "   * Resuelva \\$Ax=b\\$ con su función; calcule el error relativo frente a `numpy.linalg.solve`.\n",
        "   * Estime igualmente el error respecto a la solución obtenida mediante \\$x=A^{-1}b\\$ (usando `numpy.linalg.inv`).\n",
        "   * Presente las normas de los residuos y los errores relativos."
      ],
      "metadata": {
        "id": "fTSweDGhnAUN"
      }
    },
    {
      "cell_type": "code",
      "source": [
        "def gauss_seidel(A,b,tol=1e-7,max=100):\n",
        "  # entra una matriz cuadrada A, el vector b, la tolerancia y el maximo de iteraciones\n",
        "  # sale el vector x aproximado, el numero de iteraciones necesaria y la norma del ultimo residuo\n",
        "  m,n=A.shape #tomamos las dimenciones de A\n",
        "  if m!=n: #verificamos que sea cuadrada\n",
        "    return print(\"A no es cuadrada\")\n",
        "  if np.linalg.det(A)==0: #verificamos que su determinante sea distinto de 0 para que tenga inversa y el sistema tenga solucion\n",
        "    return print(\"determinante 0\")\n",
        "  x=np.zeros(n) # inicializamos x\n",
        "  for w in range(0,max): #iniciamos el for con la maxima iteraciones que se pidieron\n",
        "    xn=x.copy() #hacemos una copia de x para comparar en la tolerancia\n",
        "    for i in range(n):\n",
        "      sum1=0\n",
        "      sum2=0 #iniciamos las sumas\n",
        "      for j in range(n):\n",
        "        if j<i:\n",
        "          sum1+=A[i,j]*x[j] #hacemos la primera suma para j<i\n",
        "        if j>i:\n",
        "          sum2+=A[i,j]*x[j] #hacemos la segunda suma para j>i\n",
        "      x[i]=(1/A[i,i])*(b[i]-sum1-sum2) #añadimos xi a x con la formula\n",
        "    if np.linalg.norm(x-xn)<tol: #verificamos si se cumple la tolerancia\n",
        "      return x,w,np.linalg.norm(x-xn)\n",
        "  return print(\"numero maximo de iteraciones\",x) #si se acaba el for significa que se sobrepaso el maximo de itaraciones por lo que mandamos este mensaje"
      ],
      "metadata": {
        "id": "xXuUhfjznlnO"
      },
      "execution_count": 176,
      "outputs": []
    },
    {
      "cell_type": "code",
      "source": [
        "#a\n",
        "A=np.random.randint(-100,100,(5,5)) #hacemos la matriz A aleatoria\n",
        "for i in range(5):\n",
        "  A[i, i] = sum(abs(A[i])) # la funcion no me estaba dando por lo que investigando encontre que gauss_seidel no funciona bien para matrices que no sean diagonalmente dominante por lo que hice este for para asegurar que la diagonal es mas grnde que la fila\n",
        "b=np.random.randint(-100,100,5)\n",
        "print(A)\n",
        "print(b)"
      ],
      "metadata": {
        "colab": {
          "base_uri": "https://localhost:8080/"
        },
        "id": "hqnnKBo7qhym",
        "outputId": "1faee35b-5057-47d2-b713-fee2c8414bf0"
      },
      "execution_count": 195,
      "outputs": [
        {
          "output_type": "stream",
          "name": "stdout",
          "text": [
            "[[273  13 -67 -76  21]\n",
            " [-71 277  53 -50 -39]\n",
            " [-74  35 278  20  77]\n",
            " [-64 -88  60 242  -5]\n",
            " [-27 -76  85  77 317]]\n",
            "[-18 -11  19  41  69]\n"
          ]
        }
      ]
    },
    {
      "cell_type": "code",
      "source": [
        "#b\n",
        "g=gauss_seidel(A,b,1e-7,100000)[0]\n",
        "s=np.linalg.solve(A,b)\n",
        "err_s=abs(g-s)\n",
        "print(\"error relativo:\",err_s)"
      ],
      "metadata": {
        "colab": {
          "base_uri": "https://localhost:8080/"
        },
        "id": "lPQ8ViNPOTT6",
        "outputId": "b7903014-b88d-476c-cd63-6dd937d4c78f"
      },
      "execution_count": 196,
      "outputs": [
        {
          "output_type": "stream",
          "name": "stdout",
          "text": [
            "error relativo: [5.57704125e-09 8.64568949e-09 6.78639536e-09 3.58173149e-09\n",
            " 2.54745292e-09]\n"
          ]
        }
      ]
    },
    {
      "cell_type": "code",
      "source": [
        "#c\n",
        "A_inv=np.linalg.inv(A)\n",
        "x=A_inv@b\n",
        "err_i=abs(g-x)\n",
        "print(\"error relativo:\",err_i)"
      ],
      "metadata": {
        "colab": {
          "base_uri": "https://localhost:8080/"
        },
        "id": "vR58xNgaSBaR",
        "outputId": "19a3bcba-6f7a-4b56-846b-2aac9054dc66"
      },
      "execution_count": 197,
      "outputs": [
        {
          "output_type": "stream",
          "name": "stdout",
          "text": [
            "error relativo: [5.57704128e-09 8.64568950e-09 6.78639537e-09 3.58173149e-09\n",
            " 2.54745292e-09]\n"
          ]
        }
      ]
    },
    {
      "cell_type": "code",
      "source": [
        "print(\"norma del residuo:\",gauss_seidel(A,b,1e-7,100000)[2])\n",
        "print(\"error relativo con solve:\",err_s)\n",
        "print(\"error relativo con el metodo de la inversa:\",err_i)"
      ],
      "metadata": {
        "colab": {
          "base_uri": "https://localhost:8080/"
        },
        "id": "oTGG9ftIh8rL",
        "outputId": "461d5eb8-a6c4-466b-bf22-8b43c67def17"
      },
      "execution_count": 198,
      "outputs": [
        {
          "output_type": "stream",
          "name": "stdout",
          "text": [
            "norma del residuo: 4.412954643099395e-08\n",
            "error relativo con solve: [5.57704125e-09 8.64568949e-09 6.78639536e-09 3.58173149e-09\n",
            " 2.54745292e-09]\n",
            "error relativo con el metodo de la inversa: [5.57704128e-09 8.64568950e-09 6.78639537e-09 3.58173149e-09\n",
            " 2.54745292e-09]\n"
          ]
        }
      ]
    },
    {
      "cell_type": "markdown",
      "source": [
        "#4 Método de potencias para el valor propio dominante\n",
        "\n",
        "Sea \\$A\\in\\mathbb{R}^{n\\times n}\\$ diagonalizable con valor propio dominante \\$\\lambda\\_{\\max}\\$ (en magnitud) y vector propio asociado \\$v\\_{\\max}\\$.\n",
        "\n",
        "El método de potencias genera, a partir de un vector inicial \\$q^{(0)}\\neq 0\\$, la sucesión\n",
        "\n",
        "$$\n",
        "q^{(k+1)} \\;=\\; \\frac{A\\,q^{(k)}}{\\lVert A\\,q^{(k)}\\rVert_2},\n",
        "\\qquad\n",
        "\\lambda^{(k+1)} \\;=\\; (q^{(k+1)})^{\\!\\top} A\\, q^{(k+1)},\n",
        "$$\n",
        "\n",
        "que converge a \\$v\\_{\\max}/\\lVert v\\_{\\max}\\rVert\\_2\\$ y a \\$\\lambda\\_{\\max}\\$ respectivamente, bajo hipótesis estándar.\n",
        "\n",
        "Implemente `power_method(A, tol=1e-7, max_iter=1000)` que:\n",
        "\n",
        "   * Acepte matrices reales cuadradas,\n",
        "   * Devuelva \\$\\lambda\\_{\\max}\\$, el vector propio normalizado \\$v\\_{\\max}\\$, el número de iteraciones y la última variación relativa de \\$\\lambda\\$,\n",
        "   * detenga la iteración cuando\n",
        "     $\\bigl|\\lambda^{(k+1)}-\\lambda^{(k)}\\bigr|<\\text{tol}\\,|\\lambda^{(k+1)}|$\n",
        "     o se alcance `max_iter`.\n",
        "\n",
        "Luego,\n",
        "   * Genere una matriz simétrica aleatoria \\$6\\times6\\$ (por ejemplo, \\$A = (M+M^\\top)/2\\$ con \\$M\\$ aleatoria).\n",
        "   * Aplique su `power_method` y compare \\$\\lambda\\_{\\max}\\$ y \\$v\\_{\\max}\\$ con los resultados de `numpy.linalg.eig`."
      ],
      "metadata": {
        "id": "REVJcqYtnmM-"
      }
    },
    {
      "cell_type": "code",
      "source": [
        "def power_method(A,t=1e-7,max=1000):\n",
        "  m,n=A.shape\n",
        "  if m!=n:\n",
        "    return print(\"la matriz no es cuadrada\")\n",
        "  q=np.random.randint(-10,10,n)\n",
        "  ln=0\n",
        "  for w in range(max):\n",
        "    nor=np.linalg.norm(A@q)\n",
        "    q=(A@q)/nor\n",
        "    l=(q)@A@q\n",
        "    if abs(l-ln)<t:\n",
        "      return l,q,w,abs(l-ln)\n",
        "    else:\n",
        "      ln=l.copy()\n",
        "  return print(\"numero maximo de iteraciones\")"
      ],
      "metadata": {
        "id": "lPzFAOE7obZY"
      },
      "execution_count": 180,
      "outputs": []
    },
    {
      "cell_type": "code",
      "source": [
        "#a\n",
        "m=np.random.randint(-10,10,(6,6))\n",
        "A=(m+m.T)/2\n",
        "print(A)"
      ],
      "metadata": {
        "colab": {
          "base_uri": "https://localhost:8080/"
        },
        "id": "VG1-ZvYA1N6p",
        "outputId": "c1f87fef-3290-4f4b-c660-0a017707df8f"
      },
      "execution_count": 181,
      "outputs": [
        {
          "output_type": "stream",
          "name": "stdout",
          "text": [
            "[[ 3.  -1.5  1.5  6.  -4.  -0.5]\n",
            " [-1.5 -2.  -2.   1.5  5.  -1. ]\n",
            " [ 1.5 -2.  -5.   4.  -0.5 -1.5]\n",
            " [ 6.   1.5  4.   7.   5.  -5.5]\n",
            " [-4.   5.  -0.5  5.   2.  -7.5]\n",
            " [-0.5 -1.  -1.5 -5.5 -7.5 -1. ]]\n"
          ]
        }
      ]
    },
    {
      "cell_type": "code",
      "source": [
        "print(power_method(A))\n",
        "print(np.linalg.eigvals(A))"
      ],
      "metadata": {
        "colab": {
          "base_uri": "https://localhost:8080/"
        },
        "id": "0v8EurcE1dA5",
        "outputId": "ecbc3891-e651-486b-a6a7-eb22be35bbf6"
      },
      "execution_count": 182,
      "outputs": [
        {
          "output_type": "stream",
          "name": "stdout",
          "text": [
            "(np.float64(16.656347870632015), array([-0.18205561, -0.17686587, -0.14568027, -0.70049189, -0.47332264,\n",
            "        0.4467978 ]), 19, np.float64(4.377279338996232e-08))\n",
            "[16.65634789  9.83241483 -1.97183389 -4.19819925 -8.94237824 -7.37635134]\n"
          ]
        }
      ]
    },
    {
      "cell_type": "markdown",
      "source": [
        "#5\n",
        "\n",
        "Verifique que cualquier matriz hermitiana de 2 × 2 $ L $ puede escribirse como una suma de cuatro términos:\n",
        "\n",
        "$$ L = a\\sigma_x + b\\sigma_y + c\\sigma_z + dI $$\n",
        "\n",
        "donde $ a $, $ b $, $ c $ y $ d $ son números reales.\n",
        "\n",
        "Las cuatro matrices de Pauli son:\n",
        "\n",
        "$$ \\sigma_x = \\begin{pmatrix} 0 & 1 \\\\ 1 & 0 \\end{pmatrix}, \\quad \\sigma_y = \\begin{pmatrix} 0 & -i \\\\ i & 0 \\end{pmatrix}, \\quad \\sigma_z = \\begin{pmatrix} 1 & 0 \\\\ 0 & -1 \\end{pmatrix}, \\quad I = \\begin{pmatrix} 1 & 0 \\\\ 0 & 1 \\end{pmatrix} $$\n",
        "\n",
        "\n"
      ],
      "metadata": {
        "id": "iggu2jNwVpnK"
      }
    },
    {
      "cell_type": "code",
      "source": [
        "i= 0+1j\n",
        "x=np.array([[0,1],[1,0]])\n",
        "y=np.array([[0,-i],[i,0]])\n",
        "z=np.array([[1,0],[0,-1]])\n",
        "I=np.array([[1,0],[0,1]])\n",
        "for i in range(0,100):\n",
        "  r=np.random.randint(-100,100,4)\n",
        "  l=r[0]*x+r[1]*y+r[2]*z+r[3]*I\n",
        "  print(l)"
      ],
      "metadata": {
        "id": "8WN9_cOCV7cM",
        "colab": {
          "base_uri": "https://localhost:8080/"
        },
        "outputId": "5a3d53a2-d1c4-4e6d-bfd2-cb58ef4067c5"
      },
      "execution_count": 183,
      "outputs": [
        {
          "output_type": "stream",
          "name": "stdout",
          "text": [
            "[[ 11. +0.j -60.+61.j]\n",
            " [-60.-61.j   1. +0.j]]\n",
            "[[-108. +0.j   28.-66.j]\n",
            " [  28.+66.j    2. +0.j]]\n",
            "[[ 59. +0.j  66.-63.j]\n",
            " [ 66.+63.j -65. +0.j]]\n",
            "[[-67. +0.j  24.-73.j]\n",
            " [ 24.+73.j  71. +0.j]]\n",
            "[[ 68. +0.j -47.-94.j]\n",
            " [-47.+94.j -34. +0.j]]\n",
            "[[  91. +0.j  -21.+47.j]\n",
            " [ -21.-47.j -101. +0.j]]\n",
            "[[-85. +0.j   2.+61.j]\n",
            " [  2.-61.j -95. +0.j]]\n",
            "[[ -7. +0.j -39.+69.j]\n",
            " [-39.-69.j 159. +0.j]]\n",
            "[[58. +0.j 65.+67.j]\n",
            " [65.-67.j 76. +0.j]]\n",
            "[[-120. +0.j   50.-31.j]\n",
            " [  50.+31.j  -56. +0.j]]\n",
            "[[38. +0.j 59.+67.j]\n",
            " [59.-67.j  2. +0.j]]\n",
            "[[-84. +0.j -99.+14.j]\n",
            " [-99.-14.j  32. +0.j]]\n",
            "[[ 39. +0.j -38.-21.j]\n",
            " [-38.+21.j  59. +0.j]]\n",
            "[[ 52. +0.j -31.+90.j]\n",
            " [-31.-90.j  24. +0.j]]\n",
            "[[157. +0.j -89.-53.j]\n",
            " [-89.+53.j  13. +0.j]]\n",
            "[[  -9.+0.j  -50.-6.j]\n",
            " [ -50.+6.j -121.+0.j]]\n",
            "[[ -58. +0.j   11.+16.j]\n",
            " [  11.-16.j -124. +0.j]]\n",
            "[[-148. +0.j  -75.-77.j]\n",
            " [ -75.+77.j   30. +0.j]]\n",
            "[[ 67. +0.j  45.+90.j]\n",
            " [ 45.-90.j -91. +0.j]]\n",
            "[[110. +0.j -62.-23.j]\n",
            " [-62.+23.j  20. +0.j]]\n",
            "[[-59. +0.j -27.+17.j]\n",
            " [-27.-17.j -61. +0.j]]\n",
            "[[-157. +0.j   78.-77.j]\n",
            " [  78.+77.j  -19. +0.j]]\n",
            "[[126.+0.j  40.+2.j]\n",
            " [ 40.-2.j -62.+0.j]]\n",
            "[[-96. +0.j -87.-56.j]\n",
            " [-87.+56.j  28. +0.j]]\n",
            "[[-56. +0.j -30.-76.j]\n",
            " [-30.+76.j  48. +0.j]]\n",
            "[[-43. +0.j  40.+36.j]\n",
            " [ 40.-36.j  29. +0.j]]\n",
            "[[ 23. +0.j  86.+70.j]\n",
            " [ 86.-70.j -61. +0.j]]\n",
            "[[-54. +0.j -52.+52.j]\n",
            " [-52.-52.j   2. +0.j]]\n",
            "[[-136.+0.j  -87.-4.j]\n",
            " [ -87.+4.j  -50.+0.j]]\n",
            "[[-166. +0.j    5.-92.j]\n",
            " [   5.+92.j    6. +0.j]]\n",
            "[[131. +0.j -34.+77.j]\n",
            " [-34.-77.j  53. +0.j]]\n",
            "[[56. +0.j -6.-77.j]\n",
            " [-6.+77.j 32. +0.j]]\n",
            "[[ 31. +0.j -84.-16.j]\n",
            " [-84.+16.j 145. +0.j]]\n",
            "[[ 94. +0.j  -5.-82.j]\n",
            " [ -5.+82.j -94. +0.j]]\n",
            "[[ 27.  +0.j -29.+100.j]\n",
            " [-29.-100.j 103.  +0.j]]\n",
            "[[-71. +0.j -26.+10.j]\n",
            " [-26.-10.j  69. +0.j]]\n",
            "[[ -8.+0.j  66.-4.j]\n",
            " [ 66.+4.j 190.+0.j]]\n",
            "[[86. +0.j -2.-76.j]\n",
            " [-2.+76.j 50. +0.j]]\n",
            "[[-141. +0.j  -95.+38.j]\n",
            " [ -95.-38.j   23. +0.j]]\n",
            "[[-160. +0.j  -12.-91.j]\n",
            " [ -12.+91.j   18. +0.j]]\n",
            "[[ 30. +0.j  49.-58.j]\n",
            " [ 49.+58.j -94. +0.j]]\n",
            "[[40. +0.j 28.+40.j]\n",
            " [28.-40.j 62. +0.j]]\n",
            "[[ 37. +0.j  41.+81.j]\n",
            " [ 41.-81.j 143. +0.j]]\n",
            "[[-65. +0.j  -7.-54.j]\n",
            " [ -7.+54.j  15. +0.j]]\n",
            "[[-152. +0.j    0.-13.j]\n",
            " [   0.+13.j  -14. +0.j]]\n",
            "[[ -5. +0.j  40.-34.j]\n",
            " [ 40.+34.j 153. +0.j]]\n",
            "[[ 58. +0.j -67.+67.j]\n",
            " [-67.-67.j   0. +0.j]]\n",
            "[[73. +0.j -1.+65.j]\n",
            " [-1.-65.j 39. +0.j]]\n",
            "[[  11. +0.j  -88.+86.j]\n",
            " [ -88.-86.j -141. +0.j]]\n",
            "[[-94. +0.j -39.+36.j]\n",
            " [-39.-36.j  18. +0.j]]\n",
            "[[-14. +0.j  25.+78.j]\n",
            " [ 25.-78.j -32. +0.j]]\n",
            "[[-18. +0.j  53.+35.j]\n",
            " [ 53.-35.j -20. +0.j]]\n",
            "[[30. +0.j 37.+36.j]\n",
            " [37.-36.j 64. +0.j]]\n",
            "[[-61. +0.j -31.-63.j]\n",
            " [-31.+63.j -15. +0.j]]\n",
            "[[103. +0.j -16.-56.j]\n",
            " [-16.+56.j  85. +0.j]]\n",
            "[[ 95. +0.j  27.+21.j]\n",
            " [ 27.-21.j -35. +0.j]]\n",
            "[[ 55. +0.j -53.-78.j]\n",
            " [-53.+78.j -93. +0.j]]\n",
            "[[-129. +0.j   55.-43.j]\n",
            " [  55.+43.j  -35. +0.j]]\n",
            "[[  14. +0.j  -35.-90.j]\n",
            " [ -35.+90.j -100. +0.j]]\n",
            "[[-143. +0.j  -67.+38.j]\n",
            " [ -67.-38.j  -29. +0.j]]\n",
            "[[-117. +0.j   73.+85.j]\n",
            " [  73.-85.j  -27. +0.j]]\n",
            "[[-48. +0.j -26.-75.j]\n",
            " [-26.+75.j -86. +0.j]]\n",
            "[[-19. +0.j  12.-12.j]\n",
            " [ 12.+12.j -35. +0.j]]\n",
            "[[  55. +0.j   42.-51.j]\n",
            " [  42.+51.j -135. +0.j]]\n",
            "[[131. +0.j  80.-19.j]\n",
            " [ 80.+19.j -21. +0.j]]\n",
            "[[-58. +0.j -22.-27.j]\n",
            " [-22.+27.j -96. +0.j]]\n",
            "[[-21. +0.j  78.-82.j]\n",
            " [ 78.+82.j 111. +0.j]]\n",
            "[[-92.+0.j -50.+9.j]\n",
            " [-50.-9.j -38.+0.j]]\n",
            "[[-47. +0.j  -7.+12.j]\n",
            " [ -7.-12.j  59. +0.j]]\n",
            "[[-81. +0.j  67.-67.j]\n",
            " [ 67.+67.j -13. +0.j]]\n",
            "[[ -26. +0.j    7.-21.j]\n",
            " [   7.+21.j -144. +0.j]]\n",
            "[[20. +0.j 13.-95.j]\n",
            " [13.+95.j 10. +0.j]]\n",
            "[[-77.+0.j  19.+3.j]\n",
            " [ 19.-3.j -93.+0.j]]\n",
            "[[56. +0.j 70.+55.j]\n",
            " [70.-55.j  6. +0.j]]\n",
            "[[91. +0.j 94.+16.j]\n",
            " [94.-16.j 49. +0.j]]\n",
            "[[-125. +0.j  -27.+36.j]\n",
            " [ -27.-36.j   17. +0.j]]\n",
            "[[-61. +0.j  12.-69.j]\n",
            " [ 12.+69.j 111. +0.j]]\n",
            "[[-61. +0.j -34.-56.j]\n",
            " [-34.+56.j   9. +0.j]]\n",
            "[[112. +0.j  50.+11.j]\n",
            " [ 50.-11.j   4. +0.j]]\n",
            "[[-30. +0.j  64.+73.j]\n",
            " [ 64.-73.j  88. +0.j]]\n",
            "[[98. +0.j 55.-36.j]\n",
            " [55.+36.j 28. +0.j]]\n",
            "[[160. +0.j   5.-18.j]\n",
            " [  5.+18.j  24. +0.j]]\n",
            "[[-45. +0.j -61.-44.j]\n",
            " [-61.+44.j -15. +0.j]]\n",
            "[[  1. +0.j -38.+67.j]\n",
            " [-38.-67.j -21. +0.j]]\n",
            "[[154. +0.j  81.+81.j]\n",
            " [ 81.-81.j -34. +0.j]]\n",
            "[[ -28. +0.j   57.+58.j]\n",
            " [  57.-58.j -150. +0.j]]\n",
            "[[-58. +0.j -71.-96.j]\n",
            " [-71.+96.j  20. +0.j]]\n",
            "[[ -12. +0.j   99.-11.j]\n",
            " [  99.+11.j -134. +0.j]]\n",
            "[[-10. +0.j -42.-67.j]\n",
            " [-42.+67.j -30. +0.j]]\n",
            "[[-34. +0.j -60.-52.j]\n",
            " [-60.+52.j -48. +0.j]]\n",
            "[[-29. +0.j -55.-22.j]\n",
            " [-55.+22.j 145. +0.j]]\n",
            "[[-64. +0.j -64.+19.j]\n",
            " [-64.-19.j  68. +0.j]]\n",
            "[[153. +0.j -10.-65.j]\n",
            " [-10.+65.j -17. +0.j]]\n",
            "[[-132. +0.j   51.+60.j]\n",
            " [  51.-60.j   40. +0.j]]\n",
            "[[-187.+0.j   -3.+5.j]\n",
            " [  -3.-5.j    9.+0.j]]\n",
            "[[103. +0.j -87.-14.j]\n",
            " [-87.+14.j -71. +0.j]]\n",
            "[[ 60. +0.j -99.-51.j]\n",
            " [-99.+51.j  62. +0.j]]\n",
            "[[149. +0.j  -2.+77.j]\n",
            " [ -2.-77.j   5. +0.j]]\n",
            "[[142. +0.j   1.-13.j]\n",
            " [  1.+13.j -26. +0.j]]\n",
            "[[147. +0.j  87.+98.j]\n",
            " [ 87.-98.j  -3. +0.j]]\n"
          ]
        }
      ]
    },
    {
      "cell_type": "markdown",
      "source": [
        "# 6\n",
        "\n",
        "Haga un breve resumen en Markdown de las funciones y métodos más relevantes para algebra lineal usando Python. Emplee ejemplos."
      ],
      "metadata": {
        "id": "GnCw5_O5pMxl"
      }
    },
    {
      "cell_type": "markdown",
      "source": [
        "las funciones que se hablaran en este resumen es con la libreria de numpy la cual importaremos como: import numpy as np\n",
        "# norma\n",
        "para hacer la norma de una matriz A utilizaremos la funcion np.linalg.norm(A)"
      ],
      "metadata": {
        "id": "JAZqesYd1aoB"
      }
    },
    {
      "cell_type": "code",
      "source": [
        "#ejemplo\n",
        "A=np.random.randint(-10,10,(3,3))\n",
        "norma=np.linalg.norm(A)\n",
        "print(A)\n",
        "print(norma)"
      ],
      "metadata": {
        "id": "djdVPgpoparm",
        "colab": {
          "base_uri": "https://localhost:8080/"
        },
        "outputId": "4da0f1a8-cd2e-4517-d6b3-c41d2e081839"
      },
      "execution_count": 184,
      "outputs": [
        {
          "output_type": "stream",
          "name": "stdout",
          "text": [
            "[[-4  5  0]\n",
            " [-9  8 -1]\n",
            " [-5  0  1]]\n",
            "14.594519519326424\n"
          ]
        }
      ]
    },
    {
      "cell_type": "markdown",
      "source": [
        "# producto de matrices\n",
        "para hacer el producto dos matrices A y B se utiliza la funcion np.dot(A,B) o A@B"
      ],
      "metadata": {
        "id": "w0hl0WtdVck6"
      }
    },
    {
      "cell_type": "code",
      "source": [
        "#ejemplo\n",
        "A=np.random.randint(-10,10,(3,3))\n",
        "B=np.random.randint(-10,10,(3,3))\n",
        "p_punto=np.dot(A,B)\n",
        "p_matriz=A@B\n",
        "print(A)\n",
        "print(B)\n",
        "print(p_punto)\n",
        "print(p_matriz)"
      ],
      "metadata": {
        "colab": {
          "base_uri": "https://localhost:8080/"
        },
        "id": "327K8HZ5VuWm",
        "outputId": "d68ac657-15e7-4585-e3fa-94d8b0daebbb"
      },
      "execution_count": 185,
      "outputs": [
        {
          "output_type": "stream",
          "name": "stdout",
          "text": [
            "[[  9   2   1]\n",
            " [-10   4  -1]\n",
            " [  1  -9   4]]\n",
            "[[ 0 -7  9]\n",
            " [ 5  2 -7]\n",
            " [ 3  6 -8]]\n",
            "[[  13  -53   59]\n",
            " [  17   72 -110]\n",
            " [ -33   -1   40]]\n",
            "[[  13  -53   59]\n",
            " [  17   72 -110]\n",
            " [ -33   -1   40]]\n"
          ]
        }
      ]
    },
    {
      "cell_type": "markdown",
      "source": [
        "# producto cruz\n",
        "para hacer el producto cruz de dos matrices A y B se utiliza la funcion np.cross(A,B)"
      ],
      "metadata": {
        "id": "vsEymFORWkcV"
      }
    },
    {
      "cell_type": "code",
      "source": [
        "#ejemplo\n",
        "A=np.random.randint(-10,10,(3,3))\n",
        "B=np.random.randint(-10,10,(3,3))\n",
        "cruz=np.cross(A,B)\n",
        "print(A)\n",
        "print(B)\n",
        "print(cruz)"
      ],
      "metadata": {
        "colab": {
          "base_uri": "https://localhost:8080/"
        },
        "id": "o2zlGdo0Wxe_",
        "outputId": "ae875da4-86eb-4055-c7bc-5b77727b7c9e"
      },
      "execution_count": 186,
      "outputs": [
        {
          "output_type": "stream",
          "name": "stdout",
          "text": [
            "[[ 4  2 -1]\n",
            " [ 9  5 -7]\n",
            " [ 3 -5  2]]\n",
            "[[ 8 -7 -4]\n",
            " [ 2  6  5]\n",
            " [ 4  8  4]]\n",
            "[[-15   8 -44]\n",
            " [ 67 -59  44]\n",
            " [-36  -4  44]]\n"
          ]
        }
      ]
    },
    {
      "cell_type": "markdown",
      "source": [
        "# matriz identidad\n",
        "para generar una matriz identidad de orden n x n se puede hacer con la funcion np.eye(n)"
      ],
      "metadata": {
        "id": "VsL-QX1BXJA8"
      }
    },
    {
      "cell_type": "code",
      "source": [
        "#ejemplo\n",
        "A=np.eye(5)\n",
        "print(A)"
      ],
      "metadata": {
        "colab": {
          "base_uri": "https://localhost:8080/"
        },
        "id": "S6AnrEcUaPLk",
        "outputId": "71f6ba1d-7def-493d-e098-3b325ec99153"
      },
      "execution_count": 187,
      "outputs": [
        {
          "output_type": "stream",
          "name": "stdout",
          "text": [
            "[[1. 0. 0. 0. 0.]\n",
            " [0. 1. 0. 0. 0.]\n",
            " [0. 0. 1. 0. 0.]\n",
            " [0. 0. 0. 1. 0.]\n",
            " [0. 0. 0. 0. 1.]]\n"
          ]
        }
      ]
    },
    {
      "cell_type": "markdown",
      "source": [
        "#matriz aleatoria\n",
        "para generar una matriz aleatoria en un rango entre a y b con tamaño n x m puedes utilizar la funcion np.random.randint(a,b,size=(m,n))"
      ],
      "metadata": {
        "id": "9CL7gKxWaVTa"
      }
    },
    {
      "cell_type": "code",
      "source": [
        "#ejemplo\n",
        "A=np.random.randint(-10,10,(3,3))\n",
        "print(A)"
      ],
      "metadata": {
        "colab": {
          "base_uri": "https://localhost:8080/"
        },
        "id": "zPTCcf9lbQCC",
        "outputId": "32c09d97-c385-4afb-cd0b-f38bf99409b2"
      },
      "execution_count": 188,
      "outputs": [
        {
          "output_type": "stream",
          "name": "stdout",
          "text": [
            "[[  5   2  -6]\n",
            " [  8   1   0]\n",
            " [-10   6   9]]\n"
          ]
        }
      ]
    },
    {
      "cell_type": "markdown",
      "source": [
        "# transpuesta\n",
        "para hacer la traspuesta de una matriz A debes colocar lo siguiente A.T"
      ],
      "metadata": {
        "id": "yDrpGysobYHR"
      }
    },
    {
      "cell_type": "code",
      "source": [
        "#ejemplo\n",
        "A=np.random.randint(-10,10,(3,3))\n",
        "AT=A.T\n",
        "print(A)\n",
        "print(AT)"
      ],
      "metadata": {
        "colab": {
          "base_uri": "https://localhost:8080/"
        },
        "id": "1Cci2TYpbzOg",
        "outputId": "8a3f46c3-ba78-4fd8-979b-3166ba6c929e"
      },
      "execution_count": 189,
      "outputs": [
        {
          "output_type": "stream",
          "name": "stdout",
          "text": [
            "[[ 9 -7  7]\n",
            " [ 9 -8  5]\n",
            " [ 8 -9 -9]]\n",
            "[[ 9  9  8]\n",
            " [-7 -8 -9]\n",
            " [ 7  5 -9]]\n"
          ]
        }
      ]
    },
    {
      "cell_type": "markdown",
      "source": [
        "# resolucion de un sistema de ecuaciones\n",
        "para resolver un sistema de la forma Ax=b hay distintos metodos:\n",
        "# metodo de la inversa\n",
        "teniendo Ax=b si obtenemos $A^{-1}$ entonces podemos encontrar x de la forma x=$A^{-1}$b\n",
        "# descomposicion LU\n",
        "teniendo Ax=b podemos hacer una sustitucin de A como A=LU donde L es la matriz lower y U la matriz upper y con esto nos queda LUx=b\n",
        "# metodo de jacobi\n",
        "el metodo de jacobi es un metodo iterativo para encontrar x por cada indice y su formula es\n",
        "$$\n",
        "x_i^{(k+1)} = \\frac{1}{A_{ii}} \\left( b_i - \\sum_{\\substack{j = 1 \\\\ j \\ne i}}^{n} A_{ij} x_j^{(k)} \\right)\n",
        "$$\n",
        "# metodo gauss-seidel\n",
        "es un metodo mas refinado del de jacobi y su formula es\n",
        "$$\n",
        "x_i^{(k+1)} = \\frac{1}{A_{ii}} \\left( b_i - \\sum_{j=1}^{i-1} A_{ij} x_j^{(k+1)} - \\sum_{j=i+1}^{n} A_{ij} x_j^{(k)} \\right)\n",
        "$$\n",
        "# funcion en python\n",
        "la funcion predilecta para resolver un sistema Ax=b en phyton es np.linalg.solve(A,b)"
      ],
      "metadata": {
        "id": "kRd8y-T5cBXa"
      }
    },
    {
      "cell_type": "code",
      "source": [
        "#ejemplo\n",
        "A=np.random.randint(-10,10,(3,3))\n",
        "b=np.random.randint(-10,10,3)\n",
        "s=np.linalg.solve(A,b)\n",
        "print(A)\n",
        "print(b)\n",
        "print(s)"
      ],
      "metadata": {
        "colab": {
          "base_uri": "https://localhost:8080/"
        },
        "id": "Q0KGngYpfijr",
        "outputId": "87952837-8f6b-4838-a1b6-624d5a7ff9ef"
      },
      "execution_count": 190,
      "outputs": [
        {
          "output_type": "stream",
          "name": "stdout",
          "text": [
            "[[-5  0 -7]\n",
            " [ 9  3 -9]\n",
            " [ 1  2 -1]]\n",
            "[-6  1  4]\n",
            "[0.11111111 2.33333333 0.77777778]\n"
          ]
        }
      ]
    },
    {
      "cell_type": "markdown",
      "source": [
        "# determinante\n",
        "para hacer el determinante de una matriz A es con la funcion np.linalg.det(A)"
      ],
      "metadata": {
        "id": "gh5VC3UOfwuF"
      }
    },
    {
      "cell_type": "code",
      "source": [
        "#ejemplo\n",
        "A=np.random.randint(-10,10,(3,3))\n",
        "det=np.linalg.det(A)\n",
        "print(A)\n",
        "print(det)"
      ],
      "metadata": {
        "colab": {
          "base_uri": "https://localhost:8080/"
        },
        "id": "OiNUPcW2f7pj",
        "outputId": "e548ab94-d832-465b-e01f-6c7fc8847a15"
      },
      "execution_count": 191,
      "outputs": [
        {
          "output_type": "stream",
          "name": "stdout",
          "text": [
            "[[ -2  -7 -10]\n",
            " [ -6  -3   6]\n",
            " [ -9   3  -5]]\n",
            "1044.0000000000005\n"
          ]
        }
      ]
    },
    {
      "cell_type": "markdown",
      "source": [
        "# inversa\n",
        "para calcular la inversa de una matriz A se utiliza la funcion np.linalg.inv(A)"
      ],
      "metadata": {
        "id": "tiMCe_g3gET2"
      }
    },
    {
      "cell_type": "code",
      "source": [
        "#ejemplo\n",
        "A=np.random.randint(-10,10,(3,3))\n",
        "inv=np.linalg.inv(A)\n",
        "print(A)\n",
        "print(inv)"
      ],
      "metadata": {
        "colab": {
          "base_uri": "https://localhost:8080/"
        },
        "id": "CoozomBBgTwS",
        "outputId": "7b2bf73b-40fe-4cbc-aa2a-d8393830f520"
      },
      "execution_count": 192,
      "outputs": [
        {
          "output_type": "stream",
          "name": "stdout",
          "text": [
            "[[  1   3 -10]\n",
            " [  8   7  -3]\n",
            " [ -4   7   5]]\n",
            "[[-0.06451613  0.09792627 -0.0702765 ]\n",
            " [ 0.03225806  0.04032258  0.08870968]\n",
            " [-0.09677419  0.0218894   0.01958525]]\n"
          ]
        }
      ]
    },
    {
      "cell_type": "markdown",
      "source": [
        "# traza\n",
        "para calcular la traza de una matriz A puedes utilizar la funcion np.trace(A)"
      ],
      "metadata": {
        "id": "MZEPdZ1EgcO1"
      }
    },
    {
      "cell_type": "code",
      "source": [
        "#ejemplo\n",
        "A=np.random.randint(-10,10,(3,3))\n",
        "tra=np.trace(A)\n",
        "print(A)\n",
        "print(tra)"
      ],
      "metadata": {
        "colab": {
          "base_uri": "https://localhost:8080/"
        },
        "id": "eY-ZrjNGgpDg",
        "outputId": "89b1a741-f37d-44ce-820a-b5cd255c1678"
      },
      "execution_count": 193,
      "outputs": [
        {
          "output_type": "stream",
          "name": "stdout",
          "text": [
            "[[ 6 -6  1]\n",
            " [-1 -6 -9]\n",
            " [ 5  5 -1]]\n",
            "-1\n"
          ]
        }
      ]
    }
  ]
}