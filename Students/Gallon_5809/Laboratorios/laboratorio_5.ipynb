{
  "cells": [
    {
      "cell_type": "markdown",
      "source": [
        "1."
      ],
      "metadata": {
        "id": "dOoUPlfP6I9i"
      }
    },
    {
      "cell_type": "code",
      "source": [
        "import numpy as np\n",
        "import matplotlib.pyplot as plt\n",
        "from scipy.interpolate import CubicHermiteSpline, interp1d\n",
        "import pandas as pd\n",
        "\n",
        "# Datos del problema\n",
        "t = np.array([1.00, 1.01, 1.02, 1.03, 1.04])  # tiempo en segundos\n",
        "i = np.array([3.10, 3.12, 3.14, 3.18, 3.24])  # corriente en Amperios\n",
        "h = 0.01  # Paso constante\n",
        "\n",
        "# Constantes\n",
        "L = 0.98   # Inductancia en Henrys\n",
        "R = 0.142  # Resistencia en Ohmios\n",
        "\n",
        "# 1. DataFrame con los datos\n",
        "df = pd.DataFrame({'t (s)': t, 'i (A)': i})\n",
        "print(\"DataFrame:\", df)\n",
        "\n",
        "# 2. Diferencias finitas simples (orden 1)\n",
        "def forward_diff(f, x, h):\n",
        "    return (f(x + h) - f(x)) / h\n",
        "\n",
        "def backward_diff(f, x, h):\n",
        "    return (f(x) - f(x - h)) / h\n",
        "\n",
        "def centered_diff(f, x, h):\n",
        "    return (f(x + h) - f(x - h)) / (2 * h)\n",
        "\n",
        "def Derivada_Finita_Simple(f, x, h):\n",
        "    n = len(x)\n",
        "    fprime = np.zeros_like(x)\n",
        "    for i in range(n):\n",
        "        if i == 0:\n",
        "            fprime[i] = forward_diff(f, x[i], h)\n",
        "        elif i == n - 1:\n",
        "            fprime[i] = backward_diff(f, x[i], h)\n",
        "        else:\n",
        "            fprime[i] = centered_diff(f, x[i], h)\n",
        "    return fprime\n",
        "\n",
        "# 3. Diferencias finitas de tres puntos (orden 2)\n",
        "def Derivada_Tres_Puntos(f, x, h):\n",
        "    n = len(x)\n",
        "    fprime = np.zeros_like(x)\n",
        "    for i in range(n):\n",
        "        if i == 0:\n",
        "            fprime[i] = (-3 * f(x[i]) + 4 * f(x[i] + h) - f(x[i] + 2 * h)) / (2 * h)\n",
        "        elif i == n - 1:\n",
        "            fprime[i] = (3 * f(x[i]) - 4 * f(x[i] - h) + f(x[i] - 2 * h)) / (2 * h)\n",
        "        else:\n",
        "            fprime[i] = (f(x[i] + h) - f(x[i] - h)) / (2 * h)\n",
        "    return fprime\n",
        "\n",
        "# 4. Interpolador para usarlo como funcion continua\n",
        "i_interp = interp1d(t, i, kind='cubic', fill_value=\"extrapolate\")\n",
        "\n",
        "# 5. Derivadas con los tres metodos\n",
        "di_dt_finitas = Derivada_Finita_Simple(i_interp, t, h)\n",
        "epsilon_finitas = L * di_dt_finitas + R * i\n",
        "\n",
        "di_dt_3p = Derivada_Tres_Puntos(i_interp, t, h)\n",
        "epsilon_3p = L * di_dt_3p + R * i\n",
        "\n",
        "dy = di_dt_3p  # Usamos derivadas de 3 puntos para Hermite\n",
        "hermite_poly = CubicHermiteSpline(t, i, dy)\n",
        "di_dt_hermite = hermite_poly.derivative()(t)\n",
        "epsilon_hermite = L * di_dt_hermite + R * i\n",
        "\n",
        "# 6. Tabla de resultados\n",
        "resultados = pd.DataFrame({\n",
        "    't (s)': t,\n",
        "    'i (A)': i,\n",
        "    'di/dt Finita': di_dt_finitas,\n",
        "    'e Finita (V)': epsilon_finitas,\n",
        "    'di/dt 3p': di_dt_3p,\n",
        "    'e 3p (V)': epsilon_3p,\n",
        "    'di/dt Hermite': di_dt_hermite,\n",
        "    'ε Hermite (V)': epsilon_hermite,\n",
        "    'Error |Finita - 3p|': np.abs(epsilon_finitas - epsilon_3p),\n",
        "    'Error |Hermite - 3p|': np.abs(epsilon_hermite - epsilon_3p)\n",
        "})\n",
        "print(\"Resultados comparativos:\", resultados)\n",
        "\n",
        "# 7. Gráfica comparativa\n",
        "plt.plot(t, epsilon_finitas, 'o-', label='e(t) - Finita simple')\n",
        "plt.plot(t, epsilon_3p, 's--', label='e(t) - Tres puntos')\n",
        "plt.plot(t, epsilon_hermite, 'd-.', label='e(t) - Hermite')\n",
        "plt.xlabel('t (s)')\n",
        "plt.ylabel('e(t) (V)')\n",
        "plt.title('Comparacion de e(t) con tres metodos')\n",
        "plt.grid(True)\n",
        "plt.legend()\n",
        "plt.tight_layout()\n",
        "plt.show()\n",
        "\n",
        "# 8. Errores RMS\n",
        "error_rms_finitas = np.sqrt(np.mean((epsilon_finitas - epsilon_3p)**2))\n",
        "error_rms_hermite = np.sqrt(np.mean((epsilon_hermite - epsilon_3p)**2))\n",
        "print(f\"Error RMS (Finita simple vs 3 puntos): {error_rms_finitas:.6f} V\")\n",
        "print(f\"Error RMS (Hermite vs 3 puntos): {error_rms_hermite:.6f} V\")\n"
      ],
      "metadata": {
        "colab": {
          "base_uri": "https://localhost:8080/",
          "height": 851
        },
        "id": "n8ktTML_Pqae",
        "outputId": "0e3ba71a-b807-4c49-c006-0f4733df07e0"
      },
      "execution_count": 17,
      "outputs": [
        {
          "output_type": "stream",
          "name": "stdout",
          "text": [
            "DataFrame:    t (s)  i (A)\n",
            "0   1.00   3.10\n",
            "1   1.01   3.12\n",
            "2   1.02   3.14\n",
            "3   1.03   3.18\n",
            "4   1.04   3.24\n",
            "Resultados comparativos:    t (s)  i (A)  di/dt Finita  e Finita (V)  di/dt 3p  e 3p (V)  \\\n",
            "0   1.00   3.10           2.0       2.40020       2.0   2.40020   \n",
            "1   1.01   3.12           2.0       2.40304       2.0   2.40304   \n",
            "2   1.02   3.14           3.0       3.38588       3.0   3.38588   \n",
            "3   1.03   3.18           5.0       5.35156       5.0   5.35156   \n",
            "4   1.04   3.24           6.0       6.34008       7.0   7.32008   \n",
            "\n",
            "   di/dt Hermite  ε Hermite (V)  Error |Finita - 3p|  Error |Hermite - 3p|  \n",
            "0            2.0        2.40020         6.528111e-14                   0.0  \n",
            "1            2.0        2.40304         0.000000e+00                   0.0  \n",
            "2            3.0        3.38588         0.000000e+00                   0.0  \n",
            "3            5.0        5.35156         0.000000e+00                   0.0  \n",
            "4            7.0        7.32008         9.800000e-01                   0.0  \n"
          ]
        },
        {
          "output_type": "display_data",
          "data": {
            "text/plain": [
              "<Figure size 640x480 with 1 Axes>"
            ],
            "image/png": "[encoded data removed]"
          },
          "metadata": {}
        },
        {
          "output_type": "stream",
          "name": "stdout",
          "text": [
            "Error RMS (Finita simple vs 3 puntos): 0.438269 V\n",
            "Error RMS (Hermite vs 3 puntos): 0.000000 V\n"
          ]
        }
      ]
    },
    {
      "cell_type": "markdown",
      "source": [
        "2."
      ],
      "metadata": {
        "id": "U0ajfg4jP9ko"
      }
    },
    {
      "cell_type": "code",
      "source": [
        "import numpy as np\n",
        "from scipy.interpolate import interp1d\n",
        "\n",
        "# Datos de tiempo (s) y posición (m)\n",
        "tiempos = np.array([0, 3, 5, 8, 10, 13])\n",
        "posiciones = np.array([0, 225, 383, 623, 742, 993])\n",
        "\n",
        "# Calculo de las velocidades aproximadas usando diferencias finitas\n",
        "velocidades = np.gradient(posiciones, tiempos)\n",
        "\n",
        "# Mostrar resultados\n",
        "for tiempo, velocidad in zip(tiempos, velocidades):\n",
        "    print(f\"t = {tiempo} s | v = {velocidad:.2f} m/s\")\n",
        "\n",
        "# Interpolación cubica para estimar la velocidad en t = 12 s\n",
        "interp_vel = interp1d(tiempos, velocidades, kind='cubic')\n",
        "vel_en_12 = interp_vel(12)\n",
        "\n",
        "print(f\"Velocidad estimada cuando t = 12 s: {vel_en_12:.2f} m/s\")"
      ],
      "metadata": {
        "colab": {
          "base_uri": "https://localhost:8080/"
        },
        "id": "F-x5AwNaPZl_",
        "outputId": "890bcdff-80b8-4ed4-d0f4-737ab4a0416f"
      },
      "execution_count": 18,
      "outputs": [
        {
          "output_type": "stream",
          "name": "stdout",
          "text": [
            "t = 0 s | v = 75.00 m/s\n",
            "t = 3 s | v = 77.40 m/s\n",
            "t = 5 s | v = 79.40 m/s\n",
            "t = 8 s | v = 67.70 m/s\n",
            "t = 10 s | v = 69.17 m/s\n",
            "t = 13 s | v = 83.67 m/s\n",
            "Velocidad estimada cuando t = 12 s: 78.30 m/s\n"
          ]
        }
      ]
    },
    {
      "cell_type": "markdown",
      "source": [
        "3."
      ],
      "metadata": {
        "id": "L1oUOqJZgF7-"
      }
    },
    {
      "cell_type": "code",
      "source": [
        "import numpy as np\n",
        "import pandas as pd\n",
        "\n",
        "# Distancia entre radares\n",
        "a = 500  # metros\n",
        "\n",
        "# Datos del problema\n",
        "data = {\n",
        "    't (s)': [9, 10, 11],\n",
        "    'alpha (°)': [54.80, 54.06, 53.34],\n",
        "    'beta (°)': [65.59, 64.59, 63.62]\n",
        "}\n",
        "df = pd.DataFrame(data)\n",
        "\n",
        "# Paso de tiempo (h) entre mediciones\n",
        "t = df['t (s)']\n",
        "h = t[2] - t[0]  # Total de 2 segundos entre t=9 y t=11\n",
        "h_individual = (t[2] - t[0]) / 2  # h = 1 segundo entre puntos consecutivos\n",
        "\n",
        "# Convertir angulos a radianes\n",
        "alpha = np.radians(df['alpha (°)'])\n",
        "beta = np.radians(df['beta (°)'])\n",
        "\n",
        "# Calcular tangentes\n",
        "tan_alpha = np.tan(alpha)\n",
        "tan_beta = np.tan(beta)\n",
        "denominator = tan_beta - tan_alpha\n",
        "\n",
        "# Calcular coordenadas x, y del avion\n",
        "x = a * tan_beta / denominator\n",
        "y = a * tan_alpha * tan_beta / denominator\n",
        "\n",
        "# Derivadas centradas en t = 10 s\n",
        "vx = (x[2] - x[0]) / (2 * h_individual)  # m/s\n",
        "vy = (y[2] - y[0]) / (2 * h_individual)  # m/s\n",
        "\n",
        "# Magnitud de la velocidad\n",
        "v = np.sqrt(vx**2 + vy**2)\n",
        "\n",
        "# Angulo de ascenso gamma\n",
        "gamma_rad = np.arctan2(vy, vx)\n",
        "gamma_deg = np.degrees(gamma_rad)\n",
        "\n",
        "# Mostrar resultados\n",
        "print(f\"Intervalo de tiempo h = {h_individual:.2f} s\")\n",
        "print(f\"Velocidad v ≈ {v:.2f} m/s\")\n",
        "print(f\"Ángulo de ascenso y ≈ {gamma_deg:.2f}°\")\n"
      ],
      "metadata": {
        "colab": {
          "base_uri": "https://localhost:8080/"
        },
        "id": "ZotsvV4EvDms",
        "outputId": "f6dac121-fd5e-4802-b636-ef28210e7ab2"
      },
      "execution_count": 19,
      "outputs": [
        {
          "output_type": "stream",
          "name": "stdout",
          "text": [
            "Intervalo de tiempo h = 1.00 s\n",
            "Velocidad v ≈ 50.10 m/s\n",
            "Ángulo de ascenso y ≈ 15.14°\n"
          ]
        }
      ]
    },
    {
      "cell_type": "markdown",
      "source": [
        "4."
      ],
      "metadata": {
        "id": "MTWWhrawwc-U"
      }
    },
    {
      "cell_type": "code",
      "source": [
        "import numpy as np\n",
        "import pandas as pd\n",
        "from scipy.integrate import simpson, cumulative_trapezoid\n",
        "\n",
        "# Datos de tiempo y velocidad\n",
        "t = np.array([0, 4, 8, 12, 16, 20, 24, 28, 32, 36])  # segundos\n",
        "v = np.array([0, 34.7, 61.8, 82.8, 99.2, 112.0, 121.9, 129.7, 135.7, 140.4])  # m/s\n",
        "\n",
        "# Aceleración (dv/dt) usando derivada numérica\n",
        "a = np.gradient(v, t)  # m/s^2\n",
        "\n",
        "# Distancia total de t = 0 a t = 28 s\n",
        "distancia_28 = simpson(v[:8], t[:8])  # hasta índice 7 inclusive\n",
        "\n",
        "# Aceleración puntual en t = 28 s\n",
        "aceleracion_28 = a[7]\n",
        "\n",
        "# Calcular distancia acumulada (posición) usando integración\n",
        "# cumulative_trapezoid devuelve n-1 puntos, así que le añadimos el 0 inicial\n",
        "distancias = cumulative_trapezoid(v, t, initial=0)\n",
        "\n",
        "# Crear tabla de resultados\n",
        "df = pd.DataFrame({\n",
        "    'Tiempo (s)': t,\n",
        "    'Velocidad (m/s)': v,\n",
        "    'Distancia (m)': distancias,\n",
        "    'Aceleración (m/s^2)': a\n",
        "})\n",
        "\n",
        "# Mostrar tabla completa\n",
        "print(df)\n",
        "\n",
        "# Mostrar los resultados que pide el problema\n",
        "print(\"Resultados solicitados:\")\n",
        "print(f\"Distancia recorrida desde t = 0 s hasta t = 28 s: {distancia_28:.2f} m\")\n",
        "print(f\"Aceleración en t = 28 s: {aceleracion_28:.2f} m/s^2\")\n"
      ],
      "metadata": {
        "colab": {
          "base_uri": "https://localhost:8080/"
        },
        "id": "c5x8kuNqzSGu",
        "outputId": "f38c2558-4ea0-44cd-ee32-c31f62e868a1"
      },
      "execution_count": 20,
      "outputs": [
        {
          "output_type": "stream",
          "name": "stdout",
          "text": [
            "   Tiempo (s)  Velocidad (m/s)  Distancia (m)  Aceleración (m/s^2)\n",
            "0           0              0.0            0.0               8.6750\n",
            "1           4             34.7           69.4               7.7250\n",
            "2           8             61.8          262.4               6.0125\n",
            "3          12             82.8          551.6               4.6750\n",
            "4          16             99.2          915.6               3.6500\n",
            "5          20            112.0         1338.0               2.8375\n",
            "6          24            121.9         1805.8               2.2125\n",
            "7          28            129.7         2309.0               1.7250\n",
            "8          32            135.7         2839.8               1.3375\n",
            "9          36            140.4         3392.0               1.1750\n",
            "Resultados solicitados:\n",
            "Distancia recorrida desde t = 0 s hasta t = 28 s: 2319.77 m\n",
            "Aceleración en t = 28 s: 1.72 m/s^2\n"
          ]
        }
      ]
    },
    {
      "cell_type": "markdown",
      "source": [
        "5."
      ],
      "metadata": {
        "id": "GnGkfRNgPz22"
      }
    },
    {
      "cell_type": "code",
      "source": [
        "import numpy as np\n",
        "from scipy.interpolate import interp1d\n",
        "from numpy.polynomial.legendre import leggauss\n",
        "\n",
        "# Datos\n",
        "z = np.array([0, 4, 8, 12, 16])\n",
        "V = np.array([9.8175, 5.1051, 1.9635, 0.3927, 0.0])\n",
        "c = np.array([10.2, 8.5, 7.4, 5.2, 4.1])\n",
        "Z = z[-1]\n",
        "\n",
        "# Derivada con gradient\n",
        "dVdz = np.gradient(V, z)\n",
        "As = -dVdz\n",
        "\n",
        "# Interpolaciones\n",
        "As_interp = interp1d(z, As, kind='cubic')\n",
        "c_interp = interp1d(z, c, kind='cubic')\n",
        "\n",
        "# Producto\n",
        "def integrand(z):\n",
        "    return c_interp(z) * As_interp(z)\n",
        "\n",
        "# Transformacion de cuadratura de [-1, 1] a [0, Z]\n",
        "def gauss_quad_custom(f, a, b, n):\n",
        "    x, w = leggauss(n)\n",
        "    t = 0.5 * (x + 1) * (b - a) + a  # transformacion de variable\n",
        "    return 0.5 * (b - a) * np.sum(w * f(t))\n",
        "\n",
        "# Numero de puntos para cuadratura\n",
        "n = 5\n",
        "\n",
        "# Calcular volumen total\n",
        "V_total = gauss_quad_custom(lambda z: As_interp(z), 0, Z, n)\n",
        "\n",
        "# Calcular numerador de la concentración promedio\n",
        "numerador = gauss_quad_custom(integrand, 0, Z, n)\n",
        "\n",
        "# Calcular concentración promedio\n",
        "c_prom = numerador / V_total\n",
        "\n",
        "print(f\"Concentración promedio: {c_prom:.4f} g/m^3\")\n"
      ],
      "metadata": {
        "colab": {
          "base_uri": "https://localhost:8080/"
        },
        "id": "UGxAIAyYP01z",
        "outputId": "917a952e-792a-4d9a-c8cd-f79199a5641c"
      },
      "execution_count": 21,
      "outputs": [
        {
          "output_type": "stream",
          "name": "stdout",
          "text": [
            "Concentración promedio: 8.1081 g/m^3\n"
          ]
        }
      ]
    },
    {
      "cell_type": "markdown",
      "source": [
        "6."
      ],
      "metadata": {
        "id": "SlJMRX1oXRbO"
      }
    },
    {
      "cell_type": "code",
      "source": [
        "import numpy as np\n",
        "from scipy.integrate import quad, simpson as scipy_simpson, trapezoid\n",
        "\n",
        "# Definimos la densidad radial en unidades adimensionales:\n",
        "def rho(r):\n",
        "    return (1/8) * r**2 * (2 - r)**2 * np.exp(-r)\n",
        "\n",
        "# Parametros\n",
        "Rs = np.arange(10, 26, 1)   # R en [10, 25] en pasos de 1\n",
        "eps = 1e-6                  # tolerancia deseada\n",
        "\n",
        "# Funcion para calculo por trapecios\n",
        "def P_trapezoidal(R, eps):\n",
        "    n = 100\n",
        "    P_ref, _ = quad(rho, 0, R, epsabs=eps, epsrel=eps)\n",
        "    while True:\n",
        "        x = np.linspace(0, R, n+1)\n",
        "        P = trapezoid(rho(x), x)\n",
        "        if abs(P - P_ref) < eps or n > 1e6:\n",
        "            return P, n\n",
        "        n *= 2\n",
        "\n",
        "# Funcion calculo por Simpson\n",
        "def P_simpson(R, eps):\n",
        "    n = 100\n",
        "    if n % 2 == 1:\n",
        "        n += 1\n",
        "    P_ref, _ = quad(rho, 0, R, epsabs=eps, epsrel=eps)\n",
        "    while True:\n",
        "        x = np.linspace(0, R, n+1)\n",
        "        P = scipy_simpson(rho(x), x)\n",
        "        if abs(P - P_ref) < eps or n > 1e6:\n",
        "            return P, n\n",
        "        n *= 2\n",
        "\n",
        "# Calculamos y mostramos resultados\n",
        "results = []\n",
        "for R in Rs:\n",
        "    P_quad, _ = quad(rho, 0, R, epsabs=eps, epsrel=eps)\n",
        "    P_trap, n_trap = P_trapezoidal(R, eps)\n",
        "    P_simp, n_simp = P_simpson(R, eps)\n",
        "    results.append((R, P_trap, P_simp, P_quad, n_trap, n_simp))\n",
        "\n",
        "print(\"R | P_trap       | P_simp       | P_quad       | n_trap | n_simp\")\n",
        "for R, P_trap, P_simp, P_quad, n_trap, n_simp in results:\n",
        "    print(R, \"|\", P_trap, \"|\", P_simp, \"|\", P_quad, \"|\", n_trap, \"|\", n_simp)\n",
        "\n",
        "# Integral total desde 0 hasta infinito\n",
        "P_inf, _ = quad(rho, 0, np.inf, epsabs=eps, epsrel=eps)\n",
        "print(f\"Probabilidad total P(inf) = {P_inf:.8f}\")\n"
      ],
      "metadata": {
        "colab": {
          "base_uri": "https://localhost:8080/"
        },
        "id": "8c9qrjV8SZB3",
        "outputId": "d75554ed-736d-4326-9f5f-7edd01d4198b"
      },
      "execution_count": 22,
      "outputs": [
        {
          "output_type": "stream",
          "name": "stdout",
          "text": [
            "R | P_trap       | P_simp       | P_quad       | n_trap | n_simp\n",
            "10 | 0.9404804317742607 | 0.9404808997586734 | 0.9404806920813824 | 800 | 200\n",
            "11 | 0.9682221532741055 | 0.9682232304145382 | 0.968222926533959 | 400 | 200\n",
            "12 | 0.9835514114535909 | 0.9835523736897015 | 0.9835519435301404 | 400 | 200\n",
            "13 | 0.9917073518840424 | 0.9917082911790083 | 0.9917076990293141 | 400 | 200\n",
            "14 | 0.995912817065021 | 0.9959138323008169 | 0.9959130363456059 | 400 | 200\n",
            "15 | 0.9980241542725996 | 0.9980249692417342 | 0.9980249034298898 | 200 | 400\n",
            "16 | 0.9990611777994205 | 0.9990618794292916 | 0.9990617942483654 | 200 | 400\n",
            "17 | 0.9995604718661614 | 0.999561166463222 | 0.9995610579284435 | 200 | 400\n",
            "18 | 0.9997967683816671 | 0.9997975319636886 | 0.9997973955794561 | 200 | 400\n",
            "19 | 0.9999068862662521 | 0.9999077756555041 | 0.9999076063849973 | 200 | 400\n",
            "20 | 0.9999574679470045 | 0.9999585291776534 | 0.9999583214126008 | 200 | 400\n",
            "21 | 0.9999813167833218 | 0.999981635293142 | 0.9999813828237274 | 400 | 400\n",
            "22 | 0.999991680376967 | 0.9999920619737259 | 0.9999917579586262 | 400 | 400\n",
            "23 | 0.9999962890735413 | 0.9999967438396026 | 0.9999963807761546 | 400 | 400\n",
            "24 | 0.9999983143189689 | 0.9999988528655278 | 0.9999984225600307 | 400 | 400\n",
            "25 | 0.9999991899728236 | 0.9999998236385189 | 0.999999317176672 | 400 | 400\n",
            "Probabilidad total P(inf) = 1.00000000\n"
          ]
        }
      ]
    },
    {
      "cell_type": "markdown",
      "source": [
        "7."
      ],
      "metadata": {
        "id": "TEQC_bG8SgYK"
      }
    },
    {
      "cell_type": "code",
      "source": [
        "import numpy as np\n",
        "from scipy.integrate import dblquad\n",
        "import matplotlib.pyplot as plt\n",
        "\n",
        "# Parámetros físicos\n",
        "G = 6.674e-11  # constante de gravitación universal\n",
        "M = 10000      # masa total de la lámina (kg)\n",
        "L = 10         # longitud del lado (m)\n",
        "sigma = M / (L**2)  # densidad superficial\n",
        "\n",
        "a = -L/2\n",
        "b = L/2\n",
        "\n",
        "# Integrando que depende de z\n",
        "def integrando(y, x, z):\n",
        "    return 1 / (x**2 + y**2 + z**2)**(3/2)\n",
        "\n",
        "# Rango de z (evitamos z = 0 para evitar divergencia)\n",
        "z_vals = np.linspace(0.1, 10, 100)\n",
        "Fz_vals = []\n",
        "\n",
        "for z in z_vals:\n",
        "    integral, _ = dblquad(integrando, a, b, lambda x: a, lambda x: b, args=(z,))\n",
        "    Fz = G * sigma * z * integral\n",
        "    Fz_vals.append(Fz)\n",
        "\n",
        "# Imprimir el valor de la ultima integral (para z = 10 m)\n",
        "print(f'Valor numerico de la integral cuando z = {z_vals[-1]:.1f} m: {integral:.6e}')\n",
        "\n",
        "# Representación grafica\n",
        "plt.plot(z_vals, Fz_vals)\n",
        "plt.xlabel('z (m)')\n",
        "plt.ylabel('Fz (N)')\n",
        "plt.title('Componente Fz vs z')\n",
        "plt.grid(True)\n",
        "plt.show()"
      ],
      "metadata": {
        "id": "__Mcp4AuUfsu",
        "outputId": "1924d89f-b0a4-4ad2-e7f0-379c1d9514c8",
        "colab": {
          "base_uri": "https://localhost:8080/",
          "height": 489
        }
      },
      "execution_count": 23,
      "outputs": [
        {
          "output_type": "stream",
          "name": "stdout",
          "text": [
            "Valor numerico de la integral cuando z = 10.0 m: 8.054317e-02\n"
          ]
        },
        {
          "output_type": "display_data",
          "data": {
            "text/plain": [
              "<Figure size 640x480 with 1 Axes>"
            ],
            "image/png": "[encoded data removed]"
          },
          "metadata": {}
        }
      ]
    }
  ],
  "metadata": {
    "colab": {
      "toc_visible": true,
      "provenance": []
    },
    "kernelspec": {
      "display_name": "Python 3",
      "name": "python3"
    }
  },
  "nbformat": 4,
  "nbformat_minor": 0
}