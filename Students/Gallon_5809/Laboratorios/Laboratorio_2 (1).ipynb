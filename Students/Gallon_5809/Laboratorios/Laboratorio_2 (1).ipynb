{
  "cells": [
    {
      "cell_type": "code",
      "source": [
        "def mi_int(numbin):\n",
        "  if not all(bit in '01' for bit in numbin):\n",
        "    raise ValueError('no todos son binarios')\n",
        "  if len(numbin) != 16:\n",
        "    raise ValueError('No es de 16 bits')\n",
        "  valor=0\n",
        "  exponente=0\n",
        "  for bit in reversed(numbin):\n",
        "    if bit == '1':\n",
        "      valor += 2**exponente\n",
        "    exponente += 1\n",
        "  return valor\n",
        "numbin=(input('Escriba un binario de 16bit, para numero inferior de bits escriba 0 restante a la izquiera '))\n",
        "print(mi_int(numbin))\n",
        "print(int(0b1000011100001))"
      ],
      "metadata": {
        "id": "AefThs-XR-Mq",
        "outputId": "03763706-f2a7-4e85-9132-cb595eac77c5",
        "colab": {
          "base_uri": "https://localhost:8080/"
        }
      },
      "execution_count": null,
      "outputs": [
        {
          "output_type": "stream",
          "name": "stdout",
          "text": [
            "Escriba un binario de 16bit, para numero inferior de bits escriba 0 restante a la izquiera 0001000011100001\n",
            "4321\n",
            "4321\n"
          ]
        }
      ]
    },
    {
      "cell_type": "markdown",
      "source": [
        "2"
      ],
      "metadata": {
        "id": "SWLhjiLEuIuK"
      }
    },
    {
      "cell_type": "code",
      "source": [
        "def number(numbin):\n",
        "    if not all(bit in '01' for bit in numbin):\n",
        "        raise ValueError('No todos son binarios')\n",
        "    if len(numbin) != 64:\n",
        "        raise ValueError('No es de 64 bits')\n",
        "\n",
        "    signo = int(numbin[0])\n",
        "    exponente_bits = numbin[1:12]\n",
        "    mantisa_bits = numbin[12:]\n",
        "\n",
        "    exponente = int(exponente_bits, 2)\n",
        "    mantisa = 1.0\n",
        "    for i, bit in enumerate(mantisa_bits):\n",
        "        if bit == '1':\n",
        "            mantisa += 2 ** -(i + 1)\n",
        "\n",
        "    valor = (-1) ** signo * mantisa * 2 ** exponente\n",
        "    return valor\n",
        "\n",
        "print(number(\"0100000000111011100100001111111111111111111111111111111111111111\"))\n",
        "number64(\"0100000000111011100100001111111111111111111111111111111111111111\")"
      ],
      "metadata": {
        "colab": {
          "base_uri": "https://localhost:8080/"
        },
        "id": "Qbti9Sc-uK35",
        "outputId": "e224b573-b4ec-42ee-8e21-ede6f8e2ad11"
      },
      "execution_count": null,
      "outputs": [
        {
          "output_type": "stream",
          "name": "stdout",
          "text": [
            "27.566406249999996\n"
          ]
        },
        {
          "output_type": "execute_result",
          "data": {
            "text/plain": [
              "27.566406249999996"
            ]
          },
          "metadata": {},
          "execution_count": 4
        }
      ]
    },
    {
      "cell_type": "markdown",
      "source": [
        "3"
      ],
      "metadata": {
        "id": "eZ2K2_Z_YU2w"
      }
    },
    {
      "cell_type": "code",
      "source": [
        "import math\n",
        "import numpy as np\n",
        "\n",
        "def sumatoria(tol):\n",
        "  suma=0\n",
        "  n=0\n",
        "  error=float('inf')\n",
        "  while error >= tol:\n",
        "    n+=1\n",
        "    termino= ((-1)**(n+1))/(2*n-1)\n",
        "    suma+=termino\n",
        "    aprox=4*suma\n",
        "    error=abs(aprox-math.pi)\n",
        "  return n,aprox,error\n",
        "n1,aprox1,error1=sumatoria(1e-3)\n",
        "print(f'el numero de usos es {n1}, la aproximacion es {aprox1}, el error es {error1}')\n",
        "n2,aprox2,error2=sumatoria(1e-4)\n",
        "print(f'el numero de usos es {n2}, la aproximacion es {aprox2}, el error es {error2}')"
      ],
      "metadata": {
        "colab": {
          "base_uri": "https://localhost:8080/"
        },
        "id": "bQxFEqxFYWfS",
        "outputId": "50bd4c31-d60c-4239-ed53-107ef8cbf6cd"
      },
      "execution_count": null,
      "outputs": [
        {
          "output_type": "stream",
          "name": "stdout",
          "text": [
            "el numero de usos es 1000, la aproximacion es 3.140592653839794, el error es 0.000999999749998981\n",
            "el numero de usos es 10000, la aproximacion es 3.1414926535900345, el error es 9.99999997586265e-05\n"
          ]
        }
      ]
    },
    {
      "cell_type": "code",
      "source": [
        "import math\n",
        "import numpy as np\n",
        "\n",
        "def sumatoria(tol):\n",
        "  suma1=0\n",
        "  suma2=0\n",
        "  n=0\n",
        "  error=float('inf')\n",
        "  while error >= tol:\n",
        "    n+=1\n",
        "    termino1= ((-1)**(n+1)*((1/3)**(2*n-1)))/(2*n-1)\n",
        "    termino2= ((-1)**(n+1)*((1/2)**(2*n-1)))/(2*n-1)\n",
        "    suma1 += termino1\n",
        "    suma2 += termino2\n",
        "    aprox=4*(suma1+suma2)\n",
        "    error=abs(aprox-math.pi)\n",
        "  return n,aprox,error\n",
        "n3,aprox3,error3=sumatoria(1e-3)\n",
        "print(f'el numero de usos es {n3}, la aproximacion es {aprox3}, el error es {error3}')\n",
        "n4,aprox4,error4=sumatoria(1e-6)\n",
        "print(f'el numero de usos es {n4}, la aproximacion es {aprox4}, el error es {error4}')"
      ],
      "metadata": {
        "colab": {
          "base_uri": "https://localhost:8080/"
        },
        "id": "zLw4xSTJYiKX",
        "outputId": "fe116cab-b969-4120-9169-005489920353"
      },
      "execution_count": null,
      "outputs": [
        {
          "output_type": "stream",
          "name": "stdout",
          "text": [
            "el numero de usos es 4, la aproximacion es 3.1408505617610554, el error es 0.0007420918287377454\n",
            "el numero de usos es 9, la aproximacion es 3.1415929813345667, el error es 3.2774477354280407e-07\n"
          ]
        }
      ]
    },
    {
      "cell_type": "code",
      "source": [
        "def sumatoria(tol):\n",
        "  suma1=0\n",
        "  suma2=0\n",
        "  n=0\n",
        "  error=float('inf')\n",
        "  while error >= tol:\n",
        "    n+=1\n",
        "    termino1= ((-1)**(n+1)*((1/5)**(2*n-1)))/(2*n-1)\n",
        "    termino2= ((-1)**(n+1)*((1/239)**(2*n-1)))/(2*n-1)\n",
        "    suma1 += termino1\n",
        "    suma2 += termino2\n",
        "    aprox=4*(4*suma1-suma2)\n",
        "    error=abs(aprox-math.pi)\n",
        "  return n,aprox,error\n",
        "n5,aprox5,error5=sumatoria(1e-3)\n",
        "print(f'el numero de usos es {n5}, la aproximacion es {aprox5}, el error es {error5}')\n",
        "n6,aprox6,error6=sumatoria(1e-6)\n",
        "print(f'el numero de usos es {n6}, la aproximacion es {aprox6}, el error es {error6}')"
      ],
      "metadata": {
        "colab": {
          "base_uri": "https://localhost:8080/"
        },
        "id": "yL2WzqGdPEK-",
        "outputId": "c47f6084-c931-4624-c34e-c56e0c4f482f"
      },
      "execution_count": null,
      "outputs": [
        {
          "output_type": "stream",
          "name": "stdout",
          "text": [
            "el numero de usos es 2, la aproximacion es 3.1405970293260603, el error es 0.0009956242637327861\n",
            "el numero de usos es 4, la aproximacion es 3.1415917721821773, el error es 8.814076157825923e-07\n"
          ]
        }
      ]
    },
    {
      "cell_type": "markdown",
      "source": [
        "4."
      ],
      "metadata": {
        "id": "s3kiWI5_RJ1E"
      }
    },
    {
      "cell_type": "code",
      "source": [
        "import numpy as np\n",
        "import matplotlib.pyplot as plt\n",
        "from math import factorial\n",
        "\n",
        "# Serie exponencial truncada sin overflow\n",
        "def serie_exp(x, N):\n",
        "    term = 1.0  # primer término (n = 0)\n",
        "    total = term\n",
        "    for n in range(1, N+1):\n",
        "        term *= -x / n  # cálculo recursivo\n",
        "        total += term\n",
        "    return total\n",
        "\n",
        "# Encuentra el N mínimo sin overflow\n",
        "def encontrar_minimo_N(x, tol=1e-7):\n",
        "    term = 1.0\n",
        "    total = term\n",
        "    n = 1\n",
        "    while True:\n",
        "        term *= -x / n\n",
        "        total += term\n",
        "        siguiente = abs(term * (-x) / (n+1))\n",
        "        if siguiente <= tol * abs(total):\n",
        "            return n\n",
        "        n += 1\n",
        "\n",
        "# Comparación con np.exp(-x)\n",
        "def probar_precision(x_max):\n",
        "    for x in np.linspace(1, x_max, 10):\n",
        "        N = encontrar_minimo_N(x)\n",
        "        approx = serie_exp(x, N)\n",
        "        exact = np.exp(-x)\n",
        "        error = abs(approx - exact)\n",
        "        print(f\" X ={x} |N min {N} | Aproximacion {approx} | V.Exacto {exact} | Error {error}\")\n",
        "\n",
        "# Alternativa usando 1/exp(x)\n",
        "def metodo_alternativo(x, N):\n",
        "    term = 1.0\n",
        "    total = term\n",
        "    for n in range(1, N+1):\n",
        "        term *= x / n  # forma positiva\n",
        "        total += term\n",
        "    return 1 / total\n",
        "\n",
        "# Estudio de cancelación\n",
        "def demostracion_cancelacion(x):\n",
        "    print(f\"Cancelación para x = {x}\")\n",
        "    for n in range(max(0, int(x)-2), int(x)+3):\n",
        "        term = ((-1)**n * x**n) / factorial(n)\n",
        "        print(f\"n = {n}, termino = {term}\")\n",
        "\n",
        "# Gráficos de error vs N\n",
        "def graficar_error_vs_N(xs, N_max=50):\n",
        "    for x in xs:\n",
        "        errors = []\n",
        "        for N in range(1, N_max+1):\n",
        "            approx = serie_exp(x, N)\n",
        "            exact = np.exp(-x)\n",
        "            errors.append(abs(approx - exact))\n",
        "        plt.plot(range(1, N_max+1), errors, label=f\"x={x}\")\n",
        "    plt.yscale(\"log\")\n",
        "    plt.xlabel(\"N\")\n",
        "    plt.ylabel(\"Error absoluto\")\n",
        "    plt.title(\"Error de la serie de e^{-x} vs N\")\n",
        "    plt.legend()\n",
        "    plt.grid(True)\n",
        "    plt.show()\n",
        "\n",
        "# Ejecutar pruebas\n",
        "print('se ven problemas en x=23 (signo) y x=34 (error)')\n",
        "probar_precision(100)\n",
        "demostracion_cancelacion(10)\n",
        "print(\"Usando forma alternativa para x=20:\")\n",
        "N20 = encontrar_minimo_N(20)\n",
        "print(\"Serie directa:\", serie_exp(20, N20))\n",
        "print(\"Forma alternativa:\", metodo_alternativo(20, N20))\n",
        "print(\"np.exp(-20):\", np.exp(-20))\n",
        "\n",
        "# Gráficos de error\n",
        "graficar_error_vs_N([1, 5, 10, 20, 50], N_max=60)\n"
      ],
      "metadata": {
        "colab": {
          "base_uri": "https://localhost:8080/",
          "height": 836
        },
        "id": "RiLuhBTaRTKV",
        "outputId": "2ec48f13-8c6b-489e-faec-9fa0acf3b09a"
      },
      "execution_count": 1,
      "outputs": [
        {
          "output_type": "stream",
          "name": "stdout",
          "text": [
            "se ven problemas en x=23 (signo) y x=34 (error)\n",
            " X =1.0 |N min 10 | Aproximacion 0.3678794642857144 | V.Exacto 0.36787944117144233 | Error 2.3114272051927287e-08\n",
            " X =12.0 |N min 52 | Aproximacion 6.144210818182061e-06 | V.Exacto 6.14421235332821e-06 | Error 1.535146148927153e-12\n",
            " X =23.0 |N min 87 | Aproximacion -1.0576841365811726e-07 | V.Exacto 1.026187963170189e-10 | Error 1.0587103245443428e-07\n",
            " X =34.0 |N min 109 | Aproximacion 0.005369054262594021 | V.Exacto 1.713908431542013e-15 | Error 0.005369054262592307\n",
            " X =45.0 |N min 129 | Aproximacion -222.3311238589652 | V.Exacto 2.8625185805493937e-20 | Error 222.3311238589652\n",
            " X =56.0 |N min 147 | Aproximacion 28353949.168743152 | V.Exacto 4.780892883885469e-25 | Error 28353949.168743152\n",
            " X =67.0 |N min 168 | Aproximacion 216297771036.20905 | V.Exacto 7.984904245686979e-30 | Error 216297771036.20905\n",
            " X =78.0 |N min 184 | Aproximacion -3.4237075941017504e+16 | V.Exacto 1.3336148155022614e-34 | Error 3.4237075941017504e+16\n",
            " X =89.0 |N min 202 | Aproximacion 1.4132117658104826e+21 | V.Exacto 2.2273635617957438e-39 | Error 1.4132117658104826e+21\n",
            " X =100.0 |N min 219 | Aproximacion 8.144652443778751e+25 | V.Exacto 3.720075976020836e-44 | Error 8.144652443778751e+25\n",
            "Cancelación para x = 10\n",
            "n = 8, termino = 2480.15873015873\n",
            "n = 9, termino = -2755.731922398589\n",
            "n = 10, termino = 2755.731922398589\n",
            "n = 11, termino = -2505.210838544172\n",
            "n = 12, termino = 2087.67569878681\n",
            "Usando forma alternativa para x=20:\n",
            "Serie directa: 6.147562164055767e-09\n",
            "Forma alternativa: 2.061153622438557e-09\n",
            "np.exp(-20): 2.061153622438558e-09\n"
          ]
        },
        {
          "output_type": "display_data",
          "data": {
            "text/plain": [
              "<Figure size 640x480 with 1 Axes>"
            ],
            "image/png": "[encoded data removed]"
          },
          "metadata": {}
        }
      ]
    },
    {
      "cell_type": "markdown",
      "source": [
        "5"
      ],
      "metadata": {
        "id": "krhuMDAO2jAG"
      }
    },
    {
      "cell_type": "code",
      "source": [
        "import numpy as np\n",
        "\n",
        "# Definir la función f(x) = x(x - 1)\n",
        "def f(x):\n",
        "    return x * (x - 1)\n",
        "\n",
        "# Derivada analítica: f'(x) = 2x - 1\n",
        "def f_derivada_analitica(x):\n",
        "    return 2 * x - 1\n",
        "\n",
        "# Derivada numérica usando la definición con delta\n",
        "def derivada_numerica(f, x, delta):\n",
        "    return (f(x + delta) - f(x)) / delta\n",
        "\n",
        "x0 = 1.0\n",
        "# Valor exacto de la derivada\n",
        "valor_exacto = f_derivada_analitica(x0)\n",
        "\n",
        "# Diferentes valores de delta\n",
        "deltas = [10**(-i) for i in range(2, 15, 2)]\n",
        "\n",
        "for delta in deltas:\n",
        "    aprox = derivada_numerica(f, x0, delta)\n",
        "    error = abs(aprox - valor_exacto)\n",
        "    print(f\"Delta: {delta} | Aproximacion: {aprox} | Error:{error}\")\n",
        "\n",
        "# Explicación breve del comportamiento\n",
        "print(\"\"\"\n",
        "Solucion:Inicialmente al disminuir delta la aproximación mejora porque se acerca al límite real.\n",
        "Pero para valores muy pequeños de delta los errores de redondeo por la precisión finita de los números en la computadora\n",
        "comienzan a ser dominantes y la precisión se deteriora. Esto se debe a la resta de números casi iguales.\"\"\")"
      ],
      "metadata": {
        "id": "sYjWu60IjCHF",
        "outputId": "56f3376f-09b7-4fc4-ae40-a8b7865b3dec",
        "colab": {
          "base_uri": "https://localhost:8080/"
        }
      },
      "execution_count": 2,
      "outputs": [
        {
          "output_type": "stream",
          "name": "stdout",
          "text": [
            "Delta: 0.01 | Aproximacion: 1.010000000000001 | Error:0.010000000000000897\n",
            "Delta: 0.0001 | Aproximacion: 1.0000999999998899 | Error:9.999999988985486e-05\n",
            "Delta: 1e-06 | Aproximacion: 1.0000009999177333 | Error:9.99917733279787e-07\n",
            "Delta: 1e-08 | Aproximacion: 1.0000000039225287 | Error:3.922528746258536e-09\n",
            "Delta: 1e-10 | Aproximacion: 1.000000082840371 | Error:8.284037100736441e-08\n",
            "Delta: 1e-12 | Aproximacion: 1.0000889005833413 | Error:8.890058334132256e-05\n",
            "Delta: 1e-14 | Aproximacion: 0.9992007221626509 | Error:0.0007992778373491216\n",
            "\n",
            "Solucion:Inicialmente al disminuir delta la aproximación mejora porque se acerca al límite real.\n",
            "Pero para valores muy pequeños de delta los errores de redondeo por la precisión finita de los números en la computadora\n",
            "comienzan a ser dominantes y la precisión se deteriora. Esto se debe a la resta de números casi iguales.\n"
          ]
        }
      ]
    }
  ],
  "metadata": {
    "colab": {
      "provenance": []
    },
    "kernelspec": {
      "display_name": "Python 3",
      "name": "python3"
    }
  },
  "nbformat": 4,
  "nbformat_minor": 0
}