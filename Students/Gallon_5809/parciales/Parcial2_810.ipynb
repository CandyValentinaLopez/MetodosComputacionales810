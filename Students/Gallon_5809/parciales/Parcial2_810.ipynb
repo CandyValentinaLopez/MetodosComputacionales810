{
  "nbformat": 4,
  "nbformat_minor": 0,
  "metadata": {
    "colab": {
      "provenance": []
    },
    "kernelspec": {
      "name": "python3",
      "display_name": "Python 3"
    },
    "language_info": {
      "name": "python"
    }
  },
  "cells": [
    {
      "cell_type": "code",
      "execution_count": null,
      "metadata": {
        "id": "7Y1lCE6sq6dB"
      },
      "outputs": [],
      "source": [
        "import numpy as np # Númerica\n",
        "import matplotlib.pyplot as plt # Gráficas\n",
        "from scipy.interpolate import CubicSpline, lagrange, interp1d # Interpolación\n",
        "from scipy.integrate import quad, dblquad, tplquad, trapezoid, simpson # Integración\n",
        "import sympy as sp # Símbolos"
      ]
    },
    {
      "cell_type": "code",
      "source": [
        "dblquad?\n"
      ],
      "metadata": {
        "id": "JuSXNmrvR1CQ"
      },
      "execution_count": null,
      "outputs": []
    },
    {
      "cell_type": "markdown",
      "source": [
        "# ⚠ Importante\n",
        "\n",
        "👁 Puede usar unicamente las librerias vistas en clase (estas están en la parte superior) en caso de agregar una nueva, debe justificarla.\n",
        "\n",
        "💀 No está permitido el uso de IA's en caso de hacerlo su parcial será **anulado**!\n",
        "\n",
        "❗ Comente su código y funciones, esto hace parte de la nota.\n",
        "\n",
        "✅ Responda ordenadamente y con claridad.\n",
        "\n",
        "\n",
        "## Nombre: Juan Sebastian Gallon"
      ],
      "metadata": {
        "id": "ejroOZ4F4qg3"
      }
    },
    {
      "cell_type": "markdown",
      "source": [
        "# 1\n",
        "\n",
        "**(30 puntos)** Sea la función $f(x) = 3^x$,\n",
        "\n",
        "---\n",
        "\n",
        "a. Defina una función llamada derivada (ver abajo) que encuentre el valor de la derivada en $x=2$ usando diferencias finitas centrales,\n",
        "\n",
        "$$\n",
        "f'(x) ≈ \\frac{f(x+h) - f(x-h)}{2h}\n",
        "$$\n",
        "\n",
        "con una tolerancia menor a $10^{-8}$ y que retorne el valor de $f'(x=2)$ para cada valor de $h$. Tome con $h$ inicial 0.1.\n",
        "\n",
        "---\n",
        "\n",
        "b. Realice un gráfico logaritmico del error asociado a $f'(x)$ absoluto en función de $h$, conociendo que\n",
        "\n",
        "$$\n",
        "\\frac{d}{dx}(b^x) = b^x\\ln b\n",
        "$$\n",
        "\n",
        "\n",
        "\n",
        "\n",
        "\n",
        "```python\n",
        "def derivada(f,x, tol = 1e-8):\n",
        "'''\n",
        "Recuerde hacer su documentación\n",
        "'''\n",
        "\n",
        "  return valor_derivada, h_valores\n",
        "```\n",
        "\n"
      ],
      "metadata": {
        "id": "wNcvYgSvMr0P"
      }
    },
    {
      "cell_type": "code",
      "source": [
        "# Aqui va su código\n",
        "def derivada(f,x, tol = 1e-8):\n",
        "'''\n",
        "f: nuestra funcion inicial\n",
        "x: valores variables que usa la funcion f\n",
        "tol: la tolerancia del error en el resultado de nuestra derivada\n",
        "'''\n",
        "  h = 0.1\n",
        "  h_valores = [h]\n",
        "  derivada_actual = (f(x + h) - f(x - h)) / (2 * h)\n",
        "\n",
        "  return valor_derivada, h_valores"
      ],
      "metadata": {
        "id": "05W5XN0czDur",
        "colab": {
          "base_uri": "https://localhost:8080/",
          "height": 106
        },
        "outputId": "56ef4b1d-b62a-4e26-93d4-964a6cb25ca2"
      },
      "execution_count": null,
      "outputs": [
        {
          "output_type": "error",
          "ename": "SyntaxError",
          "evalue": "invalid decimal literal (ipython-input-17-2024474955.py, line 11)",
          "traceback": [
            "\u001b[0;36m  File \u001b[0;32m\"/tmp/ipython-input-17-2024474955.py\"\u001b[0;36m, line \u001b[0;32m11\u001b[0m\n\u001b[0;31m    valor_derivada= f(x+h)-f(x-h)/2h\u001b[0m\n\u001b[0m                                  ^\u001b[0m\n\u001b[0;31mSyntaxError\u001b[0m\u001b[0;31m:\u001b[0m invalid decimal literal\n"
          ]
        }
      ]
    },
    {
      "cell_type": "markdown",
      "source": [
        "## 2\n",
        "\n",
        "\n",
        "**(40 puntos)** Considere una barra delgada y homogénea de longitud $L = 1.0\\ \\text{m}$ que está sometida a una conducción de calor en régimen estacionario. Se ha medido la temperatura a lo largo de la barra en ciertos puntos:\n",
        "\n",
        "| $x$ (m) | $T(x)$ (°C) |\n",
        "|--------|--------------|\n",
        "| 0.0    | 100.0        |\n",
        "| 0.2    | 92.1         |\n",
        "| 0.4    | 77.8         |\n",
        "| 0.6    | 59.3         |\n",
        "| 0.8    | 35.6         |\n",
        "| 1.0    | 10.0         |\n",
        "\n",
        "\n",
        "Con base en estos datos responda:\n",
        "\n",
        "---\n",
        "\n",
        "a. Encuentre una expresión para el polinomio interpolador de **Lagrange** para $T(x)$\n",
        "\n",
        "---\n",
        "\n",
        "b. Usando la función obtenida por **Lagrange** y haciendo **CubicSpline**, haga un gráfico donde muestre el comportanmiento de las funciones en comparación con los datos experimentales.\n",
        "\n",
        "---\n",
        "\n",
        "c. Calcule el **gradiente térmico** $\\frac{dT}{dx}$ usando los datos procedentes de interpolación CubicSpline. Use `np.gradient` con $h = 10^{-4}$.\n",
        "\n",
        "---\n",
        "\n",
        "d. Determinar el **flujo de calor** $q(x) = -k \\frac{dT}{dx}$ con $k = 401\\ \\text{W/m·K}$ (cobre) y grafique para $x\\in [0, 1]$.\n",
        "\n"
      ],
      "metadata": {
        "id": "5EKblGOCzUVm"
      }
    },
    {
      "cell_type": "code",
      "source": [
        "# Aquí va su código"
      ],
      "metadata": {
        "id": "q7CPKP_yzY17"
      },
      "execution_count": null,
      "outputs": []
    },
    {
      "cell_type": "markdown",
      "source": [
        "# 3\n",
        "\n",
        "**(30 puntos)** Consideremos una lámina triangular $R$ con vértices (0,0), (0,3), (3,0) y con densidad  $\\rho (x,y) = xy$ [kg/m$^2$]\n",
        "\n",
        "a. Calcule la masa total del sistema si:\n",
        "\n",
        "$$\n",
        "m = \\iint_R \\rho(x, y)\\, dA = \\int_0^3\\int_0^{3-x} \\rho(x,y)\\, dydx\n",
        "$$\n",
        "\n",
        "Usando una forma iterativa de `quad`, compare su resultado con `dblquad`.\n",
        "\n",
        "\n",
        "b. Ahora, encuentre el centro de masa de la lámina, si\n",
        "\n",
        "$$\n",
        "\\bar{x} = \\frac{M_y}{m} = \\frac{\\iint_R x \\rho(x, y)\\, dA}{\\iint_R \\rho(x, y)\\, dA}\n",
        "$$\n",
        "\n",
        "$$\n",
        "\\bar{y} = \\frac{M_x}{m} = \\frac{\\iint_R y \\rho(x, y)\\, dA}{\\iint_R \\rho(x, y)\\, dA}.\n",
        "$$\n",
        "\n",
        "Puede usar la forma iterativa de `quad` o `dblquad`.\n",
        "\n",
        "c. Calcule el **momento de inercia respecto al eje \\$x\\$**, definido como:\n",
        "\n",
        "$$\n",
        "I_x = \\iint_R y^2\\, \\rho(x, y)\\, dA,\n",
        "$$\n",
        "\n",
        "\n",
        "\n"
      ],
      "metadata": {
        "id": "_H53DGdt-J3h"
      }
    },
    {
      "cell_type": "code",
      "source": [
        "# Aquí va su código\n",
        "from scipy.integrate import quad\n",
        "def lamina_quad(): #Defino la funcion que usare para mi primer y segunda derivada quad\n",
        "    def primeraintegral_y(y, x): #Defino las variables que usare en la siguiente funcion para integrar\n",
        "        return x * y\n",
        "    def segunda_integral(x): #Defino la funcion que dara mi primera y segunda derivada\n",
        "        integrando = lambda y: primeraintegral_y(y, x) #para que mi funcion sea compatible con quad\n",
        "        result, _ = quad(integrando, 0,3-x) #Se usa la funcion creada que ya tiene las variables definidas y hace la primer integral\n",
        "        return result\n",
        "    result, _ = quad(segunda_integral, 0, 3) #segunda integral\n",
        "    return result #retornamos el resultado de la 2da integral\n",
        "\n",
        "print(f'El metodo quad me entrega {lamina_quad()}')\n",
        "\n",
        "f = lambda y,x: x*y #Defino una funcion que sera usada en dblquad(func, a, b, gfun, hfun)\n",
        "integral,_= dblquad(f,0,3,lambda x:0,lambda x:3-x) #aplico la dobleintegral de scipy con los limites puestos\n",
        "print(f'El metodo dblquad me entrega {integral}')\n"
      ],
      "metadata": {
        "id": "utAiyT7izosX",
        "colab": {
          "base_uri": "https://localhost:8080/"
        },
        "outputId": "15068613-dc6d-4c62-b890-f223f7a5d49c"
      },
      "execution_count": null,
      "outputs": [
        {
          "output_type": "stream",
          "name": "stdout",
          "text": [
            "El metodo quad me entrega 3.375000000000001\n",
            "El metodo dblquad me entrega 3.375000000000001\n"
          ]
        }
      ]
    },
    {
      "cell_type": "code",
      "source": [
        "#Uso dblquad para encontar Mx, My y M\n",
        "my = lambda y,x: (x**2)*y\n",
        "integralmy,_= dblquad(my,0,3,lambda x:0,lambda x:3-x) #para Mx\n",
        "\n",
        "mx = lambda y,x: (x)*(y**2)\n",
        "integralmx,_= dblquad(mx,0,3,lambda x:0,lambda x:3-x) #para My\n",
        "\n",
        "m = lambda y,x: x*y\n",
        "integralm,_= dblquad(m,0,3,lambda x:0,lambda x:3-x) #Para M\n",
        "\n",
        "x_c = integralmy/integralm #Coordenada x del centro de masa\n",
        "y_c = integralmx/integralm #coordenada y del centro de masa\n",
        "\n",
        "print(f'Las coordenadas del centro de masa de la lamina son (x,y) = {x_c:1f} , {y_c:1f}')"
      ],
      "metadata": {
        "colab": {
          "base_uri": "https://localhost:8080/"
        },
        "id": "nheqmn2cbtqI",
        "outputId": "97af7cf5-5dcd-4fe7-e05f-ba118b183319"
      },
      "execution_count": null,
      "outputs": [
        {
          "output_type": "stream",
          "name": "stdout",
          "text": [
            "Las coordenadas del centro de masa de la lamina son (x,y) = 1.200000 , 1.200000\n"
          ]
        }
      ]
    },
    {
      "cell_type": "code",
      "source": [
        "#Momento de inercia, usando la integral doble (dblquad)\n",
        "Ix = lambda y,x: x*(y**3) #Se define la funcion que usare para la integral\n",
        "integral_Ix,_= dblquad(Ix,0,3,lambda x:0,lambda x:3-x) #integro usando mi funcion de inercia definida en funcion de m\n",
        "print(integral_Ix)"
      ],
      "metadata": {
        "colab": {
          "base_uri": "https://localhost:8080/"
        },
        "id": "56W4jXT4dHi7",
        "outputId": "8c0a7427-a4c0-404c-d06e-7c731cf14283"
      },
      "execution_count": null,
      "outputs": [
        {
          "output_type": "stream",
          "name": "stdout",
          "text": [
            "6.074999999999999\n"
          ]
        }
      ]
    }
  ]
}