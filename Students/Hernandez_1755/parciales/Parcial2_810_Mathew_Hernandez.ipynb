{
  "nbformat": 4,
  "nbformat_minor": 0,
  "metadata": {
    "colab": {
      "provenance": []
    },
    "kernelspec": {
      "name": "python3",
      "display_name": "Python 3"
    },
    "language_info": {
      "name": "python"
    }
  },
  "cells": [
    {
      "cell_type": "code",
      "execution_count": 25,
      "metadata": {
        "id": "7Y1lCE6sq6dB"
      },
      "outputs": [],
      "source": [
        "import numpy as np # Númerica\n",
        "import matplotlib.pyplot as plt # Gráficas\n",
        "from scipy.interpolate import CubicSpline, lagrange, interp1d # Interpolación\n",
        "from scipy.integrate import quad, dblquad, tplquad, trapezoid, simpson # Integración\n",
        "import sympy as sp # Símbolos"
      ]
    },
    {
      "cell_type": "markdown",
      "source": [
        "# ⚠ Importante\n",
        "\n",
        "👁 Puede usar unicamente las librerias vistas en clase (estas están en la parte superior) en caso de agregar una nueva, debe justificarla.\n",
        "\n",
        "💀 No está permitido el uso de IA's en caso de hacerlo su parcial será **anulado**!\n",
        "\n",
        "❗ Comente su código y funciones, esto hace parte de la nota.\n",
        "\n",
        "✅ Responda ordenadamente y con claridad.\n",
        "\n",
        "\n",
        "## Nombre: Mathew Stev Hernandez Marin"
      ],
      "metadata": {
        "id": "ejroOZ4F4qg3"
      }
    },
    {
      "cell_type": "markdown",
      "source": [
        "# 1\n",
        "\n",
        "**(30 puntos)** Sea la función $f(x) = 3^x$,\n",
        "\n",
        "---\n",
        "\n",
        "a. Defina una función llamada derivada (ver abajo) que encuentre el valor de la derivada en $x=2$ usando diferencias finitas centrales,\n",
        "\n",
        "$$\n",
        "f'(x) ≈ \\frac{f(x+h) - f(x-h)}{2h}\n",
        "$$\n",
        "\n",
        "con una tolerancia menor a $10^{-8}$ y que retorne el valor de $f'(x=2)$ para cada valor de $h$. Tome con $h$ inicial 0.1.\n",
        "\n",
        "---\n",
        "\n",
        "b. Realice un gráfico logaritmico del error asociado a $f'(x)$ absoluto en función de $h$, conociendo que\n",
        "\n",
        "$$\n",
        "\\frac{d}{dx}(b^x) = b^x\\ln b\n",
        "$$\n",
        "\n",
        "\n",
        "\n",
        "\n",
        "\n",
        "```python\n",
        "def derivada(f,x, tol = 1e-8):\n",
        "'''\n",
        "Recuerde hacer su documentación\n",
        "'''\n",
        "\n",
        "  return valor_derivada, h_valores\n",
        "```\n",
        "\n"
      ],
      "metadata": {
        "id": "wNcvYgSvMr0P"
      }
    },
    {
      "cell_type": "code",
      "source": [
        "# Aqui va su código\n",
        "#defino la funcion derivada\n",
        "def derivada(f,x,tol = 1e-8):\n",
        "  h = 0.1 #inicion el primer valor de h\n",
        "\n",
        "  h_valores=[0.1] # creo una lista donde pongo los valores que tomará h y lo hago antes del while para meter todos los valores\n",
        "\n",
        "\n",
        "  f1 = f(x) #defino una f1 y f2 para poder comenzar con una iteración de un while\n",
        "\n",
        "  f2 = (f(x+h)-f(x-h))/(2*h)\n",
        "\n",
        "  derivada_valores= [f2]#defino una lista para guardar las derivadas y pongo el primer valor de f2 dado que en el while empieza a darmelos desde el 2do\n",
        "\n",
        "  while abs(f1-f2) > tol:#defino un while que me se detendrá en el momento de que el error sea menor que 1e-8\n",
        "\n",
        "\n",
        "    f1 = f2 # actualizo el valor de f1 a f2\n",
        "\n",
        "    h *= 0.1 # disminuyo el valor de h partiendolo por diez antes que la definicion de f2 porque si no se cancela\n",
        "\n",
        "    f2 = (f(x+h)-f(x-h))/(2*h) #defino f2 como la derivada de f\n",
        "\n",
        "    derivada_valores.append(f2) # agrego un valor nuevo de f2 a la lista\n",
        "\n",
        "    h_valores.append(h) # agrego un valor nuevo de h a la lista para poder saber los valores que toma h\n",
        "\n",
        "  return derivada_valores , h_valores\n",
        "#evalúo la función con llos datos del problema\n",
        "f = lambda x: 3**x\n",
        "x=2\n",
        "\n",
        "derivada_f=derivada(f,x,tol=1e-8)\n",
        "\n",
        "print(derivada_f)\n"
      ],
      "metadata": {
        "id": "05W5XN0czDur",
        "outputId": "39abde16-acd1-4bf7-9f84-7e0cd43117dd",
        "colab": {
          "base_uri": "https://localhost:8080/"
        }
      },
      "execution_count": 47,
      "outputs": [
        {
          "output_type": "stream",
          "name": "stdout",
          "text": [
            "([9.90741213869141, 9.887709494557216, 9.88751258696574, 9.887510617909708, 9.887510598272083, 9.887510598716172], [0.1, 0.010000000000000002, 0.0010000000000000002, 0.00010000000000000003, 1.0000000000000004e-05, 1.0000000000000004e-06])\n"
          ]
        }
      ]
    },
    {
      "cell_type": "code",
      "source": [
        "def lista_derivadas(f,x,tol = 1e-8):\n",
        "  h = 0.1\n",
        "  h_valores=[0.1]\n",
        "  f1 = f(x)\n",
        "  f2 = (f(x+h)-f(x-h))/(2*h)\n",
        "  derivada_valores= [f2]\n",
        "  while abs(f1-f2) > tol:\n",
        "    f1 = f2\n",
        "    h *= 0.1\n",
        "    f2 = (f(x+h)-f(x-h))/(2*h)\n",
        "    derivada_valores.append(f2)\n",
        "    h_valores.append(h)\n",
        "  return derivada_valores"
      ],
      "metadata": {
        "id": "S9XwZSrejqIf"
      },
      "execution_count": 62,
      "outputs": []
    },
    {
      "cell_type": "code",
      "source": [
        "x_valores = np.linspace(1,6,6) # defino los valores de x para el plot\n",
        "\n",
        "\n",
        "freal =lambda x: 3**2*np.log(3) #defino una funcion exacta lambda en el punto 2 para ver como el error se acerca al valor exacto\n",
        "\n",
        "derivada= lista_derivadas(f,2,1e-8) # con la funcion anterior reestructurada para darme nada mas la lista de los valores de la derivada hago un nuevo objeto\n",
        "\n",
        "valoreslog= [] # creo una lista vacia para poner los valores de la derivada real\n",
        "\n",
        "for x in x_valores:\n",
        "  valoreslog.append(freal(x))\n",
        "\n",
        "error = abs(np.array(derivada)-np.array(valoreslog)) # hago una lista de los valores del error restando los valores de las derivadas de la funcion con los valores de la derivada exacta\n",
        "\n",
        "plt.loglog(x_valores,error) # ploteo  de manera logaritmica los valores de x y como afecta al error"
      ],
      "metadata": {
        "id": "QchhFYSdefbM",
        "outputId": "654f8983-549c-47ad-b3bf-364374c21018",
        "colab": {
          "base_uri": "https://localhost:8080/",
          "height": 451
        }
      },
      "execution_count": 97,
      "outputs": [
        {
          "output_type": "execute_result",
          "data": {
            "text/plain": [
              "[<matplotlib.lines.Line2D at 0x798fe03aaed0>]"
            ]
          },
          "metadata": {},
          "execution_count": 97
        },
        {
          "output_type": "display_data",
          "data": {
            "text/plain": [
              "<Figure size 640x480 with 1 Axes>"
            ],
            "image/png": "[encoded data removed]"
          },
          "metadata": {}
        }
      ]
    },
    {
      "cell_type": "markdown",
      "source": [
        "## 2\n",
        "\n",
        "\n",
        "**(40 puntos)** Considere una barra delgada y homogénea de longitud $L = 1.0\\ \\text{m}$ que está sometida a una conducción de calor en régimen estacionario. Se ha medido la temperatura a lo largo de la barra en ciertos puntos:\n",
        "\n",
        "| $x$ (m) | $T(x)$ (°C) |\n",
        "|--------|--------------|\n",
        "| 0.0    | 100.0        |\n",
        "| 0.2    | 92.1         |\n",
        "| 0.4    | 77.8         |\n",
        "| 0.6    | 59.3         |\n",
        "| 0.8    | 35.6         |\n",
        "| 1.0    | 10.0         |\n",
        "\n",
        "\n",
        "Con base en estos datos responda:\n",
        "\n",
        "---\n",
        "\n",
        "a. Encuentre una expresión para el polinomio interpolador de **Lagrange** para $T(x)$\n",
        "\n",
        "---\n",
        "\n",
        "b. Usando la función obtenida por **Lagrange** y haciendo **CubicSpline**, haga un gráfico donde muestre el comportanmiento de las funciones en comparación con los datos experimentales.\n",
        "\n",
        "---\n",
        "\n",
        "c. Calcule el **gradiente térmico** $\\frac{dT}{dx}$ usando los datos procedentes de interpolación CubicSpline. Use `np.gradient` con $h = 10^{-4}$.\n",
        "\n",
        "---\n",
        "\n",
        "d. Determinar el **flujo de calor** $q(x) = -k \\frac{dT}{dx}$ con $k = 401\\ \\text{W/m·K}$ (cobre) y grafique para $x\\in [0, 1]$.\n",
        "\n"
      ],
      "metadata": {
        "id": "5EKblGOCzUVm"
      }
    },
    {
      "cell_type": "code",
      "source": [
        "# Aquí va su código\n",
        "x_numeros= np.linspace(0,1,6)\n",
        "T_valores= [100,92.1,77.8,59.3,35.6,10]\n",
        "#a)\n",
        "#encuentro el polinomio de lagrange\n",
        "polinomio_lagrange= lagrange(x_numeros,T_valores)\n",
        "print(polinomio_lagrange)\n",
        "\n",
        "#b)\n",
        "# hago una lista con el poliniomio de lagrange para plotearlo\n",
        "valores_poliniomio=np.linspace(0,1,1000)\n",
        "y_valores= []\n",
        "for x in valores_poliniomio:\n",
        "  polinomio= 195.3*(x**5) - 474* (x**4) + 419.3* (x**3) - 222.3* (x**2) - 8.333* (x) + 100\n",
        "  y_valores.append(polinomio)\n",
        "\n",
        "plt.plot(valores_poliniomio,y_valores)\n",
        "\n",
        "plt.plot(x_numeros,T_valores)"
      ],
      "metadata": {
        "id": "q7CPKP_yzY17",
        "outputId": "42f85d16-a778-42de-83bc-2ac9e9136429",
        "colab": {
          "base_uri": "https://localhost:8080/",
          "height": 482
        }
      },
      "execution_count": 103,
      "outputs": [
        {
          "output_type": "stream",
          "name": "stdout",
          "text": [
            "       5       4         3         2\n",
            "195.3 x - 474 x + 419.3 x - 222.3 x - 8.333 x + 100\n"
          ]
        },
        {
          "output_type": "execute_result",
          "data": {
            "text/plain": [
              "[<matplotlib.lines.Line2D at 0x798fd921a690>]"
            ]
          },
          "metadata": {},
          "execution_count": 103
        },
        {
          "output_type": "display_data",
          "data": {
            "text/plain": [
              "<Figure size 640x480 with 1 Axes>"
            ],
            "image/png": "[encoded data removed]"
          },
          "metadata": {}
        }
      ]
    },
    {
      "cell_type": "markdown",
      "source": [
        "# 3\n",
        "\n",
        "**(30 puntos)** Consideremos una lámina triangular $R$ con vértices (0,0), (0,3), (3,0) y con densidad  $\\rho (x,y) = xy$ [kg/m$^2$]\n",
        "\n",
        "a. Calcule la masa total del sistema si:\n",
        "\n",
        "$$\n",
        "m = \\iint_R \\rho(x, y)\\, dA = \\int_0^3\\int_0^{3-x} \\rho(x,y)\\, dydx\n",
        "$$\n",
        "\n",
        "Usando una forma iterativa de `quad`, compare su resultado con `dblquad`.\n",
        "\n",
        "\n",
        "b. Ahora, encuentre el centro de masa de la lámina, si\n",
        "\n",
        "$$\n",
        "\\bar{x} = \\frac{M_y}{m} = \\frac{\\iint_R x \\rho(x, y)\\, dA}{\\iint_R \\rho(x, y)\\, dA}\n",
        "$$\n",
        "\n",
        "$$\n",
        "\\bar{y} = \\frac{M_x}{m} = \\frac{\\iint_R y \\rho(x, y)\\, dA}{\\iint_R \\rho(x, y)\\, dA}.\n",
        "$$\n",
        "\n",
        "Puede usar la forma iterativa de `quad` o `dblquad`.\n",
        "\n",
        "c. Calcule el **momento de inercia respecto al eje \\$x\\$**, definido como:\n",
        "\n",
        "$$\n",
        "I_x = \\iint_R y^2\\, \\rho(x, y)\\, dA,\n",
        "$$\n",
        "\n",
        "\n",
        "\n"
      ],
      "metadata": {
        "id": "_H53DGdt-J3h"
      }
    },
    {
      "cell_type": "code",
      "source": [
        "# Aquí va su código"
      ],
      "metadata": {
        "id": "utAiyT7izosX"
      },
      "execution_count": null,
      "outputs": []
    }
  ]
}