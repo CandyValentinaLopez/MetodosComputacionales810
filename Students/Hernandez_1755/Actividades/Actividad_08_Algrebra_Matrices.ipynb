{
  "nbformat": 4,
  "nbformat_minor": 0,
  "metadata": {
    "colab": {
      "provenance": []
    },
    "kernelspec": {
      "name": "python3",
      "display_name": "Python 3"
    },
    "language_info": {
      "name": "python"
    }
  },
  "cells": [
    {
      "cell_type": "code",
      "execution_count": null,
      "metadata": {
        "id": "z7RCty67y3ME"
      },
      "outputs": [],
      "source": [
        "import numpy as np\n",
        "import matplotlib.pyplot as plt\n",
        "import scipy.linalg as la"
      ]
    },
    {
      "cell_type": "markdown",
      "source": [
        "# Actividad 08: Algebra Lineal y Matrices\n",
        "\n",
        "---\n",
        "### Profesor: Juan Marcos Marín\n",
        "### Nombre: Mathew stev hernandez marin ti 1089381755\n",
        "*Métodos computacionales*\n",
        "\n",
        "---"
      ],
      "metadata": {
        "id": "GGQpGoujzAnQ"
      }
    },
    {
      "cell_type": "markdown",
      "source": [
        "#1\n",
        "Escriba tres matrices aleatorias $A$, $B$ y $C$ de $3\\times 3$, y demuestre las siguientes relaciones\n",
        "\n",
        "- $ \\mathbf{A}\\mathbf{B} \\neq \\mathbf{B}\\mathbf{A} $, en general.\n",
        "- $ (\\mathbf{A}\\mathbf{B})\\mathbf{C} = \\mathbf{A}(\\mathbf{B}\\mathbf{C}) $.\n",
        "- $ \\mathbf{A}(\\mathbf{B} + \\mathbf{C}) = \\mathbf{A}\\mathbf{B} + \\mathbf{A}\\mathbf{C} $.\n",
        "- $ (\\mathbf{A} + \\mathbf{B})\\mathbf{C} = \\mathbf{A}\\mathbf{C} + \\mathbf{B}\\mathbf{C} $.\n",
        "- $ (\\mathbf{A}\\mathbf{B})^\\top = \\mathbf{B}^\\top \\mathbf{A}^\\top $.\n",
        "- $ \\det(\\mathbf{A}\\mathbf{B}) = \\det(\\mathbf{A}) \\det(\\mathbf{B}) $.\n",
        "- $ (\\mathbf{A}^\\top)^\\top = \\mathbf{A} $.\n",
        "- $ (c\\mathbf{A})^\\top = c\\mathbf{A}^\\top $.\n",
        "- $ (\\mathbf{A} + \\mathbf{B})^\\top = \\mathbf{A}^\\top + \\mathbf{B}^\\top $.\n",
        "\n"
      ],
      "metadata": {
        "id": "U9hC1R-F0-iH"
      }
    },
    {
      "cell_type": "code",
      "source": [
        "\n",
        "def Matriz_aleatoria(m,n):\n",
        "  '''esta funcion genera cualquier matriz aleatorea'''\n",
        "  matriz = np.random.randint(1, 10, size=(n, m))\n",
        "  return(matriz)\n",
        "a= Matriz_aleatoria(3,3)\n",
        "b= Matriz_aleatoria(3,3)\n",
        "c= Matriz_aleatoria(3,3)"
      ],
      "metadata": {
        "id": "cQQ6cPGW1anK"
      },
      "execution_count": null,
      "outputs": []
    },
    {
      "cell_type": "code",
      "source": [
        "a= Matriz_aleatoria(3,3)\n",
        "b= Matriz_aleatoria(3,3)\n",
        "c= Matriz_aleatoria(3,3)\n",
        "#genero 3 matrices aleatorias para probar las hipotesis\n",
        "# supongo que esto basta para demostrar porque si no tendría que escribir las demostraciones para cada una de las afirmaciones y no sé para que me serviria hacerlo en python\n",
        "A = np.any(a@b!=b@a)\n",
        "B = np.any((a@b)@c==a@(b@c))\n",
        "C = np.any(a@(b+c)==a@b+a@c)\n",
        "D = np.any((a+b)@c==a@c + b@c)\n",
        "E = np.any(np.transpose(a@b)==np.transpose(b) @ np.transpose(a))\n",
        "F = np.any(np.linalg.det(a@b) - (np.linalg.det(a) * np.linalg.det(b)) < 1e-14) # en esta celda si bien a nivel matematico la afirmación es correcta, por el tipo de redondeo del float64 pueden diferir\n",
        "G = np.any(np.transpose(np.transpose(a))== a)\n",
        "numero= np.random.randint(1,100000000000000000)# genero un numero random en el espacio mas grande que pueda para la siguiente afirmación\n",
        "H = np.any(np.transpose(numero*a)==numero*np.transpose(a))\n",
        "I= np.any(np.transpose(a+b)==np.transpose(a)+np.transpose(b))\n"
      ],
      "metadata": {
        "id": "4kP2O9MCuEiy"
      },
      "execution_count": null,
      "outputs": []
    },
    {
      "cell_type": "code",
      "source": [
        "print(f'el valor de verdad de la primera afirmación es {A} ')\n",
        "print(f'el valor de verdad de la segunda afirmación es {B}')\n",
        "print(f'el valor de verdad de la tercera afirmacion es {C}')\n",
        "print(f'el valor de verdad de la cuarta afirmacion es {D}')\n",
        "print(f'el valor de verdad de la quinta afirmacion es {E}')\n",
        "print(f'el valor de verdad de la sexta afirmacion es {F}')\n",
        "print(f'el valor de verdad de la septima afirmacion es {G}')\n",
        "print(f'el valor de verdad de la octava afirmacion es {H}')\n",
        "print(f'el valor de verdad de la novena afirmacion es {I}')"
      ],
      "metadata": {
        "colab": {
          "base_uri": "https://localhost:8080/"
        },
        "id": "6EdWcppuus5d",
        "outputId": "8381d5fb-7f1e-4532-a847-024ab1ae953c"
      },
      "execution_count": null,
      "outputs": [
        {
          "output_type": "stream",
          "name": "stdout",
          "text": [
            "el valor de verdad de la primera afirmación es True \n",
            "el valor de verdad de la segunda afirmación es True\n",
            "el valor de verdad de la tercera afirmacion es True\n",
            "el valor de verdad de la cuarta afirmacion es True\n",
            "el valor de verdad de la quinta afirmacion es True\n",
            "el valor de verdad de la sexta afirmacion es True\n",
            "el valor de verdad de la septima afirmacion es True\n",
            "el valor de verdad de la octava afirmacion es True\n",
            "el valor de verdad de la novena afirmacion es True\n"
          ]
        }
      ]
    },
    {
      "cell_type": "markdown",
      "source": [
        "#2\n",
        "\n",
        "El **Teorema de Laplace** es un método para calcular el determinante de una matriz cuadrada, particularmente útil para matrices de orden mayor a 2. Este teorema se basa en la expansión del determinante por los elementos de una fila o una columna cualquiera.\n",
        "\n",
        "\n",
        "\n",
        "$$\n",
        "\\det(A) = \\sum_{j=1}^n (-1)^{1+j} a_{1j} M_{1j}\n",
        "$$\n",
        "\n",
        "donde:\n",
        "- $a_{1j}$ es el elemento de la primera fila y columna $j$.\n",
        "- $M_{1j}$ es el menor asociado al elemento $a_{1j}$, es decir, el determinante de la submatriz de $3 \\times 3$ que se obtiene al eliminar la fila 1 y la columna $j$.\n",
        "- $(-1)^{1+j}$ es el signo correspondiente al cofactor del elemento $a_{1j}$.\n",
        "\n",
        "Podemos realizar una función recursiva para el cálculo del determinante, sabiendo que el valor del determinante de una matriz de orden uno es el único elemento de esa matriz, y el de una matriz de orden superior a uno es la suma de cada uno de los elementos de una fila o columna por los Adjuntos a ese elemento, como en la función recursiva se emplea la misma función definida el cálculo lo haremos por Menor complementario, un ejemplo desarrollado por la primera fila sería:\n",
        "\n",
        "$$\n",
        "   \\det (A_{j,j}) =\n",
        "   \\left \\{\n",
        "   \\begin{array}{llcl}\n",
        "      si & j = 1 & \\to & a_{1,1} \\\\\n",
        "                                 \\\\\n",
        "      si & j > 1 & \\to & \\displaystyle \\sum_{k=1}^j \\; (-1)^{(1+k)} \\cdot a_{1,k} \\cdot \\det( \\alpha_{1,k})\n",
        "   \\end{array}\n",
        "   \\right .\n",
        "$$\n",
        "\n",
        "Realice una función que encuentre el determinante de una matriz usando la recursividad aqui planteada, explique explicitamente su código"
      ],
      "metadata": {
        "id": "ibYf2I9T2pIw"
      }
    },
    {
      "cell_type": "code",
      "source": [
        "def determinante_laplace(matriz):\n",
        "\n",
        "  if len(matriz) == 0 or len(matriz[0]) == 0:\n",
        "\n",
        "    raise ValueError(\"La matriz está vacía \")\n",
        "\n",
        "  m= len(matriz[0]) # numero de columnas\n",
        "\n",
        "  n= len(matriz) # numero de filas\n",
        "\n",
        "  if n!=m:\n",
        "    raise ValueError(f'la matriz no es cuadrada')\n",
        "\n",
        "  if n == 1:\n",
        "     determinante= matriz[0][0] # si la matriz es de 1x1 el determinante es igual al valor de su unico elemento en el origen\n",
        "     return determinante\n",
        "  if n == 2:\n",
        "    '''esta es la base del funcionamiento de la función dado que es una especie de break\n",
        "    en la recursividad de la funcion que hace que deje de buscar matrices menores cuando\n",
        "    encuentre que la matriz menor es de 2x2 dandole el valor de la determinante de esa menor\n",
        "    que luego servira para comenzar a hacer los calculos de la determinante de la nxn'''\n",
        "\n",
        "    determinante= (matriz[0][0]*matriz[1][1])-(matriz[0][1]*matriz[1][0]) # esta linea hace que cuando la matriz sea 2x2 calcule la determinante restando las diagonales de la matriz\n",
        "    return determinante\n",
        "  '''en caso de matrices nxn mayores a 2x2 inicalizo el determinate en 0'''\n",
        "\n",
        "  determinante= 0\n",
        "\n",
        "  for j in range(n): # en el for la j es el indice de la primera fila de  la matriz que se irá recorriendo hasta ser el ultimo de la primera fila\n",
        "\n",
        "  # defino una matriz sin la primera fila de la matriz que voy a encontrar la determinante\n",
        "    matriz_sin_fila= np.delete(matriz,0, axis=0) # esta matriz es constante dado que no depende de ningun j del iterador\n",
        "  # defino una matriz menor\n",
        "    menor = np.delete(matriz_sin_fila,j, axis=1) # esta matriz borra la columna j-esima de la matriz sin la primera fila\n",
        "  # defino los cofactores\n",
        "    cofactores= (-1)**j * matriz[0][j] * determinante_laplace(menor) # esta es la segunda linea clave del codigo, aqui uso la recursividad para encontrar los determinantes de matrices menores mayores a 2x2 hasta que lleguen a ese tamaño\n",
        "  # ahora realizo la suma de cofacotres para la determinante\n",
        "\n",
        "    determinante += cofactores\n",
        "\n",
        "  return determinante\n"
      ],
      "metadata": {
        "id": "-8tYERLHtrtY"
      },
      "execution_count": null,
      "outputs": []
    },
    {
      "cell_type": "code",
      "source": [
        "matriz_prueba = np.array([\n",
        "    [2,  1,  3,  0,  5],\n",
        "    [4, -1,  2,  1,  0],\n",
        "    [0,  3, -2,  4,  1],\n",
        "    [1,  2,  0, -3,  2],\n",
        "    [5,  0,  1,  2, -1]\n",
        "])\n",
        "\n",
        "print(determinante_laplace(matriz_prueba))\n",
        "print(np.linalg.det(matriz_prueba))"
      ],
      "metadata": {
        "colab": {
          "base_uri": "https://localhost:8080/"
        },
        "id": "ElmKThCP8ATu",
        "outputId": "635a1240-c75e-46fa-946d-1d4c193f9a40"
      },
      "execution_count": null,
      "outputs": [
        {
          "output_type": "stream",
          "name": "stdout",
          "text": [
            "68\n",
            "68.00000000000007\n"
          ]
        }
      ]
    },
    {
      "cell_type": "code",
      "source": [
        "# ahora la pruebo y la comparo con np.linalg.det en una matriz aleatoria\n",
        "n= np.random.randint(1,10)\n",
        "\n",
        "matriz_prueba= Matriz_aleatoria(n,n)\n",
        "\n",
        "print(f'La determinante de la función de laplace es:')\n",
        "print(determinante_laplace(matriz_prueba))\n",
        "print(f'La determinante de numpy es:')\n",
        "print(np.linalg.det(matriz_prueba))\n",
        "print(f'La diferencia de las determinantes es')\n",
        "print(abs(determinante_laplace(matriz_prueba)-np.linalg.det(matriz_prueba)))\n",
        "# después de estar varios minutos ejecutando esta celda el la diferencia mas alta que encontré es de e-8 no es recomendable en matrices mayores a 10x10 el tiempo de respuesta es largo\n",
        "\n",
        "# algo que me pasó y es que cuando abrí el codigo al siguiente día por ninguna razón en absoluto el codigo no servía y no sé porqué, transcribí el codigo tal cual como estaba y magicamente volvió a funcionar, no tengo ni idea de porque pasó eso"
      ],
      "metadata": {
        "colab": {
          "base_uri": "https://localhost:8080/"
        },
        "id": "RNApr36LFPjN",
        "outputId": "9a65592b-e665-413d-a30e-0a969dc539d7"
      },
      "execution_count": null,
      "outputs": [
        {
          "output_type": "stream",
          "name": "stdout",
          "text": [
            "La determinante de la función de laplace es:\n",
            "-528\n",
            "La determinante de numpy es:\n",
            "-528.0\n",
            "La diferencia de las determinantes es\n",
            "0.0\n"
          ]
        }
      ]
    },
    {
      "cell_type": "markdown",
      "source": [
        "#3 Método de Gauss - Seidel\n",
        "\n",
        "Sea \\$A\\in\\mathbb{R}^{n\\times n}\\$ no singular y sea \\$b\\in\\mathbb{R}^n\\$.\n",
        "Descomponga \\$A\\$ como\n",
        "\n",
        "$$\n",
        "A \\;=\\; D \\;+\\; L \\;+\\; U,\n",
        "$$\n",
        "\n",
        "donde\n",
        "\n",
        "* \\$D\\$ es la matriz diagonal de \\$A\\$,\n",
        "* \\$L\\$ es la parte estrictamente triangular inferior,\n",
        "* \\$U\\$ es la parte estrictamente triangular superior.\n",
        "\n",
        "El algoritmo de Gauss - Seidel reorganiza el sistema \\$Ax=b\\$ como\n",
        "\n",
        "$$\n",
        "x \\;=\\; (D+L)^{-1}\\bigl(b \\;-\\; Ux\\bigr),\n",
        "$$\n",
        "\n",
        "y genera la sucesión\n",
        "\n",
        "$$\n",
        "x_i^{(k+1)}\n",
        "= \\frac{1}{a_{ii}}\n",
        "\\Bigl(b_i - \\sum_{j<i} a_{ij}\\,x_j^{(k+1)} - \\sum_{j>i} a_{ij}\\,x_j^{(k)}\\Bigr),\n",
        "\\qquad i=1,\\dots,n.\n",
        "$$\n",
        "\n",
        "Implemente una función `gauss_seidel(A, b, tol=1e-7, max_iter=100)` que:\n",
        "   * Realice las iteraciones hasta que\n",
        "     $\\lVert x^{(k+1)}-x^{(k)}\\rVert_\\infty<\\text{tol}$\n",
        "     o se alcance `max_iter`;\n",
        "   * devuelva el vector solución aproximado \\$x\\$, el número de iteraciones realizadas y la norma del último residuo.\n",
        "\n",
        "Incluya una documentación clara.\n",
        "\n",
        "Luego,\n",
        "\n",
        "   * Genere una matriz aleatoria \\$5\\times5\\$ (por ejemplo, con `np.random.rand`) y un vector \\$b\\$ aleatorio.\n",
        "   * Resuelva \\$Ax=b\\$ con su función; calcule el error relativo frente a `numpy.linalg.solve`.\n",
        "   * Estime igualmente el error respecto a la solución obtenida mediante \\$x=A^{-1}b\\$ (usando `numpy.linalg.inv`).\n",
        "   * Presente las normas de los residuos y los errores relativos."
      ],
      "metadata": {
        "id": "fTSweDGhnAUN"
      }
    },
    {
      "cell_type": "code",
      "source": [
        "def gauss_seidel(a,b, tol=1e-7, max_iter=100):\n",
        "\n",
        "  '''Primero doy las condiciones de entrada erroneas para que el código levante un error en caso de que estas pasen\n",
        "\n",
        "  siendo , que la matriz está vacía, la matriz tiene un solo elemento, la matriz no sea cuadrada o que la matriz no sea de diagonal fuerte, punto que casi me deja calvo porque no entendía porque mi codigo no funcionaba hasta que invetigué y resulta y pasa que el metodo no converge bien alte matrices sin diagonal dominante'''\n",
        "\n",
        "  if len(a) == 0 or len(a[0]) == 0:\n",
        "\n",
        "    raise ValueError(f'la matriz está vacía')\n",
        "\n",
        "  m= len(a[0])\n",
        "\n",
        "  n= len(a)\n",
        "\n",
        "  if n== 1:\n",
        "    raise ValueError(f'la matriz es singular')\n",
        "\n",
        "  if n!=m:\n",
        "    raise ValueError(f'la matriz no es cuadrada')\n",
        "\n",
        "  '''defino las variables para la función'''\n",
        "\n",
        "  a = np.array(a, dtype=float)\n",
        "\n",
        "  b = np.array(b, dtype=float)\n",
        "\n",
        "\n",
        "  x = b*0 # sucede que python me genera un codigo de precaución cuando hago que x sea un array de tamaño nx1 lleno de ceros pero cuando en vez de usar np.zeros(n) o algo asi y simplemente multiplico la matriz a por 0 no me da la advertencia, intenté evitar llegar a una solución tan rustica pero no se me ocurrio nada más\n",
        "\n",
        "  for k in range(max_iter): # defino k como el numero de iteraciones y lo pongo en un rango de iteraciones hasta max iter\n",
        "\n",
        "\n",
        "\n",
        "    x_k= x.copy() # hago una copia del vector x que mas bien es una matriz para poder jugar con sus componentes en sin tocar el vector original y poder hacer las iteraciones con x_k y x_k+1 siendo este ultimo el vector x original\n",
        "\n",
        "\n",
        "    for i in range(n): # comienzo con el for de i hasta n siendo la longitud de a para que vaya indice a indice hasta n\n",
        "      suma1 = 0 # inicializo las sumas que voy a usar para encontrar cada x[i]\n",
        "\n",
        "      suma2 = 0\n",
        "\n",
        "      for j in range(i): # cuando defino el rango así me da que las j van desde 0 hasta i-1 porque python toma el valor anterior, ergo las j menores a i\n",
        "        suma1 += a[i,j]*x[j] # esta es la expreción de la primera sumatoria que aparece en el ejercicio\n",
        "\n",
        "    # esto aumenta la sumatoria hasta que se cumpla el for\n",
        "\n",
        "      for j in range(i+1,n,1): # este rango esta definido diferente dado que aquí empiezo desde el numero despúes de i hasta n la longitud de la matriz a\n",
        "\n",
        "        suma2 += a[i,j]*x_k[j]\n",
        "\n",
        "\n",
        "        # estas dos lineas son equivalentes a las de la primera suma\n",
        "\n",
        "      x[i] = (b[i] - suma1 - suma2) / (a[i][i]) # defino los valores de cada indice de fila de x tal como está en la sumatoria, como ya dije me daba una advertencia que supe solucionar de esta manera, x no es un vector con una sola columna, si no una matriz nxn donde cada columna tiene los valores de la solucion, que se repiten\n",
        "\n",
        "    residuo= np.linalg.norm(x-x_k) # la norma del resiiduo la defino con np.linalg.norm porque es un array y algo como abs no funciona\n",
        "\n",
        "    if residuo<tol:\n",
        "       return x.reshape(-1,1), f'residuo final = {residuo}',f'la ultima iteración= {k+1}' # agrego una condicion que me hace una especie de break cuando la tolerancia minima del residuo se cumple, por lo tanto puedo afirmar que ya convergió por asi decirlo\n",
        "\n",
        "       '''dada la naturaleza array del x solo tomo su primera columna como respuesta y la reordeno para que me quede de la misma forma que np.linalg.solve'''\n",
        "\n",
        "  raise ValueError(f'no se llegó a una convergencia en las iteraciones planteadas') # en caso de que durante el for de k se llegué al maximo de iteraciones y no se cumpla la condición de pseudo-break significa que no convergió en nuestro maximo de iteraciones, por lo que la función falló"
      ],
      "metadata": {
        "id": "xXuUhfjznlnO"
      },
      "execution_count": 434,
      "outputs": []
    },
    {
      "cell_type": "code",
      "source": [
        "def matriz_diagonal_dominante(n): # dado que la función no converge en matrices sin diagonal dominante creo un codigo que me genere una matriz al azar con diagonal dominante\n",
        "\n",
        "    A = np.random.rand(n, n) # genero una matriz cualquiera cuadrada y aleatoria\n",
        "\n",
        "    for i in range(n):\n",
        "\n",
        "        suma_fila = np.sum(np.abs(A[i, :])) - np.abs(A[i, i]) # utilizo esta suma para obtener el valor de la suma que hay alrededor del valor respectivo de la diagonal sin tener en cuenta el valor del punto en la diagonal, por eso lo resto\n",
        "\n",
        "        A[i, i] = suma_fila + np.random.rand()  #  luego redefino el valor del numero en la diagonal como un numero random mas la suma de la fila, para que si o si sea mayor\n",
        "\n",
        "    return A\n",
        "matriz5x5= matriz_diagonal_dominante(5)\n",
        "matriz_b = Matriz_aleatoria(1,5)\n",
        "soluciones,residuo,iteracion=gauss_seidel(matriz5x5,matriz_b)\n",
        "con_linalg= np.linalg.solve(matriz5x5,matriz_b)\n",
        "con_la_inversa= np.linalg.inv(matriz5x5)@matriz_b\n",
        "print(f'Funcionamiento de la función gauss_sidel')\n",
        "display(gauss_seidel(matriz5x5,matriz_b))\n",
        "print(f'El valor de las respuestas de np.linalg.solve es:')\n",
        "print(con_linalg)\n",
        "print(f'El valor de las respuestas de la funcion gauss_sidel es:')\n",
        "print(soluciones)\n",
        "print(f'El valor de las respuestas de la inversa es:')\n",
        "print(con_la_inversa)\n",
        "print(f'El error respecto a np.linalg.solve es:')\n",
        "print(con_linalg-soluciones)\n",
        "print(f'El error respecto a la inversa es:')\n",
        "print(con_la_inversa-soluciones)\n",
        "print(f'La norma del residuo es:')\n",
        "print(residuo)"
      ],
      "metadata": {
        "colab": {
          "base_uri": "https://localhost:8080/",
          "height": 711
        },
        "id": "BYr48XK4kIV1",
        "outputId": "b327e32d-7b14-4e16-e60c-8ec1b1f9726b"
      },
      "execution_count": 435,
      "outputs": [
        {
          "output_type": "stream",
          "name": "stdout",
          "text": [
            "Funcionamiento de la función gauss_sidel\n"
          ]
        },
        {
          "output_type": "display_data",
          "data": {
            "text/plain": [
              "(array([[ 0.00873965],\n",
              "        [ 2.46996758],\n",
              "        [ 5.29211706],\n",
              "        [-1.72309764],\n",
              "        [ 1.56440724]]),\n",
              " 'residuo final = 7.386531812390272e-08',\n",
              " 'la ultima iteración= 14')"
            ]
          },
          "metadata": {}
        },
        {
          "output_type": "stream",
          "name": "stdout",
          "text": [
            "El valor de las respuestas de np.linalg.solve es:\n",
            "[[ 0.00873966]\n",
            " [ 2.46996758]\n",
            " [ 5.29211705]\n",
            " [-1.72309765]\n",
            " [ 1.56440723]]\n",
            "El valor de las respuestas de la funcion gauss_sidel es:\n",
            "[[ 0.00873965]\n",
            " [ 2.46996758]\n",
            " [ 5.29211706]\n",
            " [-1.72309764]\n",
            " [ 1.56440724]]\n",
            "El valor de las respuestas de la inversa es:\n",
            "[[ 0.00873966]\n",
            " [ 2.46996758]\n",
            " [ 5.29211705]\n",
            " [-1.72309765]\n",
            " [ 1.56440723]]\n",
            "El error respecto a np.linalg.solve es:\n",
            "[[ 7.21216720e-09]\n",
            " [ 7.93949795e-10]\n",
            " [-1.83983317e-09]\n",
            " [-7.40864881e-09]\n",
            " [-2.45167553e-09]]\n",
            "El error respecto a la inversa es:\n",
            "[[ 7.21216718e-09]\n",
            " [ 7.93950239e-10]\n",
            " [-1.83983317e-09]\n",
            " [-7.40864903e-09]\n",
            " [-2.45167575e-09]]\n",
            "La norma del residuo es:\n",
            "residuo final = 7.386531812390272e-08\n"
          ]
        }
      ]
    },
    {
      "cell_type": "markdown",
      "source": [
        "#4 Método de potencias para el valor propio dominante\n",
        "\n",
        "Sea \\$A\\in\\mathbb{R}^{n\\times n}\\$ diagonalizable con valor propio dominante \\$\\lambda\\_{\\max}\\$ (en magnitud) y vector propio asociado \\$v\\_{\\max}\\$.\n",
        "\n",
        "El método de potencias genera, a partir de un vector inicial \\$q^{(0)}\\neq 0\\$, la sucesión\n",
        "\n",
        "$$\n",
        "q^{(k+1)} \\;=\\; \\frac{A\\,q^{(k)}}{\\lVert A\\,q^{(k)}\\rVert_2},\n",
        "\\qquad\n",
        "\\lambda^{(k+1)} \\;=\\; (q^{(k+1)})^{\\!\\top} A\\, q^{(k+1)},\n",
        "$$\n",
        "\n",
        "que converge a \\$v\\_{\\max}/\\lVert v\\_{\\max}\\rVert\\_2\\$ y a \\$\\lambda\\_{\\max}\\$ respectivamente, bajo hipótesis estándar.\n",
        "\n",
        "Implemente `power_method(A, tol=1e-7, max_iter=1000)` que:\n",
        "\n",
        "   * Acepte matrices reales cuadradas,\n",
        "   * Devuelva \\$\\lambda\\_{\\max}\\$, el vector propio normalizado \\$v\\_{\\max}\\$, el número de iteraciones y la última variación relativa de \\$\\lambda\\$,\n",
        "   * detenga la iteración cuando\n",
        "     $\\bigl|\\lambda^{(k+1)}-\\lambda^{(k)}\\bigr|<\\text{tol}\\,|\\lambda^{(k+1)}|$\n",
        "     o se alcance `max_iter`.\n",
        "\n",
        "Luego,\n",
        "   * Genere una matriz simétrica aleatoria \\$6\\times6\\$ (por ejemplo, \\$A = (M+M^\\top)/2\\$ con \\$M\\$ aleatoria).\n",
        "   * Aplique su `power_method` y compare \\$\\lambda\\_{\\max}\\$ y \\$v\\_{\\max}\\$ con los resultados de `numpy.linalg.eig`."
      ],
      "metadata": {
        "id": "REVJcqYtnmM-"
      }
    },
    {
      "cell_type": "code",
      "source": [
        "def power_method(a,tol=1e-17,max_iter=1000): # hice el codigo de manera basica copiando la estructura de una suceción de fibonacci basica\n",
        "  #defino el vector inicial distinto de 0\n",
        "  q_k = np.array([1 for i in range(len(a))]).reshape(-1,1)\n",
        "  λ_k1= 0\n",
        "  itera= 0\n",
        "  # defino λ_k1 e itera para inicializarlos en 0 y que luego puedan ser reemplazados sin que salte un error de no definición\n",
        "  for k in range(max_iter):\n",
        "    q_k1= a@q_k/np.linalg.norm(a@q_k) # defino q_k1 y q_k2 en función de la suceción para poder trabajar con reemplazos en lineas siguientes\n",
        "\n",
        "    q_k2= a@q_k1/np.linalg.norm(a@q_k1)\n",
        "\n",
        "    λ_k2= np.transpose(q_k1)@a@q_k1 # igualmente defino λ_k2 en función de la sucesión\n",
        "\n",
        "    variación= abs(λ_k2-λ_k1) # calculo la variación de los lambdas con el λ_k2 y el λ_k1 inicializado en 0 para luego reemplazarlo por λ_k2\n",
        "\n",
        "    q_k1= q_k2 # reemplazo a q_k1 como q_k2 para poder volver con el proceso de iteración con el proceso sustituido dado que q_k2 está en función de q_k1 todo sigue en forma de suceción\n",
        "\n",
        "    λ_k1 = λ_k2\n",
        "\n",
        "    itera += 1\n",
        "    if variación < tol:\n",
        "       return λ_k2, q_k2,itera, variación # la verdad no sé exactamente porque q_k2 es el vector asociado al valor máximo, porque si la suceción converge a vmax/∥vmax∥2 vmax debería ser igual a q_k2*∥vmax∥2 pero este vector no se corresponde a lo que debería, pero funciona\n",
        "  raise ValueError(f'no se llegó a una convergencia en el numero maximo de iteraciones')\n",
        "  # Dios bendiga a la patria porque despues de matarme la cabeza con los 2 anteriores esto fue un regalito del cielo"
      ],
      "metadata": {
        "id": "lPzFAOE7obZY"
      },
      "execution_count": 492,
      "outputs": []
    },
    {
      "cell_type": "code",
      "source": [
        "def Matriz_simetrica_aleatorea(n):\n",
        "  M = np.random.randint(1, 10, size=(n, n))\n",
        "  Mt= np.transpose(M)\n",
        "  return (M+Mt)/2 # una función para crear una matriz como la pide el ejercicio\n",
        "Matriz_simetrica= Matriz_simetrica_aleatorea(6)\n",
        "print(f'la matriz aleatorea fue')\n",
        "print(\"\")\n",
        "print(Matriz_simetrica)\n",
        "lambdas,Vmax,iteraciones,variaciones= power_method(Matriz_simetrica)\n",
        "linalg_valores,linalg_Vectores=np.linalg.eig(Matriz_simetrica)\n",
        "print(\"\")\n",
        "print(f'los valores que retorna mi función')\n",
        "print(f'el valor maximo es {lambdas},el vector maximo es {Vmax},el numero de iteraciones fueron {iteraciones},la ultima variación en los lambdas fue {variaciones}')\n",
        "print(\"\")\n",
        "print(f'el valor maximo de la función es:')\n",
        "print(lambdas)\n",
        "print(\"\")\n",
        "print(f'el vector maximo de la función es:')\n",
        "print(Vmax)\n",
        "print(\"\")\n",
        "print(f'el valor maximo con linalg es:')\n",
        "print(max(linalg_valores))\n",
        "print(\"\")\n",
        "print(f'el vector maximo con linalg es:')\n",
        "print((linalg_Vectores[:,0]).reshape(-1,1)) # nada mas me importa el primer vector dado que linalg.eig me devuelve cada valor en la posicion de su vector correspondiente y los valores dominantes están en la primera columna\n",
        "\n",
        "# converge muy rápido, pero prestando atención, se alcanza a ver que difiere despues del tercer decimal por mas que se baje la tolerancia"
      ],
      "metadata": {
        "colab": {
          "base_uri": "https://localhost:8080/"
        },
        "id": "EMlWvUxifqTM",
        "outputId": "fcf16247-84cd-468b-bce1-1e617d7232d9"
      },
      "execution_count": 499,
      "outputs": [
        {
          "output_type": "stream",
          "name": "stdout",
          "text": [
            "la matriz aleatorea fue\n",
            "\n",
            "[[6.  5.  7.  6.5 7.5 5. ]\n",
            " [5.  3.  7.5 7.  3.  5. ]\n",
            " [7.  7.5 7.  6.  3.  8.5]\n",
            " [6.5 7.  6.  2.  3.5 8.5]\n",
            " [7.5 3.  3.  3.5 8.  4.5]\n",
            " [5.  5.  8.5 8.5 4.5 4. ]]\n",
            "\n",
            "los valores que retorna mi función\n",
            "el valor maximo es [[34.50558462]],el vector maximo es [[0.43554515]\n",
            " [0.36852495]\n",
            " [0.46586791]\n",
            " [0.39970915]\n",
            " [0.34423228]\n",
            " [0.42331267]],el numero de iteraciones fueron 2,la ultima variación en los lambdas fue [[0.]]\n",
            "\n",
            "el valor maximo de la función es:\n",
            "[[34.50558462]]\n",
            "\n",
            "el vector maximo de la función es:\n",
            "[[0.43554515]\n",
            " [0.36852495]\n",
            " [0.46586791]\n",
            " [0.39970915]\n",
            " [0.34423228]\n",
            " [0.42331267]]\n",
            "\n",
            "el valor maximo con linalg es:\n",
            "34.50987732331558\n",
            "\n",
            "el vector maximo con linalg es:\n",
            "[[-0.43491372]\n",
            " [-0.36885114]\n",
            " [-0.4667715 ]\n",
            " [-0.40017678]\n",
            " [-0.34237102]\n",
            " [-0.4237498 ]]\n"
          ]
        }
      ]
    },
    {
      "cell_type": "markdown",
      "source": [
        "#5\n",
        "\n",
        "Verifique que cualquier matriz hermitiana de 2 × 2 $ L $ puede escribirse como una suma de cuatro términos:\n",
        "\n",
        "$$ L = a\\sigma_x + b\\sigma_y + c\\sigma_z + dI $$\n",
        "\n",
        "donde $ a $, $ b $, $ c $ y $ d $ son números reales.\n",
        "\n",
        "Las cuatro matrices de Pauli son:\n",
        "\n",
        "$$ \\sigma_x = \\begin{pmatrix} 0 & 1 \\\\ 1 & 0 \\end{pmatrix}, \\quad \\sigma_y = \\begin{pmatrix} 0 & -i \\\\ i & 0 \\end{pmatrix}, \\quad \\sigma_z = \\begin{pmatrix} 1 & 0 \\\\ 0 & -1 \\end{pmatrix}, \\quad I = \\begin{pmatrix} 1 & 0 \\\\ 0 & 1 \\end{pmatrix} $$\n",
        "\n",
        "\n"
      ],
      "metadata": {
        "id": "iggu2jNwVpnK"
      }
    },
    {
      "cell_type": "code",
      "source": [
        "# si la matriz hermitiana siempre se puede escribir de la forma L= aσx + bσy + cσz + dI eso significa que sin importar la matriz hermitiana siempre habrá una solución al sistema de ecuaciones de a,b,c y d que multiplicados por la identidad y pauli den la matriz L\n",
        "# si genero una matriz de hermit aleateorea siempre habrá a,b,c y d tales que la ecuación se satisfaga\n",
        "def solucion_hermit(l):\n",
        "  n= len(l)\n",
        "  if n!=2:\n",
        "    raise ValueError(f'la matriz no es 2x2')\n",
        "  # defino la matriz identidad y las de pauli de modo que todas sean complejas\n",
        "  pauli1 = np.array([[0, 1], [1, 0]], dtype=complex)\n",
        "  pauli2 = np.array([[0, -1j], [1j, 0]], dtype=complex)\n",
        "  pauli3 = np.array([[1, 0], [0, -1]], dtype=complex)\n",
        "  identidad = np.eye(2, dtype=complex)\n",
        "  # ahora se definen los valores de las partes reales e imaginarias para poder hacer un sistema de ecuaciones que me defina las componentes a,b,c y d en función de las componentes alpha,betha,x y y\n",
        "  alpha = l[0, 0].real\n",
        "  betha = l[1, 1].real\n",
        "  x = l[1, 0].real\n",
        "  y = l[1, 0].imag\n",
        "  ''' (c+d , a+ib)\n",
        "      (a−ib,−c+d)\n",
        "      es la forma de las matrices de pauli por las constantes abc mas la matriz identidad multiplicada por d\n",
        "      si la matriz hermitiana es igual a la de pauli con la identidad  sus comoponentes son iguales entonces lo igualo a la forma general de la matriz hermitiana\n",
        "      ( alpha, x + iy)\n",
        "      ​(x - iy,   betha )\n",
        "       así que se debe plantear el sistema de ecuaciones\n",
        "       obtengo componente a componente que:\n",
        "       c+d = alpha\n",
        "       a+ib = x − iy entonces a=x, y=b\n",
        "       −c+d = betha\n",
        "       resolviendo y definiendo ya para el código\n",
        "       '''\n",
        "  a = x\n",
        "  b = y\n",
        "  c = (alpha-betha)/2\n",
        "  d = (alpha+betha)/2\n",
        "\n",
        "  suma_matrices= a*pauli1 + b*pauli2 + c*pauli3 + d*identidad\n",
        "  return a,b,c,d, suma_matrices\n",
        "def matriz_hermitiana_aleatoria():# genero una funcion sin entradas dado que todo en ella es aleatoreo y no necesito especificar su tamaño\n",
        "  # genero 4 numeros aleatoreos al azar\n",
        "    a = np.random.rand()\n",
        "    b = np.random.rand()\n",
        "    x = np.random.rand()\n",
        "    y = np.random.rand()\n",
        "    z = x + 1j*y # defino z como un numero complejo con coponente real x y componente imaginaria y\n",
        "    H = np.array([[a, z],\n",
        "                  [np.conj(z), b]], dtype=complex) #defino una matriz H con componentes a,z,zconjugado,b\n",
        "\n",
        "    return H # me devuelve H\n",
        "L= matriz_hermitiana_aleatoria()\n",
        "a,b,c,d,suma= solucion_hermit(L)\n",
        "print(f'la matriz hermitiana es:')\n",
        "print(L)\n",
        "print(\"\")\n",
        "print(f'las constantes son:')\n",
        "print(f'a={a}, b={b}, c={c}, d={d}')\n",
        "print(\"\")\n",
        "print(f'la suma de las matrices de pauli es:')\n",
        "print(suma)\n",
        "\n",
        "#sin importar la matriz hermitiana siempre tiene solución"
      ],
      "metadata": {
        "id": "8WN9_cOCV7cM",
        "colab": {
          "base_uri": "https://localhost:8080/"
        },
        "outputId": "6aeb1de2-e8ea-4ffc-df9a-5acc2db2b2c2"
      },
      "execution_count": 523,
      "outputs": [
        {
          "output_type": "stream",
          "name": "stdout",
          "text": [
            "la matriz hermitiana es:\n",
            "[[0.33040009+0.j        0.37024666+0.0643144j]\n",
            " [0.37024666-0.0643144j 0.93441699+0.j       ]]\n",
            "\n",
            "las constantes son:\n",
            "a=0.37024666406115125, b=-0.06431440109946396, c=-0.30200845080992444, d=0.6324085372410725\n",
            "\n",
            "la suma de las matrices de pauli es:\n",
            "[[0.33040009+0.j        0.37024666+0.0643144j]\n",
            " [0.37024666-0.0643144j 0.93441699+0.j       ]]\n"
          ]
        }
      ]
    },
    {
      "cell_type": "markdown",
      "source": [
        "# 6\n",
        "\n",
        "Haga un breve resumen en Markdown de las funciones y métodos más relevantes para algebra lineal usando Python. Emplee ejemplos."
      ],
      "metadata": {
        "id": "GnCw5_O5pMxl"
      }
    },
    {
      "cell_type": "code",
      "source": [
        "'''definitivamente las funciones mas básicas como en todo son las mas importantes y relevantes dado que en base a estas es que se construyen todas las demás y pueden funcionar los metodos, entre las que fueron mas relevantes para mí son aquellas que realizan las operaciones\n",
        "de matrices como \"@\" para realizar el producto punto de dos vectores np.transpose para realizar la transpuesta, np.linalg.inv para realizar la inversa de una matriz y poder resolver sistemas de ecuaciones lineales, np.linalg.det para poder calcular la determinante de una matriz\n",
        "que en muchos metodos numericos y en gran numero de operaciones dentro del algebra lineal, una que no sé si cuente como función sería todo lo que se puede hacer con A[][] con este comando se puede acceder a puntos especificos de una matriz o seccionarla comando que facilita todo en gran medida\n",
        ", de los metodos vistos en la actividad mencionaría el punto 2 y 2 el punto 3 tanto por lo bien que convergen como por su utilidad fundamental en los dos conceptos mas básicos e importantes del algebra, las determinantes y las soluciones de sistemas '''"
      ],
      "metadata": {
        "colab": {
          "base_uri": "https://localhost:8080/",
          "height": 87
        },
        "id": "GfyC-Zw-DUG7",
        "outputId": "95098119-601f-4b02-d6aa-eba064a6d7ef"
      },
      "execution_count": 525,
      "outputs": [
        {
          "output_type": "execute_result",
          "data": {
            "text/plain": [
              "'definitivamente las funciones mas básicas como en todo son las mas importantes y relevantes dado que en base a estas es que se construyen todas las demás y pueden funcionar los metodos, entre las que fueron mas relevantes para mí son aquellas que realizan las operaciones \\nde matrices como \"@\" para realizar el producto punto de dos vectores np.transpose para realizar la transpuesta, np.linalg.inv para realizar la inversa de una matriz y poder resolver sistemas de ecuaciones lineales, np.linalg.det para poder calcular la determinante de una matriz\\nque en muchos metodos numericos y en gran numero de operaciones dentro del algebra lineal, una que no sé si cuente como función sería todo lo que se puede hacer con A[][] con este comando se puede acceder a puntos especificos de una matriz o seccionarla comando que facilita todo en gran medida\\n, de los metodos vistos en la actividad mencionaría el punto 2 y 2 el punto 3 tanto por lo bien que convergen como por su utilidad fundamental en los dos conceptos mas básicos e importantes del algebra, las determinantes y las soluciones de sistemas '"
            ],
            "application/vnd.google.colaboratory.intrinsic+json": {
              "type": "string"
            }
          },
          "metadata": {},
          "execution_count": 525
        }
      ]
    },
    {
      "cell_type": "code",
      "source": [
        "n=np.ranom.randint(1,10)\n",
        "a= Matriz_aleatoria(n)\n",
        "b= Matriz_aleatoria(n)\n",
        "'''ejemplos'''\n",
        "#producto punto\n",
        "print(b@a)\n",
        "# determinante\n",
        "print(np.linalg.det(b))\n",
        "# transpuesta\n",
        "print(np.transpose(a))\n",
        "# inversa\n",
        "print(np.linalg.inv(b))\n",
        "'''funciones igual de básicas como importantes facilitando cualquier operación o codigo de manera comoda y rapida aparte de poder optimizar todo mucho mas rapido'''"
      ],
      "metadata": {
        "id": "tcfq1XkAFC_2"
      },
      "execution_count": null,
      "outputs": []
    }
  ]
}