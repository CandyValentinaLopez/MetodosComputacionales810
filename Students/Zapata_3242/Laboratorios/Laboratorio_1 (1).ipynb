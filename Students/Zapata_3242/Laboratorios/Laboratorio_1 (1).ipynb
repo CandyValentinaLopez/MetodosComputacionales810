{
  "metadata": {
    "kernelspec": {
      "display_name": "Python 3",
      "language": "python",
      "name": "python3"
    },
    "language_info": {
      "codemirror_mode": {
        "name": "ipython",
        "version": 3
      },
      "file_extension": ".py",
      "mimetype": "text/x-python",
      "name": "python",
      "nbconvert_exporter": "python",
      "pygments_lexer": "ipython3",
      "version": "3.12.6"
    },
    "colab": {
      "provenance": []
    }
  },
  "nbformat_minor": 5,
  "nbformat": 4,
  "cells": [
    {
      "id": "a205c519",
      "cell_type": "markdown",
      "source": [
        "# Laboratorio 1: Python Básico, Librerias y Modelamiento Básico.\n",
        "\n",
        "---\n",
        "### Profesor: Daniel Ruiz Mejía\n",
        "### Nombre: Estefania Zapata Valderrama\n",
        "*Métodos computacionales 2025-I*\n",
        "\n",
        "---"
      ],
      "metadata": {
        "id": "a205c519"
      }
    },
    {
      "id": "0634e826",
      "cell_type": "markdown",
      "source": [
        "# 1.\n",
        "Diseñar un programa en el que entrado  un numero `a`  retorne una variable booleana True or false si cumple que es:\n",
        "\n",
        "- [Números defectivo](https://es.wikipedia.org/wiki/Número_defectivo) : la suma de los divisores propios es menor que el número.\n",
        "\n",
        "  La rutina se deberá llamar números_defectivos\n",
        "\n",
        "\n",
        "\n",
        "- [Números abundantes](https://es.wikipedia.org/wiki/Número_abundante): la suma de los divisores es mayor que el número.\n",
        "\n",
        "  La rutina se deberá llamar números_abundantes\n",
        "\n",
        "\n",
        "\n",
        "- [Números semiperfectos](https://es.wikipedia.org/wiki/N%C3%BAmero_semiperfecto) la suma de todos o algunos de los divisores propios es igual al número.\n",
        "\n",
        "  La rutina se debera llamar numeros_semiperfectos\n",
        "\n",
        "- [Números perfectos](https://es.wikipedia.org/wiki/N%C3%BAmero_perfecto) la suma de todos sus divisores propios, excepto el mismo numero, es igual al número.\n",
        "\n",
        "   La rutina se deberá llamar numeros_perfectos\n",
        "\n",
        "\n",
        "- [Números primos](https://es.wikipedia.org/wiki/N%C3%BAmero_primo) el número es divisible unicamente por sí mismo y por 1.\n",
        "\n",
        "   La rutina se deberá llamar numeros_primos\n",
        "\n",
        "\n",
        "**Problema no obligatorio**\n",
        "\n",
        "Retornar los 30 primeros números de cada clase"
      ],
      "metadata": {
        "id": "0634e826"
      }
    },
    {
      "id": "ef8dd628",
      "cell_type": "code",
      "source": [
        "def numeros_defectivos(a):\n",
        "  div = []\n",
        "  for i in range(1,a):\n",
        "    if a % i == 0:\n",
        "     div.append(i)\n",
        "\n",
        "  numerodef = 0\n",
        "  for i in div:\n",
        "    numerodef += i\n",
        "\n",
        "  if numerodef < a :\n",
        "   return True\n",
        "  else:\n",
        "    return False\n",
        "\n",
        "def numeros_abundantes(a):\n",
        "  div = []\n",
        "  for i in range(1,a):\n",
        "    if a % i == 0:\n",
        "     div.append(i)\n",
        "\n",
        "  numerodef = 0\n",
        "  for i in div:\n",
        "    numerodef += i\n",
        "\n",
        "  if numerodef > a :\n",
        "   return True\n",
        "  else:\n",
        "    return False\n",
        "\n",
        "def numeros_semiperfectos(a):\n",
        "\n",
        "  import itertools\n",
        "  from itertools import combinations\n",
        "\n",
        "  div = []\n",
        "  for i in range(1,a):\n",
        "    if a % i == 0:\n",
        "     div.append(i)\n",
        "\n",
        "  for i in range(1,len(div)+1):\n",
        "    combinaciones = combinations(div, i)\n",
        "    for j in combinaciones:\n",
        "     if sum(j) == a:\n",
        "      return True\n",
        "  else:\n",
        "    return False\n",
        "\n",
        "\n",
        "def numeros_perfectos(a):\n",
        "  div = []\n",
        "  for i in range(1,a):\n",
        "    if a % i == 0:\n",
        "     div.append(i)\n",
        "\n",
        "  numerodef = 0\n",
        "  for i in div:\n",
        "    numerodef += i\n",
        "\n",
        "  if numerodef == a :\n",
        "   return True\n",
        "  else:\n",
        "    return False\n",
        "\n",
        "def numeros_primos(a):\n",
        "  div = []\n",
        "  for i in range(1,a+1):\n",
        "    if a % i == 0:\n",
        "     div.append(i)\n",
        "\n",
        "  numerodef = 0\n",
        "  for i in div:\n",
        "    numerodef += i\n",
        "\n",
        "  if len(div) == 2:\n",
        "   return True\n",
        "  else:\n",
        "    return False\n",
        "\n"
      ],
      "metadata": {
        "trusted": false,
        "id": "ef8dd628"
      },
      "outputs": [],
      "execution_count": 1
    },
    {
      "cell_type": "code",
      "source": [
        "def numeros(a):\n",
        "  print(f'¿El numero es defectivo? {numeros_defectivos(a)}')\n",
        "  print(f'¿El numero es abundante? {numeros_abundantes(a)}')\n",
        "  print(f'¿El numero es semiperfecto? {numeros_semiperfectos(a)}')\n",
        "  print(f'¿El numero es perfecto? {numeros_perfectos(a)}')\n",
        "  print(f'¿El numero es primo? {numeros_primos(a)}')"
      ],
      "metadata": {
        "id": "iaTdY4g63FEv"
      },
      "id": "iaTdY4g63FEv",
      "execution_count": 2,
      "outputs": []
    },
    {
      "cell_type": "code",
      "source": [
        "numeros(5)"
      ],
      "metadata": {
        "colab": {
          "base_uri": "https://localhost:8080/"
        },
        "id": "lI7mUtN_3gu3",
        "outputId": "7ee04f98-6038-4cb1-b449-2e1b357b2172"
      },
      "id": "lI7mUtN_3gu3",
      "execution_count": 3,
      "outputs": [
        {
          "output_type": "stream",
          "name": "stdout",
          "text": [
            "¿El numero es defectivo? True\n",
            "¿El numero es abundante? False\n",
            "¿El numero es semiperfecto? False\n",
            "¿El numero es perfecto? False\n",
            "¿El numero es primo? True\n"
          ]
        }
      ]
    },
    {
      "cell_type": "markdown",
      "source": [
        "## Intentos del reto, con el codigo de abajo puedo imprimir de a uno los primeros 3 para cada uno de los 5 tipos de numeros, pero no logrè ponerlos todos en un mismo codigo"
      ],
      "metadata": {
        "id": "mL7TKa0FJw0w"
      },
      "id": "mL7TKa0FJw0w"
    },
    {
      "cell_type": "code",
      "source": [
        "    n = 0\n",
        "    num = []\n",
        "    primos = []\n",
        "    for i in range (n < 30):\n",
        "        if numeros_defectivos(i):  # ya es booleano, no necesitas == True\n",
        "            num.append(i)\n",
        "        if numeros_primos(i):\n",
        "            primos.append(i)\n",
        "        n += 1  # sigue al siguiente número\n",
        "    print(num,primos ) # devuelve la lista de los 30 primeros\n"
      ],
      "metadata": {
        "id": "mVJUXQqd5uYX",
        "colab": {
          "base_uri": "https://localhost:8080/"
        },
        "outputId": "ad07129d-e8ec-4596-a8be-c99216b978b1"
      },
      "id": "mVJUXQqd5uYX",
      "execution_count": 4,
      "outputs": [
        {
          "output_type": "stream",
          "name": "stdout",
          "text": [
            "[] []\n"
          ]
        }
      ]
    },
    {
      "cell_type": "code",
      "source": [
        "def funciones(f):\n",
        "  num = []\n",
        "  i = 1  # empezamos desde 1\n",
        "\n",
        "  while len(num) < 30:\n",
        "    if f(i):\n",
        "      num.append(i)\n",
        "      i += 1  # prueba el siguiente número\n",
        "\n",
        "  return num"
      ],
      "metadata": {
        "id": "M0YPICRMF9oq"
      },
      "id": "M0YPICRMF9oq",
      "execution_count": 5,
      "outputs": []
    },
    {
      "cell_type": "code",
      "source": [
        "defectivos30 = funciones(numeros_defectivos)\n",
        "print(defectivos30)"
      ],
      "metadata": {
        "id": "K6fLmi_IHSlq"
      },
      "id": "K6fLmi_IHSlq",
      "execution_count": null,
      "outputs": []
    },
    {
      "id": "7abaa420",
      "cell_type": "markdown",
      "source": [
        "# 2.\n",
        "Determine si un número `n` entero ingresado por el usuario es un [palíndromo](https://en.wikipedia.org/wiki/Palindromic_number), (Retorne `True` en caso afirmativo y `False` en caso contrario)"
      ],
      "metadata": {
        "id": "7abaa420"
      }
    },
    {
      "id": "f4074c2f",
      "cell_type": "code",
      "source": [
        "def palindromo(n):\n",
        "  if str(n) == str(n)[::-1]:\n",
        "    return True\n",
        "  else:\n",
        "    return False\n"
      ],
      "metadata": {
        "trusted": false,
        "id": "f4074c2f"
      },
      "outputs": [],
      "execution_count": null
    },
    {
      "cell_type": "code",
      "source": [
        "palindromo(1221)"
      ],
      "metadata": {
        "id": "V-gelzeDiEGs"
      },
      "id": "V-gelzeDiEGs",
      "execution_count": null,
      "outputs": []
    },
    {
      "id": "f5ef6ce7",
      "cell_type": "markdown",
      "source": [
        "# 3.\n",
        "Una característica útil de las funciones definidas por el usuario es la **recursion**, la capacidad de una función de llamarse a sí misma. Por ejemplo, considere la siguiente definición del factorial $n!$ de un entero positivo $n$:\n",
        "\n",
        "$$n! =\n",
        "\\begin{cases}\n",
        "1 & \\text{si } n = 1, \\\\\n",
        "n \\times (n - 1)! & \\text{si } n > 1.\n",
        "\\end{cases}$$\n",
        "\n",
        "Esta constituye una definición completa del factorial que nos permite calcular el valor de $n!$ para cualquier entero positivo. Podemos emplear esta definición directamente para crear una función en Python para factoriales, así:\n",
        "\n",
        "\n",
        "\n",
        "```python\n",
        "def factorial(n):\n",
        "    if n == 1:\n",
        "        return 1\n",
        "    else:\n",
        "        return n * factorial(n-1)\n",
        "```\n",
        "- Los números de Catalan $C_n$ aparecieron previamente en clase. La definición dada allí puede reescribirse como:\n",
        "\n",
        "$$C_n =\n",
        "\\begin{cases}\n",
        "1 & \\text{si } n = 0, \\\\\n",
        "\\frac{4n - 2}{n + 1} \\, C_{n-1} & \\text{si } n > 0.\n",
        "\\end{cases}$$\n",
        "\n",
        "Escriba una función en Python, usando recursión, que calcule $C_n$. Utilice su función para calcular e imprimir $C_{50}$.\n",
        "\n",
        "- Euclides demostró que el máximo común divisor $g(m, n)$ de dos enteros no negativos $m$ y $n$ satisface:\n",
        "\n",
        "$$g(m, n) =\n",
        "\\begin{cases}\n",
        "m & \\text{si } n = 0, \\\\\n",
        "g(n, m \\bmod n) & \\text{si } n > 0.\n",
        "\\end{cases}$$\n",
        "\n",
        "Escriba una función en Python $g(m, n)$ que emplee recursión para calcular el máximo común divisor de $m$ y $n$ usando esta fórmula. Use su función para calcular e imprimir el máximo común divisor de 108 y 192.\n"
      ],
      "metadata": {
        "id": "f5ef6ce7"
      }
    },
    {
      "id": "7f8fb186",
      "cell_type": "code",
      "source": [
        "def catalan(n):\n",
        "  if n== 0:\n",
        "    return 1\n",
        "  else:\n",
        "    return ((4*n-2)//(n+1))*catalan(n-1)"
      ],
      "metadata": {
        "trusted": false,
        "id": "7f8fb186"
      },
      "outputs": [],
      "execution_count": null
    },
    {
      "cell_type": "code",
      "source": [
        "catalan(50)"
      ],
      "metadata": {
        "id": "RUaGCRyFXHm9"
      },
      "id": "RUaGCRyFXHm9",
      "execution_count": null,
      "outputs": []
    },
    {
      "cell_type": "code",
      "source": [
        "def g_m_n(m,n):\n",
        "  if n == 0:\n",
        "    return m\n",
        "  else:\n",
        "    return g_m_n(n,(m%n))"
      ],
      "metadata": {
        "id": "dFqpTqsJZZsW"
      },
      "id": "dFqpTqsJZZsW",
      "execution_count": null,
      "outputs": []
    },
    {
      "cell_type": "code",
      "source": [
        "g_m_n(108,192)"
      ],
      "metadata": {
        "id": "OSyaw-BJZyh7"
      },
      "id": "OSyaw-BJZyh7",
      "execution_count": null,
      "outputs": []
    },
    {
      "id": "7f0f66c8",
      "cell_type": "markdown",
      "source": [
        "# 4.\n",
        "Un problema conocido de mecánica cuántica involucra una partícula de masa $m$ que encuentra un escalón de potencial unidimensional, como se muestra en la figura:\n",
        "\n",
        "![image.png](data:image/png;base64,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)\n",
        "\n",
        "\n",
        "La partícula con energía cinética inicial $E$ y vector de onda $k_1 = \\sqrt{2mE}/\\hbar$ entra desde la izquierda y encuentra un salto abrupto en la energía potencial de altura $V$ en la posición $x = 0$. Resolviendo la ecuación de Schrödinger, se puede demostrar que cuando $E > V$ la partícula puede:\n",
        "- Pasar el escalón, en cuyo caso tendrá una energía cinética menor $E - V$ al otro lado y un vector de onda correspondientemente más pequeño $k_2 = \\sqrt{2m(E - V)}/\\hbar$\n",
        "- Ser reflejada, manteniendo toda su energía cinética y vector de onda sin cambios, pero moviéndose en dirección opuesta.\n",
        "\n",
        "\n",
        "Las probabilidades $T$ y $R$ para transmisión y reflexión están dadas por:\n",
        "\n",
        "$$T = \\frac{4k_1k_2}{(k_1 + k_2)^2}, \\quad R = \\left(\\frac{k_1 - k_2}{k_1 + k_2}\\right)^2.$$\n",
        "\n",
        "Consideremos una partícula con masa igual a la del electrón $m = 9.11 \\times 10^{-31} \\, \\text{kg}$ y energía $10 \\, \\text{eV}$ que encuentra un escalón de potencial de altura $9 \\, \\text{eV}$. Escriba un programa en Python para calcular e imprimir las probabilidades de transmisión y reflexión usando las fórmulas anteriores.\n"
      ],
      "metadata": {
        "id": "7f0f66c8"
      }
    },
    {
      "id": "f231cf33",
      "cell_type": "code",
      "source": [
        "from math import sqrt\n",
        "def probabilidades(E,V,m):\n",
        "  h_ = 1.054e-34 #j*s\n",
        "  k1 = (sqrt(2*m*E))/h_\n",
        "  k2 = (sqrt(2*m*(E-V)))/h_\n",
        "\n",
        "  T = (4*k1*k2)/((k1+k2)**2)\n",
        "  R = ((k1-k2)/(k1+k2))**2\n",
        "\n",
        "  return print(f'La probabilidad de transmision es: {(T*100):.4f} % y la probabilidad de Reflexion es: {(R*100): .4f} %')\n"
      ],
      "metadata": {
        "trusted": false,
        "id": "f231cf33"
      },
      "outputs": [],
      "execution_count": null
    },
    {
      "cell_type": "code",
      "source": [
        "probabilidades(10,9,9.11e-31)"
      ],
      "metadata": {
        "id": "hAbDFy0Mzx5c"
      },
      "id": "hAbDFy0Mzx5c",
      "execution_count": null,
      "outputs": []
    },
    {
      "cell_type": "markdown",
      "source": [
        "# 5\n",
        "La órbita en el espacio de un cuerpo alrededor de otro, como un planeta alrededor del Sol, no necesita ser circular. En general, toma la forma de una **elipse**, con el cuerpo a veces más cerca y a veces más lejos.\n",
        "\n",
        "Si se conocen la distancia $\\ell_{1}$ del acercamiento más próximo que hace un planeta al Sol, llamado **perihelio**, y su velocidad lineal $v_{1}$ en el perihelio, entonces cualquier otra propiedad de la órbita puede calcularse a partir de estos dos datos de la siguiente manera:\n",
        "\n",
        "La **segunda ley de Kepler** nos dice que la distancia $\\ell_{2}$ y velocidad $v_{2}$ del planeta en su punto más distante, o **afelio**, satisfacen:\n",
        "\n",
        "$$\n",
        "\\ell_{2}v_{2} = \\ell_{1}v_{1}.\n",
        "$$\n",
        "\n",
        "Al mismo tiempo, la **energía total** (cinética más gravitacional) de un planeta con velocidad $v$ y distancia $r$ del Sol está dada por:\n",
        "\n",
        "$$\n",
        "E = \\tfrac{1}{2}mv^{2} - G\\frac{mM}{r},\n",
        "$$\n",
        "\n",
        "donde:\n",
        "\n",
        "- $m$ es la masa del planeta,  \n",
        "- $M = 1.9891 \\times 10^{30}\\,\\mathrm{kg}$ es la masa del Sol,  \n",
        "- $G = 6.6738 \\times 10^{-11}\\,\\mathrm{m}^{3}\\,\\mathrm{kg}^{-1}\\,\\mathrm{s}^{-2}$ es la constante gravitacional de Newton.\n",
        "\n",
        "Dado que la energía debe conservarse, se llega a que $v_{2}$ es la raíz más pequeña de la ecuación cuadrática:\n",
        "\n",
        "$$\n",
        "v_{2}^{2} - \\frac{2GM}{v_{1}\\ell_{1}}v_{2} - \\left[ v_{1}^{2} - \\frac{2GM}{\\ell_{1}} \\right] = 0.\n",
        "$$\n",
        "\n",
        "Una vez que se tiene $v_{2}$, podemos calcular $\\ell_{2}$ usando la relación:\n",
        "\n",
        "$$\n",
        "\\ell_{2} = \\frac{\\ell_{1}v_{1}}{v_{2}}.\n",
        "$$\n",
        "\n",
        "---\n",
        "\n",
        "Dados los valores de $v_{1}$, $\\ell_{1}$ y $\\ell_{2}$, otros parámetros de la órbita vienen dados por fórmulas simples que pueden derivarse de las leyes de Kepler y del hecho de que la órbita es una **elipse**:\n",
        "\n",
        "$$\n",
        "    \\text{Semieje mayor:}  \\quad a = \\tfrac{1}{2}(\\ell_{1}+\\ell_{2}),\n",
        "$$\n",
        "$$\n",
        "    \\text{Semieje menor:}  \\quad b = \\sqrt{\\ell_{1}\\ell_{2}},\n",
        "$$\n",
        "$$\n",
        "    \\text{Periodo orbital:}  \\quad T = \\frac{2\\pi ab}{\\ell_{1}v_{1}},\n",
        "$$\n",
        "$$\n",
        "    \\text{Excentricidad orbital:}  \\quad e = \\frac{\\ell_{2}-\\ell_{1}}{\\ell_{2}+\\ell_{1}}.\n",
        "$$\n",
        "\n",
        "Escriba un programa que solicite al usuario ingresar la distancia al Sol y la velocidad en el perihelio, luego calcule e imprima las cantidades $\\ell_{2}$, $v_{2}$, $T$, y $e$.\n",
        "\n",
        "- Pruebe su programa calculando las propiedades de las órbitas de la Tierra (para la cual $\\ell_{1}=1.4710\\times 10^{11}\\,\\mathrm{m}$ y $v_{1}=3.0287\\times 10^{4}\\,\\mathrm{m}\\,\\mathrm{s}^{-1}$) y del cometa Halley ($\\ell_{1}=8.7830\\times 10^{10}\\,\\mathrm{m}$ y $v_{1}=5.4529\\times 10^{4}\\,\\mathrm{m}\\,\\mathrm{s}^{-1}$). Entre otras cosas, debería encontrar que el período orbital de la Tierra es un año y el del cometa Halley es alrededor de 76 años.\n",
        "\n",
        "\n"
      ],
      "metadata": {
        "id": "0VxfuKpW5wqi"
      },
      "id": "0VxfuKpW5wqi"
    },
    {
      "id": "2b8f351c",
      "cell_type": "code",
      "source": [
        "from math import pi\n",
        "def orbitas(l1,v1):\n",
        "  G = 6.6738e-11\n",
        "  M = 1.9891e30\n",
        "   # Coeficientes de la cuadrática: Av2^2 - B*v2 - C = 0\n",
        "  B = -((2 * G * M) / (v1 * l1))\n",
        "  C = -(v1**2 - ((2 * G * M) / l1))\n",
        "\n",
        "    # Discriminante\n",
        "  discriminante = B**2 - (4 * C)\n",
        "  if discriminante < 0:\n",
        "      raise ValueError(\"Discriminante negativo: la raíz cuadrada no existe en los reales.\")\n",
        "\n",
        "    # Solución positiva (la otra no tiene sentido físico)\n",
        "  v2 = 0.5 * (-B - sqrt(discriminante))\n",
        "\n",
        "\n",
        "  #v2 = (((2*G*M)/(v1*l1)) - (sqrt((((2*G*M)/(v1*l1))**2)-(4*((v1**2)-((2*G*M)/l1))))))/2\n",
        "  l2 = (l1*v1)/v2\n",
        "  a = (l1+l2)/2\n",
        "  b = abs(sqrt((l1*l2)))\n",
        "  T = (2*pi*a*b)/(l1*v1)\n",
        "  e = (l2-l1)/(l2+l1)\n",
        "\n",
        "  return l2, v2, T, e\n",
        "\n"
      ],
      "metadata": {
        "trusted": false,
        "id": "2b8f351c"
      },
      "outputs": [],
      "execution_count": null
    },
    {
      "cell_type": "code",
      "source": [
        "l2_T, v2_T, T_T, e_T = orbitas(1.4710e11, 3.0287e4)\n",
        "print(f'la distancia mas lejana al sol es: {l2_T/1000: .4f} km, la velocidad en este punto es: {v2_T/1000*3600: .4f} km/h, el periodo orbital es: {T_T/3.154e7: .4f} años, y la excentricidad de su orbita es:{e_T}')"
      ],
      "metadata": {
        "id": "0Zq_EaOfBbEa"
      },
      "id": "0Zq_EaOfBbEa",
      "execution_count": null,
      "outputs": []
    },
    {
      "cell_type": "code",
      "source": [
        "l2_H, v2_H, T_H, e_H = orbitas(8.7830e10, 5.4529e4)\n",
        "print(f'la distancia mas lejana al sol es: {l2_H/1000: .4f} km, la velocidad en este punto es: {v2_H/1000*3600: .4f} km/h, el periodo orbital es: {T_H/3.154e7: .4f} años, y la excentricidad de su orbita es:{e_H}')"
      ],
      "metadata": {
        "id": "8BWJf47XMTbY"
      },
      "id": "8BWJf47XMTbY",
      "execution_count": null,
      "outputs": []
    },
    {
      "id": "cd4ec81e",
      "cell_type": "markdown",
      "source": [
        "# 6.\n",
        "Un proyectil es lanzado desde una altura inicial $y_0 = 0$ con una velocidad inicial de $4.0\\, \\text{m/s}$ a $45^\\circ$ respecto a la horizontal. Graficar la trayectoria del proyectil en su plano de movimiento (considerando el eje $x$ paralelo a la horizontal y el origen en la posición inicial del proyectil) desde el punto de lanzamiento hasta el punto donde impacta el suelo (asumiendo un terreno plano). La gráfica debe incluir etiquetas en los ejes y un título. Recuerde que las ecuaciones del movimiento parabólico están dadas por\n",
        "\n",
        "$$\n",
        "\\text{Posición horizontal:} \\quad x(t) = v_{0x} t = v_0 \\cos\\theta \\cdot t\n",
        "$$\n",
        "$$\n",
        "\\text{Posición vertical:} \\quad y(t) = y_0 + v_{0y} t - \\frac{1}{2}gt^2 = y_0 + v_0 \\sin\\theta \\cdot t - \\frac{1}{2}gt^2\n",
        "$$\n",
        "$$\n",
        "\\text{Velocidad horizontal:} \\quad v_x(t) = v_{0x} =v_0 \\cos \\theta= \\text{constante}\n",
        "$$\n",
        "$$\n",
        "\\text{Velocidad vertical:} \\quad v_y(t) = v_{0y} - gt = v_0 \\sin\\theta - gt\n",
        "$$"
      ],
      "metadata": {
        "id": "cd4ec81e"
      }
    },
    {
      "id": "74e3d972",
      "cell_type": "code",
      "source": [
        "import numpy as np\n",
        "import matplotlib.pyplot as plt\n",
        "from math import cos\n",
        "\n",
        "v0 = 4.0\n",
        "tetha = 45\n",
        "y0 = 0\n",
        "g = 9.8\n",
        "\n",
        "v0x = v0y = v0*cos(45)\n",
        "t_total = (2*v0y)/g\n",
        "t = np.linspace(0,t_total,100)\n",
        "\n",
        "x = v0x*t\n",
        "y = y0 + (v0y*t)-(0.5*g*(t**2))\n",
        "\n",
        "plt.plot(x,y, color = 'violet')\n",
        "plt.style.use('dark_background')\n",
        "plt.xlabel('Posicion en X')\n",
        "plt.ylabel('Poscion en Y')\n",
        "plt.title('Movimiento Parabolico')\n",
        "plt.grid()\n",
        "plt.show()\n"
      ],
      "metadata": {
        "trusted": false,
        "id": "74e3d972"
      },
      "outputs": [],
      "execution_count": null
    },
    {
      "id": "316251cc",
      "cell_type": "markdown",
      "source": [
        "# 7.\n",
        "\n",
        "Los polinomios de Legendre son de gran importancia en física, especialmente en la solución de la ecuación de Laplace en coordenadas esféricas. Son fundamentales en la expansión en armónicos esféricos, lo que los hace esenciales en problemas de mecánica cuántica y electromagnetismo. Cada polinomio de Legendre $P_n(x)$ es un polinomio de grado $n$. Este puede ser expresado usando la Fórmula de Rodrigues:\n",
        "     \n",
        "$$\n",
        "P_n (x)=\\frac{1}{n!\\ 2^n} \\frac{d^n}{dx^n} (x^2-1)^n, \\ \\ n \\in  \\mathbb{Z^{+}}+\\{0\\}\n",
        "$$\n",
        "        \n",
        "- Utilizando la fórmula de Rodrigues halle $P_0(x)$ y $P_1(x)$.\n",
        "-  Con la fórmula de recurrencia\n",
        "$$\n",
        "            P_{j+1}(x)=\\frac{(2j+1)x P_j (x)-jP_{j-1}(x)}{j+1},\n",
        "$$\n",
        "elabore un código que permita calcular $P_n(x)$ para $n\\geq2$.\n",
        "- En una misma gráfica muestre $P_n(x)$ para $1\\leq n\\leq5$.\n"
      ],
      "metadata": {
        "id": "316251cc"
      }
    },
    {
      "cell_type": "markdown",
      "source": [
        "---\n",
        "Reemplazando en la formula de Rodrigues se obtiene que Po(x) = 1 y P1(x) = x"
      ],
      "metadata": {
        "id": "-X377aMD7uwM"
      },
      "id": "-X377aMD7uwM"
    },
    {
      "cell_type": "code",
      "source": [
        "import numpy as np\n",
        "import matplotlib.pyplot as plt\n",
        "\n",
        "def legendre(n, x):\n",
        "    x = np.array(x)\n",
        "    if n == 0:\n",
        "        return np.ones_like(x)\n",
        "    elif n == 1:\n",
        "        return x\n",
        "    else:\n",
        "        Pn_minus2 = np.ones_like(x)\n",
        "        Pn_minus1 = x\n",
        "        for j in range(1, n):\n",
        "            Pn = ((2*j + 1)*x*Pn_minus1 - j*Pn_minus2)/(j + 1)\n",
        "            Pn_minus2 = Pn_minus1\n",
        "            Pn_minus1 = Pn\n",
        "        return Pn\n"
      ],
      "metadata": {
        "id": "jXSZIW47DyKh"
      },
      "id": "jXSZIW47DyKh",
      "execution_count": null,
      "outputs": []
    },
    {
      "cell_type": "code",
      "source": [
        "x = np.linspace(-1, 1, 400)\n",
        "plt.figure(figsize=(10, 6))\n",
        "for n in range(6):\n",
        "    y = legendre(n, x)\n",
        "    plt.plot(x, y, label=f\"$P_{n}(x)$\")\n",
        "\n",
        "plt.title(\"Polinomios de Legendre\")\n",
        "plt.xlabel(\"$x$\")\n",
        "plt.ylabel(\"$P_n(x)$\")\n",
        "plt.grid()\n",
        "plt.legend()\n",
        "plt.show()"
      ],
      "metadata": {
        "id": "gvg5Q2UXDx0x"
      },
      "id": "gvg5Q2UXDx0x",
      "execution_count": null,
      "outputs": []
    },
    {
      "cell_type": "code",
      "source": [],
      "metadata": {
        "id": "HnUxKnZzESfJ"
      },
      "id": "HnUxKnZzESfJ",
      "execution_count": null,
      "outputs": []
    }
  ]
}