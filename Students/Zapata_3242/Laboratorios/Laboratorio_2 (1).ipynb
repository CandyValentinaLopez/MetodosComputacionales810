{
  "metadata": {
    "kernelspec": {
      "name": "python3",
      "display_name": "Python 3 (ipykernel)",
      "language": "python"
    },
    "language_info": {
      "name": "python",
      "version": "3.10.16",
      "mimetype": "text/x-python",
      "codemirror_mode": {
        "name": "ipython",
        "version": 3
      },
      "pygments_lexer": "ipython3",
      "nbconvert_exporter": "python",
      "file_extension": ".py"
    },
    "colab": {
      "provenance": []
    }
  },
  "nbformat_minor": 5,
  "nbformat": 4,
  "cells": [
    {
      "id": "5833cba4",
      "cell_type": "markdown",
      "source": [
        "# Laboratorio 02: Representación Numérica, Errores y Estabilidad.\n",
        "\n",
        "---\n",
        "### Profesor: Daniel Ruiz Mejía\n",
        "### Nombre: Estefania Zapata Valderrama\n",
        "*Métodos computacionales 2025-I*\n",
        "\n",
        "---"
      ],
      "metadata": {
        "id": "5833cba4"
      }
    },
    {
      "id": "204306de",
      "cell_type": "markdown",
      "source": [
        "# 1.\n",
        "Cree una función llamada `myint` pero que a partir de un número binario con base de 16 bits encuentre el entero correspondiente. Compare su resultado con `int(0b1000011100001)`"
      ],
      "metadata": {
        "id": "204306de"
      }
    },
    {
      "id": "6b0117ca",
      "cell_type": "code",
      "source": [
        "def myint(binario):\n",
        "    if not binario.startswith('0b'):\n",
        "        binario = '0b' + binario\n",
        "    bits = binario[2:]  # Eliminar 0b\n",
        "    if len(bits) < 16:\n",
        "        bits = bits.zfill(16) #relleno con ceros  para que tenga 16 bits\n",
        "    elif len(bits) > 16:\n",
        "        raise ValueError(\"El número binario excede los 16 bits\")\n",
        "\n",
        "    valor = 0\n",
        "    for i, bit in enumerate(bits):\n",
        "        potencia = 15 - i\n",
        "        valor += int(bit) * (2 ** potencia)\n",
        "\n",
        "    return valor\n"
      ],
      "metadata": {
        "trusted": false,
        "id": "6b0117ca"
      },
      "outputs": [],
      "execution_count": 2
    },
    {
      "cell_type": "code",
      "source": [
        "numero_binario = '0b1000011100001'\n",
        "resultado_myint = myint(numero_binario)\n",
        "resultado_int = int(numero_binario, 2)\n",
        "\n",
        "print(f\"myint({numero_binario}) = {resultado_myint}\")\n",
        "print(f\"int({numero_binario}, 2) = {resultado_int}\")"
      ],
      "metadata": {
        "colab": {
          "base_uri": "https://localhost:8080/"
        },
        "id": "-O1S_iYAr3Fy",
        "outputId": "d23d8d3f-0fd3-4b2e-a82a-b52f102d52be"
      },
      "id": "-O1S_iYAr3Fy",
      "execution_count": 29,
      "outputs": [
        {
          "output_type": "stream",
          "name": "stdout",
          "text": [
            "myint(0b1000011100001) = 4321\n",
            "int(0b1000011100001, 2) = 4321\n"
          ]
        }
      ]
    },
    {
      "id": "bb956b56",
      "cell_type": "markdown",
      "source": [
        "# 2.\n",
        "Generar una función llamada `number64` para flotantes de precisión doble (64bits) donde a partir de un número binario encuentre el valor real. Compruebe su solución usando\n",
        "\n",
        "```\n",
        "number64(\"0100000000111011100100001111111111111111111111111111111111111111\")\n",
        "```"
      ],
      "metadata": {
        "id": "bb956b56"
      }
    },
    {
      "id": "8d675a1e",
      "cell_type": "code",
      "source": [
        "import struct\n",
        "\n",
        "def number64(binario):\n",
        "    if len(binario) != 64: # Verifico que la cadena tenga 64 bits\n",
        "        raise ValueError(\"La cadena binaria debe tener exactamente 64 bits\")\n",
        "\n",
        "    entero = int(binario, 2)\n",
        "    bytes_data = entero.to_bytes(8, byteorder='big', signed=False)\n",
        "    valor = struct.unpack('>d', bytes_data)[0]\n",
        "\n",
        "    return valor"
      ],
      "metadata": {
        "trusted": false,
        "id": "8d675a1e"
      },
      "outputs": [],
      "execution_count": 30
    },
    {
      "cell_type": "code",
      "source": [
        "binario = \"0100000000111011100100001111111111111111111111111111111111111111\"\n",
        "\n",
        "resultado = number64(binario)\n",
        "print(resultado)"
      ],
      "metadata": {
        "colab": {
          "base_uri": "https://localhost:8080/"
        },
        "id": "FTMv7BLBu4ty",
        "outputId": "14eb99b8-b5b6-4416-d080-afc5240217d1"
      },
      "id": "FTMv7BLBu4ty",
      "execution_count": 31,
      "outputs": [
        {
          "output_type": "stream",
          "name": "stdout",
          "text": [
            "27.566406249999996\n"
          ]
        }
      ]
    },
    {
      "id": "a5693385",
      "cell_type": "markdown",
      "source": [
        "# 3. Aproximación de $\\pi$\n",
        "\n",
        "La serie de Maclaurin para la función tangente inversa converge en $-1 < x \\leq 1$ y está dada por:\n",
        "\n",
        "$$\n",
        "\\arctan x = \\lim_{n \\to \\infty} P_n(x) = \\lim_{n \\to \\infty} \\sum_{i=1}^n (-1)^{i+1} \\frac{x^{2i-1}}{2i-1}\n",
        "$$\n",
        "\n",
        "- **Aproximación básica**\n",
        "    - Utilizando el hecho de que $\\tan(\\pi/4) = 1$, implemente en Python una función que calcule $4P_n(1)$ y determina el número mínimo de términos $n$ necesarios para que $|4P_n(1) - \\pi| < 10^{-3}$. Compare su resultado con el valor de $\\pi$ de la librería math.\n",
        "    - Requiriendo que el valor de $\\pi$ esté dentro de un error de $10^{-4}$. ¿Cuántos términos de la serie se necesitaría sumar para obtener esta precisión? Implemente una solución en Python para encontrar este valor.\n",
        "- **Mejora de la convergencia**\n",
        "    El método anterior puede mejorarse significativamente usando la identidad:\n",
        "    $$\n",
        "    \\frac{\\pi}{4} = \\arctan\\left(\\frac{1}{2}\\right) + \\arctan\\left(\\frac{1}{3}\\right)\n",
        "    $$\n",
        "    - Implemente en Python una función que evalúe la serie para $\\arctan(1/2)$ y $\\arctan(1/3)$ por separado y luego las sume. Determine el número mínimo de términos necesarios para cada serie (pueden ser diferentes) para aproximar $\\pi$ con un error menor a $10^{-3}$ y $10^{-6}$.\n",
        "\n",
        "- **Método de alta precisión**\n",
        "    Para obtener una convergencia aún más rápida, usamos la identidad:\n",
        "    $$\n",
        "    \\frac{\\pi}{4} = 4\\arctan\\left(\\frac{1}{5}\\right) - \\arctan\\left(\\frac{1}{239}\\right)\n",
        "    $$\n",
        "    Desarrolle un programa en Python que implemente esta fórmula y determine:\n",
        "    - El número mínimo de términos necesarios en cada serie para aproximar $\\pi$ con error menor a $10^{-3}$ y $10^{-6}$.\n",
        "    - Compare el rendimiento (número de términos requeridos) con los métodos anteriores.\n",
        "\n",
        ""
      ],
      "metadata": {
        "id": "a5693385"
      }
    },
    {
      "cell_type": "markdown",
      "source": [
        "## Aproximacion basica"
      ],
      "metadata": {
        "id": "OXdSF4LlvnL8"
      },
      "id": "OXdSF4LlvnL8"
    },
    {
      "id": "8aef365a",
      "cell_type": "code",
      "source": [
        "import math\n",
        "\n",
        "def aproximacion_basica(tol):\n",
        "    suma = 0\n",
        "    n = 0\n",
        "    pi_real = math.pi\n",
        "    error = float('inf')\n",
        "\n",
        "    while error > tol:\n",
        "        n += 1\n",
        "        termino = (-1)**(n+1) * (1)**(2*n-1) / (2*n-1)\n",
        "        suma += termino\n",
        "        aproximacion = 4 * suma\n",
        "        error = abs(termino)\n",
        "\n",
        "    return 4*suma, n"
      ],
      "metadata": {
        "trusted": false,
        "id": "8aef365a"
      },
      "outputs": [],
      "execution_count": 41
    },
    {
      "cell_type": "code",
      "source": [
        "pi_aprox, terminos = aproximacion_basica(1e-3)\n",
        "print(f\"Aproximación básica de π con error < {1e-3}:\")\n",
        "print(f\"Valor aproximado: {pi_aprox}\")\n",
        "print(f\"Términos necesarios: {terminos}\")\n",
        "print(f\"Error real: {abs(pi_aprox - math.pi)}\\n\")"
      ],
      "metadata": {
        "colab": {
          "base_uri": "https://localhost:8080/"
        },
        "id": "N__2jrLIvcIT",
        "outputId": "db581afe-4d37-4995-d137-c535c39493d9"
      },
      "id": "N__2jrLIvcIT",
      "execution_count": 43,
      "outputs": [
        {
          "output_type": "stream",
          "name": "stdout",
          "text": [
            "Aproximación básica de π con error < 0.001:\n",
            "Valor aproximado: 3.143588659585789\n",
            "Términos necesarios: 501\n",
            "Error real: 0.0019960059959958087\n",
            "\n"
          ]
        }
      ]
    },
    {
      "cell_type": "markdown",
      "source": [
        "## Mejora de la convergencia"
      ],
      "metadata": {
        "id": "232S0Z7NyNtD"
      },
      "id": "232S0Z7NyNtD"
    },
    {
      "cell_type": "code",
      "source": [
        "def aproximacion_mejorada(tol):\n",
        "    suma1 = 0\n",
        "    suma2 = 0\n",
        "    n1 = 0\n",
        "    n2 = 0\n",
        "    pi_real = math.pi\n",
        "    error = float('inf')\n",
        "\n",
        "    while error > tol:\n",
        "        n1 += 1\n",
        "        termino1 = (-1)**(n1+1) * (1/2)**(2*n1-1) / (2*n1-1)\n",
        "        suma1 += termino1\n",
        "\n",
        "        n2 += 1\n",
        "        termino2 = (-1)**(n2+1) * (1/3)**(2*n2-1) / (2*n2-1)\n",
        "        suma2 += termino2\n",
        "\n",
        "        aproximacion = 4 * (suma1 + suma2)\n",
        "        error = max(abs(termino1), abs(termino2))\n",
        "\n",
        "    return 4 * (suma1 + suma2), n1, n2"
      ],
      "metadata": {
        "id": "j5mTM3WO9o4W"
      },
      "id": "j5mTM3WO9o4W",
      "execution_count": 45,
      "outputs": []
    },
    {
      "cell_type": "code",
      "source": [
        "pi_aprox, terminos1, terminos2 = aproximacion_mejorada(1e-3)\n",
        "print(f\"Aproximación mejorada de π con error < {1e-3}:\")\n",
        "print(f\"Valor aproximado: {pi_aprox}\")\n",
        "print(f\"Términos en arctan(1/2): {terminos1}\")\n",
        "print(f\"Términos en arctan(1/3): {terminos2}\")\n",
        "print(f\"Error real: {abs(pi_aprox - math.pi)}\\n\")"
      ],
      "metadata": {
        "colab": {
          "base_uri": "https://localhost:8080/"
        },
        "id": "Tt2dJ-SX9tHJ",
        "outputId": "66d03fb4-b232-4ae7-d1a9-7bc51d6589e8"
      },
      "id": "Tt2dJ-SX9tHJ",
      "execution_count": 40,
      "outputs": [
        {
          "output_type": "stream",
          "name": "stdout",
          "text": [
            "Aproximación mejorada de π con error < 0.001:\n",
            "Valor aproximado: 3.1417411974336886\n",
            "Términos en arctan(1/2): 5\n",
            "Términos en arctan(1/3): 5\n",
            "Error real: 0.00014854384389551\n",
            "\n"
          ]
        }
      ]
    },
    {
      "cell_type": "markdown",
      "source": [
        "## Metodos de alta precision"
      ],
      "metadata": {
        "id": "ikZkIaws90HB"
      },
      "id": "ikZkIaws90HB"
    },
    {
      "cell_type": "code",
      "source": [
        "def aproximacion_altap(tol):\n",
        "    suma1 = 0\n",
        "    suma2 = 0\n",
        "    n1 = 0\n",
        "    n2 = 0\n",
        "    error = float('inf')\n",
        "\n",
        "    while error > tol:\n",
        "\n",
        "        n1 += 1\n",
        "        termino1 = (-1)**(n1+1) * (1/5)**(2*n1-1) / (2*n1-1)\n",
        "        suma1 += termino1\n",
        "\n",
        "        if n2 == 0 or (n2 < 5 and n1 % 5 == 0) or error < tol/10:\n",
        "            n2 += 1\n",
        "            termino2 = (-1)**(n2+1) * (1/239)**(2*n2-1) / (2*n2-1)\n",
        "            suma2 += termino2\n",
        "\n",
        "        aproximacion = 4 * (4*suma1 - suma2)\n",
        "        error = abs(aproximacion - math.pi)\n",
        "\n",
        "    return aproximacion, n1, n2"
      ],
      "metadata": {
        "id": "vT4hX2aX93KS"
      },
      "id": "vT4hX2aX93KS",
      "execution_count": 47,
      "outputs": []
    },
    {
      "cell_type": "code",
      "source": [
        "pi_aprox, terminos1, terminos2 = aproximacion_altap(1e-6)\n",
        "print(f\"Aproximación Machin de π con error < {1e-6}:\")\n",
        "print(f\"Valor aproximado: {pi_aprox}\")\n",
        "print(f\"Términos en arctan(1/5): {terminos1}\")\n",
        "print(f\"Términos en arctan(1/239): {terminos2}\")\n",
        "print(f\"Error real: {abs(pi_aprox - math.pi)}\")"
      ],
      "metadata": {
        "colab": {
          "base_uri": "https://localhost:8080/"
        },
        "id": "Q1ORh9rf98re",
        "outputId": "b45be3cd-677d-453e-a985-0b3f40183e26"
      },
      "id": "Q1ORh9rf98re",
      "execution_count": 49,
      "outputs": [
        {
          "output_type": "stream",
          "name": "stdout",
          "text": [
            "Aproximación Machin de π con error < 1e-06:\n",
            "Valor aproximado: 3.141591674516836\n",
            "Términos en arctan(1/5): 4\n",
            "Términos en arctan(1/239): 1\n",
            "Error real: 9.79072956930338e-07\n"
          ]
        }
      ]
    },
    {
      "id": "ca9640b7",
      "cell_type": "markdown",
      "source": [
        "# 4. Serie Exponencial\n",
        "Considere la serie para $e^{-x}$\n",
        "\n",
        "$$\n",
        "e^{-x}=\\sum_{n=0}^{N}  (-1)^n \\frac{x^{n}}{n!}\n",
        "$$\n",
        "\n",
        "- Calcula la serie para $x \\le 1$ y compárela con la función incorporada `np.exp(x)` (asuma que la función exponencial incorporada es exacta). Elegir un $N$ para el cual el siguiente término en la serie no sea más que $10^{-7}$ de la suma hasta ese punto.\n",
        "\n",
        "$$\n",
        "\\left| \\frac{(-x)^{N+1}}{(N+1)!} \\right | \\le \\left| 10^{-7} \\sum_{N=0}^{N} \\frac{(-x)^{n}}{n!} \\right|\n",
        "$$\n",
        "\n",
        "- Examine los términos de la serie para $x\\approx 10$ y observa las cancelaciones sustractivas significativas que ocurren cuando términos grandes se suman para dar respuestas pequeñas. En particular, imprime la cancelación casi perfecta en $n \\approx x − 1$.\n",
        "\n",
        "- Compruebe si se obtiene una mejor precisión siendo ingenioso y usando $e^{−x} = \\frac{1}{e^x}$ para valores grandes de $x$. Esto elimina la cancelación sustractiva, pero no elimina todos los errores de redondeo.\n",
        "\n",
        "\n",
        "- Incrementando progresivamente $x$ de 1 a 10, y luego de 10 a 100, use el programa para determinar experimentalmente cuándo la serie comienza a perder precisión, y cuándo la serie ya no converge.\n",
        "\n",
        "\n",
        "- Realice una serie de gráficos del error versus $N$ para diferentes valores de $x$."
      ],
      "metadata": {
        "id": "ca9640b7"
      }
    },
    {
      "cell_type": "markdown",
      "source": [
        "## serie para $$ e^{-x}$$"
      ],
      "metadata": {
        "id": "F5CaADAZCw2E"
      },
      "id": "F5CaADAZCw2E"
    },
    {
      "id": "ad34281d",
      "cell_type": "code",
      "source": [
        "import numpy as np\n",
        "import matplotlib.pyplot as plt\n",
        "\n",
        "def serieexponencial(x, tol=1e-7):\n",
        "    term = 1.0\n",
        "    total = term\n",
        "    n = 0\n",
        "\n",
        "    while True:\n",
        "        n += 1\n",
        "        term *= -x / n\n",
        "        if abs(term) <= tol * abs(total):\n",
        "            break\n",
        "        total += term\n",
        "\n",
        "    return total, n\n",
        "\n",
        "x = 0.5\n",
        "aproximacion1, N = serieexponencial(x)\n",
        "exacto1 = np.exp(-x)\n",
        "error1 = abs(aproximacion1 - exacto1)\n",
        "\n",
        "print(f\"Para x={x}:\")\n",
        "print(f\"  Aproximación: {aproximacion1}\")\n",
        "print(f\"  Valor exacto: {exacto1}\")\n",
        "print(f\"  Error absoluto: {error1}\")\n",
        "print(f\"  Términos usados (N): {N}\")"
      ],
      "metadata": {
        "trusted": false,
        "colab": {
          "base_uri": "https://localhost:8080/"
        },
        "id": "ad34281d",
        "outputId": "aafdea7e-cd6f-4682-b85c-80f6c53b50ca"
      },
      "outputs": [
        {
          "output_type": "stream",
          "name": "stdout",
          "text": [
            "Para x=0.5:\n",
            "  Aproximación: 0.6065306648375496\n",
            "  Valor exacto: 0.6065306597126334\n",
            "  Error absoluto: 5.124916158116832e-09\n",
            "  Términos usados (N): 9\n"
          ]
        }
      ],
      "execution_count": 50
    },
    {
      "cell_type": "markdown",
      "source": [
        "## Terminos para x= 10"
      ],
      "metadata": {
        "id": "QFnrW5kGC95b"
      },
      "id": "QFnrW5kGC95b"
    },
    {
      "cell_type": "code",
      "source": [
        "\n",
        "x = 10.0\n",
        "aproximacion2, N = serieexponencial(x, tol=1e-7)\n",
        "exacto2 = np.exp(-x)\n",
        "error2 = abs(aproximacion2 - exacto2)\n",
        "\n",
        "print(f\"\\nPara x={x}:\")\n",
        "print(f\"  Aproximación: {aproximacion2}\")\n",
        "print(f\"  Valor exacto: {exacto2}\")\n",
        "print(f\"  Error relativo: {error2/exacto2}\")\n",
        "print(f\"  Términos usados (N): {N}\")\n",
        "\n",
        "# Examinar términos alrededor de n ≈ x-1\n",
        "def show_terms(x):\n",
        "    term = 1.0\n",
        "    total = term\n",
        "    print(f\"\\nTérminos para x={x} alrededor de n≈{x-1}:\")\n",
        "    for n in range(1, 2*int(x)+1):\n",
        "        term *= -x / n\n",
        "        total += term\n",
        "        if abs(n - (x-1)) < 5:\n",
        "            print(f\"n={n}: término={term}, suma acumulada={total}\")\n",
        "\n",
        "show_terms(x)"
      ],
      "metadata": {
        "colab": {
          "base_uri": "https://localhost:8080/"
        },
        "id": "308n6UkQ-7rz",
        "outputId": "e3256863-d058-41ac-d1ab-80055affef37"
      },
      "id": "308n6UkQ-7rz",
      "execution_count": 51,
      "outputs": [
        {
          "output_type": "stream",
          "name": "stdout",
          "text": [
            "\n",
            "Para x=10.0:\n",
            "  Aproximación: 4.539992817288513e-05\n",
            "  Valor exacto: 4.5399929762484854e-05\n",
            "  Error relativo: 3.501326390242681e-08\n",
            "  Términos usados (N): 46\n",
            "\n",
            "Términos para x=10.0 alrededor de n≈9.0:\n",
            "n=5: término=-833.3333333333335, suma acumulada=-542.3333333333335\n",
            "n=6: término=1388.8888888888891, suma acumulada=846.5555555555557\n",
            "n=7: término=-1984.1269841269846, suma acumulada=-1137.571428571429\n",
            "n=8: término=2480.1587301587306, suma acumulada=1342.5873015873017\n",
            "n=9: término=-2755.7319223985896, suma acumulada=-1413.144620811288\n",
            "n=10: término=2755.7319223985896, suma acumulada=1342.5873015873017\n",
            "n=11: término=-2505.2108385441725, suma acumulada=-1162.6235369568708\n",
            "n=12: término=2087.6756987868107, suma acumulada=925.0521618299399\n",
            "n=13: término=-1605.9043836821622, suma acumulada=-680.8522218522223\n"
          ]
        }
      ]
    },
    {
      "cell_type": "markdown",
      "source": [
        "##Analisis de precision para $$\n",
        "e^{-x} = \\frac{1}{e^x}\n",
        "$$\n"
      ],
      "metadata": {
        "id": "9H2uVgW4DEID"
      },
      "id": "9H2uVgW4DEID"
    },
    {
      "cell_type": "code",
      "source": [
        "def mejoraealamenosx(x):\n",
        "    if x > 1:\n",
        "        return 1 / np.exp(x)\n",
        "    else:\n",
        "        return serieexponencial(x)[0]\n",
        "\n",
        "x_large = 20.0\n",
        "aproximacionmejorada = mejoraealamenosx(x_large)\n",
        "exacto3 = np.exp(-x_large)\n",
        "errormejorado = abs(aproximacionmejorada- exacto3)\n",
        "\n",
        "print(f\"\\nPara x={x_large}:\")\n",
        "print(f\"  Método mejorado: {aproximacionmejorada}\")\n",
        "print(f\"  Valor exacto: {exacto3}\")\n",
        "print(f\"  Error relativo: {errormejorado/exacto3}\")"
      ],
      "metadata": {
        "colab": {
          "base_uri": "https://localhost:8080/"
        },
        "id": "jNVXTmgIARnW",
        "outputId": "69ba074f-0755-4f61-81c1-1181db9b2f54"
      },
      "id": "jNVXTmgIARnW",
      "execution_count": 19,
      "outputs": [
        {
          "output_type": "stream",
          "name": "stdout",
          "text": [
            "\n",
            "Para x=20.0:\n",
            "  Método mejorado: 2.061153622438558e-09\n",
            "  Valor exacto: 2.061153622438558e-09\n",
            "  Error relativo: 0.0\n"
          ]
        }
      ]
    },
    {
      "cell_type": "code",
      "source": [
        "def precisionmayor(x_values):\n",
        "    results = []\n",
        "    for x in x_values:\n",
        "        approx, N = serieexponencial(x)\n",
        "        exact = np.exp(-x)\n",
        "        error = abs(approx - exact)/exact if exact != 0 else float('inf')\n",
        "        results.append((x, N, error))\n",
        "    return results\n",
        "\n",
        "# Rango de valores de x\n",
        "valoresxpequeños = np.linspace(1, 10, 10)\n",
        "valoresxgrandes = np.linspace(10, 100, 10)\n",
        "\n",
        "resultados1 = precisionmayor(valoresxpequeños)\n",
        "resultados2 = precisionmayor(valoresxgrandes)\n",
        "\n",
        "print(\"\\nResultados para x de 1 a 10:\")\n",
        "for x, N, error in resultados1:\n",
        "    print(f\"x={x:.1f}, N={N}, error relativo={error:.2e}\")\n",
        "\n",
        "print(\"\\nResultados para x de 10 a 100:\")\n",
        "for x, N, error in resultados2:\n",
        "    print(f\"x={x:.1f}, N={N}, error relativo={error:.2e}\")\n"
      ],
      "metadata": {
        "colab": {
          "base_uri": "https://localhost:8080/"
        },
        "id": "y4N15sXgATR2",
        "outputId": "09f83ac4-0b3b-473d-ae38-47fa66659bc5"
      },
      "id": "y4N15sXgATR2",
      "execution_count": 20,
      "outputs": [
        {
          "output_type": "stream",
          "name": "stdout",
          "text": [
            "\n",
            "Resultados para x de 1 a 10:\n",
            "x=1.0, N=11, error relativo=6.28e-08\n",
            "x=2.0, N=16, error relativo=2.07e-08\n",
            "x=3.0, N=20, error relativo=2.52e-08\n",
            "x=4.0, N=24, error relativo=2.13e-08\n",
            "x=5.0, N=28, error relativo=1.55e-08\n",
            "x=6.0, N=31, error relativo=5.48e-08\n",
            "x=7.0, N=35, error relativo=3.36e-08\n",
            "x=8.0, N=39, error relativo=2.01e-08\n",
            "x=9.0, N=42, error relativo=5.86e-08\n",
            "x=10.0, N=46, error relativo=3.50e-08\n",
            "\n",
            "Resultados para x de 10 a 100:\n",
            "x=10.0, N=46, error relativo=3.50e-08\n",
            "x=20.0, N=81, error relativo=1.98e+00\n",
            "x=30.0, N=104, error relativo=6.52e+07\n",
            "x=40.0, N=122, error relativo=7.34e+16\n",
            "x=50.0, N=141, error relativo=1.06e+25\n",
            "x=60.0, N=156, error relativo=8.25e+34\n",
            "x=70.0, N=173, error relativo=1.16e+43\n",
            "x=80.0, N=188, error relativo=1.36e+52\n",
            "x=90.0, N=204, error relativo=7.16e+60\n",
            "x=100.0, N=220, error relativo=2.19e+69\n"
          ]
        }
      ]
    },
    {
      "cell_type": "markdown",
      "source": [
        "## Grafico error vs N"
      ],
      "metadata": {
        "id": "A3weO4hREemR"
      },
      "id": "A3weO4hREemR"
    },
    {
      "cell_type": "code",
      "source": [
        "def figuraerrores(x_values):\n",
        "    plt.figure(figsize=(10, 6))\n",
        "    for x in x_values:\n",
        "        errors = []\n",
        "        N_values = []\n",
        "        term = 1.0\n",
        "        total = term\n",
        "        exact = np.exp(-x)\n",
        "        n = 0\n",
        "\n",
        "        while n <= 2*x + 20:\n",
        "            error = abs(total - exact)/exact if exact != 0 else float('inf')\n",
        "            errors.append(error)\n",
        "            N_values.append(n)\n",
        "\n",
        "            n += 1\n",
        "            term *= -x / n\n",
        "            total += term\n",
        "\n",
        "        plt.plot(N_values, errors, label=f'x={x}')\n",
        "        plt.style.use('dark_background')\n",
        "\n",
        "\n",
        "\n",
        "    plt.yscale('log')\n",
        "    plt.xlabel('N (número de términos)')\n",
        "    plt.ylabel('Error relativo')\n",
        "    plt.title('Error relativo vs Número de términos')\n",
        "    plt.legend()\n",
        "    plt.grid(True)\n",
        "    plt.show()\n",
        "\n",
        "figuraerrores([1, 5, 10, 20])"
      ],
      "metadata": {
        "colab": {
          "base_uri": "https://localhost:8080/",
          "height": 564
        },
        "id": "TC4mpV9VAZQ7",
        "outputId": "fc63a52c-5fef-4ceb-c258-2bf686ccb309"
      },
      "id": "TC4mpV9VAZQ7",
      "execution_count": 52,
      "outputs": [
        {
          "output_type": "display_data",
          "data": {
            "text/plain": [
              "<Figure size 1000x600 with 1 Axes>"
            ],
            "image/png": "[encoded data removed]"
          },
          "metadata": {}
        }
      ]
    },
    {
      "id": "56688fa9",
      "cell_type": "markdown",
      "source": [
        "# 5.\n",
        "\n",
        "Supongamos que tenemos una función $f(x)$ y queremos calcular su derivada en un punto $x$. Podemos hacerlo manualmente si conocemos la forma matemática de la función, o podemos hacerlo computacionalmente usando la definición de derivada:\n",
        "\n",
        "$$\n",
        "\\frac{df}{dx} = \\lim_{\\delta \\to 0} \\frac{f(x + \\delta) - f(x)}{\\delta}.\n",
        "$$\n",
        "\n",
        "En el computador no podemos tomar el límite cuando $\\delta$ tiende a cero, pero podemos obtener una aproximación razonable usando valores pequeños de $\\delta$.\n",
        "\n",
        "- Escriba un programa que:\n",
        "    - Defina una función $f(x)$ que retorne el valor $x(x-1)$\n",
        "    - Calcule la derivada de la función en $x = 1$ usando la fórmula anterior con $\\delta = 10^{-2}$\n",
        "    - Compare este resultado con el valor exacto obtenido analíticamente\n",
        "    \n",
        "    Los resultados no coincidirán exactamente. ¿Por qué?\n",
        "    \n",
        "- Repita el cálculo para $\\delta = 10^{-4}, 10^{-6}, 10^{-8}, 10^{-10}, 10^{-12}$, y $10^{-14}$. Observará que la precisión mejora inicialmente al disminuir $\\delta$, pero luego empeora. Explique este comportamiento.\n"
      ],
      "metadata": {
        "id": "56688fa9"
      }
    },
    {
      "id": "066104c2",
      "cell_type": "code",
      "source": [
        "def f(x):\n",
        "    return x * (x - 1)\n",
        "\n",
        "def derivada(f, x, delta):\n",
        "    return (f(x + delta) - f(x)) / delta\n",
        "def derivadaexacta(x):\n",
        "    return 2 * x - 1\n",
        "\n",
        "puntoenx = 1\n",
        "valorexacto = derivadaexacta(puntoenx)\n",
        "\n",
        "deltas = [10**(-n) for n in range(2, 15, 2)]\n",
        "resultados = []\n",
        "\n",
        "print(\"Comparación de derivadas numéricas y exactas:\")\n",
        "print(f\"Valor exacto en x={puntoenx}: f'({puntoenx}) = {valorexacto}\\n\")\n",
        "\n",
        "for delta in deltas:\n",
        "    aproximacion = derivada(f, puntoenx, delta)\n",
        "    error = abs(aproximacion - valorexacto)\n",
        "    resultados.append((delta, aproximacion, error))\n",
        "    print(f\"δ = {delta:.1e}: Aproximación = {aproximacion:.15f}, Error = {error:.2e}\")\n",
        "\n",
        "deltas_plot = [r[0] for r in resultados]\n",
        "errors_plot = [r[2] for r in resultados]\n",
        "\n",
        "plt.figure(figsize=(10, 6))\n",
        "plt.style.use('dark_background')\n",
        "plt.loglog(deltas_plot, errors_plot, 'o-', label='Error numérico', color = 'yellow')\n",
        "plt.xlabel('Tamaño de δ (log scale)')\n",
        "plt.ylabel('Error absoluto (log scale)')\n",
        "plt.title('Error en el cálculo de derivadas numéricas')\n",
        "plt.grid(True, which=\"both\", ls=\"-\")\n",
        "plt.legend()\n",
        "plt.show()\n",
        "\n",
        "\n"
      ],
      "metadata": {
        "trusted": false,
        "colab": {
          "base_uri": "https://localhost:8080/",
          "height": 743
        },
        "id": "066104c2",
        "outputId": "9fad96ea-e2c5-4c47-ff7a-f283ef38d5c3"
      },
      "outputs": [
        {
          "output_type": "stream",
          "name": "stdout",
          "text": [
            "Comparación de derivadas numéricas y exactas:\n",
            "Valor exacto en x=1: f'(1) = 1\n",
            "\n",
            "δ = 1.0e-02: Aproximación = 1.010000000000001, Error = 1.00e-02\n",
            "δ = 1.0e-04: Aproximación = 1.000099999999890, Error = 1.00e-04\n",
            "δ = 1.0e-06: Aproximación = 1.000000999917733, Error = 1.00e-06\n",
            "δ = 1.0e-08: Aproximación = 1.000000003922529, Error = 3.92e-09\n",
            "δ = 1.0e-10: Aproximación = 1.000000082840371, Error = 8.28e-08\n",
            "δ = 1.0e-12: Aproximación = 1.000088900583341, Error = 8.89e-05\n",
            "δ = 1.0e-14: Aproximación = 0.999200722162651, Error = 7.99e-04\n"
          ]
        },
        {
          "output_type": "display_data",
          "data": {
            "text/plain": [
              "<Figure size 1000x600 with 1 Axes>"
            ],
            "image/png": "[encoded data removed]"
          },
          "metadata": {}
        }
      ],
      "execution_count": 53
    },
    {
      "cell_type": "code",
      "source": [],
      "metadata": {
        "id": "uL_AaWooAsQI"
      },
      "id": "uL_AaWooAsQI",
      "execution_count": null,
      "outputs": []
    }
  ]
}