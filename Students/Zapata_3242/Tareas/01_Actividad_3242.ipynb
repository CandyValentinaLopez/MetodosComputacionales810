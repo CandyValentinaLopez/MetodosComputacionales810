{
  "cells": [
    {
      "cell_type": "markdown",
      "metadata": {
        "id": "ym3QAv5yfZSO"
      },
      "source": [
        "# Actividad: Introducción a Python (sin librerías)\n",
        "\n",
        "---"
      ]
    },
    {
      "cell_type": "markdown",
      "metadata": {
        "id": "W0C9oNGXfwDj"
      },
      "source": [
        "## Problema 1: Números primos entre 2 y 50 con la Criba de Eratóstenes\n",
        "\n",
        "La **Criba de Eratóstenes** es un método eficiente para encontrar todos los números primos menores que un número dado. El algoritmo consiste en:\n",
        "\n",
        "1. Crear una lista de valores booleanos para representar los números del 2 al 50, todos inicialmente marcados como verdaderos.\n",
        "2. Comenzando desde el primer número primo (2), eliminar todos sus múltiplos (marcándolos como falsos).\n",
        "3. Repetir el proceso para el siguiente número no eliminado.\n",
        "4. Los números que permanezcan marcados como verdaderos son primos.\n",
        "\n",
        "Usando funciones, implementa este método y muestra en pantalla todos los números primos entre 2 y 50.\n",
        "\n"
      ]
    },
    {
      "cell_type": "code",
      "execution_count": null,
      "metadata": {
        "id": "9erZRm-A878G"
      },
      "outputs": [],
      "source": [
        "def criba(n):\n",
        "    primos = [True] * (n + 1) #lista de valores verdaderos\n",
        "    primos[0] = False #0 y 1 no son primero, los saco para iniciar en 2\n",
        "    primos[1] = False\n",
        "    for i in range(2,n+1): # i va a recorrer de 2 a n+1\n",
        "        if primos[i] == True:  #si el valor i aun esta marcado como verdadero\n",
        "            for j in range(i*2, n+1, i):  #empezamos en i*2 para empezar a tachar el primer multiplo, no en i porque tacharia el numero primo\n",
        "                primos[j] = False #marcamos como verdadero ese valor j, ya que seria un multiplo\n",
        "    return [i for i, es_primo in enumerate(primos) if es_primo] # retorno los indices verdaderos, esos indices son primos\n",
        "\n"
      ]
    },
    {
      "cell_type": "code",
      "execution_count": null,
      "metadata": {
        "colab": {
          "base_uri": "https://localhost:8080/"
        },
        "id": "GkaDBVxR88md",
        "outputId": "31ffa2af-ee39-4273-8a8a-46ca362f916f"
      },
      "outputs": [
        {
          "data": {
            "text/plain": [
              "[2, 3, 5, 7, 11, 13, 17, 19, 23, 29, 31, 37, 41, 43, 47]"
            ]
          },
          "execution_count": 24,
          "metadata": {},
          "output_type": "execute_result"
        }
      ],
      "source": [
        "criba(50)"
      ]
    },
    {
      "cell_type": "markdown",
      "metadata": {
        "id": "WzI-FhIWf2iJ"
      },
      "source": [
        "## Problema 2: Aproximación de π usando la serie de Leibniz\n",
        "\n",
        "La serie de Leibniz es una forma sencilla de aproximar el valor de π:\n",
        "\n",
        "$$\n",
        "\\pi \\approx 4 \\sum_{n=0}^{N} \\frac{(-1)^n}{2n + 1}\n",
        "$$\n",
        "\n",
        "Implementa una función que realice este calculo y muestra la aproximación para distintos valores de $N$ (por ejemplo: 10, 100, 1000, 10000)."
      ]
    },
    {
      "cell_type": "code",
      "execution_count": null,
      "metadata": {
        "colab": {
          "base_uri": "https://localhost:8080/"
        },
        "id": "DfVwDvrRf7Fz",
        "outputId": "372e6c07-a76c-4594-c634-51776d4ad077"
      },
      "outputs": [
        {
          "name": "stdout",
          "output_type": "stream",
          "text": [
            "Para n = 10, la aproximación a pi es 3.0418396189294032\n",
            "Para n = 100, la aproximación a pi es 3.1315929035585537\n",
            "Para n = 1000, la aproximación a pi es 3.140592653839794\n",
            "Para n = 10000, la aproximación a pi es 3.1414926535900345\n"
          ]
        }
      ],
      "source": [
        "#Aqui va su código\n",
        "def pi(n):\n",
        "  pi = 0 #inicio el valor de pi en 0\n",
        "  for i in range(n):\n",
        "    j = ((-1)**i)/(2*i+1) #lo que voy a ir sumando\n",
        "    pi += j #voy sumando los terminos\n",
        "  return pi*4\n",
        "\n",
        "for exp in range(1, 5):\n",
        "    n = 10**exp #cantidad de terminos que sumare en potencias de 10\n",
        "    valor_pi = pi(n)\n",
        "    print(f'Para n = {n}, la aproximación a pi es {valor_pi}')\n",
        "\n",
        "\n",
        "\n"
      ]
    },
    {
      "cell_type": "markdown",
      "metadata": {
        "id": "Z1-gsRbNf7jy"
      },
      "source": [
        "## Problema 3: Números amigos en un rango dado\n",
        "\n",
        "Dos números naturales $a$ y $b$ se llaman **números amigos** si la suma de los divisores propios (excluyendo el número mismo) de $a$ es igual a $b$, y viceversa.\n",
        "\n",
        "Por ejemplo, 220 y 284 son números amigos porque:\n",
        "- Los divisores propios de 220 son: 1, 2, 4, 5, 10, 11, 20, 22, 44, 55, 110 → suma: 284\n",
        "- Los divisores propios de 284 son: 1, 2, 4, 71, 142 → suma: 220\n",
        "\n",
        "Escribe un programa que encuentre todos los pares de números amigos en un rango dado por el usuario (por ejemplo, entre 1 y 10000)."
      ]
    },
    {
      "cell_type": "code",
      "execution_count": null,
      "metadata": {
        "id": "m87mKCXlgGjN"
      },
      "outputs": [],
      "source": [
        "def sumaamiga(n):\n",
        "  suma=1 #el 1 es divisor de todos\n",
        "  for i in range(2,int(n**0.5)+1): #hasta raiz de n para no repetir divisores\n",
        "    if n%i==0: #busco los divisores\n",
        "      suma+=i\n",
        "      if i*i!=n:\n",
        "        suma+=n//i\n",
        "  return suma #devuelvo suma de los divisores propios\n",
        "def amigos(x,y):\n",
        "  amigo=[]\n",
        "  sumario=[sumaamiga(i) for i in range(y)]\n",
        "  for a in range(x,y):\n",
        "    b=sumario[a]\n",
        "    if b>a and b<=y and sumario[b]==a:\n",
        "      amigo.append((a,b))\n",
        "  return amigo\n",
        "x=int(input('escriba aqui su limite inferior'))\n",
        "y=int(input('escriba aqui su limite superior'))\n",
        "amigo = amigos(x,y)\n",
        "for a,b in amigo:\n",
        "  print(f'{a},{b}')"
      ]
    },
    {
      "cell_type": "markdown",
      "metadata": {
        "id": "ASKmJNuBgHIp"
      },
      "source": [
        "\n",
        "## Problema 4: Contador de frecuencias de letras en una palabra\n",
        "\n",
        "Escribe un programa que lea una palabra ingresada por el usuario y construya un diccionario donde cada clave sea una letra de la palabra, y el valor asociado sea la cantidad de veces que esa letra aparece. Imprime el resultado.\n"
      ]
    },
    {
      "cell_type": "code",
      "execution_count": null,
      "metadata": {
        "colab": {
          "base_uri": "https://localhost:8080/"
        },
        "id": "jRFG9v0HKEL-",
        "outputId": "446cbb0d-00ff-4976-94ef-418df62b4aed"
      },
      "outputs": [
        {
          "output_type": "stream",
          "name": "stdout",
          "text": [
            "Ingrese una palabra: particulas\n",
            "{'p': 1, 'a': 2, 'r': 1, 't': 1, 'i': 1, 'c': 1, 'u': 1, 'l': 1, 's': 1}\n"
          ]
        }
      ],
      "source": [
        "palabra = input('Ingrese una palabra: ')\n",
        "frecuencias = {}  #  guardar la frecuencia de cada letra\n",
        "\n",
        "for i in palabra:\n",
        "    letra = 0  # contador para cada letra\n",
        "    for j in palabra:\n",
        "        if j == i: #ver si otra de las letras es igual\n",
        "            letra += 1 #sumo 1 al contador\n",
        "    frecuencias[i] = letra  # Guardo el resultado en el diccionario\n",
        "\n",
        "print(frecuencias)\n"
      ]
    },
    {
      "cell_type": "code",
      "execution_count": null,
      "metadata": {
        "id": "WeqP-P4ueSVR"
      },
      "outputs": [],
      "source": []
    }
  ],
  "metadata": {
    "colab": {
      "provenance": []
    },
    "kernelspec": {
      "display_name": "venv",
      "language": "python",
      "name": "python3"
    },
    "language_info": {
      "codemirror_mode": {
        "name": "ipython",
        "version": 3
      },
      "file_extension": ".py",
      "mimetype": "text/x-python",
      "name": "python",
      "nbconvert_exporter": "python",
      "pygments_lexer": "ipython3",
      "version": "3.12.3"
    }
  },
  "nbformat": 4,
  "nbformat_minor": 0
}