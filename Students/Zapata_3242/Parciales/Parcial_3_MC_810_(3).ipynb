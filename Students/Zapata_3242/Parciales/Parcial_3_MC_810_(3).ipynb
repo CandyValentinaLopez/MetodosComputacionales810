{
  "nbformat": 4,
  "nbformat_minor": 0,
  "metadata": {
    "colab": {
      "provenance": []
    },
    "kernelspec": {
      "name": "python3",
      "display_name": "Python 3"
    },
    "language_info": {
      "name": "python"
    }
  },
  "cells": [
    {
      "cell_type": "code",
      "execution_count": 5,
      "metadata": {
        "id": "Yuv-rOLsiZWr"
      },
      "outputs": [],
      "source": [
        "#@title Librerias\n",
        "import numpy as np\n",
        "import numpy.linalg as la\n",
        "import matplotlib.pyplot as plt\n",
        "from scipy.integrate import solve_ivp"
      ]
    },
    {
      "cell_type": "markdown",
      "source": [
        "# Parcial III - Métodos Computacionales\n",
        "\n",
        "### Nombre: Estefania Zapata\n",
        "\n",
        "---\n",
        "\n",
        "## ⚠ Importante\n",
        "\n",
        "👁 Puede usar unicamente las librerias vistas en clase (estas están en la parte superior) en caso de agregar una nueva, debe justificarla.\n",
        "\n",
        "💀 No está permitido el uso de IA's en caso de hacerlo su parcial será **anulado**!\n",
        "\n",
        "❗ Comente su código y funciones, esto hace parte de la nota.\n",
        "\n",
        "✅ Responda ordenadamente y con claridad.\n",
        "\n",
        "\n",
        "---"
      ],
      "metadata": {
        "id": "n7iqcT1JqoQK"
      }
    },
    {
      "cell_type": "markdown",
      "source": [
        "# 1\n",
        "\n",
        "(**35 puntos**) El **método de Jacobi** es un algoritmo iterativo para resolver sistemas lineales de la forma:\n",
        "\n",
        "$$\n",
        "A \\mathbf{x} = \\mathbf{b},\n",
        "$$\n",
        "\n",
        "donde \\$A\\$ es una matriz cuadrada no singular. A diferencia del método de Gauss-Seidel, Jacobi utiliza exclusivamente los valores de la iteración anterior para actualizar todas las variables simultáneamente, lo que lo hace más sencillo de paralelizar pero, en general, con una convergencia más lenta.\n",
        "\n",
        "## Algoritmo\n",
        "\n",
        "Dado un sistema lineal \\$A \\mathbf{x} = \\mathbf{b}\\$, el método de Jacobi consiste en:\n",
        "\n",
        "1. Elegir un vector inicial \\$\\mathbf{x}^{(0)}\\$ (por ejemplo, el vector nulo).\n",
        "\n",
        "2. Para cada iteración \\$k\\$ y cada componente \\$i = 1, 2, ..., n\\$, actualizar:\n",
        "\n",
        "$$\n",
        "x_i^{(k)} = \\frac{1}{a_{ii}} \\left( b_i - \\sum_{\\substack{j=1 \\\\ j \\neq i}}^{n} a_{ij} x_j^{(k-1)} \\right)\n",
        "$$\n",
        "\n",
        "3. Repetir hasta que se cumpla un criterio de convergencia, como:\n",
        "\n",
        "$$\n",
        "\\| \\mathbf{x}^{(k)} - \\mathbf{x}^{(k-1)} \\| < \\text{tolerancia}\n",
        "$$\n",
        "\n",
        "---\n",
        "\n",
        "**a)** Escriba una función llamada `jacobi` que resuelva el sistema lineal \\$A \\mathbf{x} = \\mathbf{b}\\$ usando el método iterativo de Jacobi. La función debe aceptar como argumentos:\n",
        "\n",
        "* La matriz \\$A\\$ y el vector \\$\\mathbf{b}\\$,\n",
        "* Una tolerancia (por defecto \\$1\\times 10^{-10}\\$),\n",
        "* Un número máximo de iteraciones.\n",
        "\n",
        "Debe retornar la solución aproximada \\$\\mathbf{x}\\$ y el número de iteraciones realizadas.\n",
        "\n",
        "---\n",
        "\n",
        "**b)** Aplique su función para resolver el siguiente sistema de ecuaciones lineales:\n",
        "\n",
        "$$\n",
        "\\begin{cases}\n",
        "10x_1 - x_2 + 2x_3 = 6 \\\\[2mm]\n",
        "-2x_1 + 11x_2 - x_4 = 25 \\\\[2mm]\n",
        "3x_1 - x_2 + 10x_3 - x_4 = -11 \\\\[2mm]\n",
        "2x_2 - x_3 + 8x_4 = 15\n",
        "\\end{cases}\n",
        "$$\n",
        "\n",
        "Use como vector inicial \\$\\mathbf{x}^{(0)} = \\[0, 0, 0, 0]^T\\$. Imprima la solución aproximada y el número de iteraciones necesarias para adquirir la convergencia.\n",
        "\n",
        "---\n",
        "\n",
        "**c)** Compare su solución con `np.linalg.solve`. ¿Qué tan cercana es la solución iterativa a la exacta? Para esto, realice un gráfico del error usando la norma euclidiana (`np.linalg.norm`) en función de la tolerancia y otro del número de iteraciones, empleando un `np.logspace(-18, -1, 18)`.\n",
        "\n",
        "---\n",
        "\n"
      ],
      "metadata": {
        "id": "atjx6Bv7i7sE"
      }
    },
    {
      "cell_type": "code",
      "source": [
        "def jacobi(A,b, tol = 1e-10, max_iter= 100):\n",
        "  '''\n",
        "  Funcion que resuelve el sistema lineal  Ax=b  usando el método iterativo de Jacob\n",
        "  Entradas:\n",
        "  A= Matriz\n",
        "  b= Vector\n",
        "  tol = tolerancia\n",
        "  mmax_iter = numero maximo de iteraciones\n",
        "\n",
        "  Retorna\n",
        "  x = solucion aproximada del vector x\n",
        "  iter = numero de iteraciones\n",
        "\n",
        "  '''\n",
        "  n = len(A) #dimension de A\n",
        "  x0 = np.zeros(n) #Vector inicial, vector de ceros del mismo tamaño de A\n",
        "  iter = 0 #Inicio contador de iteraciones\n",
        "\n",
        "  for k in max_iter and i,j ...:\n",
        "    sumatoria = A[i,j] * x0[j]\n",
        "    xi = (1/[i])*(b[i]- sumatoria) #Operacion para definir xi\n",
        "    iter +=1 #sumo 1 al contador de iteraciones\n",
        "\n",
        "    if abs(xi - x0)<tol #evaluacion para la convergencia\n",
        "      return xi, iter #retorno el valor paroximado de xi y el numero de iteraciones\n",
        "    else:\n",
        "      x0 = xi #3 actualizo el valor inicial por el xi calculado\n",
        "\n",
        "\n",
        "\n"
      ],
      "metadata": {
        "id": "gRI-aeKmi7eF"
      },
      "execution_count": 2,
      "outputs": []
    },
    {
      "cell_type": "code",
      "source": [],
      "metadata": {
        "id": "2Otl_bRo2eHL"
      },
      "execution_count": null,
      "outputs": []
    },
    {
      "cell_type": "code",
      "source": [
        "A = (\n",
        "    [10,-1,2,0],\n",
        "    [-2,11,0,-1],\n",
        "    [3,-1,10,-1],\n",
        "    [0,2,-1,8]\n",
        ")\n",
        "b = ([-6, 25,-11,15])\n",
        "x00 = ([0,0,0,0])\n",
        "x0 = np.transpose(x00)"
      ],
      "metadata": {
        "id": "nBmlzrZ31AVb"
      },
      "execution_count": 11,
      "outputs": []
    },
    {
      "cell_type": "code",
      "source": [
        "sol_linalg = np.linalg.solve(A,b)\n",
        "print(sol_linalg)"
      ],
      "metadata": {
        "colab": {
          "base_uri": "https://localhost:8080/"
        },
        "id": "NQ3A_n1l2Zlc",
        "outputId": "3e6a9a19-1e37-4881-fb7f-4dbd969e6a69"
      },
      "execution_count": 13,
      "outputs": [
        {
          "output_type": "stream",
          "name": "stdout",
          "text": [
            "[-0.23072238  2.34035814 -0.67620904  1.20538433]\n"
          ]
        }
      ]
    },
    {
      "cell_type": "markdown",
      "source": [
        "# 2\n",
        "\n",
        "(**50 puntos**) El sistema **masa-resorte con fricción** es un modelo clásico en física que describe el movimiento de una masa sujeta a una fuerza restauradora (resorte) y una fuerza disipativa (fricción o viscosidad). Su dinámica está gobernada por la ecuación diferencial de segundo orden:\n",
        "\n",
        "$$\n",
        "m y''(t) + c y'(t) + k y(t) = 0,\n",
        "$$\n",
        "\n",
        "donde:\n",
        "\n",
        "* $m$ es la masa del objeto,\n",
        "* $c$ es el coeficiente de fricción (amortiguamiento),\n",
        "* $k$ es la constante del resorte,\n",
        "* $y(t)$ es la posición de la masa respecto a su equilibrio.\n",
        "\n",
        "---\n",
        "\n",
        "**a)** Reformule esta ecuación como un sistema de primer orden adecuado para ser resuelto con `solve_ivp`. Explique mediante una función explicita y realice su documentación.\n",
        "\n",
        "---\n",
        "\n",
        "**b)** Considere el siguiente caso:\n",
        "\n",
        "* Masa: $m = 1$ kg\n",
        "* Constante del resorte: $k = 4$ N/m\n",
        "* Coeficiente de fricción: $c = 0.5$ N·s/m\n",
        "* Condiciones iniciales: $y(0) = 1$, $y'(0) = 0$\n",
        "* Intervalo de tiempo: $t \\in [0, 20]$\n",
        "\n",
        "Utilice `solve_ivp` para resolver el sistema y grafique $y(t)$ como $y'(t)$. Interprete el comportamiento del sistema.\n",
        "\n",
        "---\n",
        "\n",
        "**c)** Simule dos escenarios adicionales:\n",
        "\n",
        "1. Sin fricción: $c = 0$\n",
        "2. Con fuerte fricción: $c = 4.5$\n",
        "\n",
        "Grafique los tres casos \\$y(t)\\$ en una misma figura y compare los regímenes: **no amortiguado**, **subamortiguado**, y **sobreamortiguado**.\n",
        "\n",
        "---\n",
        "\n",
        "**d)** Para cada uno de los tres casos, calcule la **energía mecánica total** del sistema en función del tiempo. La energía total se define como la suma de energía cinética y potencial:\n",
        "\n",
        "$$\n",
        "E(t) = \\frac{1}{2} m v^2 + \\frac{1}{2} k y^2\n",
        "$$\n",
        "\n",
        "Grafique $E(t)$ para los tres escenarios simulados. Analice y compare el comportamiento de la energía en cada caso. ¿Qué sucede con la energía a lo largo del tiempo? ¿Cómo se relaciona esto con el valor del coeficiente de fricción $c$?\n"
      ],
      "metadata": {
        "id": "h7JrrJrOpNex"
      }
    },
    {
      "cell_type": "markdown",
      "source": [
        "# 3\n",
        "\n",
        "**(15 puntos)** Sea $A$ una matriz cuadrada de tamaño $n \\times n$. Dos propiedades fundamentales de los autovalores de $A$ son:\n",
        "\n",
        "1. **Determinante**:\n",
        "\n",
        "   $$\n",
        "   \\det(A) = \\prod_{i=1}^{n} \\lambda_i\n",
        "   $$\n",
        "\n",
        "2. **Traza**:\n",
        "\n",
        "   $$\n",
        "   \\mathrm{tr}(A) = \\sum_{i=1}^{n} \\lambda_i\n",
        "   $$\n",
        "\n",
        "donde $\\lambda_1, \\lambda_2, \\dots, \\lambda_n$ son los autovalores de $A$.\n",
        "\n",
        "Usando un conjunto de matrices aleatorias $A$ de $5\\times 5$ (1000 matrices diferentes), verifique numéricamente ambas propiedades. Puede emplear las funciones `np.linalg.det`, `np.trace` y `np.linalg.eigvals`.\n"
      ],
      "metadata": {
        "id": "oST6HBD1BCAA"
      }
    },
    {
      "cell_type": "code",
      "source": [
        "def evaluar_traza(n):\n",
        "  for i in range(n):\n",
        "    conteo = 0\n",
        "    A = np.random.randint(0,10,size=(5,5))\n",
        "    det_A = la.det(A)\n",
        "    multiplicatoria = np.prod(eingenvalues_A)\n",
        "    eingenvalues_A = la.eigvals(A)\n",
        "    sum = np.sum(eingenvalues_A)\n",
        "    traza_A = np.trace(A)\n",
        "    if sum == traza_A and multiplicatoria == det_A\n",
        "    else: conteo +=1\n",
        "  return {'No se cumplio la igualdad',conteo, 'veces'}\n"
      ],
      "metadata": {
        "colab": {
          "base_uri": "https://localhost:8080/",
          "height": 106
        },
        "id": "pc1HMLJq-or4",
        "outputId": "2b1a6c76-cf92-4f70-faa3-93b1bb6d9086"
      },
      "execution_count": 51,
      "outputs": [
        {
          "output_type": "error",
          "ename": "SyntaxError",
          "evalue": "invalid syntax (ipython-input-2046858016.py, line 10)",
          "traceback": [
            "\u001b[0;36m  File \u001b[0;32m\"/tmp/ipython-input-2046858016.py\"\u001b[0;36m, line \u001b[0;32m10\u001b[0m\n\u001b[0;31m    if sum == traza_A and multiplicatoria == det_A = True\u001b[0m\n\u001b[0m                                                   ^\u001b[0m\n\u001b[0;31mSyntaxError\u001b[0m\u001b[0;31m:\u001b[0m invalid syntax\n"
          ]
        }
      ]
    },
    {
      "cell_type": "code",
      "source": [
        "evaluar_traza(1000)"
      ],
      "metadata": {
        "colab": {
          "base_uri": "https://localhost:8080/",
          "height": 263
        },
        "id": "4XMykoeTB5Ic",
        "outputId": "2c82ad00-ca93-41cf-a069-7b262cbbacd9"
      },
      "execution_count": 49,
      "outputs": [
        {
          "output_type": "error",
          "ename": "UnboundLocalError",
          "evalue": "cannot access local variable 'eingenvalues_A' where it is not associated with a value",
          "traceback": [
            "\u001b[0;31m---------------------------------------------------------------------------\u001b[0m",
            "\u001b[0;31mUnboundLocalError\u001b[0m                         Traceback (most recent call last)",
            "\u001b[0;32m/tmp/ipython-input-207445764.py\u001b[0m in \u001b[0;36m<cell line: 0>\u001b[0;34m()\u001b[0m\n\u001b[0;32m----> 1\u001b[0;31m \u001b[0mevaluar_traza\u001b[0m\u001b[0;34m(\u001b[0m\u001b[0;36m1000\u001b[0m\u001b[0;34m)\u001b[0m\u001b[0;34m\u001b[0m\u001b[0;34m\u001b[0m\u001b[0m\n\u001b[0m",
            "\u001b[0;32m/tmp/ipython-input-1878946694.py\u001b[0m in \u001b[0;36mevaluar_traza\u001b[0;34m(n)\u001b[0m\n\u001b[1;32m      4\u001b[0m     \u001b[0mA\u001b[0m \u001b[0;34m=\u001b[0m \u001b[0mnp\u001b[0m\u001b[0;34m.\u001b[0m\u001b[0mrandom\u001b[0m\u001b[0;34m.\u001b[0m\u001b[0mrandint\u001b[0m\u001b[0;34m(\u001b[0m\u001b[0;36m0\u001b[0m\u001b[0;34m,\u001b[0m\u001b[0;36m10\u001b[0m\u001b[0;34m,\u001b[0m\u001b[0msize\u001b[0m\u001b[0;34m=\u001b[0m\u001b[0;34m(\u001b[0m\u001b[0;36m5\u001b[0m\u001b[0;34m,\u001b[0m\u001b[0;36m5\u001b[0m\u001b[0;34m)\u001b[0m\u001b[0;34m)\u001b[0m\u001b[0;34m\u001b[0m\u001b[0;34m\u001b[0m\u001b[0m\n\u001b[1;32m      5\u001b[0m     \u001b[0mdet_A\u001b[0m \u001b[0;34m=\u001b[0m \u001b[0mla\u001b[0m\u001b[0;34m.\u001b[0m\u001b[0mdet\u001b[0m\u001b[0;34m(\u001b[0m\u001b[0mA\u001b[0m\u001b[0;34m)\u001b[0m\u001b[0;34m\u001b[0m\u001b[0;34m\u001b[0m\u001b[0m\n\u001b[0;32m----> 6\u001b[0;31m     \u001b[0mmultiplicatoria\u001b[0m \u001b[0;34m=\u001b[0m \u001b[0mnp\u001b[0m\u001b[0;34m.\u001b[0m\u001b[0mprod\u001b[0m\u001b[0;34m(\u001b[0m\u001b[0meingenvalues_A\u001b[0m\u001b[0;34m)\u001b[0m\u001b[0;34m\u001b[0m\u001b[0;34m\u001b[0m\u001b[0m\n\u001b[0m\u001b[1;32m      7\u001b[0m     \u001b[0meingenvalues_A\u001b[0m \u001b[0;34m=\u001b[0m \u001b[0mla\u001b[0m\u001b[0;34m.\u001b[0m\u001b[0meigvals\u001b[0m\u001b[0;34m(\u001b[0m\u001b[0mA\u001b[0m\u001b[0;34m)\u001b[0m\u001b[0;34m\u001b[0m\u001b[0;34m\u001b[0m\u001b[0m\n\u001b[1;32m      8\u001b[0m     \u001b[0msum\u001b[0m \u001b[0;34m=\u001b[0m \u001b[0mnp\u001b[0m\u001b[0;34m.\u001b[0m\u001b[0msum\u001b[0m\u001b[0;34m(\u001b[0m\u001b[0meingenvalues_A\u001b[0m\u001b[0;34m)\u001b[0m\u001b[0;34m\u001b[0m\u001b[0;34m\u001b[0m\u001b[0m\n",
            "\u001b[0;31mUnboundLocalError\u001b[0m: cannot access local variable 'eingenvalues_A' where it is not associated with a value"
          ]
        }
      ]
    },
    {
      "cell_type": "code",
      "source": [
        "A = np.random.randint(0,10,size=(5,5))\n",
        "A"
      ],
      "metadata": {
        "id": "V2rc7C4kBH0b",
        "colab": {
          "base_uri": "https://localhost:8080/"
        },
        "outputId": "1146c3fa-2b91-443c-8073-260a2b885264"
      },
      "execution_count": 22,
      "outputs": [
        {
          "output_type": "execute_result",
          "data": {
            "text/plain": [
              "array([[4, 6, 8, 7, 4],\n",
              "       [8, 5, 5, 9, 4],\n",
              "       [4, 5, 1, 8, 9],\n",
              "       [0, 1, 3, 9, 1],\n",
              "       [6, 7, 2, 6, 2]])"
            ]
          },
          "metadata": {},
          "execution_count": 22
        }
      ]
    },
    {
      "cell_type": "code",
      "source": [
        " eingenvalues_A = la.eigvals(A)\n",
        " eingenvalues_A"
      ],
      "metadata": {
        "colab": {
          "base_uri": "https://localhost:8080/"
        },
        "id": "U2k7cJyd5Pq0",
        "outputId": "3aafdde5-3084-47f0-8b5a-8555013d832d"
      },
      "execution_count": 28,
      "outputs": [
        {
          "output_type": "execute_result",
          "data": {
            "text/plain": [
              "array([22.82313883+0.j        ,  6.63386599+0.j        ,\n",
              "       -2.61757482+4.12235314j, -2.61757482-4.12235314j,\n",
              "       -3.22185517+0.j        ])"
            ]
          },
          "metadata": {},
          "execution_count": 28
        }
      ]
    },
    {
      "cell_type": "code",
      "source": [
        "det_A = la.det(A)\n",
        "det_A"
      ],
      "metadata": {
        "colab": {
          "base_uri": "https://localhost:8080/"
        },
        "id": "doM4nkvf7f_k",
        "outputId": "21ef1836-9e71-450c-96db-4089cc7048a1"
      },
      "execution_count": 32,
      "outputs": [
        {
          "output_type": "execute_result",
          "data": {
            "text/plain": [
              "np.float64(-11632.000000000002)"
            ]
          },
          "metadata": {},
          "execution_count": 32
        }
      ]
    },
    {
      "cell_type": "code",
      "source": [
        "multiplicatoria = np.prod(eingenvalues_A)\n",
        "multiplicatoria"
      ],
      "metadata": {
        "id": "vxrdjalWBqdM"
      },
      "execution_count": null,
      "outputs": []
    },
    {
      "cell_type": "code",
      "source": [
        "traza_A = np.trace(A)\n",
        "traza_A"
      ],
      "metadata": {
        "colab": {
          "base_uri": "https://localhost:8080/"
        },
        "id": "00ocZwFQ7Mc2",
        "outputId": "2c7155af-0bd9-46d4-e150-2ea5719faaf2"
      },
      "execution_count": 34,
      "outputs": [
        {
          "output_type": "execute_result",
          "data": {
            "text/plain": [
              "np.int64(21)"
            ]
          },
          "metadata": {},
          "execution_count": 34
        }
      ]
    },
    {
      "cell_type": "code",
      "source": [
        "sum = np.sum(eingenvalues_A)\n",
        "sum"
      ],
      "metadata": {
        "colab": {
          "base_uri": "https://localhost:8080/"
        },
        "id": "ZEDCqu6T9kV2",
        "outputId": "a01a4269-943f-4c47-feae-d5435466b2ed"
      },
      "execution_count": 42,
      "outputs": [
        {
          "output_type": "execute_result",
          "data": {
            "text/plain": [
              "np.complex128(21+0j)"
            ]
          },
          "metadata": {},
          "execution_count": 42
        }
      ]
    },
    {
      "cell_type": "code",
      "source": [],
      "metadata": {
        "colab": {
          "base_uri": "https://localhost:8080/"
        },
        "id": "XXeDK5PU6-Wa",
        "outputId": "ea6618a6-285a-446a-8d70-7ee8ff534580"
      },
      "execution_count": 44,
      "outputs": [
        {
          "output_type": "execute_result",
          "data": {
            "text/plain": [
              "np.complex128(-11631.999999999964+0j)"
            ]
          },
          "metadata": {},
          "execution_count": 44
        }
      ]
    },
    {
      "cell_type": "code",
      "source": [],
      "metadata": {
        "id": "-86e573kBhyo"
      },
      "execution_count": null,
      "outputs": []
    }
  ]
}