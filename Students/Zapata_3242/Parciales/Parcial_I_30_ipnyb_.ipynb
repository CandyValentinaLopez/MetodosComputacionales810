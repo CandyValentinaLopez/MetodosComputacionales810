{
  "nbformat": 4,
  "nbformat_minor": 0,
  "metadata": {
    "colab": {
      "provenance": []
    },
    "kernelspec": {
      "name": "python3",
      "display_name": "Python 3"
    },
    "language_info": {
      "name": "python"
    }
  },
  "cells": [
    {
      "cell_type": "markdown",
      "source": [
        "# Parcial I - Métodos Computacionales\n",
        "\n",
        "**2025-1**\n",
        "\n",
        "---\n",
        "\n",
        "Nombre:  Estefania Zapata Valderrama\n",
        "\n",
        "Identificación: 1006373242\n",
        "\n",
        "---\n",
        "\n",
        "* ⚠ Explique su código usando con comentarios,\n",
        "\n",
        "* ❗Todas las funciones deben tener documentación básica,\n",
        "\n",
        "* 🛑 El uso de IA's no está permitido,\n",
        "\n",
        "* ⚛ La interpretación del enunciado hace parte de la evaluación,\n",
        "\n",
        "* ⏲ Este parcial tiene una duración de 2 horas"
      ],
      "metadata": {
        "id": "bcIQtfNJ4sBq"
      }
    },
    {
      "cell_type": "code",
      "source": [
        "# Librerias\n",
        "import numpy as np\n",
        "import matplotlib.pyplot as plt\n",
        "import pandas as pd\n",
        "from math import factorial,pi,sqrt\n",
        "from scipy.optimize import root_scalar, newton, bisect # Funciones para raices\n",
        "\n",
        "## Ayudas\n",
        "# np.sign (Signo de una variable)\n",
        "# np.deg2rad (Convertir grados a radianes)\n",
        "# pd.Dataframe Genera un dataframe a partir de un diccionario o listas\n",
        "# df['Columna'] == valor (Crea un filtro para buscar el valor)\n",
        "# range(0, 10, 2) (Pasos de 2 comenzando en 0 hasta 10)"
      ],
      "metadata": {
        "id": "-86TwvuE48Kp"
      },
      "execution_count": 2,
      "outputs": []
    },
    {
      "cell_type": "markdown",
      "source": [
        "# 1\n",
        "\n",
        "**(40 puntos)** El **método de Steffensen** es un algoritmo iterativo para encontrar raíces de ecuaciones no lineales de la forma:\n",
        "\n",
        "$$\n",
        "f(x) = 0.\n",
        "$$\n",
        "\n",
        "Se basa en aplicar una **aceleración cuadrática** al método de punto fijo, sin necesidad de calcular derivadas, a diferencia del método de Newton.\n",
        "\n",
        "---\n",
        "### Pasos para implementar\n",
        "\n",
        "1. **Definir la función** $f(x)$ cuya raíz se desea encontrar.\n",
        "\n",
        "   - Se busca una raíz $\\alpha$ tal que $f(\\alpha) = 0$.\n",
        "\n",
        "2. **Elegir una aproximación inicial** $x_0$ razonablemente cercana a la raíz.\n",
        "\n",
        "3. **Aplicar la iteración de Steffensen**:\n",
        "\n",
        "   Para cada iteración $n$, calcular:\n",
        "\n",
        "   $$\n",
        "   y_n = x_n + f(x_n)\n",
        "   $$\n",
        "\n",
        "   $$\n",
        "   x_{n+1} = x_n - \\frac{f(x_n)^2}{f(y_n) - f(x_n)}\n",
        "   $$\n",
        "\n",
        "   Asegurarse de que $f(y_n) \\ne f(x_n)$ para evitar división por cero.\n",
        "\n",
        "4. **Evaluar el criterio de convergencia**:\n",
        "\n",
        "   - Repetir el paso 3 hasta que se cumpla\n",
        "     - $|x_{n+1} - x_n| < \\varepsilon$ (precisión sobre el valor de la raíz).\n",
        "\n",
        "     donde $\\varepsilon$ son tolerancias pequeñas definidas por el usuario.\n",
        "\n",
        "5. **Resultado final**:\n",
        "\n",
        "   - Cuando se cumple el criterio de convergencia, tomar $x_{n+1}$ como una aproximación a la raíz de $f(x) = 0$.\n",
        "\n",
        "---\n",
        "\n",
        "\n",
        "* Defina una función llamada `Steffensen` que calcule la raiz de una función dada. Su función debe tener documentación y retornar el valor de la raiz junto con el número de iteraciones empleadas para alcanzar la convergencia dada una tolerancia.\n",
        "\n",
        "* Usando\n",
        "$$\\cos(x) = x^2,$$\n",
        "\n",
        "Grafique la función para $0\\leq x \\leq \\pi/2$ usando 100 puntos. Luego, cree un DataFrame llamado `df` con los datos de $x$ y $f(x)$  encuentre una primera aproximación a la raiz aplicando un filtro en el dataframe con los valores más cercanos a cero.\n",
        "\n",
        "* Usando el método de Steffensen encuentre la raiz númericamente y compare su resultado usando el método de bisección y secante.\n",
        "\n",
        "* Para las siguientes tolerancias (ver código) realice un gráfico usando escala logaritimica en $y$ de cuantas iteraciones son necesarias hasta alcanzar la convergencia. ¿Qué puede concluir acerca de la misma?\n",
        "\n",
        "```python\n",
        "# Tolerancias\n",
        "tol = np.logspace(-1, -10, 10)\n",
        "\n",
        "# Grafico semilog\n",
        "\n",
        "plt.semilogy(N, tol)\n",
        "\n",
        "```"
      ],
      "metadata": {
        "id": "rNIchL-H5ZII"
      }
    },
    {
      "cell_type": "code",
      "source": [
        "def steffensen(f,x0,tol= 1e-10, maxiter= 100): #defino la funcion y sus valores de entrada\n",
        "  '''\n",
        "  La funcion steffensen recibe\n",
        "  f = funcion a la cual queremos encontrarle la raiz\n",
        "  x0 = un punto cercano a la raiz para empezar a evaluar\n",
        "  tol = un valor de una tolerancia para evaluar la proximidad a la raiz\n",
        "  maxiter = un numero maximo de iteraciones\n",
        "\n",
        "  la funcion me retorna\n",
        "  x1 = el valor x(n+1) para el cual se cumplio la tolerancia y esta es la aproximacion a la raiz de f(x) = 0\n",
        "  n = el numero de iteraciones que se realizaron para alcanzar la toleracion\n",
        "  '''\n",
        "  n = 0 #inicio el contador de iteraciones en 0\n",
        "\n",
        "  while True: #inicio un ciclo para hacer las iteraciones\n",
        "    y0 = x0 + f(x0) #defino y0\n",
        "    if f(y0) == f(x0): #utilizo un condicional para evaluar que estos valores no sean igual\n",
        "      raise ValueError('f(y0) debe ser diferente a f(x0) para evitar division por cero') #si los valores son iguales marco un error\n",
        "\n",
        "    x1 = (x0 - (f(x0)**2))/(f(y0)-f(x0)) #defino el termino n+1\n",
        "    n += 1 #sumo 1 al contador de iteraciones\n",
        "\n",
        "    if abs(x1-x0)< tol: #evaluo la condicion para definir mi resultado\n",
        "      return x1,n #si se cumple la condicion para la tolerancia, devuelvo x1 y n\n",
        "\n",
        "    else: x0 = x1 #si no se cumple la condicion, cambio el termino x0 por el siguiente\n",
        "\n",
        "  raise RuntimeError(f'No se ha encontrado la raiz en {maxiter} iteraciones') #error si no se encuentra el valor en un maximo de iteraciones\n"
      ],
      "metadata": {
        "id": "phBAIpoX7Y9W"
      },
      "execution_count": 3,
      "outputs": []
    },
    {
      "cell_type": "code",
      "source": [
        "fx = lambda x: np.cos(x)-x**2 #defino funcion tipo lamba con f(x)=0\n",
        "x = np.linspace(0, pi/2,100)\n",
        "y = fx(x)\n",
        "\n",
        "#Grafico de la funcion\n",
        "plt.style.use('dark_background')\n",
        "plt.plot(x,y,label='$cos(x)-x**2$',color = 'yellow')\n",
        "plt.xlabel('valores de x')\n",
        "plt.ylabel('valores de f(x)')\n",
        "plt.title('Funcion $cos(x)-x**2$')\n",
        "plt.grid()\n",
        "plt.legend()\n",
        "plt.show()"
      ],
      "metadata": {
        "colab": {
          "base_uri": "https://localhost:8080/",
          "height": 474
        },
        "id": "S3vAhx-NNuUl",
        "outputId": "9dca8adc-c2d1-43fc-f81f-8d561b09bf81"
      },
      "execution_count": 28,
      "outputs": [
        {
          "output_type": "display_data",
          "data": {
            "text/plain": [
              "<Figure size 640x480 with 1 Axes>"
            ],
            "image/png": "[encoded data removed]"
          },
          "metadata": {}
        }
      ]
    },
    {
      "cell_type": "code",
      "source": [
        "df = pd.DataFrame({'x': x, 'fx': y})  #Dataframe de los datos\n",
        "\n",
        "#Busco el un valor cercano a 0 para elegir el punto x0\n",
        "df.sorted = df.iloc[(df['fx']-0).abs().argsort()]\n",
        "aprox = df.sorted.iloc[0]['x']\n",
        "print(f'primera aproximacion a la raiz es: {aprox}')"
      ],
      "metadata": {
        "id": "zn5GwuKYPz8U",
        "colab": {
          "base_uri": "https://localhost:8080/"
        },
        "outputId": "bb3fedcb-0dc6-4bc2-da63-4ffd2f41fb8c"
      },
      "execution_count": 6,
      "outputs": [
        {
          "output_type": "stream",
          "name": "stdout",
          "text": [
            "primera aproximacion a la raiz: 0.8250647373064104\n"
          ]
        },
        {
          "output_type": "stream",
          "name": "stderr",
          "text": [
            "<ipython-input-6-0730a2d38f1b>:2: UserWarning: Pandas doesn't allow columns to be created via a new attribute name - see https://pandas.pydata.org/pandas-docs/stable/indexing.html#attribute-access\n",
            "  df.sorted = df.iloc[(df['fx']-0).abs().argsort()]\n"
          ]
        }
      ]
    },
    {
      "cell_type": "code",
      "source": [
        "#Utilizo steffense,biseccion,secante para hallar las raices\n",
        "\n",
        "raiz_aprox , n_terminos = steffensen(fx,0.82,tol=1e-3,maxiter=100)\n",
        "print(f'Raiz de Cos(x)-x**2 usando el metodo de steffensen es: {raiz_aprox}')\n",
        "raiz_biseccion = bisect(fx,0,1.5)\n",
        "print(f'Raiz de Cos(x)-x**2 usando el metodo de la biseccion es: {raiz_biseccion}')\n",
        "raiz_secante = newton(fx, x0=1.5, x1=1.3)\n",
        "print(f'Raiz de Cos(x)-x**2 usando el metodo de la secante es: {raiz_secante}')"
      ],
      "metadata": {
        "colab": {
          "base_uri": "https://localhost:8080/"
        },
        "id": "lWlhzHVySrb6",
        "outputId": "8ca0afd9-a191-4ffb-c25a-635defaeb1e1"
      },
      "execution_count": 22,
      "outputs": [
        {
          "output_type": "stream",
          "name": "stdout",
          "text": [
            "Raiz de Cos(x)-x**2 usando el metodo de steffensen es: 0.9709839978698762\n",
            "Raiz de Cos(x)-x**2 usando el metodo de la biseccion es: 0.8241323123033908\n",
            "Raiz de Cos(x)-x**2 usando el metodo de la secante es: 0.8241323123026507\n"
          ]
        }
      ]
    },
    {
      "cell_type": "markdown",
      "source": [
        "Utilizando el metodo de steffensen se hace necesario conocer un punto muy cercano a la raiz de lo contrario se dificulta demasiado la convergencia, para esta situacion se llego a un valor muy cercano al real, comparandolo con los metodos de biseccion y secante."
      ],
      "metadata": {
        "id": "a-CaPRvmEd36"
      }
    },
    {
      "cell_type": "code",
      "source": [
        "tolerancias = np.logspace(-1, -6, 10)  #pruebo diferentes tolerancia par analizar convergencia\n",
        "iteraciones = []\n",
        "\n",
        "for i in tolerancias: #recorro los diferentes valores de tolerancias en la lista anterior\n",
        "    print(f\"Probando con tolerancia: {i}\")\n",
        "    raiz, n = steffensen(fx,0.8,tol=i,maxiter=100)\n",
        "    iteraciones.append(n)\n",
        "\n",
        "#grafica para la convergencia\n",
        "plt.style.use('dark_background')\n",
        "plt.semilogy(tolerancias, iteraciones, marker='o',color = 'magenta')\n",
        "plt.xlabel('Tolerancia')\n",
        "plt.ylabel('Número de iteraciones')\n",
        "plt.title('Convergencia del método de Steffensen')\n",
        "plt.grid()\n",
        "plt.show()"
      ],
      "metadata": {
        "colab": {
          "base_uri": "https://localhost:8080/",
          "height": 646
        },
        "id": "vXLqsLb0tOza",
        "outputId": "3a7c8822-3f5c-43e2-c00f-4cfbda9848c4"
      },
      "execution_count": 26,
      "outputs": [
        {
          "output_type": "stream",
          "name": "stdout",
          "text": [
            "Probando con tolerancia: 0.1\n",
            "Probando con tolerancia: 0.027825594022071243\n",
            "Probando con tolerancia: 0.007742636826811269\n",
            "Probando con tolerancia: 0.002154434690031882\n",
            "Probando con tolerancia: 0.0005994842503189409\n",
            "Probando con tolerancia: 0.0001668100537200059\n",
            "Probando con tolerancia: 4.641588833612772e-05\n",
            "Probando con tolerancia: 1.2915496650148827e-05\n",
            "Probando con tolerancia: 3.5938136638046257e-06\n",
            "Probando con tolerancia: 1e-06\n"
          ]
        },
        {
          "output_type": "display_data",
          "data": {
            "text/plain": [
              "<Figure size 640x480 with 1 Axes>"
            ],
            "image/png": "[encoded data removed]"
          },
          "metadata": {}
        }
      ]
    },
    {
      "cell_type": "markdown",
      "source": [
        "Se observa una tendencia decreciente: a medida que se aumenta la tolerancia(menor precision), el número de iteraciones disminuye drásticamente.\n",
        "sucede entonces que el tener una tolerancia menor, aumenta drasticamente el numero de iteraciones, para valores mayores a 1e-6 colapsa computacionalmente, luego de 15minutos no logrò llegar a un valor, por eso se toman las tolerancias hasta 1e-6\n",
        "\n",
        "---"
      ],
      "metadata": {
        "id": "yJ5fQwWuGcap"
      }
    },
    {
      "cell_type": "markdown",
      "source": [
        "#2\n",
        "\n",
        "**(60 puntos)** El periodo de oscilación $T$ de un péndulo simple con amplitud angular $\\theta_0$ está dado por la integral elíptica:\n",
        "\n",
        "$$T = 4\\sqrt{\\frac{L}{g}}\\int_0^{\\theta_0/2} \\frac{d\\theta}{\\sqrt{\\cos\\theta - \\cos\\theta_0}}$$\n",
        "\n",
        "Esta expresión puede representarse mediante la siguiente serie infinita:\n",
        "\n",
        "$$T = 2\\pi\\sqrt{\\frac{L}{g}}\\left[1 + \\sum_{n=1}^{\\infty}c_n\\sin^{2n}\\left(\\frac{\\theta_0}{2}\\right)\\right]$$\n",
        "\n",
        "donde los coeficientes $c_n$ están dados por:\n",
        "\n",
        "$$c_n = \\left(\\frac{(2n-1)!!}{2^n n!}\\right)^2$$\n",
        "\n",
        "El doble factorial $(2n-1)!!$ significa el producto de todos los números impares desde 1 hasta $(2n-1)$.\n",
        "\n",
        "Los primeros términos de esta serie son:\n",
        "\n",
        "$$T \\approx 2\\pi\\sqrt{\\frac{L}{g}}\\left[1 + \\frac{1}{4}\\sin^2\\left(\\frac{\\theta_0}{2}\\right) + \\frac{9}{64}\\sin^4\\left(\\frac{\\theta_0}{2}\\right) + \\frac{25}{256}\\sin^6\\left(\\frac{\\theta_0}{2}\\right) + \\frac{1225}{16384}\\sin^8\\left(\\frac{\\theta_0}{2}\\right) + \\ldots\\right]$$\n",
        "\n",
        "Para un péndulo de longitud $L = 1.2$ metros:\n",
        "\n",
        "## Parte A\n",
        "\n",
        "* Realice una función llamada `doble_factorial` que calcule $(2n - 1)!!$ y luego una llamada `coeficiente_cn` que devuelva el coeficiente $c_n$\n",
        "\n",
        "* Para una amplitud de $\\theta_0 = 90°$ y $\\theta_0 = 15°$, determine el valor de $T$ utilizando:\n",
        "  - La aproximación de pequeñas oscilaciones $T_0 = 2\\pi\\sqrt{L/g}$\n",
        "  - La serie truncada a 3 términos.\n",
        "  - ¿Cuál será el error de las aproximaciones anteriores si toma 10 terminos como el valor exacto? ¿Cómo influye el valor del ángulo usado?\n",
        "\n",
        "## Parte B\n",
        "\n",
        "* Encuentre una función $f(\\theta_0)$ para  $\\theta_0$ (en radianes) en la cual el periodo real es exactamente un 10% mayor que el periodo para oscilaciones infinitesimales ($T_0 = 2\\pi\\sqrt{L/g}$). Utilice para $T(\\theta_0)$ los primeros 4 términos de la serie y grafique esta función para $\\theta_0 \\in [0, \\pi/2]$.\n",
        "\n",
        "* Resuelva numéricamente la ecuación para $f(\\theta_0) = 0$ utilizando el método de Bisección y Newton-Raphson (sin incluir la derivada).\n",
        "\n",
        "\n",
        "\n"
      ],
      "metadata": {
        "id": "od2GDFK5-QJC"
      }
    },
    {
      "cell_type": "code",
      "source": [
        "def doblefactorial(n): #funcion para el doble factorial\n",
        "  if n <= 0:\n",
        "    return 1\n",
        "  else:\n",
        "    resultado = 1\n",
        "    for i in range(1, n+1,2):\n",
        "      resultado *= i\n",
        "    return resultado"
      ],
      "metadata": {
        "id": "hkHRzyB9-mSS"
      },
      "execution_count": 9,
      "outputs": []
    },
    {
      "cell_type": "code",
      "source": [
        "def coeficiente_cn(n): #funcion para los coeficientes cn\n",
        "  cn = (doblefactorial(n)/((2**n)*(factorial(n))))**2\n",
        "  return cn"
      ],
      "metadata": {
        "id": "UbIFrJTyhb7X"
      },
      "execution_count": 10,
      "outputs": []
    },
    {
      "cell_type": "code",
      "source": [
        "def sumatoria(n,theta): #funcion para la sumatoria para hallar el periodo\n",
        "  for i in range(n+1):\n",
        "    suma = coeficiente_cn(n)*(np.sin(theta/2)**2*i)\n",
        "  return suma\n",
        "\n",
        "def periodo(n,thetha): #funcion para hallar el valor del periodo t\n",
        "  T0= 2*pi*(sqrt(1.2/9.8))\n",
        "  T= T0*(1+sumatoria(n,thetha))\n",
        "  return T"
      ],
      "metadata": {
        "id": "WMc2HZXlhX5P"
      },
      "execution_count": 11,
      "outputs": []
    },
    {
      "cell_type": "code",
      "source": [
        "rad90 = np.deg2rad(90)\n",
        "rad15 = np.deg2rad(15)\n",
        "\n",
        "T_90 = periodo(3,rad90)\n",
        "T_15 = periodo(3,rad15)\n",
        "\n",
        "T_90_real = periodo(10,rad90)\n",
        "T_15_real = periodo(10,rad15)\n",
        "\n",
        "#funcion para hallar el error porcentual de los valores calculados\n",
        "def error_porcentual(valor_real, valor_aproximado):\n",
        "  error = (abs(valor_real-valor_aproximado)/valor_real)*100\n",
        "  return error\n",
        "\n",
        "error90 = error_porcentual(T_90_real,T_90)\n",
        "error15 = error_porcentual(T_15_real,T_15)\n",
        "\n",
        "print(f'el valor para 90 grados es {T_90} con un error porcentual de {error90: .4f} %')\n",
        "print(f'el valor para 15 grados es {T_15} con un error porcentual de {error15: .4f} %')\n"
      ],
      "metadata": {
        "colab": {
          "base_uri": "https://localhost:8080/"
        },
        "id": "S0ZLaMSqeXxm",
        "outputId": "db48abac-c424-47be-ca25-25b149560e70"
      },
      "execution_count": 13,
      "outputs": [
        {
          "output_type": "stream",
          "name": "stdout",
          "text": [
            "el valor para 90 grados es 2.2115396066965176 con un error porcentual de  0.5859 %\n",
            "el valor para 15 grados es 2.1990958209374734 con un error porcentual de  0.0200 %\n"
          ]
        }
      ]
    },
    {
      "cell_type": "markdown",
      "source": [
        "para angulos muy grandes ya no funciona la aproximacion de pequeñas oscilaciones, mayor a 15 grados se incrementa en buena medida el error, con la aproximacion se tiene un error de practicamente cero al comparar la medida real y la aproximacion."
      ],
      "metadata": {
        "id": "UeHDvNkrIM3-"
      }
    },
    {
      "cell_type": "markdown",
      "source": [
        "\n",
        "\n",
        "* Encuentre una función $f(\\theta_0)$ para  $\\theta_0$ (en radianes) en la cual el periodo real es exactamente un 10% mayor que el periodo para oscilaciones infinitesimales ($T_0 = 2\\pi\\sqrt{L/g}$). Utilice para $T(\\theta_0)$ los primeros 4 términos de la serie y grafique esta función para $\\theta_0 \\in [0, \\pi/2]$.\n",
        "\n",
        "* Resuelva numéricamente la ecuación para $f(\\theta_0) = 0$ utilizando el método de Bisección y Newton-Raphson (sin incluir la derivada)."
      ],
      "metadata": {
        "id": "EBF2mBbmp5d1"
      }
    },
    {
      "cell_type": "code",
      "source": [
        "def f(theta0): #funcion para f(tetha0)\n",
        "  serie = 1\n",
        "  N = 4\n",
        "  for n in range(1,N,1):\n",
        "    serie += sumatoria(n,theta0)\n",
        "  return serie - 1.10\n",
        "\n",
        "theta_0= np.linspace(0,pi/2,100)\n",
        "ftheta0 = f(theta_0)\n",
        "\n",
        "plt.style.use('dark_background')\n",
        "plt.plot(theta_0,ftheta0, color='blue')\n",
        "plt.title('Funcion f(tetha0)')\n",
        "plt.xlabel('theta0')\n",
        "plt.ylabel('f(tetha0)')\n",
        "plt.grid()\n",
        "plt.show()\n",
        "\n"
      ],
      "metadata": {
        "id": "LVtbhbXQp6Iu",
        "colab": {
          "base_uri": "https://localhost:8080/",
          "height": 472
        },
        "outputId": "feefbe15-52ce-4b33-c182-4a5e865a9861"
      },
      "execution_count": 29,
      "outputs": [
        {
          "output_type": "display_data",
          "data": {
            "text/plain": [
              "<Figure size 640x480 with 1 Axes>"
            ],
            "image/png": "[encoded data removed]"
          },
          "metadata": {}
        }
      ]
    },
    {
      "cell_type": "code",
      "source": [
        "#valores para f(tetha0) = 0 usando biseccion y secante\n",
        "raiz_biseccion_t = bisect(f,0,pi/2)\n",
        "print(f'Raiz con biseccion: {raiz_biseccion_t}')\n",
        "\n",
        "raiz_secante_t = newton(f,0.8)\n",
        "print(f'Raiz usando secante: {raiz_secante_t}')"
      ],
      "metadata": {
        "colab": {
          "base_uri": "https://localhost:8080/"
        },
        "id": "GgImIE9GDk1m",
        "outputId": "fbcb738a-2435-4349-bb95-7f18d23796ae"
      },
      "execution_count": 16,
      "outputs": [
        {
          "output_type": "stream",
          "name": "stdout",
          "text": [
            "Raiz con biseccion: 1.2478801754224655\n",
            "Raiz usando secante: 1.2478801754227087\n"
          ]
        }
      ]
    },
    {
      "cell_type": "code",
      "source": [],
      "metadata": {
        "id": "E085mT_nIjrV"
      },
      "execution_count": null,
      "outputs": []
    }
  ]
}