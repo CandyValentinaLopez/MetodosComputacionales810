{
  "nbformat": 4,
  "nbformat_minor": 0,
  "metadata": {
    "colab": {
      "provenance": [],
      "include_colab_link": true
    },
    "kernelspec": {
      "name": "python3",
      "display_name": "Python 3"
    },
    "language_info": {
      "name": "python"
    }
  },
  "cells": [
    {
      "cell_type": "markdown",
      "metadata": {
        "id": "view-in-github",
        "colab_type": "text"
      },
      "source": [
        "<a href=\"https://colab.research.google.com/github/Dan-RomeroB/MetodosComputacionales810/blob/main/Students/Romero_6295/Tareas%20/Copia_de_Actividad_PythonB%C3%A1sico.ipynb\" target=\"_parent\"><img src=\"https://colab.research.google.com/assets/colab-badge.svg\" alt=\"Open In Colab\"/></a>"
      ]
    },
    {
      "cell_type": "markdown",
      "source": [
        "# Actividad: Introducción a Python (sin librerías)\n",
        "\n",
        "---"
      ],
      "metadata": {
        "id": "ym3QAv5yfZSO"
      }
    },
    {
      "cell_type": "markdown",
      "source": [
        "## Problema 1: Números primos entre 2 y 50 con la Criba de Eratóstenes\n",
        "\n",
        "La **Criba de Eratóstenes** es un método eficiente para encontrar todos los números primos menores que un número dado. El algoritmo consiste en:\n",
        "\n",
        "1. Crear una lista de valores booleanos para representar los números del 2 al 50, todos inicialmente marcados como verdaderos.\n",
        "2. Comenzando desde el primer número primo (2), eliminar todos sus múltiplos (marcándolos como falsos).\n",
        "3. Repetir el proceso para el siguiente número no eliminado.\n",
        "4. Los números que permanezcan marcados como verdaderos son primos.\n",
        "\n",
        "Usando funciones, implementa este método y muestra en pantalla todos los números primos entre 2 y 50.\n",
        "\n"
      ],
      "metadata": {
        "id": "W0C9oNGXfwDj"
      }
    },
    {
      "cell_type": "code",
      "source": [
        "#Generamos una lista de valores booleanos, donde todos los elemtos son True\n",
        "booleanos=[True for i in range(2, 51)]\n",
        "\n",
        "#Como la lista comienza desde dos tenemos que el numero correspondiente a cada booleano es indice+2\n",
        "for indice in range(len(booleanos)):\n",
        "  num=indice+2\n",
        "#A partir del primer multiplo de num diferente de si mismo y vamos dando saltos del tamaño de num, asi modificamos sus multiplos como False\n",
        "  for multiplo in range(num*2, 51, num):\n",
        "    booleanos[multiplo-2]=False\n",
        "\n",
        "#Recorro la lista obteniendo su indice y valor, asi si valor es verdadero, accedo al numero que representa con el metodo usado antes y lo añado a la lista de primos\n",
        "numeros_primos=[]\n",
        "for idx, val in enumerate(booleanos):\n",
        "  if val==True:\n",
        "    numeros_primos.append(idx+2)\n",
        "print(numeros_primos)\n"
      ],
      "metadata": {
        "id": "GIk3OsqxfZ50",
        "colab": {
          "base_uri": "https://localhost:8080/"
        },
        "outputId": "09b025d5-50ec-47b7-e797-2404314d67b5"
      },
      "execution_count": null,
      "outputs": [
        {
          "output_type": "stream",
          "name": "stdout",
          "text": [
            "[2, 3, 5, 7, 11, 13, 17, 19, 23, 29, 31, 37, 41, 43, 47]\n"
          ]
        }
      ]
    },
    {
      "cell_type": "markdown",
      "source": [
        "## Problema 2: Aproximación de π usando la serie de Leibniz\n",
        "\n",
        "La serie de Leibniz es una forma sencilla de aproximar el valor de π:\n",
        "\n",
        "$$\n",
        "\\pi \\approx 4 \\sum_{n=0}^{N} \\frac{(-1)^n}{2n + 1}\n",
        "$$\n",
        "\n",
        "Implementa una función que realice este calculo y muestra la aproximación para distintos valores de $N$ (por ejemplo: 10, 100, 1000, 10000)."
      ],
      "metadata": {
        "id": "WzI-FhIWf2iJ"
      }
    },
    {
      "cell_type": "code",
      "source": [
        "def serie_de_Leibniz(N):\n",
        "  sum=0                  #se define la variable sum, donde se realizaran los cambios correspondientes a las sumatoria\n",
        "  for n in range(N+1):   #iniciamos con un ciclo for con rango N+1, para abarcar los numeros desde n=0 hasta n=N\n",
        "    a=((-1)**n)/((2*n)+1)\n",
        "    sum+=a               #definimos a que seria el elemento n-esimo de la sucecion y se suma al elemeto sum\n",
        "  return(4*sum)"
      ],
      "metadata": {
        "id": "DfVwDvrRf7Fz"
      },
      "execution_count": null,
      "outputs": []
    },
    {
      "cell_type": "code",
      "source": [
        "serie_de_Leibniz(10)"
      ],
      "metadata": {
        "id": "TOpRN6p10AM2",
        "colab": {
          "base_uri": "https://localhost:8080/"
        },
        "outputId": "0c6e9b7c-fafc-4654-add1-0e842fb16dcf"
      },
      "execution_count": null,
      "outputs": [
        {
          "output_type": "execute_result",
          "data": {
            "text/plain": [
              "3.232315809405594"
            ]
          },
          "metadata": {},
          "execution_count": 18
        }
      ]
    },
    {
      "cell_type": "code",
      "source": [
        "serie_de_Leibniz(100)"
      ],
      "metadata": {
        "colab": {
          "base_uri": "https://localhost:8080/"
        },
        "id": "oBzIbSRU0Q1c",
        "outputId": "a4a5ce8a-ff4c-4bb4-e55d-19efb205ef69"
      },
      "execution_count": null,
      "outputs": [
        {
          "output_type": "execute_result",
          "data": {
            "text/plain": [
              "3.1514934010709914"
            ]
          },
          "metadata": {},
          "execution_count": 20
        }
      ]
    },
    {
      "cell_type": "code",
      "source": [
        "serie_de_Leibniz(1000)"
      ],
      "metadata": {
        "colab": {
          "base_uri": "https://localhost:8080/"
        },
        "id": "dD2AzGmM0T5X",
        "outputId": "84b7a092-1920-4ad7-d833-7b1344908911"
      },
      "execution_count": null,
      "outputs": [
        {
          "output_type": "execute_result",
          "data": {
            "text/plain": [
              "3.1425916543395442"
            ]
          },
          "metadata": {},
          "execution_count": 21
        }
      ]
    },
    {
      "cell_type": "code",
      "source": [
        "serie_de_Leibniz(10000)"
      ],
      "metadata": {
        "colab": {
          "base_uri": "https://localhost:8080/"
        },
        "id": "rr1iNlKi0XfS",
        "outputId": "ebe34b65-1537-469e-dce4-cd62fee9123a"
      },
      "execution_count": null,
      "outputs": [
        {
          "output_type": "execute_result",
          "data": {
            "text/plain": [
              "3.1416926435905346"
            ]
          },
          "metadata": {},
          "execution_count": 23
        }
      ]
    },
    {
      "cell_type": "markdown",
      "source": [
        "## Problema 3: Números amigos en un rango dado\n",
        "\n",
        "Dos números naturales $a$ y $b$ se llaman **números amigos** si la suma de los divisores propios (excluyendo el número mismo) de $a$ es igual a $b$, y viceversa.\n",
        "\n",
        "Por ejemplo, 220 y 284 son números amigos porque:\n",
        "- Los divisores propios de 220 son: 1, 2, 4, 5, 10, 11, 20, 22, 44, 55, 110 → suma: 284\n",
        "- Los divisores propios de 284 son: 1, 2, 4, 71, 142 → suma: 220\n",
        "\n",
        "Escribe un programa que encuentre todos los pares de números amigos en un rango dado por el usuario (por ejemplo, entre 1 y 10000)."
      ],
      "metadata": {
        "id": "Z1-gsRbNf7jy"
      }
    },
    {
      "cell_type": "code",
      "source": [
        "def suma_divisores_propios(numero):\n",
        "  '''\n",
        "  Con este metodo hago una lista de todos los multiplos de un número (salvo el 1) y sumo todos los elementos, luego sumo 1\n",
        "  '''\n",
        "  suma=sum([x for x in range(2,numero) if numero%x==0])+1\n",
        "  #suma=1\n",
        "  #if numero==1:\n",
        "  #  return(suma)\n",
        "  #for i in range(2,numero): #recorro todos los numeros desde 1 y menores al numero dado\n",
        "  #  if numero%i==0:         #si el valor i es un divisor entonses se suma\n",
        "  #    suma+=i\n",
        "  return suma"
      ],
      "metadata": {
        "id": "ghiNhsKemVmj"
      },
      "execution_count": null,
      "outputs": []
    },
    {
      "cell_type": "code",
      "source": [
        "suma_divisores_propios(10000)"
      ],
      "metadata": {
        "colab": {
          "base_uri": "https://localhost:8080/"
        },
        "id": "SYvv_rJ2udTE",
        "outputId": "0e0fb14c-9a82-498e-8fb7-02bebaad305b"
      },
      "execution_count": null,
      "outputs": [
        {
          "output_type": "execute_result",
          "data": {
            "text/plain": [
              "14211"
            ]
          },
          "metadata": {},
          "execution_count": 28
        }
      ]
    },
    {
      "cell_type": "code",
      "source": [
        "def numeros_amigos(num_inicial,num_final):\n",
        "  '''Organiza las parejas de números amigos en tuplas y las agrega a un conjunto'''\n",
        "  parejas=set()\n",
        "  for a in range(num_inicial,num_final+1):\n",
        "    b=suma_divisores_propios(a)\n",
        "    if suma_divisores_propios(b)==a and a<b: #Se añadio la condiocion de a<b para evitar que se repitan tuplas en la lista\n",
        "      parejas.add((a,b))\n",
        "  return parejas\n",
        "\n",
        "num1=int(input(f'Rango desde: '))\n",
        "num2=int(input(f'Hasta: '))\n",
        "print(f'Las parejas de números amigos entre 1 y 1000 son: {numeros_amigos(num1,num2)}')"
      ],
      "metadata": {
        "id": "m87mKCXlgGjN",
        "colab": {
          "base_uri": "https://localhost:8080/"
        },
        "outputId": "451a25ad-9277-4192-b659-0922db40fe67"
      },
      "execution_count": null,
      "outputs": [
        {
          "output_type": "stream",
          "name": "stdout",
          "text": [
            "Rango desde: 0\n",
            "Hasta: 10000\n",
            "Las parejas de números amigos entre 1 y 1000 son: {(2620, 2924), (5020, 5564), (6232, 6368), (1184, 1210), (220, 284)}\n"
          ]
        }
      ]
    },
    {
      "cell_type": "code",
      "source": [
        "numeros_amigos(1,10000)"
      ],
      "metadata": {
        "colab": {
          "base_uri": "https://localhost:8080/"
        },
        "id": "otiqR-e8vbhM",
        "outputId": "bd51d92c-4bdd-4120-a2b4-beec5290ef0c"
      },
      "execution_count": null,
      "outputs": [
        {
          "output_type": "execute_result",
          "data": {
            "text/plain": [
              "{(220, 284), (1184, 1210), (2620, 2924), (5020, 5564), (6232, 6368)}"
            ]
          },
          "metadata": {},
          "execution_count": 32
        }
      ]
    },
    {
      "cell_type": "markdown",
      "source": [
        "\n",
        "## Problema 4: Contador de frecuencias de letras en una palabra\n",
        "\n",
        "Escribe un programa que lea una palabra ingresada por el usuario y construya un diccionario donde cada clave sea una letra de la palabra, y el valor asociado sea la cantidad de veces que esa letra aparece. Imprime el resultado.\n"
      ],
      "metadata": {
        "id": "ASKmJNuBgHIp"
      }
    },
    {
      "cell_type": "code",
      "source": [
        "palabra=str(input(f'Ingrese su palbra: '))\n",
        "\n",
        "#Hago un set de la palabra dada para poder eliminar los elemntos repetidos, asi obtendo las claves del diccionario\n",
        "lista_de_letras= list(set(palabra))\n",
        "repeticiones=[]\n",
        "\n",
        "#Recorro la lista realizada con el set y cuento la cantidad de veces que se repite una letra en la plabra\n",
        "for letra in lista_de_letras:\n",
        "  n=palabra.count(letra)\n",
        "  repeticiones.append(n)\n",
        "\n",
        "#Finalmente creo un diccionario a partir de las lista\n",
        "dic_palabra=dict(zip(lista_de_letras,repeticiones))\n",
        "\n",
        "for clave, valor in dic_palabra.items():\n",
        "    print(f\"{clave}: {valor}\")"
      ],
      "metadata": {
        "id": "klMGSddPgUQ5",
        "colab": {
          "base_uri": "https://localhost:8080/"
        },
        "outputId": "0e4460e9-0722-410c-9b82-a391f711fbb9"
      },
      "execution_count": null,
      "outputs": [
        {
          "output_type": "stream",
          "name": "stdout",
          "text": [
            "Ingrese su palbra: Empanada\n",
            "E: 1\n",
            "n: 1\n",
            "d: 1\n",
            "p: 1\n",
            "a: 3\n",
            "m: 1\n"
          ]
        }
      ]
    }
  ]
}