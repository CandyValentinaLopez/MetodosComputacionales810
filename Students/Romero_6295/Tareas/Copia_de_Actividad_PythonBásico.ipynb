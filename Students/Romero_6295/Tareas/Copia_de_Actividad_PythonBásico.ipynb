{
  "nbformat": 4,
  "nbformat_minor": 0,
  "metadata": {
    "colab": {
      "provenance": [],
      "include_colab_link": true
    },
    "kernelspec": {
      "name": "python3",
      "display_name": "Python 3"
    },
    "language_info": {
      "name": "python"
    }
  },
  "cells": [
    {
      "cell_type": "markdown",
      "metadata": {
        "id": "view-in-github",
        "colab_type": "text"
      },
      "source": [
        "<a href=\"https://colab.research.google.com/github/Dan-RomeroB/MetodosComputacionales810/blob/main/Students/Romero_6295/Tareas/Copia_de_Actividad_PythonB%C3%A1sico.ipynb\" target=\"_parent\"><img src=\"https://colab.research.google.com/assets/colab-badge.svg\" alt=\"Open In Colab\"/></a>"
      ]
    },
    {
      "cell_type": "markdown",
      "source": [
        "# Actividad: Introducción a Python (sin librerías)\n",
        "\n",
        "---"
      ],
      "metadata": {
        "id": "ym3QAv5yfZSO"
      }
    },
    {
      "cell_type": "markdown",
      "source": [
        "## Problema 1: Números primos entre 2 y 50 con la Criba de Eratóstenes\n",
        "\n",
        "La **Criba de Eratóstenes** es un método eficiente para encontrar todos los números primos menores que un número dado. El algoritmo consiste en:\n",
        "\n",
        "1. Crear una lista de valores booleanos para representar los números del 2 al 50, todos inicialmente marcados como verdaderos.\n",
        "2. Comenzando desde el primer número primo (2), eliminar todos sus múltiplos (marcándolos como falsos).\n",
        "3. Repetir el proceso para el siguiente número no eliminado.\n",
        "4. Los números que permanezcan marcados como verdaderos son primos.\n",
        "\n",
        "Usando funciones, implementa este método y muestra en pantalla todos los números primos entre 2 y 50.\n",
        "\n"
      ],
      "metadata": {
        "id": "W0C9oNGXfwDj"
      }
    },
    {
      "cell_type": "code",
      "source": [
        "#Aqui va su código\n",
        "num=[i for i in range(2, 51)] #Generamos una lista de numeros desde el 2 al 50\n",
        "for i in num:\n",
        "  for x in range(i*2, 51, i): #comenzamos desde el primer multiplo de i diferente a si mismo y vamos dando saltos del tamañ de i, asabarcamos todos sus multiplos\n",
        "    if x in num:\n",
        "      num.remove(x) #si el numero esta en la lista lo removemos\n",
        "print(\"Primos entre 2 y 50:\", num)"
      ],
      "metadata": {
        "id": "GIk3OsqxfZ50",
        "colab": {
          "base_uri": "https://localhost:8080/"
        },
        "outputId": "f911d92a-046b-4c22-af79-4a1033ea9bb6"
      },
      "execution_count": null,
      "outputs": [
        {
          "output_type": "stream",
          "name": "stdout",
          "text": [
            "Primos entre 2 y 50: [2, 3, 5, 7, 11, 13, 17, 19, 23, 29, 31, 37, 41, 43, 47]\n"
          ]
        }
      ]
    },
    {
      "cell_type": "markdown",
      "source": [
        "## Problema 2: Aproximación de π usando la serie de Leibniz\n",
        "\n",
        "La serie de Leibniz es una forma sencilla de aproximar el valor de π:\n",
        "\n",
        "$$\n",
        "\\pi \\approx 4 \\sum_{n=0}^{N} \\frac{(-1)^n}{2n + 1}\n",
        "$$\n",
        "\n",
        "Implementa una función que realice este calculo y muestra la aproximación para distintos valores de $N$ (por ejemplo: 10, 100, 1000, 10000)."
      ],
      "metadata": {
        "id": "WzI-FhIWf2iJ"
      }
    },
    {
      "cell_type": "code",
      "source": [
        "#Aqui va su código\n",
        "def serie_de_Leibniz(N): #se define la función correspondiente a la serie de Leibniz\n",
        "  sum=0                  #se define la variable sum, donde se realizaran los cambios correspondientes a las sumatoria\n",
        "  for n in range(N+1):   #iniciamos con un ciclo for con rango N+1, para abarcar los numeros desde n=0 hasta n=N\n",
        "    a=((-1)**n)/((2*n)+1)\n",
        "    sum+=a               #definimos a que seria el elemento n-esimo de la sucecion y se suma al elemeto sum\n",
        "  return(4*sum)\n",
        "\n",
        "#N=int(input(f'Valor de N:')) #con esto pedimos el valor de N, asi se puede erealizar la aproximacion para diferentes valores de N\n",
        "#pi= serie_de_Leibniz(N)\n",
        "#print(pi)"
      ],
      "metadata": {
        "id": "DfVwDvrRf7Fz"
      },
      "execution_count": null,
      "outputs": []
    },
    {
      "cell_type": "code",
      "source": [
        "serie_de_Leibniz(10)"
      ],
      "metadata": {
        "id": "TOpRN6p10AM2",
        "colab": {
          "base_uri": "https://localhost:8080/"
        },
        "outputId": "226843db-db24-4417-d42e-e5325a8e422a"
      },
      "execution_count": null,
      "outputs": [
        {
          "output_type": "execute_result",
          "data": {
            "text/plain": [
              "3.232315809405594"
            ]
          },
          "metadata": {},
          "execution_count": 88
        }
      ]
    },
    {
      "cell_type": "code",
      "source": [
        "serie_de_Leibniz(100)"
      ],
      "metadata": {
        "colab": {
          "base_uri": "https://localhost:8080/"
        },
        "id": "oBzIbSRU0Q1c",
        "outputId": "591ee5a2-d105-47d2-a12d-388feb58cee5"
      },
      "execution_count": null,
      "outputs": [
        {
          "output_type": "execute_result",
          "data": {
            "text/plain": [
              "3.1514934010709914"
            ]
          },
          "metadata": {},
          "execution_count": 89
        }
      ]
    },
    {
      "cell_type": "code",
      "source": [
        "serie_de_Leibniz(1000)"
      ],
      "metadata": {
        "colab": {
          "base_uri": "https://localhost:8080/"
        },
        "id": "dD2AzGmM0T5X",
        "outputId": "56de7f16-b429-4086-f2e4-72f5566a11eb"
      },
      "execution_count": null,
      "outputs": [
        {
          "output_type": "execute_result",
          "data": {
            "text/plain": [
              "3.1425916543395442"
            ]
          },
          "metadata": {},
          "execution_count": 90
        }
      ]
    },
    {
      "cell_type": "code",
      "source": [
        "serie_de_Leibniz(10000)"
      ],
      "metadata": {
        "colab": {
          "base_uri": "https://localhost:8080/"
        },
        "id": "rr1iNlKi0XfS",
        "outputId": "a9cb06e6-285a-4f3e-a247-6b700585d69f"
      },
      "execution_count": null,
      "outputs": [
        {
          "output_type": "execute_result",
          "data": {
            "text/plain": [
              "3.1416926435905346"
            ]
          },
          "metadata": {},
          "execution_count": 91
        }
      ]
    },
    {
      "cell_type": "markdown",
      "source": [
        "## Problema 3: Números amigos en un rango dado\n",
        "\n",
        "Dos números naturales $a$ y $b$ se llaman **números amigos** si la suma de los divisores propios (excluyendo el número mismo) de $a$ es igual a $b$, y viceversa.\n",
        "\n",
        "Por ejemplo, 220 y 284 son números amigos porque:\n",
        "- Los divisores propios de 220 son: 1, 2, 4, 5, 10, 11, 20, 22, 44, 55, 110 → suma: 284\n",
        "- Los divisores propios de 284 son: 1, 2, 4, 71, 142 → suma: 220\n",
        "\n",
        "Escribe un programa que encuentre todos los pares de números amigos en un rango dado por el usuario (por ejemplo, entre 1 y 10000)."
      ],
      "metadata": {
        "id": "Z1-gsRbNf7jy"
      }
    },
    {
      "cell_type": "code",
      "source": [
        "#Aqui va su código\n",
        "#Hago una funcion que encuetra los divisores de un numero (diferentes a este) y los suma\n",
        "def suma_divisores_propios(numero):\n",
        "  suma=sum([x for x in range(2,numero) if numero%x==0])+1\n",
        "  #suma=1\n",
        "  #if numero==1:\n",
        "  #  return(suma)\n",
        "  #for i in range(2,numero): #recorro todos los numeros desde 1 y menores al numero dado\n",
        "  #  if numero%i==0:         #si el valor i es un divisor entonses se suma\n",
        "  #    suma+=i\n",
        "  return suma\n",
        "\n",
        "n=int(input(f'numero: '))\n",
        "print(suma_divisores_propios(n))"
      ],
      "metadata": {
        "id": "ghiNhsKemVmj"
      },
      "execution_count": null,
      "outputs": []
    },
    {
      "cell_type": "code",
      "source": [
        "suma_divisores_propios(10000)"
      ],
      "metadata": {
        "colab": {
          "base_uri": "https://localhost:8080/"
        },
        "id": "SYvv_rJ2udTE",
        "outputId": "22179874-38fa-4350-977e-acb6eb6121e6"
      },
      "execution_count": null,
      "outputs": [
        {
          "output_type": "execute_result",
          "data": {
            "text/plain": [
              "14211"
            ]
          },
          "metadata": {},
          "execution_count": 73
        }
      ]
    },
    {
      "cell_type": "code",
      "source": [
        "#Hago una funcion que me organice las parejas de numeros amigos en tuplas y las agregue a una lista\n",
        "def numeros_amigos(num_inicial,num_final):\n",
        "  parejas=set()\n",
        "  for a in range(num_inicial,num_final+1):\n",
        "    b=suma_divisores_propios(a)              #guardo en la vaariable b el numero que da como resultado sumar los divisores propios de a\n",
        "    if suma_divisores_propios(b)==a and a<b: #si la suma de los divisores de b es igual al numero a, enntonces son numeros amigos. Tambien se añadio la condiocion de a<b para evitar que se repitan tuplas en la lista#\n",
        "      parejas.add((a,b))\n",
        "  return parejas\n",
        "\n",
        "num1=int(input(f'Rango desde: '))\n",
        "num2=int(input(f'Hasta: '))\n",
        "print(f'Las parejas de números amigos entre 1 y 1000 son: {numeros_amigos(num1,num2)}')"
      ],
      "metadata": {
        "id": "m87mKCXlgGjN"
      },
      "execution_count": null,
      "outputs": []
    },
    {
      "cell_type": "code",
      "source": [
        "numeros_amigos(1,10000)"
      ],
      "metadata": {
        "colab": {
          "base_uri": "https://localhost:8080/"
        },
        "id": "otiqR-e8vbhM",
        "outputId": "df0f5433-c82e-4b6a-8db7-65afd223be3e"
      },
      "execution_count": null,
      "outputs": [
        {
          "output_type": "execute_result",
          "data": {
            "text/plain": [
              "{(220, 284), (1184, 1210), (2620, 2924), (5020, 5564), (6232, 6368)}"
            ]
          },
          "metadata": {},
          "execution_count": 85
        }
      ]
    },
    {
      "cell_type": "markdown",
      "source": [
        "\n",
        "## Problema 4: Contador de frecuencias de letras en una palabra\n",
        "\n",
        "Escribe un programa que lea una palabra ingresada por el usuario y construya un diccionario donde cada clave sea una letra de la palabra, y el valor asociado sea la cantidad de veces que esa letra aparece. Imprime el resultado.\n"
      ],
      "metadata": {
        "id": "ASKmJNuBgHIp"
      }
    },
    {
      "cell_type": "code",
      "source": [
        "#Aqui va su código\n",
        "palabra=str(input(f'Ingrese su palbra: '))\n",
        "\n",
        "lista_de_letras= list(set(palabra)) #hago un set de la palabra dada para poder eliminar los elemntos repetidos, de modo que obtendo las claves del diccionario\n",
        "repeticiones=[]\n",
        "\n",
        "for i in lista_de_letras: #recorro la lista realizada con el set y cuento la cantidad de veces que se repite una letra en la plaabra\n",
        "  n=palabra.count(i)\n",
        "  repeticiones.append(n)\n",
        "dic_palabra=dict(zip(lista_de_letras,repeticiones)) #finalmente creo un diccionario a partir de las lista\n",
        "\n",
        "for clave, valor in dic_palabra.items():\n",
        "    print(f\"{clave}: {valor}\")"
      ],
      "metadata": {
        "id": "klMGSddPgUQ5",
        "colab": {
          "base_uri": "https://localhost:8080/"
        },
        "outputId": "2f5f4db5-d864-4d3f-a000-ea49cc71dde6"
      },
      "execution_count": null,
      "outputs": [
        {
          "output_type": "stream",
          "name": "stdout",
          "text": [
            "Ingrese su palbra: empanada\n",
            "e: 1\n",
            "m: 1\n",
            "p: 1\n",
            "d: 1\n",
            "a: 3\n",
            "n: 1\n"
          ]
        }
      ]
    }
  ]
}