{
  "nbformat": 4,
  "nbformat_minor": 0,
  "metadata": {
    "colab": {
      "provenance": []
    },
    "kernelspec": {
      "name": "python3",
      "display_name": "Python 3"
    },
    "language_info": {
      "name": "python"
    }
  },
  "cells": [
    {
      "cell_type": "code",
      "execution_count": 1,
      "metadata": {
        "id": "rZuc8vXcWuxy",
        "cellView": "form"
      },
      "outputs": [],
      "source": [
        "#@title Librerias\n",
        "import numpy as np\n",
        "import matplotlib.pyplot as plt\n",
        "import pandas as pd\n",
        "import sympy as sp\n",
        "from scipy.integrate import simpson, trapezoid, fixed_quad, quad"
      ]
    },
    {
      "cell_type": "markdown",
      "source": [
        "# Actividad 07: Integración\n",
        "\n",
        "---\n",
        "### Profesor: Juan Marcos Marín\n",
        "### Nombre: Santiago Angulo\n",
        "*Métodos computacionales*\n",
        "\n",
        "---"
      ],
      "metadata": {
        "id": "MGwGfceuWxy3"
      }
    },
    {
      "cell_type": "markdown",
      "source": [
        "#1\n",
        "\n",
        "Encuentre las integrales\n",
        "\n",
        "$$\\int_0^{\\pi/4}  e^{3x}\\cdot \\sin(x) \\, dx$$\n",
        "\n",
        "---\n",
        "\n",
        "$$\\int_e^{1+e} \\frac{1}{x\\ln x} \\, dx$$\n",
        "\n",
        "---\n",
        "\n",
        "* Usando los métodos Trapezoidal y de Simpson. Evalue la convergencia en función del valor de $h$, para esto haga un gráfico logaritmico del error absoluto tomando como valor exacto el dado por `quad`.\n",
        "\n",
        "* Luego, realice un estudio de la convergencia para `fixed_quad`.\n",
        "\n",
        "\n",
        "\n",
        "\n"
      ],
      "metadata": {
        "id": "_qpgPAtHNgPB"
      }
    },
    {
      "cell_type": "code",
      "source": [
        "import numpy as np\n",
        "import matplotlib.pyplot as plt\n",
        "from scipy.integrate import trapezoid, simpson, quad, fixed_quad\n",
        "\n",
        "# Función a integrar\n",
        "f = lambda x: np.exp(3 * x) * np.sin(x)\n",
        "\n",
        "# Límites\n",
        "a, b = 0, np.pi / 4\n",
        "\n",
        "# Valor exacto usando quad\n",
        "exacto, _ = quad(f, a, b)\n",
        "print(f\"Valor exacto (quad): {exacto:.10f}\")\n",
        "\n",
        "# n fijo para impresión directa de resultados con n=100\n",
        "n = 100\n",
        "x = np.linspace(a, b, n)\n",
        "y = f(x)\n",
        "\n",
        "trap = trapezoid(y, x)\n",
        "simp = simpson(y, x)\n",
        "\n",
        "print(f\"Integral con método del trapecio (n={n}): {trap:.10f}\")\n",
        "print(f\"Error trapecio: {abs(trap - exacto):.2e}\")\n",
        "\n",
        "print(f\"Integral con método de Simpson (n={n}): {simp:.10f}\")\n",
        "print(f\"Error Simpson: {abs(simp - exacto):.2e}\")"
      ],
      "metadata": {
        "colab": {
          "base_uri": "https://localhost:8080/"
        },
        "id": "PpdIv96Yq3m1",
        "outputId": "b7cbb2f1-2a1f-4ad8-ba3c-f2132821de0e"
      },
      "execution_count": 2,
      "outputs": [
        {
          "output_type": "stream",
          "name": "stdout",
          "text": [
            "Valor exacto (quad): 1.5920977079\n",
            "Integral con método del trapecio (n=100): 1.5922489762\n",
            "Error trapecio: 1.51e-04\n",
            "Integral con método de Simpson (n=100): 1.5920977675\n",
            "Error Simpson: 5.96e-08\n"
          ]
        }
      ]
    },
    {
      "cell_type": "code",
      "source": [
        "# Estudio de convergencia\n",
        "hs = []\n",
        "error_trap = []\n",
        "error_simp = []\n",
        "\n",
        "for n in range(10, 300, 10):\n",
        "    x = np.linspace(a, b, n)\n",
        "    y = f(x)\n",
        "\n",
        "    h = (b - a) / (n - 1)\n",
        "    hs.append(h)\n",
        "\n",
        "    int_trap = trapezoid(y, x)\n",
        "    int_simp = simpson(y, x)\n",
        "\n",
        "    error_trap.append(abs(int_trap - exacto))\n",
        "    error_simp.append(abs(int_simp - exacto))\n",
        "\n",
        "plt.figure(figsize=(8,5))\n",
        "plt.loglog(hs, error_trap, 'o-', label='Trapecio')\n",
        "plt.loglog(hs, error_simp, 's-', label='Simpson')\n",
        "plt.xlabel('h (paso)')\n",
        "plt.ylabel('Error absoluto')\n",
        "plt.title('Convergencia de métodos numéricos')\n",
        "plt.legend()\n",
        "plt.grid(True, which='both')\n",
        "plt.show()\n"
      ],
      "metadata": {
        "colab": {
          "base_uri": "https://localhost:8080/",
          "height": 492
        },
        "id": "gny3rG58q-5Z",
        "outputId": "17e93a1d-bdb3-4d9f-dc54-d2bd64fd4952"
      },
      "execution_count": 3,
      "outputs": [
        {
          "output_type": "display_data",
          "data": {
            "text/plain": [
              "<Figure size 800x500 with 1 Axes>"
            ],
            "image/png": "[encoded data removed]"
          },
          "metadata": {}
        }
      ]
    },
    {
      "cell_type": "code",
      "source": [
        "# fixed_quad con distintos valores\n",
        "print(\"\\nMétodo fixed_quad:\")\n",
        "for n in [2, 4, 6, 8, 10, 20]:\n",
        "    resultado, _ = fixed_quad(f, a, b, n=n)\n",
        "    print(f\"  n={n:2d} → integral: {resultado:.10f} | error: {abs(resultado - exacto):.2e}\")\n"
      ],
      "metadata": {
        "colab": {
          "base_uri": "https://localhost:8080/"
        },
        "id": "yRoGFncgq78A",
        "outputId": "6dbabd63-bb1b-4077-cbf9-3e687e64d920"
      },
      "execution_count": 4,
      "outputs": [
        {
          "output_type": "stream",
          "name": "stdout",
          "text": [
            "\n",
            "Método fixed_quad:\n",
            "  n= 2 → integral: 1.5687508629 | error: 2.33e-02\n",
            "  n= 4 → integral: 1.5920973834 | error: 3.25e-07\n",
            "  n= 6 → integral: 1.5920977079 | error: 2.44e-11\n",
            "  n= 8 → integral: 1.5920977079 | error: 8.88e-16\n",
            "  n=10 → integral: 1.5920977079 | error: 1.78e-15\n",
            "  n=20 → integral: 1.5920977079 | error: 1.33e-15\n"
          ]
        }
      ]
    },
    {
      "cell_type": "markdown",
      "source": [
        "#Ahora la sigueinte integral"
      ],
      "metadata": {
        "id": "PJOzd41Bqczb"
      }
    },
    {
      "cell_type": "code",
      "source": [
        "import numpy as np\n",
        "import matplotlib.pyplot as plt\n",
        "from scipy.integrate import trapezoid, simpson, quad, fixed_quad\n",
        "\n",
        "# Segunda función\n",
        "f2 = lambda x: 1 / (x * np.log(x))\n",
        "\n",
        "# Límites\n",
        "a2, b2 = np.e, np.e + 1\n",
        "\n",
        "# Valor exacto con quad\n",
        "exacto2, _ = quad(f2, a2, b2)\n",
        "print(f\"\\nValor exacto (quad) segunda integral: {exacto2:.10f}\")\n",
        "\n",
        "# n fijo para impresión de integrales\n",
        "n = 100\n",
        "x2 = np.linspace(a2, b2, n)\n",
        "y2 = f2(x2)\n",
        "\n",
        "trap2 = trapezoid(y2, x2)\n",
        "simp2 = simpson(y2, x2)\n",
        "\n",
        "print(f\"Integral Trapecio (n={n}): {trap2:.10f}\")\n",
        "print(f\"Error Trapecio: {abs(trap2 - exacto2):.2e}\")\n",
        "\n",
        "print(f\"Integral Simpson (n={n}): {simp2:.10f}\")\n",
        "print(f\"Error Simpson: {abs(simp2 - exacto2):.2e}\")\n"
      ],
      "metadata": {
        "colab": {
          "base_uri": "https://localhost:8080/"
        },
        "id": "PREc2SzjrM-j",
        "outputId": "75c68eeb-3a11-4667-a1d6-31c6ebec0d1e"
      },
      "execution_count": 5,
      "outputs": [
        {
          "output_type": "stream",
          "name": "stdout",
          "text": [
            "\n",
            "Valor exacto (quad) segunda integral: 0.2725138805\n",
            "Integral Trapecio (n=100): 0.2725153570\n",
            "Error Trapecio: 1.48e-06\n",
            "Integral Simpson (n=100): 0.2725138805\n",
            "Error Simpson: 1.05e-11\n"
          ]
        }
      ]
    },
    {
      "cell_type": "code",
      "source": [
        "# Estudio de convergencia\n",
        "hs2 = []\n",
        "error_trap2 = []\n",
        "error_simp2 = []\n",
        "\n",
        "for n in range(10, 300, 10):\n",
        "    x2 = np.linspace(a2, b2, n)\n",
        "    y2 = f2(x2)\n",
        "\n",
        "    h2 = (b2 - a2) / (n - 1)\n",
        "    hs2.append(h2)\n",
        "\n",
        "    int_trap2 = trapezoid(y2, x2)\n",
        "    int_simp2 = simpson(y2, x2)\n",
        "\n",
        "    error_trap2.append(abs(int_trap2 - exacto2))\n",
        "    error_simp2.append(abs(int_simp2 - exacto2))\n",
        "\n",
        "plt.figure(figsize=(8,5))\n",
        "plt.loglog(hs2, error_trap2, 'o-', label='Trapecio')\n",
        "plt.loglog(hs2, error_simp2, 's-', label='Simpson')\n",
        "plt.xlabel('h (paso)')\n",
        "plt.ylabel('Error absoluto')\n",
        "plt.title('Convergencia para $\\\\int_e^{e+1} \\\\frac{1}{x\\\\ln x} dx$')\n",
        "plt.legend()\n",
        "plt.grid(True, which='both')\n",
        "plt.show()\n"
      ],
      "metadata": {
        "colab": {
          "base_uri": "https://localhost:8080/",
          "height": 505
        },
        "id": "bomcxEy4s2DT",
        "outputId": "d9127f82-3102-4618-9a99-d619a19f1db9"
      },
      "execution_count": 6,
      "outputs": [
        {
          "output_type": "display_data",
          "data": {
            "text/plain": [
              "<Figure size 800x500 with 1 Axes>"
            ],
            "image/png": "[encoded data removed]"
          },
          "metadata": {}
        }
      ]
    },
    {
      "cell_type": "code",
      "source": [
        "\n",
        "# fixed_quad\n",
        "print(\"\\nMétodo fixed_quad (segunda integral):\")\n",
        "for n in [2, 4, 6, 8, 10, 20]:\n",
        "    resultado, _ = fixed_quad(f2, a2, b2, n=n)\n",
        "    print(f\"  n={n:2d} → integral: {resultado:.10f} | error: {abs(resultado - exacto2):.2e}\")"
      ],
      "metadata": {
        "colab": {
          "base_uri": "https://localhost:8080/"
        },
        "id": "EkPQkdQwsyvC",
        "outputId": "71b50717-b336-4130-c3fc-1d43301dba67"
      },
      "execution_count": 7,
      "outputs": [
        {
          "output_type": "stream",
          "name": "stdout",
          "text": [
            "\n",
            "Método fixed_quad (segunda integral):\n",
            "  n= 2 → integral: 0.2724108727 | error: 1.03e-04\n",
            "  n= 4 → integral: 0.2725138612 | error: 1.93e-08\n",
            "  n= 6 → integral: 0.2725138805 | error: 3.37e-12\n",
            "  n= 8 → integral: 0.2725138805 | error: 5.55e-16\n",
            "  n=10 → integral: 0.2725138805 | error: 5.55e-17\n",
            "  n=20 → integral: 0.2725138805 | error: 0.00e+00\n"
          ]
        }
      ]
    },
    {
      "cell_type": "markdown",
      "source": [
        "#2\n",
        "\n",
        "* Resuelva la siguiente integral usando `quad`. Compare su respuesta con `tlquad`\n",
        "\n",
        "$$\n",
        "\\int_0^\\pi \\int_0^x \\int_0^{xy} \\frac{1}{y}\\sin\\frac{z}{y}\\, dz dy dx\n",
        "$$"
      ],
      "metadata": {
        "id": "Db9dUFTSQcLY"
      }
    },
    {
      "cell_type": "code",
      "source": [
        "from scipy.integrate import quad\n",
        "from numpy import sin, pi\n",
        "\n",
        "# Más interna: integra en z desde 0 hasta x*y\n",
        "def integral_mas_interna(y, x):\n",
        "    integrando = lambda z: (1 / y) * sin(z / y) if y != 0 else 0\n",
        "    resultado, _ = quad(integrando, 0, x * y)\n",
        "    return resultado\n",
        "\n",
        "# Intermedia: integra en y desde 0 hasta x\n",
        "def integral_intermedia(x):\n",
        "    integrando = lambda y: integral_mas_interna(y, x)\n",
        "    resultado, _ = quad(integrando, 0, x)\n",
        "    return resultado\n",
        "\n",
        "# Más externa: integra en x desde 0 hasta pi\n",
        "resultado_triple_quad, error_triple_quad = quad(integral_intermedia, 0, pi)\n",
        "\n",
        "# Imprimir resultados\n",
        "print(f\"Resultado con triple quad anidado (con lambdas internas): {resultado_triple_quad:.10f}\")\n",
        "print(f\"Error estimado por quad: {error_triple_quad:.2e}\")\n"
      ],
      "metadata": {
        "colab": {
          "base_uri": "https://localhost:8080/"
        },
        "id": "5JId2UmOvfQ_",
        "outputId": "9855dfc3-4eb5-42e3-8efe-e2f6d77c36ba"
      },
      "execution_count": 8,
      "outputs": [
        {
          "output_type": "stream",
          "name": "stdout",
          "text": [
            "Resultado con triple quad anidado (con lambdas internas): 6.9348022005\n",
            "Error estimado por quad: 7.70e-14\n"
          ]
        }
      ]
    },
    {
      "cell_type": "code",
      "source": [
        "from scipy.integrate import tplquad\n",
        "from numpy import sin, pi\n",
        "\n",
        "# Definir el integrando como lambda\n",
        "f_triple = lambda z, y, x: (1 / y) * sin(z / y) if y != 0 else 0\n",
        "\n",
        "# Usar tplquad con los límites anidados\n",
        "resultado_tplquad, error_tplquad = tplquad(\n",
        "    f_triple,\n",
        "    0, pi,                     # x: [0, π]\n",
        "    lambda x: 0, lambda x: x, # y: [0, x]\n",
        "    lambda x, y: 0, lambda x, y: x * y  # z: [0, xy]\n",
        ")\n",
        "\n",
        "# Imprimir resultado\n",
        "print(f\"Resultado con tplquad: {resultado_tplquad:.10f}\")\n",
        "print(f\"Error estimado por tplquad: {error_tplquad:.2e}\")\n"
      ],
      "metadata": {
        "colab": {
          "base_uri": "https://localhost:8080/"
        },
        "id": "f1hj_-cAv15t",
        "outputId": "97c375d5-7a89-42ff-8d67-a7b262ea7909"
      },
      "execution_count": 9,
      "outputs": [
        {
          "output_type": "stream",
          "name": "stdout",
          "text": [
            "Resultado con tplquad: 6.9348022005\n",
            "Error estimado por tplquad: 7.70e-14\n"
          ]
        }
      ]
    },
    {
      "cell_type": "markdown",
      "source": [
        "#3\n",
        "Usando la siguiente función:\n",
        "\n",
        "\n",
        "\n",
        "```python\n",
        "def gauss_quad_standard(func, n):\n",
        "    \"\"\"\n",
        "    Calcula la integral de una función en el intervalo [-1, 1]\n",
        "    utilizando cuadratura gaussiana.\n",
        "\n",
        "    Parameters:\n",
        "    - func: La función a integrar.\n",
        "    - n: Número de puntos para la cuadratura (grado del polinomio de Legendre).\n",
        "\n",
        "    Returns:\n",
        "    - Aproximación de la integral.\n",
        "    \"\"\"\n",
        "    # Obtener raíces y pesos del polinomio de Legendre\n",
        "    x, w = roots_legendre(n)\n",
        "\n",
        "    # Evaluar la suma ponderada\n",
        "    integral = np.sum(w * func(x))\n",
        "    return integral\n",
        "```\n",
        "\n",
        "Modifique la función `gauss_quad_standard` de forma tal que no este restringida para $[-1,1]$ sino para cualquier intervalo $[a,b]$. Luego, encuentre la integral del *punto 2*.\n",
        "\n",
        "\n",
        "\n"
      ],
      "metadata": {
        "id": "3fLo8sm8RqA0"
      }
    },
    {
      "cell_type": "code",
      "source": [
        "import numpy as np\n",
        "from scipy.special import roots_legendre\n",
        "\n",
        "def gauss_quad_ab(func, a, b, n):\n",
        "    \"\"\"\n",
        "    Calcula la integral de una función en el intervalo [a, b]\n",
        "    usando cuadratura gaussiana de Legendre.\n",
        "\n",
        "    Parameters:\n",
        "    - func: función a integrar\n",
        "    - a, b: límites de integración\n",
        "    - n: número de puntos (grado del polinomio de Legendre)\n",
        "\n",
        "    Returns:\n",
        "    - Aproximación de la integral\n",
        "    \"\"\"\n",
        "    # Raíces y pesos en [-1, 1]\n",
        "    x_std, w_std = roots_legendre(n)\n",
        "\n",
        "    # Cambio de variable: transformar x de [-1,1] a [a,b]\n",
        "    x_ab = 0.5 * (b - a) * x_std + 0.5 * (b + a)\n",
        "\n",
        "    # Evaluar suma ponderada\n",
        "    integral = 0.5 * (b - a) *np.sum( w_std * func(x_ab))\n",
        "    return integral\n"
      ],
      "metadata": {
        "id": "M41o9uxtzDBS"
      },
      "execution_count": 10,
      "outputs": []
    },
    {
      "cell_type": "code",
      "source": [
        "# Función más interna: integral en z de 0 a x*y\n",
        "def gauss_z(y, x, n):\n",
        "    if y == 0:\n",
        "        return 0\n",
        "    integrando = lambda z: (1 / y) * np.sin(z / y)\n",
        "    return gauss_quad_ab(integrando, 0, x * y, n)\n",
        "\n",
        "# Intermedia: integral en y de 0 a x\n",
        "def gauss_y(x, n):\n",
        "    integrando = lambda y: gauss_z(y, x, n)\n",
        "    return gauss_quad_ab(np.vectorize(integrando), 0, x, n)\n",
        "\n",
        "# Externa: integral en x de 0 a pi\n",
        "n = 10  # puedes aumentar para mayor precisión\n",
        "resultado_gauss = gauss_quad_ab(np.vectorize(lambda x: gauss_y(x, n)), 0, np.pi, n)\n",
        "\n",
        "resultado_gauss\n"
      ],
      "metadata": {
        "id": "yIc4O-bO08pD",
        "outputId": "4fa59b26-bc0d-4666-c7fd-27dd9e4871d3",
        "colab": {
          "base_uri": "https://localhost:8080/"
        }
      },
      "execution_count": 11,
      "outputs": [
        {
          "output_type": "execute_result",
          "data": {
            "text/plain": [
              "np.float64(6.934802200544679)"
            ]
          },
          "metadata": {},
          "execution_count": 11
        }
      ]
    }
  ]
}