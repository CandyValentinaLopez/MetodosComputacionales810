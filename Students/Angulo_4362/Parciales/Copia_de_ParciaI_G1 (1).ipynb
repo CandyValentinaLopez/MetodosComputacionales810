{
  "nbformat": 4,
  "nbformat_minor": 0,
  "metadata": {
    "colab": {
      "provenance": []
    },
    "kernelspec": {
      "name": "python3",
      "display_name": "Python 3"
    },
    "language_info": {
      "name": "python"
    }
  },
  "cells": [
    {
      "cell_type": "markdown",
      "source": [
        "# Parcial I - Métodos Computacionales\n",
        "\n",
        "**2025-1**\n",
        "\n",
        "---\n",
        "\n",
        "Nombre: SANTIAGO ANDRES ANGULO TORO\n",
        "\n",
        "Identificación: 1.001.154.362\n",
        "\n",
        "---\n",
        "\n",
        "* ⚠ Explique su código usando con comentarios,\n",
        "\n",
        "* ❗Todas las funciones deben tener documentación básica,\n",
        "\n",
        "* 🛑 El uso de IA's no está permitido,\n",
        "\n",
        "* ⚛ La interpretación del enunciado hace parte de la evaluación,\n",
        "\n",
        "* ⏲ Este parcial tiene una duración de 2 horas"
      ],
      "metadata": {
        "id": "bcIQtfNJ4sBq"
      }
    },
    {
      "cell_type": "code",
      "source": [
        "# Librerias\n",
        "import numpy as np\n",
        "import matplotlib.pyplot as plt\n",
        "import pandas as pd\n",
        "from math import factorial\n",
        "from scipy.optimize import root_scalar, newton, bisect # Funciones para raices\n",
        "\n",
        "## Ayudas\n",
        "# np.sign (Signo de una variable)\n",
        "# np.deg2rad (Convertir grados a radianes)\n",
        "# pd.Dataframe Genera un dataframe a partir de un diccionario o listas\n",
        "# df['Columna'] == valor (Crea un filtro para buscar el valor)\n",
        "# range(0, 10, 2) (Pasos de 2 comenzando en 0 hasta 10)"
      ],
      "metadata": {
        "id": "-86TwvuE48Kp"
      },
      "execution_count": 43,
      "outputs": []
    },
    {
      "cell_type": "markdown",
      "source": [
        "# 1\n",
        "\n",
        "**(40 puntos)** El **método de Steffensen** es un algoritmo iterativo para encontrar raíces de ecuaciones no lineales de la forma:\n",
        "\n",
        "$$\n",
        "f(x) = 0.\n",
        "$$\n",
        "\n",
        "Se basa en aplicar una **aceleración cuadrática** al método de punto fijo, sin necesidad de calcular derivadas, a diferencia del método de Newton.\n",
        "\n",
        "---\n",
        "### Pasos para implementar\n",
        "\n",
        "1. **Definir la función** $f(x)$ cuya raíz se desea encontrar.\n",
        "\n",
        "   - Se busca una raíz $\\alpha$ tal que $f(\\alpha) = 0$.\n",
        "\n",
        "2. **Elegir una aproximación inicial** $x_0$ razonablemente cercana a la raíz.\n",
        "\n",
        "3. **Aplicar la iteración de Steffensen**:\n",
        "\n",
        "   Para cada iteración $n$, calcular:\n",
        "\n",
        "   $$\n",
        "   y_n = x_n + f(x_n)\n",
        "   $$\n",
        "\n",
        "   $$\n",
        "   x_{n+1} = x_n - \\frac{f(x_n)^2}{f(y_n) - f(x_n)}\n",
        "   $$\n",
        "\n",
        "   Asegurarse de que $f(y_n) \\ne f(x_n)$ para evitar división por cero.\n",
        "\n",
        "4. **Evaluar el criterio de convergencia**:\n",
        "\n",
        "   - Repetir el paso 3 hasta que se cumpla\n",
        "     - $|x_{n+1} - x_n| < \\varepsilon$ (precisión sobre el valor de la raíz).\n",
        "\n",
        "     donde $\\varepsilon$ son tolerancias pequeñas definidas por el usuario.\n",
        "\n",
        "5. **Resultado final**:\n",
        "\n",
        "   - Cuando se cumple el criterio de convergencia, tomar $x_{n+1}$ como una aproximación a la raíz de $f(x) = 0$.\n",
        "\n",
        "---\n",
        "\n",
        "\n",
        "* Defina una función llamada `Steffensen` que calcule la raiz de una función dada. Su función debe tener documentación y retornar el valor de la raiz junto con el número de iteraciones empleadas para alcanzar la convergencia dada una tolerancia.\n",
        "\n",
        "* Usando\n",
        "$$\\cos(x) = x^2,$$\n",
        "\n",
        "Grafique la función para $0\\leq x \\leq \\pi/2$ usando 100 puntos. Luego, cree un DataFrame llamado `df` con los datos de $x$ y $f(x)$  encuentre una primera aproximación a la raiz aplicando un filtro en el dataframe con los valores más cercanos a cero.\n",
        "\n",
        "* Usando el método de Steffensen encuentre la raiz númericamente y compare su resultado usando el método de bisección y secante.\n",
        "\n",
        "* Para las siguientes tolerancias (ver código) realice un gráfico usando escala logaritimica en $y$ de cuantas iteraciones son necesarias hasta alcanzar la convergencia. ¿Qué puede concluir acerca de la misma?\n",
        "\n",
        "```python\n",
        "# Tolerancias\n",
        "tol = np.logspace(-1, -10, 10)\n",
        "\n",
        "# Grafico semilog\n",
        "\n",
        "plt.semilogy(N, tol)\n",
        "\n",
        "```"
      ],
      "metadata": {
        "id": "rNIchL-H5ZII"
      }
    },
    {
      "cell_type": "code",
      "source": [
        "# Aquí va su código\n",
        "def funcion(x):\n",
        "  return np.cos(x) - x**2\n",
        "\n",
        "def steffensen(f, x0,n,tolerancia):\n",
        "    x = x0\n",
        "    iteraciones = 0\n",
        "    while True:\n",
        "        y = x + f(x)\n",
        "        if f(y) - f(x) == 0:\n",
        "          return x, iteraciones\n",
        "        x1 = x0 - (f(x)**2) / (f(y) - f(x))\n",
        "        if abs(x1 - x) < tolerancia:\n",
        "            return x1, iteraciones\n",
        "        x = x1\n",
        "        iteraciones += 1"
      ],
      "metadata": {
        "id": "phBAIpoX7Y9W"
      },
      "execution_count": 44,
      "outputs": []
    },
    {
      "cell_type": "code",
      "source": [
        "valoresdex = np.linspace(0, np.pi/2, 100)\n",
        "valoresdey = funcion(valoresdex)\n",
        "df = pd.DataFrame({'x': valoresdex, 'f(x)': valoresdey})\n",
        "\n",
        "#primeraaproximacion =\n",
        "raizbiseccion = bisect(funcion, 0, np.pi/2)\n",
        "#raizsteffensen=\n",
        "tolerancia = np.logspace(-1, -10, 10)\n",
        "#plt.semilogy(iteraciones, tolerancia)"
      ],
      "metadata": {
        "id": "bBld1gSqJ8n-"
      },
      "execution_count": 45,
      "outputs": []
    },
    {
      "cell_type": "markdown",
      "source": [
        "#2\n",
        "\n",
        "**(60 puntos)** El periodo de oscilación $T$ de un péndulo simple con amplitud angular $\\theta_0$ está dado por la integral elíptica:\n",
        "\n",
        "$$T = 4\\sqrt{\\frac{L}{g}}\\int_0^{\\theta_0/2} \\frac{d\\theta}{\\sqrt{\\cos\\theta - \\cos\\theta_0}}$$\n",
        "\n",
        "Esta expresión puede representarse mediante la siguiente serie infinita:\n",
        "\n",
        "$$T = 2\\pi\\sqrt{\\frac{L}{g}}\\left[1 + \\sum_{n=1}^{\\infty}c_n\\sin^{2n}\\left(\\frac{\\theta_0}{2}\\right)\\right]$$\n",
        "\n",
        "donde los coeficientes $c_n$ están dados por:\n",
        "\n",
        "$$c_n = \\left(\\frac{(2n-1)!!}{2^n n!}\\right)^2$$\n",
        "\n",
        "El doble factorial $(2n-1)!!$ significa el producto de todos los números impares desde 1 hasta $(2n-1)$.\n",
        "\n",
        "Los primeros términos de esta serie son:\n",
        "\n",
        "$$T \\approx 2\\pi\\sqrt{\\frac{L}{g}}\\left[1 + \\frac{1}{4}\\sin^2\\left(\\frac{\\theta_0}{2}\\right) + \\frac{9}{64}\\sin^4\\left(\\frac{\\theta_0}{2}\\right) + \\frac{25}{256}\\sin^6\\left(\\frac{\\theta_0}{2}\\right) + \\frac{1225}{16384}\\sin^8\\left(\\frac{\\theta_0}{2}\\right) + \\ldots\\right]$$\n",
        "\n",
        "Para un péndulo de longitud $L = 1.2$ metros:\n",
        "\n",
        "## Parte A\n",
        "\n",
        "* Realice una función llamada `doble_factorial` que calcule $(2n - 1)!!$ y luego una llamada `coeficiente_cn` que devuelva el coeficiente $c_n$\n",
        "\n",
        "* Para una amplitud de $\\theta_0 = 90°$ y $\\theta_0 = 15°$, determine el valor de $T$ utilizando:\n",
        "  - La aproximación de pequeñas oscilaciones $T_0 = 2\\pi\\sqrt{L/g}$\n",
        "  - La serie truncada a 3 términos.\n",
        "  - ¿Cuál será el error de las aproximaciones anteriores si toma 10 terminos como el valor exacto? ¿Cómo influye el valor del ángulo usado?\n",
        "\n",
        "## Parte B\n",
        "\n",
        "* Encuentre una función $f(\\theta_0)$ para  $\\theta_0$ (en radianes) en la cual el periodo real es exactamente un 10% mayor que el periodo para oscilaciones infinitesimales ($T_0 = 2\\pi\\sqrt{L/g}$). Utilice para $T(\\theta_0)$ los primeros 4 términos de la serie y grafique esta función para $\\theta_0 \\in [0, \\pi/2]$.\n",
        "\n",
        "* Resuelva numéricamente la ecuación para $f(\\theta_0) = 0$ utilizando el método de Bisección y Newton-Raphson (sin incluir la derivada).\n",
        "\n",
        "\n",
        "\n"
      ],
      "metadata": {
        "id": "od2GDFK5-QJC"
      }
    },
    {
      "cell_type": "code",
      "source": [
        "def doble_factorial(n):         #Defino la funcion doble factorial\n",
        "  if n <=0:\n",
        "    return 1\n",
        "  else:\n",
        "    resultado = 1\n",
        "    for i in range(1,n+1,2):\n",
        "      resultado *= i\n",
        "    return resultado\n",
        "\n",
        "def calcular_cn(n):             #Defino los coeficientes cn\n",
        "  #if n <= 0:\n",
        "  return (doble_factorial(2*n - 1) / (2**n * factorial(n)))**2\n",
        "L=1.2\n",
        "g=9.8\n",
        "def periodo_pendulo(thetas, N):   #Defino ahora si la funcion del periodo del pendulo\n",
        "    T0 = 2 * np.pi * np.sqrt(L / g)\n",
        "    suma = 1\n",
        "    for n in range(1, N + 1):\n",
        "        suma += calcular_cn(n) * np.sin(thetas / 2)**(2 * n)\n",
        "    return  T0 * suma\n",
        "\n",
        "thetas = [90, 15]\n",
        "thetaaradianes = np.deg2rad(thetas)\n",
        "T0 = 2 * np.pi * np.sqrt(L / g)\n",
        "\n",
        "periodopara90 = periodo_pendulo(90,10)\n",
        "periodopara15= periodo_pendulo(15,10)\n",
        "\n",
        "print(\"El periodo para 90 grados usando la serie es :\", periodopara90)\n",
        "print(\"El periodo para 15 grados es: \", periodopara15)\n",
        "print(\"y usando la aprox de pequeñas oscilaciones es:\", T0)"
      ],
      "metadata": {
        "id": "hkHRzyB9-mSS",
        "outputId": "5f64def6-4d35-44f4-ea76-f30a8fb70738",
        "colab": {
          "base_uri": "https://localhost:8080/"
        }
      },
      "execution_count": 72,
      "outputs": [
        {
          "output_type": "stream",
          "name": "stdout",
          "text": [
            "El periodo para 90 grados usando la serie es : 2.9513112601786915\n",
            "El periodo para 15 grados es:  3.401197429128512\n",
            "y usando la aprox de pequeñas oscilaciones es: 2.1986568517060525\n"
          ]
        }
      ]
    },
    {
      "cell_type": "code",
      "source": [
        "def f(θ0):\n",
        "  return (periodo_pendulo)*0.1\n",
        "\n",
        "thetas = [90, 15]\n",
        "thetaaradianes = np.deg2rad(thetas)\n",
        "T0 = 2 * np.pi * np.sqrt(L / g)\n",
        "\n",
        "#periodopara90 = f(90,4)\n",
        "#periodopara15= f(15,4)"
      ],
      "metadata": {
        "id": "mtekQ9IRVpSz"
      },
      "execution_count": 76,
      "outputs": []
    }
  ]
}