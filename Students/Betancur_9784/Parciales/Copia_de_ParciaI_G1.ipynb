{
  "nbformat": 4,
  "nbformat_minor": 0,
  "metadata": {
    "colab": {
      "provenance": [],
      "include_colab_link": true
    },
    "kernelspec": {
      "name": "python3",
      "display_name": "Python 3"
    },
    "language_info": {
      "name": "python"
    }
  },
  "cells": [
    {
      "cell_type": "markdown",
      "metadata": {
        "id": "view-in-github",
        "colab_type": "text"
      },
      "source": [
        "<a href=\"https://colab.research.google.com/github/Luis-David-124/MetodosComputacionales810/blob/main/Students/Betancur_9784/Parciales/Copia_de_ParciaI_G1.ipynb\" target=\"_parent\"><img src=\"https://colab.research.google.com/assets/colab-badge.svg\" alt=\"Open In Colab\"/></a>"
      ]
    },
    {
      "cell_type": "markdown",
      "source": [
        "# Parcial I - Métodos Computacionales\n",
        "\n",
        "**2025-1**\n",
        "\n",
        "---\n",
        "\n",
        "Nombre:\n",
        "\n",
        "Identificación:\n",
        "\n",
        "---\n",
        "\n",
        "* ⚠ Explique su código usando con comentarios,\n",
        "\n",
        "* ❗Todas las funciones deben tener documentación básica,\n",
        "\n",
        "* 🛑 El uso de IA's no está permitido,\n",
        "\n",
        "* ⚛ La interpretación del enunciado hace parte de la evaluación,\n",
        "\n",
        "* ⏲ Este parcial tiene una duración de 2 horas"
      ],
      "metadata": {
        "id": "bcIQtfNJ4sBq"
      }
    },
    {
      "cell_type": "code",
      "source": [
        "# Librerias\n",
        "import numpy as np\n",
        "import matplotlib.pyplot as plt\n",
        "import pandas as pd\n",
        "from math import factorial\n",
        "from scipy.optimize import root_scalar, newton, bisect # Funciones para raices\n",
        "\n",
        "## Ayudas\n",
        "# np.sign (Signo de una variable)\n",
        "# np.deg2rad (Convertir grados a radianes)\n",
        "# pd.Dataframe Genera un dataframe a partir de un diccionario o listas\n",
        "# df['Columna'] == valor (Crea un filtro para buscar el valor)\n",
        "# range(0, 10, 2) (Pasos de 2 comenzando en 0 hasta 10)"
      ],
      "metadata": {
        "id": "-86TwvuE48Kp"
      },
      "execution_count": 2,
      "outputs": []
    },
    {
      "cell_type": "markdown",
      "source": [
        "# 1\n",
        "\n",
        "**(40 puntos)** El **método de Steffensen** es un algoritmo iterativo para encontrar raíces de ecuaciones no lineales de la forma:\n",
        "\n",
        "$$\n",
        "f(x) = 0.\n",
        "$$\n",
        "\n",
        "Se basa en aplicar una **aceleración cuadrática** al método de punto fijo, sin necesidad de calcular derivadas, a diferencia del método de Newton.\n",
        "\n",
        "---\n",
        "### Pasos para implementar\n",
        "\n",
        "1. **Definir la función** $f(x)$ cuya raíz se desea encontrar.\n",
        "\n",
        "   - Se busca una raíz $\\alpha$ tal que $f(\\alpha) = 0$.\n",
        "\n",
        "2. **Elegir una aproximación inicial** $x_0$ razonablemente cercana a la raíz.\n",
        "\n",
        "3. **Aplicar la iteración de Steffensen**:\n",
        "\n",
        "   Para cada iteración $n$, calcular:\n",
        "\n",
        "   $$\n",
        "   y_n = x_n + f(x_n)\n",
        "   $$\n",
        "\n",
        "   $$\n",
        "   x_{n+1} = x_n - \\frac{f(x_n)^2}{f(y_n) - f(x_n)}\n",
        "   $$\n",
        "\n",
        "   Asegurarse de que $f(y_n) \\ne f(x_n)$ para evitar división por cero.\n",
        "\n",
        "4. **Evaluar el criterio de convergencia**:\n",
        "\n",
        "   - Repetir el paso 3 hasta que se cumpla\n",
        "     - $|x_{n+1} - x_n| < \\varepsilon$ (precisión sobre el valor de la raíz).\n",
        "\n",
        "     donde $\\varepsilon$ son tolerancias pequeñas definidas por el usuario.\n",
        "\n",
        "5. **Resultado final**:\n",
        "\n",
        "   - Cuando se cumple el criterio de convergencia, tomar $x_{n+1}$ como una aproximación a la raíz de $f(x) = 0$.\n",
        "\n",
        "---\n",
        "\n",
        "\n",
        "* Defina una función llamada `Steffensen` que calcule la raiz de una función dada. Su función debe tener documentación y retornar el valor de la raiz junto con el número de iteraciones empleadas para alcanzar la convergencia dada una tolerancia.\n",
        "\n",
        "* Usando\n",
        "$$\\cos(x) = x^2,$$\n",
        "\n",
        "Grafique la función para $0\\leq x \\leq \\pi/2$ usando 100 puntos. Luego, cree un DataFrame llamado `df` con los datos de $x$ y $f(x)$  encuentre una primera aproximación a la raiz aplicando un filtro en el dataframe con los valores más cercanos a cero.\n",
        "\n",
        "* Usando el método de Steffensen encuentre la raiz númericamente y compare su resultado usando el método de bisección y secante.\n",
        "\n",
        "* Para las siguientes tolerancias (ver código) realice un gráfico usando escala logaritimica en $y$ de cuantas iteraciones son necesarias hasta alcanzar la convergencia. ¿Qué puede concluir acerca de la misma?\n",
        "\n",
        "```python\n",
        "# Tolerancias\n",
        "tol = np.logspace(-1, -10, 10)\n",
        "\n",
        "# Grafico semilog\n",
        "\n",
        "plt.semilogy(N, tol)\n",
        "\n",
        "```"
      ],
      "metadata": {
        "id": "rNIchL-H5ZII"
      }
    },
    {
      "cell_type": "code",
      "source": [
        "from re import X\n",
        "# Aquí va su código\n",
        "def Steffensen(f, x, tol= 1e-7, maxIter= 1000):\n",
        "  '''La funcion busca las raices de la funcion f, usando el metodo de Steffensen\n",
        "\n",
        "    Entradas:\n",
        "\n",
        "    f: La funcion ifualada a 0 para encontrar las raices\n",
        "    x: La aproximacion inicial de la raiz\n",
        "    tol: Tolerancia (Por defecto en 1e-7)\n",
        "    maxIter: maximas iteraciones de la sucesion\n",
        "\n",
        "    Salidas:\n",
        "\n",
        "    Xn1: La aproximacion a la raiz\n",
        "    n: Las interaciones usadas\n",
        "\n",
        "  '''\n",
        "\n",
        "  #Se define Xn\n",
        "  Xn = x\n",
        "\n",
        "  #Lista de iteraciones\n",
        "  N = []\n",
        "\n",
        "  #Desarrollo del metodo\n",
        "  for n in range(maxIter+1):\n",
        "\n",
        "    Yn = Xn + f(Xn)\n",
        "\n",
        "    #En caso de que f(Yn) = f(Xn), el metodo deja de funcionar porque habra una divicion por 0\n",
        "    if f(Yn) == f(Xn):\n",
        "      raise RuntimeError('Division por cero, f(Yn) tiene que ser distinto de f(Xn)')\n",
        "\n",
        "    Xn1 = Xn - (f(Xn)**2 / (f(Yn) - f(Xn)))\n",
        "\n",
        "    if abs(Xn1 - Xn) < tol:\n",
        "      return Xn1, n\n",
        "\n",
        "    Xn = Xn1\n",
        "\n",
        "  raise RuntimeError('Maximo de iteraciones alcanzado')"
      ],
      "metadata": {
        "id": "phBAIpoX7Y9W"
      },
      "execution_count": 118,
      "outputs": []
    },
    {
      "cell_type": "code",
      "source": [
        "#Se define la funcion\n",
        "f = lambda X: np.cos(X) - X**2\n",
        "\n",
        "#Se evaluan los f(x) en el rando dado (0, pi/2)\n",
        "x = np.linspace(0, np.pi/2, 100)\n",
        "y = f(x)\n",
        "\n",
        "plt.axhline(0, alpha= 0.5)\n",
        "\n",
        "plt.plot(x, y)\n",
        "\n",
        "plt.grid()\n",
        "\n",
        "#Se crea el dataframe\n",
        "dicc = {'X' : x, 'f(x)' : y}\n",
        "\n",
        "df = pd.DataFrame(dicc)\n",
        "\n",
        "raizTanteo = df[abs(df['f(x)']) <= min(abs(df['f(x)']))]\n",
        "\n",
        "print(f'Los puntos de la funcion son\\n\\n{df}\\n\\nLa raiz calculada con el valor minomo de f(x) en la lista es:\\n\\n{raizTanteo}')"
      ],
      "metadata": {
        "colab": {
          "base_uri": "https://localhost:8080/",
          "height": 794
        },
        "id": "F79S_v0DIElQ",
        "outputId": "72593559-cac8-4c55-e135-661f981f395e"
      },
      "execution_count": 178,
      "outputs": [
        {
          "output_type": "stream",
          "name": "stdout",
          "text": [
            "Los puntos de la funcion son\n",
            "\n",
            "           X      f(x)\n",
            "0   0.000000  1.000000\n",
            "1   0.015867  0.999622\n",
            "2   0.031733  0.998490\n",
            "3   0.047600  0.996602\n",
            "4   0.063467  0.993959\n",
            "..       ...       ...\n",
            "95  1.507330 -2.208619\n",
            "96  1.523196 -2.272545\n",
            "97  1.539063 -2.336987\n",
            "98  1.554930 -2.401940\n",
            "99  1.570796 -2.467401\n",
            "\n",
            "[100 rows x 2 columns]\n",
            "\n",
            "La raiz calculada con el valor minomo de f(x) en la lista es:\n",
            "\n",
            "           X      f(x)\n",
            "52  0.825065 -0.002222\n"
          ]
        },
        {
          "output_type": "display_data",
          "data": {
            "text/plain": [
              "<Figure size 640x480 with 1 Axes>"
            ],
            "image/png": "[encoded data removed]"
          },
          "metadata": {}
        }
      ]
    },
    {
      "cell_type": "code",
      "source": [
        "raiz, _= Steffensen(f, 0.8)\n",
        "raizBisec = bisect(f, 1, 0.8)\n",
        "raizSec = newton(f, 0.8)\n",
        "\n",
        "print(f'La raiz usando el metodo de Steffensen fue: {raiz}\\nCon el metodo de la bisecante: {raizBisec}\\nCon el metodo de la secante: {raizSec}')"
      ],
      "metadata": {
        "colab": {
          "base_uri": "https://localhost:8080/"
        },
        "id": "2UUwSa6ePB_M",
        "outputId": "6ad2c88d-1dbd-4530-db97-bb7884e30bae"
      },
      "execution_count": 128,
      "outputs": [
        {
          "output_type": "stream",
          "name": "stdout",
          "text": [
            "La raiz usando el metodo de Steffensen fue: 0.8241323123025224\n",
            "Con el metodo de la bisecante: 0.824132312303118\n",
            "Con el metodo de la secante: 0.8241323123025247\n"
          ]
        }
      ]
    },
    {
      "cell_type": "code",
      "source": [
        "# Tolerancias\n",
        "tol = np.logspace(-1, -10, 10)\n",
        "\n",
        "N = []\n",
        "\n",
        "for t in tol:\n",
        "  _, n = Steffensen(f, 1, t)\n",
        "\n",
        "  N.append(n)\n",
        "\n",
        "\n",
        "# Grafico semilog\n",
        "plt.semilogy(N, tol)"
      ],
      "metadata": {
        "colab": {
          "base_uri": "https://localhost:8080/",
          "height": 465
        },
        "id": "Cbepg_KaUd4b",
        "outputId": "72f5f338-2795-4a5d-9fe3-c190aa8e49c9"
      },
      "execution_count": 131,
      "outputs": [
        {
          "output_type": "stream",
          "name": "stdout",
          "text": [
            "[1, 2, 2, 3, 3, 3, 4, 4, 4, 4]\n"
          ]
        },
        {
          "output_type": "execute_result",
          "data": {
            "text/plain": [
              "[<matplotlib.lines.Line2D at 0x796ef89accd0>]"
            ]
          },
          "metadata": {},
          "execution_count": 131
        },
        {
          "output_type": "display_data",
          "data": {
            "text/plain": [
              "<Figure size 640x480 with 1 Axes>"
            ],
            "image/png": "[encoded data removed]"
          },
          "metadata": {}
        }
      ]
    },
    {
      "cell_type": "markdown",
      "source": [
        "#2\n",
        "\n",
        "**(60 puntos)** El periodo de oscilación $T$ de un péndulo simple con amplitud angular $\\theta_0$ está dado por la integral elíptica:\n",
        "\n",
        "$$T = 4\\sqrt{\\frac{L}{g}}\\int_0^{\\theta_0/2} \\frac{d\\theta}{\\sqrt{\\cos\\theta - \\cos\\theta_0}}$$\n",
        "\n",
        "Esta expresión puede representarse mediante la siguiente serie infinita:\n",
        "\n",
        "$$T = 2\\pi\\sqrt{\\frac{L}{g}}\\left[1 + \\sum_{n=1}^{\\infty}c_n\\sin^{2n}\\left(\\frac{\\theta_0}{2}\\right)\\right]$$\n",
        "\n",
        "donde los coeficientes $c_n$ están dados por:\n",
        "\n",
        "$$c_n = \\left(\\frac{(2n-1)!!}{2^n n!}\\right)^2$$\n",
        "\n",
        "El doble factorial $(2n-1)!!$ significa el producto de todos los números impares desde 1 hasta $(2n-1)$.\n",
        "\n",
        "Los primeros términos de esta serie son:\n",
        "\n",
        "$$T \\approx 2\\pi\\sqrt{\\frac{L}{g}}\\left[1 + \\frac{1}{4}\\sin^2\\left(\\frac{\\theta_0}{2}\\right) + \\frac{9}{64}\\sin^4\\left(\\frac{\\theta_0}{2}\\right) + \\frac{25}{256}\\sin^6\\left(\\frac{\\theta_0}{2}\\right) + \\frac{1225}{16384}\\sin^8\\left(\\frac{\\theta_0}{2}\\right) + \\ldots\\right]$$\n",
        "\n",
        "Para un péndulo de longitud $L = 1.2$ metros:\n",
        "\n",
        "## Parte A\n",
        "\n",
        "* Realice una función llamada `doble_factorial` que calcule $(2n - 1)!!$ y luego una llamada `coeficiente_cn` que devuelva el coeficiente $c_n$\n",
        "\n",
        "* Para una amplitud de $\\theta_0 = 90°$ y $\\theta_0 = 15°$, determine el valor de $T$ utilizando:\n",
        "  - La aproximación de pequeñas oscilaciones $T_0 = 2\\pi\\sqrt{L/g}$\n",
        "  - La serie truncada a 3 términos.\n",
        "  - ¿Cuál será el error de las aproximaciones anteriores si toma 10 terminos como el valor exacto? ¿Cómo influye el valor del ángulo usado?\n",
        "\n",
        "## Parte B\n",
        "\n",
        "* Encuentre una función $f(\\theta_0)$ para  $\\theta_0$ (en radianes) en la cual el periodo real es exactamente un 10% mayor que el periodo para oscilaciones infinitesimales ($T_0 = 2\\pi\\sqrt{L/g}$). Utilice para $T(\\theta_0)$ los primeros 4 términos de la serie y grafique esta función para $\\theta_0 \\in [0, \\pi/2]$.\n",
        "\n",
        "* Resuelva numéricamente la ecuación para $f(\\theta_0) = 0$ utilizando el método de Bisección y Newton-Raphson (sin incluir la derivada).\n",
        "\n",
        "\n",
        "\n"
      ],
      "metadata": {
        "id": "od2GDFK5-QJC"
      }
    },
    {
      "cell_type": "code",
      "source": [
        "# Aqui va su código\n",
        "\n",
        "def doble_factorial(x):\n",
        "  '''Doble factorial'''\n",
        "  if x == 0:\n",
        "    return 1\n",
        "  else:\n",
        "    resultado=1\n",
        "    for i in range(1, x+1,2):\n",
        "      resultado*=i\n",
        "    return(resultado)\n",
        "\n",
        "doble_factorial(3)\n",
        "\n",
        "def coeficiente_cn(n):\n",
        "  '''Suncion coeficiente\n",
        "\n",
        "  Entrada:\n",
        "  n: posicion del termino\n",
        "\n",
        "  Salidas:\n",
        "  Cn: Coeficiente\n",
        "  '''\n",
        "  Cn = (doble_factorial(n)/(2**n * factorial(n)))**2\n",
        "  return Cn\n",
        "\n",
        "def T(theta, L= 1.2, tol= 1e-7, maxIter= 1000):\n",
        "  T= 2*np.pi*(L/9.8)**2\n",
        "\n",
        "  suma = 1\n",
        "  terminoAnt = 1\n",
        "  for n in range(1, maxIter):\n",
        "\n",
        "    termino = coeficiente_cn(n)*np.sin(theta/2**(2*n))\n",
        "\n",
        "    suma += termino\n",
        "    terminoAnt = termino\n",
        "\n",
        "  return suma\n",
        "\n"
      ],
      "metadata": {
        "id": "hkHRzyB9-mSS"
      },
      "execution_count": 167,
      "outputs": []
    },
    {
      "cell_type": "code",
      "source": [
        "\n",
        "T1 = np.pi/2\n",
        "\n",
        "print(f'Con 90°, truncado en 3 terminos, la sucesion es: {T(T1, maxIter=3)}')\n"
      ],
      "metadata": {
        "colab": {
          "base_uri": "https://localhost:8080/"
        },
        "id": "JDq79pBKZf7q",
        "outputId": "bb2a1748-bec3-42f1-983b-050e3a8a0cf9"
      },
      "execution_count": 169,
      "outputs": [
        {
          "output_type": "stream",
          "name": "stdout",
          "text": [
            "Con 90°, truncado en 3 terminos, la sucesion es: 1.0972023759089218\n"
          ]
        }
      ]
    }
  ]
}