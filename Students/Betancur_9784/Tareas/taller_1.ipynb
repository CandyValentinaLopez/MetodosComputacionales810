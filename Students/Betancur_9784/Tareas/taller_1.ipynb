{
  "nbformat": 4,
  "nbformat_minor": 0,
  "metadata": {
    "colab": {
      "provenance": [],
      "toc_visible": true,
      "authorship_tag": "ABX9TyOszArwt9k8sJtllvfrQ2sG",
      "include_colab_link": true
    },
    "kernelspec": {
      "name": "python3",
      "display_name": "Python 3"
    },
    "language_info": {
      "name": "python"
    }
  },
  "cells": [
    {
      "cell_type": "markdown",
      "metadata": {
        "id": "view-in-github",
        "colab_type": "text"
      },
      "source": [
        "<a href=\"https://colab.research.google.com/github/Luis-David-124/MetodosComputacionales810/blob/main/Students/Betancur_9784/Tareas/taller_1.ipynb\" target=\"_parent\"><img src=\"https://colab.research.google.com/assets/colab-badge.svg\" alt=\"Open In Colab\"/></a>"
      ]
    },
    {
      "cell_type": "code",
      "source": [
        "def Suma_divisores(a):\n",
        "    suma = sum(set(x for x in range(2, a) if a%x == 0))+1\n",
        "    '''for i in range(2, int(a)):\n",
        "        if a%i == 0:\n",
        "            suma += i'''\n",
        "    return suma"
      ],
      "metadata": {
        "id": "obRfcAHVxy-T"
      },
      "execution_count": null,
      "outputs": []
    },
    {
      "cell_type": "code",
      "source": [
        "def Encontrar_hermanos(lim_inf, lim_sup):\n",
        "    hermanos = set()\n",
        "    a = lim_inf\n",
        "\n",
        "    while a-1 <= lim_sup:\n",
        "        a += 1\n",
        "        b = Suma_divisores(a)\n",
        "        if ( Suma_divisores(b) == a and a < b):\n",
        "            hermanos.add((a,b))\n",
        "            a = b\n",
        "\n",
        "\n",
        "    return hermanos"
      ],
      "metadata": {
        "id": "B4RbyybjxzG5"
      },
      "execution_count": 30,
      "outputs": []
    },
    {
      "cell_type": "code",
      "source": [
        "lim_inf = int(input(\"Limite inferior: \"))\n",
        "lim_sup = int(input(\"Limite superiorr: \"))"
      ],
      "metadata": {
        "colab": {
          "base_uri": "https://localhost:8080/"
        },
        "id": "V3I9kpKSxzMb",
        "outputId": "cb23f201-6a30-4ce5-e942-671e5f905e4e"
      },
      "execution_count": 34,
      "outputs": [
        {
          "name": "stdout",
          "output_type": "stream",
          "text": [
            "Limite inferior: 1\n",
            "Limite superiorr: 10000\n"
          ]
        }
      ]
    },
    {
      "cell_type": "code",
      "source": [
        "Encontrar_hermanos(lim_inf, lim_sup)"
      ],
      "metadata": {
        "colab": {
          "base_uri": "https://localhost:8080/"
        },
        "id": "SYsqN901Jeyw",
        "outputId": "0e96d6fc-18a6-451b-8b52-ded3a600b278"
      },
      "execution_count": 35,
      "outputs": [
        {
          "output_type": "execute_result",
          "data": {
            "text/plain": [
              "{(220, 284), (1184, 1210), (2620, 2924), (5020, 5564), (6232, 6368)}"
            ]
          },
          "metadata": {},
          "execution_count": 35
        }
      ]
    },
    {
      "cell_type": "markdown",
      "source": [],
      "metadata": {
        "id": "ZFEeGb45x4ty"
      }
    }
  ]
}