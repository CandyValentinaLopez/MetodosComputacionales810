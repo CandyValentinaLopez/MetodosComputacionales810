{
 "cells": [
  {
   "cell_type": "markdown",
   "id": "f545df53-d078-4abd-92d3-ccf98a517b67",
   "metadata": {},
   "source": [
    "## Taller 1"
   ]
  },
  {
   "cell_type": "markdown",
   "id": "c4484545-0595-47ce-8a9d-670f9a80f18e",
   "metadata": {},
   "source": [
    "## Problema 3: Números amigos en un rango dado\n",
    "Dos números naturales a\n",
    " y b\n",
    " se llaman números amigos si la suma de los divisores propios (excluyendo el número mismo) de a\n",
    " es igual a b\n",
    ", y viceversa.\n",
    "\n",
    "Por ejemplo, 220 y 284 son números amigos porque:\n",
    "\n",
    "Los divisores propios de 220 son: 1, 2, 4, 5, 10, 11, 20, 22, 44, 55, 110 → suma: 284\n",
    "Los divisores propios de 284 son: 1, 2, 4, 71, 142 → suma: 220\n",
    "Escribe un programa que encuentre todos los pares de números amigos en un rango dado por el usuario (por ejemplo, entre 1 y 10000)."
   ]
  },
  {
   "cell_type": "code",
   "execution_count": 105,
   "id": "faaf667e-1fe6-4367-b40a-40148ec5bfb2",
   "metadata": {},
   "outputs": [],
   "source": [
    "def Suma_divisores(a):\n",
    "    suma = sum(set(x for x in range(2, a) if a%x == 0))+1\n",
    "    '''for i in range(2, int(a)):\n",
    "        if a%i == 0:\n",
    "            suma += i'''\n",
    "    return suma"
   ]
  },
  {
   "cell_type": "code",
   "execution_count": 106,
   "id": "1e38ad27-8a82-4a83-85d2-74633450eab1",
   "metadata": {},
   "outputs": [],
   "source": [
    "def Encontrar_hermanos(lim_inf, lim_sup):   \n",
    "    hermanos = set()\n",
    "    \n",
    "    for a in range(lim_inf, lim_sup+1):\n",
    "        b = Suma_divisores(a)\n",
    "        if ( Suma_divisores(b) == a and a < b):\n",
    "            hermanos.add((a,b))\n",
    "            \n",
    "    return hermanos"
   ]
  },
  {
   "cell_type": "code",
   "execution_count": 107,
   "id": "ba8b14d0-ec39-4829-9944-1feb7ed44ce1",
   "metadata": {},
   "outputs": [
    {
     "name": "stdout",
     "output_type": "stream",
     "text": [
      "CPU times: total: 9.17 s\n",
      "Wall time: 9.45 s\n"
     ]
    },
    {
     "data": {
      "text/plain": [
       "{(220, 284), (1184, 1210), (2620, 2924), (5020, 5564), (6232, 6368)}"
      ]
     },
     "execution_count": 107,
     "metadata": {},
     "output_type": "execute_result"
    }
   ],
   "source": [
    "%%time\n",
    "Encontrar_hermanos(1, 10000)"
   ]
  },
  {
   "cell_type": "code",
   "execution_count": null,
   "id": "d132ca33-b420-4975-9a86-f1297c771ad2",
   "metadata": {},
   "outputs": [],
   "source": []
  }
 ],
 "metadata": {
  "kernelspec": {
   "display_name": "Python 3 (ipykernel)",
   "language": "python",
   "name": "python3"
  },
  "language_info": {
   "codemirror_mode": {
    "name": "ipython",
    "version": 3
   },
   "file_extension": ".py",
   "mimetype": "text/x-python",
   "name": "python",
   "nbconvert_exporter": "python",
   "pygments_lexer": "ipython3",
   "version": "3.12.9"
  }
 },
 "nbformat": 4,
 "nbformat_minor": 5
}
