{
 "cells": [
  {
   "cell_type": "markdown",
   "id": "628ad530-9300-4bb9-a1bf-71dd0ed22d97",
   "metadata": {},
   "source": [
    "## Problema 1: Números primos entre 2 y 50 con la Criba de Eratóstenes"
   ]
  },
  {
   "cell_type": "code",
   "execution_count": 1,
   "id": "cbf4a5ce-e460-4019-8eac-4d5bd26abdab",
   "metadata": {},
   "outputs": [],
   "source": [
    "def Crear_Criba (rango):\n",
    "    criba = [True for i in range(2, rango+1)]\n",
    "    return criba"
   ]
  },
  {
   "cell_type": "code",
   "execution_count": 2,
   "id": "cbcac888-ac18-4c7c-898e-492abeec5b82",
   "metadata": {},
   "outputs": [],
   "source": [
    "def Encontrar_primos(rango):\n",
    "    criba = Crear_Criba(rango)\n",
    "    for i in range(len(criba)):\n",
    "        if criba[i] == True:\n",
    "            num = i+2\n",
    "            for x in range(num * 2, len(criba)+2, num):\n",
    "                criba[x-2] = False\n",
    "    \n",
    "    return criba"
   ]
  },
  {
   "cell_type": "code",
   "execution_count": 3,
   "id": "b38d1fe2-eae5-4df1-9a2e-4a48146b86f5",
   "metadata": {},
   "outputs": [
    {
     "name": "stdout",
     "output_type": "stream",
     "text": [
      "[2, 3, 5, 7, 11, 13, 17, 19, 23, 29, 31, 37, 41, 43, 47]\n"
     ]
    }
   ],
   "source": [
    "cribaEratostenes = Encontrar_primos(50)\n",
    "\n",
    "primos = []\n",
    "\n",
    "for i in range(len(cribaEratostenes)):\n",
    "    if cribaEratostenes[i]:\n",
    "        primos.append(i+2)\n",
    "\n",
    "print(primos)"
   ]
  },
  {
   "cell_type": "markdown",
   "id": "2ba137d2-82f8-4d86-b2ec-e866a8400c0c",
   "metadata": {},
   "source": [
    "## Problema 2: Aproximación de π usando la serie de Leibniz"
   ]
  },
  {
   "cell_type": "code",
   "execution_count": 5,
   "id": "2dd9ba97-2004-42d7-a84f-13069eaf3c48",
   "metadata": {},
   "outputs": [],
   "source": [
    "def Aproximar_pi(N):\n",
    "    pi = 0\n",
    "    for n in range(N+1):\n",
    "        pi += ((-1)**n)/(2*n+1)\n",
    "    \n",
    "    pi *= 4\n",
    "    \n",
    "    return pi"
   ]
  },
  {
   "cell_type": "code",
   "execution_count": 7,
   "id": "3a6fb878-d18e-4abc-8664-441884c34161",
   "metadata": {},
   "outputs": [
    {
     "name": "stdout",
     "output_type": "stream",
     "text": [
      "aproximacion de pi con N = 10: 3.232315809405594\n",
      "aproximacion de pi con N = 100: 3.1514934010709914\n",
      "aproximacion de pi con N = 1000: 3.1425916543395442\n",
      "aproximacion de pi con N = 10000: 3.1416926435905346\n"
     ]
    }
   ],
   "source": [
    "print(f\"aproximacion de pi con N = 10: {Aproximar_pi(10)}\")\n",
    "print(f\"aproximacion de pi con N = 100: {Aproximar_pi(100)}\")\n",
    "print(f\"aproximacion de pi con N = 1000: {Aproximar_pi(1000)}\")\n",
    "print(f\"aproximacion de pi con N = 10000: {Aproximar_pi(10000)}\")"
   ]
  },
  {
   "cell_type": "markdown",
   "id": "bae2b5f2-e1d0-424f-b77a-f41e4eda7d31",
   "metadata": {},
   "source": [
    "## Problema 3: Números amigos en un rango dado"
   ]
  },
  {
   "cell_type": "code",
   "execution_count": 8,
   "id": "7241cb08-63fb-4311-9b5a-e82fd41dc3b8",
   "metadata": {},
   "outputs": [],
   "source": [
    "def Suma_divisores(a):\n",
    "    suma = sum(set(x for x in range(2, a) if a%x == 0))+1\n",
    "    '''for i in range(2, int(a)):\n",
    "        if a%i == 0:\n",
    "            suma += i'''\n",
    "    return suma   "
   ]
  },
  {
   "cell_type": "code",
   "execution_count": 9,
   "id": "192676cf-9f1b-43fc-b567-d8af4741f043",
   "metadata": {},
   "outputs": [],
   "source": [
    "def Encontrar_hermanos(lim_inf, lim_sup):\n",
    "    hermanos = set()\n",
    "    a = lim_inf\n",
    "\n",
    "    while a-1 <= lim_sup:\n",
    "        a += 1\n",
    "        b = Suma_divisores(a)\n",
    "        if ( Suma_divisores(b) == a and a < b):\n",
    "            hermanos.add((a,b))\n",
    "            a = b\n",
    "            \n",
    "\n",
    "    return hermanos"
   ]
  },
  {
   "cell_type": "code",
   "execution_count": 10,
   "id": "7075c9ab-59d0-49ce-a257-af53406ec7ac",
   "metadata": {},
   "outputs": [
    {
     "name": "stdin",
     "output_type": "stream",
     "text": [
      "Limite inferior:  1\n",
      "Limite superior:  10000\n"
     ]
    },
    {
     "data": {
      "text/plain": [
       "{(220, 284), (1184, 1210), (2620, 2924), (5020, 5564), (6232, 6368)}"
      ]
     },
     "execution_count": 10,
     "metadata": {},
     "output_type": "execute_result"
    }
   ],
   "source": [
    "lim_inf = int(input(\"Limite inferior: \"))\n",
    "lim_sup = int(input(\"Limite superior: \"))\n",
    "\n",
    "Encontrar_hermanos(lim_inf, lim_sup)"
   ]
  },
  {
   "cell_type": "markdown",
   "id": "fc50ca9d-6c83-4dad-b454-ef9bc3a60cb3",
   "metadata": {},
   "source": [
    "## Problema 4: Contador de frecuencias de letras en una palabra"
   ]
  },
  {
   "cell_type": "code",
   "execution_count": 11,
   "id": "b2d7cf36-b814-4537-81d8-0fcbfdbf374e",
   "metadata": {},
   "outputs": [
    {
     "name": "stdin",
     "output_type": "stream",
     "text": [
      "Ingrese la palabra:  esternocleidomastoideo\n"
     ]
    },
    {
     "data": {
      "text/plain": [
       "{'e': 4,\n",
       " 's': 2,\n",
       " 't': 2,\n",
       " 'r': 1,\n",
       " 'n': 1,\n",
       " 'o': 4,\n",
       " 'c': 1,\n",
       " 'l': 1,\n",
       " 'i': 2,\n",
       " 'd': 2,\n",
       " 'm': 1,\n",
       " 'a': 1}"
      ]
     },
     "execution_count": 11,
     "metadata": {},
     "output_type": "execute_result"
    }
   ],
   "source": [
    "palabra = input(\"Ingrese la palabra: \")\n",
    "frecuencias = {}\n",
    "\n",
    "for i in palabra:\n",
    "    if i in frecuencias:\n",
    "        frecuencias[i] += 1\n",
    "    else:\n",
    "        frecuencias[i] = 1\n",
    "\n",
    "frecuencias"
   ]
  },
  {
   "cell_type": "code",
   "execution_count": null,
   "id": "75e15cae-adad-4354-9521-ff7d1520aec3",
   "metadata": {},
   "outputs": [],
   "source": []
  }
 ],
 "metadata": {
  "kernelspec": {
   "display_name": "Python 3 (ipykernel)",
   "language": "python",
   "name": "python3"
  },
  "language_info": {
   "codemirror_mode": {
    "name": "ipython",
    "version": 3
   },
   "file_extension": ".py",
   "mimetype": "text/x-python",
   "name": "python",
   "nbconvert_exporter": "python",
   "pygments_lexer": "ipython3",
   "version": "3.12.9"
  }
 },
 "nbformat": 4,
 "nbformat_minor": 5
}
