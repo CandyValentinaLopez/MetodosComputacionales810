{
 "cells": [
  {
   "cell_type": "code",
   "execution_count": 1,
   "metadata": {},
   "outputs": [],
   "source": [
    "import numpy as np\n",
    "import pandas as pd\n",
    "import matplotlib.pyplot as plt\n",
    "from scipy.interpolate import CubicSpline\n",
    "from numpy import e"
   ]
  },
  {
   "cell_type": "markdown",
   "metadata": {},
   "source": [
    "# Problema 1. Derivada por 5 puntos"
   ]
  },
  {
   "cell_type": "code",
   "execution_count": 2,
   "metadata": {},
   "outputs": [],
   "source": [
    "adelante_5 = lambda f,x,h: (-25*f(x) +48*f(x+h) -36*f(x+ 2*h) +16*f(x+ 3*h) -3*f(x +4*h))/(12*h)\n",
    "centrada_5 = lambda f,x,h: (f(x-2*h) -8*f(x-h) +8*f(x+h) -f(x+2*h))/(12*h)\n",
    "atras_5 = lambda f,x,h: (25*f(x) -48*f(x+h) +36*f(x+ 2*h) -16*f(x+ 3*h) +3*f(x +4*h))/(12*h)\n",
    "\n",
    "def five_point_derivative(f, xList, h):\n",
    "\n",
    "    n = len(xList)\n",
    "    df=[]\n",
    "\n",
    "    for i in range(n):\n",
    "\n",
    "        x = xList[i]\n",
    "\n",
    "        if i == 0:\n",
    "            df.append(adelante_5(f, x, h))\n",
    "        elif i == n-1:\n",
    "            df.append(atras_5(f, x, h))\n",
    "        else:\n",
    "            df.append(centrada_5(f, x, h))\n",
    "    \n",
    "    return(df)"
   ]
  },
  {
   "cell_type": "code",
   "execution_count": 3,
   "metadata": {},
   "outputs": [
    {
     "data": {
      "text/html": [
       "<div>\n",
       "<style scoped>\n",
       "    .dataframe tbody tr th:only-of-type {\n",
       "        vertical-align: middle;\n",
       "    }\n",
       "\n",
       "    .dataframe tbody tr th {\n",
       "        vertical-align: top;\n",
       "    }\n",
       "\n",
       "    .dataframe thead th {\n",
       "        text-align: right;\n",
       "    }\n",
       "</style>\n",
       "<table border=\"1\" class=\"dataframe\">\n",
       "  <thead>\n",
       "    <tr style=\"text-align: right;\">\n",
       "      <th></th>\n",
       "      <th>dy, valor real: -0.3827</th>\n",
       "      <th>h</th>\n",
       "      <th>error (%)</th>\n",
       "    </tr>\n",
       "  </thead>\n",
       "  <tbody>\n",
       "    <tr>\n",
       "      <th>0</th>\n",
       "      <td>-0.3787</td>\n",
       "      <td>0.5000</td>\n",
       "      <td>0.0040</td>\n",
       "    </tr>\n",
       "    <tr>\n",
       "      <th>1</th>\n",
       "      <td>-0.3803</td>\n",
       "      <td>0.4456</td>\n",
       "      <td>0.0024</td>\n",
       "    </tr>\n",
       "    <tr>\n",
       "      <th>2</th>\n",
       "      <td>-0.3813</td>\n",
       "      <td>0.3911</td>\n",
       "      <td>0.0014</td>\n",
       "    </tr>\n",
       "    <tr>\n",
       "      <th>3</th>\n",
       "      <td>-0.3819</td>\n",
       "      <td>0.3367</td>\n",
       "      <td>0.0008</td>\n",
       "    </tr>\n",
       "    <tr>\n",
       "      <th>4</th>\n",
       "      <td>-0.3822</td>\n",
       "      <td>0.2822</td>\n",
       "      <td>0.0005</td>\n",
       "    </tr>\n",
       "    <tr>\n",
       "      <th>5</th>\n",
       "      <td>-0.3824</td>\n",
       "      <td>0.2278</td>\n",
       "      <td>0.0003</td>\n",
       "    </tr>\n",
       "    <tr>\n",
       "      <th>6</th>\n",
       "      <td>-0.3824</td>\n",
       "      <td>0.1733</td>\n",
       "      <td>0.0002</td>\n",
       "    </tr>\n",
       "    <tr>\n",
       "      <th>7</th>\n",
       "      <td>-0.3825</td>\n",
       "      <td>0.1189</td>\n",
       "      <td>0.0002</td>\n",
       "    </tr>\n",
       "    <tr>\n",
       "      <th>8</th>\n",
       "      <td>-0.3825</td>\n",
       "      <td>0.0644</td>\n",
       "      <td>0.0002</td>\n",
       "    </tr>\n",
       "    <tr>\n",
       "      <th>9</th>\n",
       "      <td>-0.3825</td>\n",
       "      <td>0.0100</td>\n",
       "      <td>0.0002</td>\n",
       "    </tr>\n",
       "  </tbody>\n",
       "</table>\n",
       "</div>"
      ],
      "text/plain": [
       "   dy, valor real: -0.3827       h  error (%)\n",
       "0                  -0.3787  0.5000     0.0040\n",
       "1                  -0.3803  0.4456     0.0024\n",
       "2                  -0.3813  0.3911     0.0014\n",
       "3                  -0.3819  0.3367     0.0008\n",
       "4                  -0.3822  0.2822     0.0005\n",
       "5                  -0.3824  0.2278     0.0003\n",
       "6                  -0.3824  0.1733     0.0002\n",
       "7                  -0.3825  0.1189     0.0002\n",
       "8                  -0.3825  0.0644     0.0002\n",
       "9                  -0.3825  0.0100     0.0002"
      ]
     },
     "metadata": {},
     "output_type": "display_data"
    },
    {
     "name": "stdout",
     "output_type": "stream",
     "text": [
      "La sgunda derivada con un h = 0.05 fue de: -0.9020085967375638 con un error de: 0.5193251643724741\n",
      "Usando un h menor (h = 0.1) fue de: -0.9020006557950043 con un error de: 0.5193172234299146, un cambio de 7.940942559514497e-06 frente al de h=0.05\n",
      "Usando un h mayor (h = 0.01) fue de: -0.9020091305409332 con un error de: 0.5193251643724741, un cambio de 0.0 frente al de h=0.05\n"
     ]
    }
   ],
   "source": [
    "f_P1 = lambda x: np.cos(x)\n",
    "df_P1 = lambda x: -np.sin(x)\n",
    "df2_P1 = lambda x: -np.sin(x)\n",
    "\n",
    "x_P1 = np.linspace(0, 2*np.pi, 10)\n",
    "y_P1 = f_P1(x_P1)\n",
    "\n",
    "x_punto = np.pi/8\n",
    "dyReal_punto = df_P1(x_punto)\n",
    "dy2Real_punto =df2_P1(x_punto)\n",
    "\n",
    "dy2_5puntod_P1_h1 = CubicSpline(x_P1, five_point_derivative(df_P1, x_P1, 0.1), bc_type= 'natural')(x_punto)\n",
    "error_h1 = abs(dy2Real_punto - dy2_5puntod_P1_h1)\n",
    "\n",
    "dy2_5puntod_P1_h2 = CubicSpline(x_P1, five_point_derivative(df_P1, x_P1, 0.05), bc_type= 'natural')(x_punto)\n",
    "error_h2 = abs(dy2Real_punto - dy2_5puntod_P1_h2)\n",
    "\n",
    "dy2_5puntod_P1_h3 = CubicSpline(x_P1, five_point_derivative(df_P1, x_P1, 0.01), bc_type= 'natural')(x_punto)\n",
    "error_h3 = abs(dy2Real_punto - dy2_5puntod_P1_h2)\n",
    "\n",
    "h_pruebas = np.linspace(0.01, 0.5, 10)[::-1]\n",
    "\n",
    "error = []\n",
    "valor = []\n",
    "\n",
    "for h in h_pruebas:\n",
    "    dy_punto_5Puntos = CubicSpline(x_P1, five_point_derivative(f_P1, x_P1, h), bc_type= 'natural')(x_punto)\n",
    "\n",
    "    valor.append(np.round(dy_punto_5Puntos, 4))\n",
    "    error.append(np.round(abs(dy_punto_5Puntos - dyReal_punto), 4))\n",
    "\n",
    "h_errores = {f'dy, valor real: {round(dyReal_punto, 4)}': valor}\n",
    "h_errores['h']= np.round(h_pruebas, 4)\n",
    "h_errores['error (%)'] = error\n",
    "\n",
    "h_errores = pd.DataFrame(h_errores)\n",
    "display(h_errores)\n",
    "\n",
    "print(\n",
    "    f'La sgunda derivada con un h = {0.05} fue de: {dy2_5puntod_P1_h2} con un error de: {error_h2}\\n'\n",
    "    f'Usando un h menor (h = {0.1}) fue de: {dy2_5puntod_P1_h1} con un error de: {error_h1}, un cambio de {error_h2 - error_h1} frente al de h=0.05\\n'\n",
    "    f'Usando un h mayor (h = {0.01}) fue de: {dy2_5puntod_P1_h3} con un error de: {error_h3}, un cambio de {error_h2 - error_h3} frente al de h=0.05'\n",
    "    )"
   ]
  },
  {
   "cell_type": "markdown",
   "metadata": {},
   "source": [
    "Segun parece el error no cambio si h disminuye, a diferencia de cuando aumenta"
   ]
  },
  {
   "cell_type": "markdown",
   "metadata": {},
   "source": [
    "# Punto 2. derivadas"
   ]
  },
  {
   "cell_type": "code",
   "execution_count": 4,
   "metadata": {},
   "outputs": [],
   "source": [
    "adelante = lambda f,x,h: (f(x+h) - f(x))/h\n",
    "centrada = lambda f,x,h: (f(x+h) - f(x-h))/(2*h)\n",
    "atras = lambda f,x,h: (f(x) - f(x-h))/h\n",
    "\n",
    "#Segunda derivada\n",
    "centrada2 = lambda f,x,h: (f(x+h) - 2*f(x) + f(x-h))/h**2\n",
    "\n",
    "#Diferencias finitas\n",
    "def finita(f, xList, h, orden= 1):\n",
    "\n",
    "    n = len(xList)\n",
    "    df=[]\n",
    "\n",
    "    for i in range(n):\n",
    "\n",
    "        x = xList[i]\n",
    "\n",
    "        if orden == 1:\n",
    "            if i == 0:\n",
    "                df.append(adelante(f, x, h))\n",
    "            elif i == n-1:\n",
    "                df.append(atras(f, x, h))\n",
    "            else:\n",
    "                df.append(centrada(f, x, h))\n",
    "        else:\n",
    "            if i == 0 or i == n-1:\n",
    "                df.append(None)  \n",
    "            else:\n",
    "                df.append(centrada2(f, x, h))\n",
    "    return(df)"
   ]
  },
  {
   "cell_type": "code",
   "execution_count": 34,
   "metadata": {},
   "outputs": [
    {
     "data": {
      "image/png": "[encoded data removed]",
      "text/plain": [
       "<Figure size 640x480 with 1 Axes>"
      ]
     },
     "metadata": {},
     "output_type": "display_data"
    }
   ],
   "source": [
    "f_P2 = lambda x: x*e**x\n",
    "\n",
    "x_P2 = np.linspace(1.8, 2.2, 6)\n",
    "y_P2 = f_P2(x_P2)\n",
    "\n",
    "df1_P2 = np.gradient(y_P2, x_P2)\n",
    "df2_P2 = np.gradient(df1_P2, x_P2)\n",
    "\n",
    "h_values = np.linspace(0.01, 0.1, 10)\n",
    "\n",
    "errores_df1 = np.zeros(len(h_values))\n",
    "errores_df2 = np.zeros(len(h_values))\n",
    "i = 0\n",
    "\n",
    "for h in h_values:\n",
    "\n",
    "    df1_dif_finitas = finita(f_P2, x_P2, h)\n",
    "    df2_dif_finitas = finita(f_P2, x_P2, h, orden= 2)\n",
    "    df2_dif_finitas = np.array(df2_dif_finitas, dtype=float)\n",
    "\n",
    "    error_df1 = max(abs(df1_P2 - df1_dif_finitas))\n",
    "    error_df2 = np.nanmax(abs(df2_P2 - df2_dif_finitas))\n",
    "\n",
    "    errores_df1[i] = error_df1\n",
    "    errores_df2[i] = error_df2\n",
    "\n",
    "    i += 1\n",
    "\n",
    "plt.axhline(1, color= 'Black', linestyle= '-.', alpha= 0.5)\n",
    "\n",
    "plt.semilogy(h_values, errores_df1)\n",
    "plt.semilogy(h_values, errores_df2)\n",
    "\n",
    "plt.grid(linestyle= '-.')"
   ]
  },
  {
   "cell_type": "code",
   "execution_count": null,
   "metadata": {},
   "outputs": [],
   "source": []
  },
  {
   "cell_type": "markdown",
   "metadata": {},
   "source": [
    "Se puede ver que el error para la primera derivada tiene orden cercano a -1, sin embargo hay un salto grande cuando h esta cerca a 0.08 donde el orden salta a -13\n",
    "\n",
    "A parte se puede ver que la precision es muy mala para la segunda derivada"
   ]
  },
  {
   "cell_type": "markdown",
   "metadata": {},
   "source": []
  }
 ],
 "metadata": {
  "kernelspec": {
   "display_name": "Python 3",
   "language": "python",
   "name": "python3"
  },
  "language_info": {
   "codemirror_mode": {
    "name": "ipython",
    "version": 3
   },
   "file_extension": ".py",
   "mimetype": "text/x-python",
   "name": "python",
   "nbconvert_exporter": "python",
   "pygments_lexer": "ipython3",
   "version": "3.12.10"
  }
 },
 "nbformat": 4,
 "nbformat_minor": 2
}
