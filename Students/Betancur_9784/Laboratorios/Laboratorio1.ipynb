{
 "cells": [
  {
   "cell_type": "code",
   "execution_count": 1,
   "metadata": {},
   "outputs": [],
   "source": [
    "import numpy as np\n",
    "import matplotlib.pyplot as plt"
   ]
  },
  {
   "cell_type": "markdown",
   "metadata": {},
   "source": [
    "## Problema 1. Propiedades numericas\n",
    "\n",
    "1. Diseñar un programa en el que entrado un numero a retorne una variable booleana True or false si cumple que es:\n",
    "\n",
    "  * Números defectivo : la suma de los divisores propios es menor que el número.\n",
    "\n",
    "    La rutina se deberá llamar números_defectivos\n",
    "\n",
    "  * Números abundantes: la suma de los divisores es mayor que el número.\n",
    "\n",
    "    La rutina se deberá llamar números_abundantes\n",
    "\n",
    "  * Números semiperfectos la suma de todos o algunos de los divisores propios es igual al número.\n",
    "\n",
    "    La rutina se debera llamar numeros_semiperfectos\n",
    "\n",
    "  * Números perfectos la suma de todos sus divisores propios, excepto el mismo numero, es igual al número.\n",
    "\n",
    "    La rutina se deberá llamar numeros_perfectos\n",
    "\n",
    "  * Números primos el número es divisible unicamente por sí mismo y por 1.\n",
    "\n",
    "    La rutina se deberá llamar numeros_primos\n",
    "\n",
    "#### Problema no obligatorio\n",
    "\n",
    "Retornar los 30 primeros números de cada clase"
   ]
  },
  {
   "cell_type": "markdown",
   "metadata": {},
   "source": [
    "#### a)"
   ]
  },
  {
   "cell_type": "code",
   "execution_count": 19,
   "metadata": {},
   "outputs": [
    {
     "data": {
      "text/plain": [
       "True"
      ]
     },
     "execution_count": 19,
     "metadata": {},
     "output_type": "execute_result"
    }
   ],
   "source": [
    "def numeros_defectivos(a=23):\n",
    "    sumDiv = 0\n",
    "    for i in range(1, int(a/2) +1):\n",
    "        if a%i == 0:\n",
    "            sumDiv += i\n",
    "\n",
    "    return sumDiv < a\n",
    "    \n",
    "numeros_defectivos()"
   ]
  },
  {
   "cell_type": "markdown",
   "metadata": {},
   "source": [
    "#### b)"
   ]
  },
  {
   "cell_type": "code",
   "execution_count": 4,
   "metadata": {},
   "outputs": [
    {
     "data": {
      "text/plain": [
       "True"
      ]
     },
     "execution_count": 4,
     "metadata": {},
     "output_type": "execute_result"
    }
   ],
   "source": [
    "def numeros_abundantes(a=20):\n",
    "    sumDiv = 0\n",
    "    for i in range(1, int(a/2) +1):\n",
    "        if a%i == 0:\n",
    "            sumDiv += i\n",
    "\n",
    "    return sumDiv > a\n",
    "\n",
    "numeros_abundantes()"
   ]
  },
  {
   "cell_type": "markdown",
   "metadata": {},
   "source": [
    "#### c)"
   ]
  },
  {
   "cell_type": "code",
   "execution_count": 18,
   "metadata": {},
   "outputs": [
    {
     "data": {
      "text/plain": [
       "True"
      ]
     },
     "execution_count": 18,
     "metadata": {},
     "output_type": "execute_result"
    }
   ],
   "source": [
    "def numeros_semiperfectos(a=6):\n",
    "    sumDiv = []\n",
    "\n",
    "    for i in range(1, int(a/2) +1):\n",
    "        \n",
    "        if a%i == 0:\n",
    "            sumDiv.append(i)\n",
    "            \n",
    "    for i in sumDiv:\n",
    "        suma = i\n",
    "        for n in sumDiv:\n",
    "            if n != i:\n",
    "                suma += n\n",
    "\n",
    "            if suma == a:\n",
    "                return True\n",
    "    \n",
    "    return False\n",
    "\n",
    "\n",
    "numeros_semiperfectos(12)"
   ]
  },
  {
   "cell_type": "markdown",
   "metadata": {},
   "source": [
    "#### D)"
   ]
  },
  {
   "cell_type": "code",
   "execution_count": 26,
   "metadata": {},
   "outputs": [
    {
     "data": {
      "text/plain": [
       "True"
      ]
     },
     "execution_count": 26,
     "metadata": {},
     "output_type": "execute_result"
    }
   ],
   "source": [
    "def numeros_perfectos(n):\n",
    "\n",
    "    sumDiv = 0\n",
    "    \n",
    "    for i in range(1, n//2 +1):\n",
    "        if n%i == 0:\n",
    "            sumDiv += i\n",
    "        \n",
    "    return sumDiv == n\n",
    "\n",
    "numeros_perfectos(28)\n"
   ]
  },
  {
   "cell_type": "markdown",
   "metadata": {},
   "source": [
    "#### E)"
   ]
  },
  {
   "cell_type": "code",
   "execution_count": 32,
   "metadata": {},
   "outputs": [
    {
     "data": {
      "text/plain": [
       "False"
      ]
     },
     "execution_count": 32,
     "metadata": {},
     "output_type": "execute_result"
    }
   ],
   "source": [
    "def numeros_primos(a):\n",
    "    for i in range(2, a):\n",
    "        if a%i == 0:\n",
    "            return False\n",
    "    \n",
    "    return True\n",
    "\n",
    "numeros_primos(4)"
   ]
  },
  {
   "cell_type": "markdown",
   "metadata": {},
   "source": [
    "## Problema 2. Numeros palindromos\n",
    "\n",
    "Determine si un número n entero ingresado por el usuario es un palíndromo, (Retorne True en caso afirmativo y False en caso contrario)"
   ]
  },
  {
   "cell_type": "code",
   "execution_count": 43,
   "metadata": {},
   "outputs": [
    {
     "data": {
      "text/plain": [
       "True"
      ]
     },
     "execution_count": 43,
     "metadata": {},
     "output_type": "execute_result"
    }
   ],
   "source": [
    "def num_palindromo(n):\n",
    "\n",
    "    n = str(n)\n",
    "\n",
    "    if n == n[::-1]:\n",
    "        return True\n",
    "    \n",
    "    return False\n",
    "\n",
    "num = int(input(\"Inserte numero: \"))\n",
    "\n",
    "num_palindromo(num)\n"
   ]
  },
  {
   "cell_type": "markdown",
   "metadata": {},
   "source": [
    "## Problema 3. Recursividad \n",
    "\n",
    "Los números de Catalan $C_n$ aparecieron previamente en clase. La definición dada allí puede reescribirse como:\n",
    "\n",
    "$$C_n = \n",
    " \\begin{cases} \n",
    " 1 & \\text{si } n = 0, \\\\\n",
    " \\frac{4n - 2}{n + 1} \\, C_{n-1} & \\text{si } n > 0.\n",
    " \\end{cases}$$\n",
    "\n",
    "Escriba una función en Python, usando recursión, que calcule $C_n$. Utilice su función para calcular e imprimir $C_{50}$.\n",
    "\n",
    "Euclides demostró que el máximo común divisor $g(m, n)$ de dos enteros no negativos $m$ y $n$ satisface:\n",
    "\n",
    "$$g(m, n) =\n",
    " \\begin{cases} \n",
    " m & \\text{si } n = 0, \\\\\n",
    " g(n, m \\bmod n) & \\text{si } n > 0.\n",
    " \\end{cases}$$\n",
    "\n",
    "Escriba una función en Python $g(m, n)$ que emplee recursión para calcular el máximo común divisor de $m$ y $n$ usando esta fórmula. Use su función para calcular e imprimir el máximo común divisor de 108 y 192.\n"
   ]
  },
  {
   "cell_type": "markdown",
   "metadata": {},
   "source": [
    "#### a)"
   ]
  },
  {
   "cell_type": "code",
   "execution_count": 48,
   "metadata": {},
   "outputs": [
    {
     "data": {
      "text/plain": [
       "1.9782616577561618e+27"
      ]
     },
     "execution_count": 48,
     "metadata": {},
     "output_type": "execute_result"
    }
   ],
   "source": [
    "def num_catalan(n):\n",
    "\n",
    "    if n == 0:\n",
    "        return 1\n",
    "    else:\n",
    "        return ((4*n - 2)/(n+1)) * num_catalan(n-1)\n",
    "\n",
    "num_catalan(50)"
   ]
  },
  {
   "cell_type": "markdown",
   "metadata": {},
   "source": [
    "## Problema 6. trayectoria\n",
    "\n",
    "Un proyectil es lanzado desde una altura inicial y0=0\n",
    " con una velocidad inicial de 4.0m/s\n",
    " a 45∘\n",
    " respecto a la horizontal. Graficar la trayectoria del proyectil en su plano de movimiento (considerando el eje x\n",
    " paralelo a la horizontal y el origen en la posición inicial del proyectil) desde el punto de lanzamiento hasta el punto donde impacta el suelo (asumiendo un terreno plano). La gráfica debe incluir etiquetas en los ejes y un título."
   ]
  },
  {
   "cell_type": "code",
   "execution_count": 13,
   "metadata": {},
   "outputs": [],
   "source": [
    "t = np.linspace(0, 1, 100)\n",
    "y0 = 0\n",
    "v0 = 4.0\n",
    "thetaDeg = 45\n",
    "\n",
    "thetaRad = thetaDeg*np.pi/180\n",
    "\n",
    "x = v0*np.cos(thetaRad)*t\n",
    "y = y0 + v0*np.sin(thetaRad)*t - (1/2)*9.8*t**2"
   ]
  },
  {
   "cell_type": "code",
   "execution_count": 24,
   "metadata": {},
   "outputs": [
    {
     "data": {
      "image/png": "[encoded data removed]",
      "text/plain": [
       "<Figure size 640x480 with 1 Axes>"
      ]
     },
     "metadata": {},
     "output_type": "display_data"
    }
   ],
   "source": [
    "plt.plot(x,y, label='Trayectoria')\n",
    "plt.ylabel('altura')\n",
    "plt.xlabel('distancia')\n",
    "plt.ylim(0,.5)\n",
    "plt.xlim(0,2)\n",
    "plt.legend()\n",
    "plt.grid( linestyle='-.', alpha = 0.5)"
   ]
  }
 ],
 "metadata": {
  "kernelspec": {
   "display_name": "Python 3",
   "language": "python",
   "name": "python3"
  },
  "language_info": {
   "codemirror_mode": {
    "name": "ipython",
    "version": 3
   },
   "file_extension": ".py",
   "mimetype": "text/x-python",
   "name": "python",
   "nbconvert_exporter": "python",
   "pygments_lexer": "ipython3",
   "version": "3.12.10"
  }
 },
 "nbformat": 4,
 "nbformat_minor": 2
}
