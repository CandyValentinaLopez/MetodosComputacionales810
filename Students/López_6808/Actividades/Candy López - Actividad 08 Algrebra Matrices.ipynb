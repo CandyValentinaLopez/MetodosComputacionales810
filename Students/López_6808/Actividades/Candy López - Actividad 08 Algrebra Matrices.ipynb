{
  "nbformat": 4,
  "nbformat_minor": 0,
  "metadata": {
    "colab": {
      "provenance": []
    },
    "kernelspec": {
      "name": "python3",
      "display_name": "Python 3"
    },
    "language_info": {
      "name": "python"
    }
  },
  "cells": [
    {
      "cell_type": "code",
      "execution_count": 2,
      "metadata": {
        "id": "z7RCty67y3ME"
      },
      "outputs": [],
      "source": [
        "import numpy as np\n",
        "import matplotlib.pyplot as plt\n",
        "import scipy.linalg as la"
      ]
    },
    {
      "cell_type": "markdown",
      "source": [
        "# Actividad 08: Algebra Lineal y Matrices\n",
        "\n",
        "---\n",
        "### Profesor: Juan Marcos Marín\n",
        "### Nombre: Candy Valentina López Villanueva\n",
        "*Métodos computacionales*\n",
        "\n",
        "---"
      ],
      "metadata": {
        "id": "GGQpGoujzAnQ"
      }
    },
    {
      "cell_type": "markdown",
      "source": [
        "#1\n",
        "Escriba tres matrices aleatorias $A$, $B$ y $C$ de $3\\times 3$, y demuestre las siguientes relaciones\n",
        "\n",
        "- $ \\mathbf{A}\\mathbf{B} \\neq \\mathbf{B}\\mathbf{A} $, en general.\n",
        "- $ (\\mathbf{A}\\mathbf{B})\\mathbf{C} = \\mathbf{A}(\\mathbf{B}\\mathbf{C}) $.\n",
        "- $ \\mathbf{A}(\\mathbf{B} + \\mathbf{C}) = \\mathbf{A}\\mathbf{B} + \\mathbf{A}\\mathbf{C} $.\n",
        "- $ (\\mathbf{A} + \\mathbf{B})\\mathbf{C} = \\mathbf{A}\\mathbf{C} + \\mathbf{B}\\mathbf{C} $.\n",
        "- $ (\\mathbf{A}\\mathbf{B})^\\top = \\mathbf{B}^\\top \\mathbf{A}^\\top $.\n",
        "- $ \\det(\\mathbf{A}\\mathbf{B}) = \\det(\\mathbf{A}) \\det(\\mathbf{B}) $.\n",
        "- $ (\\mathbf{A}^\\top)^\\top = \\mathbf{A} $.\n",
        "- $ (c\\mathbf{A})^\\top = c\\mathbf{A}^\\top $.\n",
        "- $ (\\mathbf{A} + \\mathbf{B})^\\top = \\mathbf{A}^\\top + \\mathbf{B}^\\top $.\n",
        "\n"
      ],
      "metadata": {
        "id": "U9hC1R-F0-iH"
      }
    },
    {
      "cell_type": "code",
      "source": [
        "def generar_matrices_aleatorias(seed=42):\n",
        "    \"\"\"\n",
        "    Genera tres matrices aleatorias A, B y C de tamaño 3x3.\n",
        "\n",
        "    Parámetros:\n",
        "    seed : int, opcional\n",
        "        Semilla para reproducibilidad. Valor por defecto: 42.\n",
        "\n",
        "    Retorna:\n",
        "    tupla de np.ndarray\n",
        "        Tupla con las matrices A, B y C.\n",
        "    \"\"\"\n",
        "    np.random.seed(seed)\n",
        "    A = np.random.rand(3, 3)\n",
        "    B = np.random.rand(3, 3)\n",
        "    C = np.random.rand(3, 3)\n",
        "    return A, B, C\n",
        "\n",
        "A, B, C = generar_matrices_aleatorias()"
      ],
      "metadata": {
        "id": "cQQ6cPGW1anK"
      },
      "execution_count": 4,
      "outputs": []
    },
    {
      "cell_type": "code",
      "source": [
        "def verificar_no_conmutatividad(A, B):\n",
        "    \"\"\"\n",
        "    Verifica que la multiplicación de matrices no es conmutativa.\n",
        "\n",
        "    Retorna:\n",
        "    bool\n",
        "        True si AB ≠ BA, False en caso contrario.\n",
        "    \"\"\"\n",
        "    AB = A @ B\n",
        "    BA = B @ A\n",
        "    return not np.allclose(AB, BA)"
      ],
      "metadata": {
        "id": "XRb_cRlD46yS"
      },
      "execution_count": 6,
      "outputs": []
    },
    {
      "cell_type": "code",
      "source": [
        "def verificar_asociatividad(A, B, C):\n",
        "    \"\"\"\n",
        "    Verifica que la multiplicación de matrices es asociativa.\n",
        "\n",
        "    Retorna:\n",
        "    bool\n",
        "        True si (AB)C = A(BC).\n",
        "    \"\"\"\n",
        "    izquierda = (A @ B) @ C\n",
        "    derecha = A @ (B @ C)\n",
        "    return np.allclose(izquierda, derecha)"
      ],
      "metadata": {
        "id": "TEUOiQzS5K_G"
      },
      "execution_count": 7,
      "outputs": []
    },
    {
      "cell_type": "code",
      "source": [
        "def verificar_distributiva_izquierda(A, B, C):\n",
        "    \"\"\"\n",
        "    Verifica la propiedad distributiva izquierda.\n",
        "\n",
        "    Retorna:\n",
        "    bool\n",
        "        True si A(B + C) = AB + AC.\n",
        "    \"\"\"\n",
        "    izquierda = A @ (B + C)\n",
        "    derecha = A @ B + A @ C\n",
        "    return np.allclose(izquierda, derecha)"
      ],
      "metadata": {
        "id": "8p3QQFs55P5d"
      },
      "execution_count": 8,
      "outputs": []
    },
    {
      "cell_type": "code",
      "source": [
        "def verificar_distributiva_derecha(A, B, C):\n",
        "    \"\"\"\n",
        "    Verifica la propiedad distributiva derecha.\n",
        "\n",
        "    Retorna:\n",
        "    bool\n",
        "        True si (A + B)C = AC + BC.\n",
        "    \"\"\"\n",
        "    izquierda = (A + B) @ C\n",
        "    derecha = A @ C + B @ C\n",
        "    return np.allclose(izquierda, derecha)"
      ],
      "metadata": {
        "id": "yxkTaW6V5T0F"
      },
      "execution_count": 9,
      "outputs": []
    },
    {
      "cell_type": "code",
      "source": [
        "def verificar_transpuesta_producto(A, B):\n",
        "    \"\"\"\n",
        "    Verifica que la transpuesta del producto es igual al producto\n",
        "    de las transpuestas en orden inverso.\n",
        "\n",
        "    Retorna:\n",
        "    bool\n",
        "        True si (AB)^T = B^T A^T.\n",
        "    \"\"\"\n",
        "    izquierda = (A @ B).T\n",
        "    derecha = B.T @ A.T\n",
        "    return np.allclose(izquierda, derecha)"
      ],
      "metadata": {
        "id": "ESRt1AW75XUJ"
      },
      "execution_count": 10,
      "outputs": []
    },
    {
      "cell_type": "code",
      "source": [
        "def verificar_determinante_producto(A, B):\n",
        "    \"\"\"\n",
        "    Verifica que el determinante del producto es el producto de los determinantes.\n",
        "\n",
        "    Retorna:\n",
        "    bool\n",
        "        True si det(AB) = det(A)*det(B).\n",
        "    \"\"\"\n",
        "    det_AB = la.det(A @ B)\n",
        "    det_A_mul_det_B = la.det(A) * la.det(B)\n",
        "    return np.isclose(det_AB, det_A_mul_det_B)"
      ],
      "metadata": {
        "id": "KUSk-eJD5cUV"
      },
      "execution_count": 11,
      "outputs": []
    },
    {
      "cell_type": "code",
      "source": [
        "def verificar_transpuesta_doble(A):\n",
        "    \"\"\"\n",
        "    Verifica que la transpuesta de la transpuesta es la matriz original.\n",
        "\n",
        "    Retorna:\n",
        "    bool\n",
        "        True si (A^T)^T = A.\n",
        "    \"\"\"\n",
        "    return np.allclose(A.T.T, A)"
      ],
      "metadata": {
        "id": "CoPAlMFY5g7A"
      },
      "execution_count": 12,
      "outputs": []
    },
    {
      "cell_type": "code",
      "source": [
        "def verificar_transpuesta_escalar(A, c=3):\n",
        "    \"\"\"\n",
        "    Verifica que (cA)^T = cA^T para un escalar c.\n",
        "\n",
        "    Parámetros:\n",
        "    c : float\n",
        "        Escalar para multiplicar A.\n",
        "\n",
        "    Retorna:\n",
        "    bool\n",
        "        True si (cA)^T = cA^T.\n",
        "    \"\"\"\n",
        "    return np.allclose((c*A).T, c*A.T)"
      ],
      "metadata": {
        "id": "qubVRdyw5k-i"
      },
      "execution_count": 13,
      "outputs": []
    },
    {
      "cell_type": "code",
      "source": [
        "def verificar_transpuesta_suma(A, B):\n",
        "    \"\"\"\n",
        "    Verifica que la transpuesta de una suma es la suma de las transpuestas.\n",
        "\n",
        "    Retorna:\n",
        "    bool\n",
        "        True si (A + B)^T = A^T + B^T.\n",
        "    \"\"\"\n",
        "    return np.allclose((A + B).T, A.T + B.T)"
      ],
      "metadata": {
        "id": "AN-2zHiq5qm8"
      },
      "execution_count": 14,
      "outputs": []
    },
    {
      "cell_type": "code",
      "source": [
        "A, B, C"
      ],
      "metadata": {
        "colab": {
          "base_uri": "https://localhost:8080/"
        },
        "id": "e52ufK9T54rV",
        "outputId": "c8a7696c-a3a4-45ad-eda7-67bdfbaab5fa"
      },
      "execution_count": 15,
      "outputs": [
        {
          "output_type": "execute_result",
          "data": {
            "text/plain": [
              "(array([[0.37454012, 0.95071431, 0.73199394],\n",
              "        [0.59865848, 0.15601864, 0.15599452],\n",
              "        [0.05808361, 0.86617615, 0.60111501]]),\n",
              " array([[0.70807258, 0.02058449, 0.96990985],\n",
              "        [0.83244264, 0.21233911, 0.18182497],\n",
              "        [0.18340451, 0.30424224, 0.52475643]]),\n",
              " array([[0.43194502, 0.29122914, 0.61185289],\n",
              "        [0.13949386, 0.29214465, 0.36636184],\n",
              "        [0.45606998, 0.78517596, 0.19967378]]))"
            ]
          },
          "metadata": {},
          "execution_count": 15
        }
      ]
    },
    {
      "cell_type": "code",
      "source": [
        "print(\"1. AB ≠ BA:\", verificar_no_conmutatividad(A, B))\n",
        "print(\"2. (AB)C = A(BC):\", verificar_asociatividad(A, B, C))\n",
        "print(\"3. A(B+C) = AB + AC:\", verificar_distributiva_izquierda(A, B, C))\n",
        "print(\"4. (A+B)C = AC + BC:\", verificar_distributiva_derecha(A, B, C))\n",
        "print(\"5. (AB)^T = B^T A^T:\", verificar_transpuesta_producto(A, B))\n",
        "print(\"6. det(AB) = det(A)*det(B):\", verificar_determinante_producto(A, B))\n",
        "print(\"7. (A^T)^T = A:\", verificar_transpuesta_doble(A))\n",
        "print(\"8. (cA)^T = cA^T:\", verificar_transpuesta_escalar(A))\n",
        "print(\"9. (A + B)^T = A^T + B^T:\", verificar_transpuesta_suma(A, B))"
      ],
      "metadata": {
        "colab": {
          "base_uri": "https://localhost:8080/"
        },
        "id": "ziXLkbFQ58_8",
        "outputId": "f756aa11-f2b3-4b3c-9e0b-bcebd9d22f62"
      },
      "execution_count": 18,
      "outputs": [
        {
          "output_type": "stream",
          "name": "stdout",
          "text": [
            "1. AB ≠ BA: True\n",
            "2. (AB)C = A(BC): True\n",
            "3. A(B+C) = AB + AC: True\n",
            "4. (A+B)C = AC + BC: True\n",
            "5. (AB)^T = B^T A^T: True\n",
            "6. det(AB) = det(A)*det(B): True\n",
            "7. (A^T)^T = A: True\n",
            "8. (cA)^T = cA^T: True\n",
            "9. (A + B)^T = A^T + B^T: True\n"
          ]
        }
      ]
    },
    {
      "cell_type": "markdown",
      "source": [
        "#2\n",
        "\n",
        "El **Teorema de Laplace** es un método para calcular el determinante de una matriz cuadrada, particularmente útil para matrices de orden mayor a 2. Este teorema se basa en la expansión del determinante por los elementos de una fila o una columna cualquiera.\n",
        "\n",
        "\n",
        "\n",
        "$$\n",
        "\\det(A) = \\sum_{j=1}^n (-1)^{1+j} a_{1j} M_{1j}\n",
        "$$\n",
        "\n",
        "donde:\n",
        "- $a_{1j}$ es el elemento de la primera fila y columna $j$.\n",
        "- $M_{1j}$ es el menor asociado al elemento $a_{1j}$, es decir, el determinante de la submatriz de $3 \\times 3$ que se obtiene al eliminar la fila 1 y la columna $j$.\n",
        "- $(-1)^{1+j}$ es el signo correspondiente al cofactor del elemento $a_{1j}$.\n",
        "\n",
        "Podemos realizar una función recursiva para el cálculo del determinante, sabiendo que el valor del determinante de una matriz de orden uno es el único elemento de esa matriz, y el de una matriz de orden superior a uno es la suma de cada uno de los elementos de una fila o columna por los Adjuntos a ese elemento, como en la función recursiva se emplea la misma función definida el cálculo lo haremos por Menor complementario, un ejemplo desarrollado por la primera fila sería:\n",
        "\n",
        "$$\n",
        "   \\det (A_{j,j}) =\n",
        "   \\left \\{\n",
        "   \\begin{array}{llcl}\n",
        "      si & j = 1 & \\to & a_{1,1} \\\\\n",
        "                                 \\\\\n",
        "      si & j > 1 & \\to & \\displaystyle \\sum_{k=1}^j \\; (-1)^{(1+k)} \\cdot a_{1,k} \\cdot \\det( \\alpha_{1,k})\n",
        "   \\end{array}\n",
        "   \\right .\n",
        "$$\n",
        "\n",
        "Realice una función que encuentre el determinante de una matriz usando la recursividad aqui planteada, explique explicitamente su código"
      ],
      "metadata": {
        "id": "ibYf2I9T2pIw"
      }
    },
    {
      "cell_type": "code",
      "source": [
        "def determinante_recursivo(A):\n",
        "    \"\"\"\n",
        "    Calcula el determinante de una matriz cuadrada A usando recursividad\n",
        "    y el Teorema de Laplace (expansión por la primera fila).\n",
        "\n",
        "    Parámetros:\n",
        "    A : np.ndarray\n",
        "        Matriz cuadrada de tamaño n x n.\n",
        "\n",
        "    Retorna:\n",
        "    float\n",
        "        Determinante de la matriz A.\n",
        "    \"\"\"\n",
        "    # Verificamos si la matriz es cuadrada\n",
        "    n_rows, n_cols = A.shape\n",
        "    if n_rows != n_cols:\n",
        "        raise ValueError(\"La matriz debe ser cuadrada.\")\n",
        "\n",
        "    # Caso base: matriz de 1x1 → su determinante es el único elemento\n",
        "    if n_rows == 1:\n",
        "        return A[0, 0]\n",
        "\n",
        "    # Caso base: matriz de 2x2 → aplicar la fórmula directa\n",
        "    if n_rows == 2:\n",
        "        return A[0, 0]*A[1, 1] - A[0, 1]*A[1, 0]\n",
        "\n",
        "    # Caso general: expansión por la primera fila\n",
        "    det = 0\n",
        "    for j in range(n_cols):\n",
        "        # Cofactor: (-1)^(i+j) * M_ij\n",
        "        signo = (-1) ** (0 + j)\n",
        "        submatriz = np.delete(np.delete(A, 0, axis=0), j, axis=1)\n",
        "        det += signo * A[0, j] * determinante_recursivo(submatriz)\n",
        "\n",
        "    return det"
      ],
      "metadata": {
        "id": "-8tYERLHtrtY"
      },
      "execution_count": 19,
      "outputs": []
    },
    {
      "cell_type": "code",
      "source": [
        "# Ejemplo de uso\n",
        "\n",
        "# Creamos una matriz de 3x3\n",
        "A = np.array([[3, 1, 2],\n",
        "              [4, 1, 5],\n",
        "              [6, 2, 1]])\n",
        "\n",
        "# Calculamos su determinante recursivamente\n",
        "det_A = determinante_recursivo(A)\n",
        "\n",
        "print(\"Matriz A:\")\n",
        "print(A)\n",
        "print(f\"Determinante de A: {det_A:.4f}\")\n",
        "\n",
        "# Comprobamos con numpy\n",
        "print(f\"Verificación con numpy: {np.linalg.det(A):.4f}\")"
      ],
      "metadata": {
        "colab": {
          "base_uri": "https://localhost:8080/"
        },
        "id": "inquSwVP60sR",
        "outputId": "cd539eb6-565a-4cdb-db07-e33fced01c34"
      },
      "execution_count": 20,
      "outputs": [
        {
          "output_type": "stream",
          "name": "stdout",
          "text": [
            "Matriz A:\n",
            "[[3 1 2]\n",
            " [4 1 5]\n",
            " [6 2 1]]\n",
            "Determinante de A: 3.0000\n",
            "Verificación con numpy: 3.0000\n"
          ]
        }
      ]
    },
    {
      "cell_type": "markdown",
      "source": [
        "#3 Método de Gauss - Seidel\n",
        "\n",
        "Sea \\$A\\in\\mathbb{R}^{n\\times n}\\$ no singular y sea \\$b\\in\\mathbb{R}^n\\$.\n",
        "Descomponga \\$A\\$ como\n",
        "\n",
        "$$\n",
        "A \\;=\\; D \\;+\\; L \\;+\\; U,\n",
        "$$\n",
        "\n",
        "donde\n",
        "\n",
        "* \\$D\\$ es la matriz diagonal de \\$A\\$,\n",
        "* \\$L\\$ es la parte estrictamente triangular inferior,\n",
        "* \\$U\\$ es la parte estrictamente triangular superior.\n",
        "\n",
        "El algoritmo de Gauss - Seidel reorganiza el sistema \\$Ax=b\\$ como\n",
        "\n",
        "$$\n",
        "x \\;=\\; (D+L)^{-1}\\bigl(b \\;-\\; Ux\\bigr),\n",
        "$$\n",
        "\n",
        "y genera la sucesión\n",
        "\n",
        "$$\n",
        "x_i^{(k+1)}\n",
        "= \\frac{1}{a_{ii}}\n",
        "\\Bigl(b_i - \\sum_{j<i} a_{ij}\\,x_j^{(k+1)} - \\sum_{j>i} a_{ij}\\,x_j^{(k)}\\Bigr),\n",
        "\\qquad i=1,\\dots,n.\n",
        "$$\n",
        "\n",
        "Implemente una función `gauss_seidel(A, b, tol=1e-7, max_iter=100)` que:\n",
        "   * Realice las iteraciones hasta que\n",
        "     $\\lVert x^{(k+1)}-x^{(k)}\\rVert_\\infty<\\text{tol}$\n",
        "     o se alcance `max_iter`;\n",
        "   * devuelva el vector solución aproximado \\$x\\$, el número de iteraciones realizadas y la norma del último residuo.\n",
        "\n",
        "Incluya una documentación clara.\n",
        "\n",
        "Luego,\n",
        "\n",
        "   * Genere una matriz aleatoria \\$5\\times5\\$ (por ejemplo, con `np.random.rand`) y un vector \\$b\\$ aleatorio.\n",
        "   * Resuelva \\$Ax=b\\$ con su función; calcule el error relativo frente a `numpy.linalg.solve`.\n",
        "   * Estime igualmente el error respecto a la solución obtenida mediante \\$x=A^{-1}b\\$ (usando `numpy.linalg.inv`).\n",
        "   * Presente las normas de los residuos y los errores relativos."
      ],
      "metadata": {
        "id": "fTSweDGhnAUN"
      }
    },
    {
      "cell_type": "code",
      "source": [
        "def gauss_seidel(A, b, tol=1e-7, max_iter=100):\n",
        "    \"\"\"\n",
        "    Resuelve el sistema lineal Ax = b usando el método iterativo de Gauss-Seidel.\n",
        "\n",
        "    Parámetros:\n",
        "    A : np.ndarray\n",
        "        Matriz de coeficientes de tamaño (n, n), debe ser no singular.\n",
        "    b : np.ndarray\n",
        "        Vector del lado derecho de tamaño (n,).\n",
        "    tol : float, opcional\n",
        "        Tolerancia para la norma infinita de la diferencia entre iteraciones sucesivas.\n",
        "    max_iter : int, opcional\n",
        "        Número máximo de iteraciones.\n",
        "\n",
        "    Retorna:\n",
        "    x : np.ndarray\n",
        "        Solución aproximada del sistema.\n",
        "    num_iter : int\n",
        "        Número de iteraciones realizadas.\n",
        "    residuo : float\n",
        "        Norma infinita del residuo final: ||Ax - b||_∞\n",
        "    \"\"\"\n",
        "    n = len(b)\n",
        "    x = np.zeros_like(b, dtype=np.float64)  # x^(0)\n",
        "\n",
        "    for k in range(max_iter):\n",
        "        x_new = np.copy(x)\n",
        "\n",
        "        for i in range(n):\n",
        "            suma_izq = np.dot(A[i, :i], x_new[:i])     # usa x^(k+1)\n",
        "            suma_der = np.dot(A[i, i+1:], x[i+1:])     # usa x^(k)\n",
        "            x_new[i] = (b[i] - suma_izq - suma_der) / A[i, i]\n",
        "\n",
        "        # Comprobar tolerancia\n",
        "        if np.linalg.norm(x_new - x, ord=np.inf) < tol:\n",
        "            residuo = np.linalg.norm(A @ x_new - b, ord=np.inf)\n",
        "            return x_new, k+1, residuo\n",
        "\n",
        "        x = x_new\n",
        "\n",
        "    # Si no converge\n",
        "    residuo = np.linalg.norm(A @ x - b, ord=np.inf)\n",
        "    return x, max_iter, residuo"
      ],
      "metadata": {
        "id": "xXuUhfjznlnO"
      },
      "execution_count": 21,
      "outputs": []
    },
    {
      "cell_type": "code",
      "source": [
        "# Generar matriz A y vector b aleatorios\n",
        "np.random.seed(42)\n",
        "A = np.random.rand(5, 5)\n",
        "b = np.random.rand(5)\n",
        "\n",
        "# Asegurarse de que A sea diagonalmente dominante (para garantizar convergencia)\n",
        "for i in range(5):\n",
        "    A[i, i] += sum(np.abs(A[i]))  # Suma a la diagonal para dominancia\n",
        "\n",
        "# Resolver con Gauss-Seidel\n",
        "x_gs, iteraciones, residuo_gs = gauss_seidel(A, b)\n",
        "\n",
        "# Solución exacta con numpy.linalg.solve\n",
        "x_solve = np.linalg.solve(A, b)\n",
        "\n",
        "# Solución exacta con A^{-1}b\n",
        "x_inv = np.linalg.inv(A) @ b\n",
        "\n",
        "# Errores relativos\n",
        "error_rel_solve = np.linalg.norm(x_gs - x_solve, ord=np.inf) / np.linalg.norm(x_solve, ord=np.inf)\n",
        "error_rel_inv = np.linalg.norm(x_gs - x_inv, ord=np.inf) / np.linalg.norm(x_inv, ord=np.inf)"
      ],
      "metadata": {
        "id": "Sq5vNWgv7mK3"
      },
      "execution_count": 22,
      "outputs": []
    },
    {
      "cell_type": "code",
      "source": [
        "A, b"
      ],
      "metadata": {
        "colab": {
          "base_uri": "https://localhost:8080/"
        },
        "id": "Wl6o5rhs7zVb",
        "outputId": "38cbe892-e640-472b-8fdc-0df14bef29fa"
      },
      "execution_count": 23,
      "outputs": [
        {
          "output_type": "execute_result",
          "data": {
            "text/plain": [
              "(array([[3.18646561, 0.95071431, 0.73199394, 0.59865848, 0.15601864],\n",
              "        [0.15599452, 2.44752548, 0.86617615, 0.60111501, 0.70807258],\n",
              "        [0.02058449, 0.96990985, 3.04954371, 0.21233911, 0.18182497],\n",
              "        [0.18340451, 0.30424224, 0.52475643, 2.16752236, 0.29122914],\n",
              "        [0.61185289, 0.13949386, 0.29214465, 0.36636184, 2.32199322]]),\n",
              " array([0.78517596, 0.19967378, 0.51423444, 0.59241457, 0.04645041]))"
            ]
          },
          "metadata": {},
          "execution_count": 23
        }
      ]
    },
    {
      "cell_type": "code",
      "source": [
        "x_solve, x_inv"
      ],
      "metadata": {
        "colab": {
          "base_uri": "https://localhost:8080/"
        },
        "id": "dFAUD66177LZ",
        "outputId": "8890bebe-7af7-48ee-c823-f0139e7ff67e"
      },
      "execution_count": 25,
      "outputs": [
        {
          "output_type": "execute_result",
          "data": {
            "text/plain": [
              "(array([ 0.1754365 , -0.02061598,  0.16267602,  0.23302656, -0.08221905]),\n",
              " array([ 0.1754365 , -0.02061598,  0.16267602,  0.23302656, -0.08221905]))"
            ]
          },
          "metadata": {},
          "execution_count": 25
        }
      ]
    },
    {
      "cell_type": "code",
      "source": [
        "print(\"Resultado con Gauss-Seidel:\")\n",
        "print(\"x ≈\", x_gs)\n",
        "print(\"Iteraciones:\", iteraciones)\n",
        "print(\"Residuo final ||Ax - b||_∞:\", residuo_gs)\n",
        "\n",
        "print(\"\\nErrores relativos:\")\n",
        "print(\"Respecto a np.linalg.solve:\", error_rel_solve)\n",
        "print(\"Respecto a A^{-1}b:\", error_rel_inv)"
      ],
      "metadata": {
        "colab": {
          "base_uri": "https://localhost:8080/"
        },
        "id": "aEdoHOa17tkr",
        "outputId": "977b06d0-3812-44c2-88ac-e831cfaf1bb4"
      },
      "execution_count": 24,
      "outputs": [
        {
          "output_type": "stream",
          "name": "stdout",
          "text": [
            "Resultado con Gauss-Seidel:\n",
            "x ≈ [ 0.17543651 -0.02061597  0.16267602  0.23302656 -0.08221906]\n",
            "Iteraciones: 10\n",
            "Residuo final ||Ax - b||_∞: 3.5544649001906237e-08\n",
            "\n",
            "Errores relativos:\n",
            "Respecto a np.linalg.solve: 3.8411002937353096e-08\n",
            "Respecto a A^{-1}b: 3.8411002952241725e-08\n"
          ]
        }
      ]
    },
    {
      "cell_type": "markdown",
      "source": [
        "#4 Método de potencias para el valor propio dominante\n",
        "\n",
        "Sea \\$A\\in\\mathbb{R}^{n\\times n}\\$ diagonalizable con valor propio dominante \\$\\lambda\\_{\\max}\\$ (en magnitud) y vector propio asociado \\$v\\_{\\max}\\$.\n",
        "\n",
        "El método de potencias genera, a partir de un vector inicial \\$q^{(0)}\\neq 0\\$, la sucesión\n",
        "\n",
        "$$\n",
        "q^{(k+1)} \\;=\\; \\frac{A\\,q^{(k)}}{\\lVert A\\,q^{(k)}\\rVert_2},\n",
        "\\qquad\n",
        "\\lambda^{(k+1)} \\;=\\; (q^{(k+1)})^{\\!\\top} A\\, q^{(k+1)},\n",
        "$$\n",
        "\n",
        "que converge a \\$v\\_{\\max}/\\lVert v\\_{\\max}\\rVert\\_2\\$ y a \\$\\lambda\\_{\\max}\\$ respectivamente, bajo hipótesis estándar.\n",
        "\n",
        "Implemente `power_method(A, tol=1e-7, max_iter=1000)` que:\n",
        "\n",
        "   * Acepte matrices reales cuadradas,\n",
        "   * Devuelva \\$\\lambda\\_{\\max}\\$, el vector propio normalizado \\$v\\_{\\max}\\$, el número de iteraciones y la última variación relativa de \\$\\lambda\\$,\n",
        "   * detenga la iteración cuando\n",
        "     $\\bigl|\\lambda^{(k+1)}-\\lambda^{(k)}\\bigr|<\\text{tol}\\,|\\lambda^{(k+1)}|$\n",
        "     o se alcance `max_iter`.\n",
        "\n",
        "Luego,\n",
        "   * Genere una matriz simétrica aleatoria \\$6\\times6\\$ (por ejemplo, \\$A = (M+M^\\top)/2\\$ con \\$M\\$ aleatoria).\n",
        "   * Aplique su `power_method` y compare \\$\\lambda\\_{\\max}\\$ y \\$v\\_{\\max}\\$ con los resultados de `numpy.linalg.eig`."
      ],
      "metadata": {
        "id": "REVJcqYtnmM-"
      }
    },
    {
      "cell_type": "code",
      "source": [
        "def power_method(A, tol=1e-7, max_iter=1000):\n",
        "    \"\"\"\n",
        "    Calcula el valor propio dominante y su vector propio asociado normalizado\n",
        "    usando el método de potencias.\n",
        "\n",
        "    Parámetros:\n",
        "    A : np.ndarray\n",
        "        Matriz cuadrada real de tamaño (n, n).\n",
        "    tol : float, opcional\n",
        "        Tolerancia relativa para el cambio en el valor propio.\n",
        "    max_iter : int, opcional\n",
        "        Número máximo de iteraciones.\n",
        "\n",
        "    Retorna:\n",
        "    lambda_max : float\n",
        "        Valor propio dominante aproximado.\n",
        "    v_max : np.ndarray\n",
        "        Vector propio asociado (normalizado en norma 2).\n",
        "    num_iter : int\n",
        "        Número de iteraciones realizadas.\n",
        "    delta_lambda : float\n",
        "        Última variación relativa de λ.\n",
        "    \"\"\"\n",
        "    n, m = A.shape\n",
        "    if n != m:\n",
        "        raise ValueError(\"La matriz A debe ser cuadrada.\")\n",
        "\n",
        "    # Vector inicial aleatorio normalizado\n",
        "    q = np.random.rand(n)\n",
        "    q = q / np.linalg.norm(q)\n",
        "\n",
        "    lambda_old = 0.0\n",
        "\n",
        "    for k in range(max_iter):\n",
        "        z = A @ q\n",
        "        q = z / np.linalg.norm(z)  # normalizar\n",
        "        lambda_new = q.T @ A @ q\n",
        "\n",
        "        # Variación relativa\n",
        "        delta_lambda = np.abs(lambda_new - lambda_old)\n",
        "        if np.abs(lambda_new) > 0:\n",
        "            delta_lambda /= np.abs(lambda_new)\n",
        "\n",
        "        if delta_lambda < tol:\n",
        "            return lambda_new, q, k + 1, delta_lambda\n",
        "\n",
        "        lambda_old = lambda_new\n",
        "\n",
        "    return lambda_new, q, max_iter, delta_lambda"
      ],
      "metadata": {
        "id": "lPzFAOE7obZY"
      },
      "execution_count": 26,
      "outputs": []
    },
    {
      "cell_type": "code",
      "source": [
        "# Generar matriz simétrica aleatoria\n",
        "np.random.seed(42)\n",
        "M = np.random.rand(6, 6)\n",
        "A = (M + M.T) / 2  # A es simétrica\n",
        "\n",
        "# Aplicar método de potencias\n",
        "lambda_max, v_max, iters, delta = power_method(A)\n",
        "\n",
        "# Comparar con numpy.linalg.eig\n",
        "eigvals, eigvecs = np.linalg.eig(A)\n",
        "idx_dominante = np.argmax(np.abs(eigvals))\n",
        "lambda_dominante_numpy = eigvals[idx_dominante]\n",
        "v_dominante_numpy = eigvecs[:, idx_dominante]\n",
        "v_dominante_numpy /= np.linalg.norm(v_dominante_numpy)  # Normalizar"
      ],
      "metadata": {
        "id": "eQkFFieo8lM-"
      },
      "execution_count": 27,
      "outputs": []
    },
    {
      "cell_type": "code",
      "source": [
        "M"
      ],
      "metadata": {
        "colab": {
          "base_uri": "https://localhost:8080/"
        },
        "id": "nWH9VER08xi8",
        "outputId": "4c25c7af-a128-4d20-b0de-119ea9c04986"
      },
      "execution_count": 30,
      "outputs": [
        {
          "output_type": "execute_result",
          "data": {
            "text/plain": [
              "array([[0.37454012, 0.95071431, 0.73199394, 0.59865848, 0.15601864,\n",
              "        0.15599452],\n",
              "       [0.05808361, 0.86617615, 0.60111501, 0.70807258, 0.02058449,\n",
              "        0.96990985],\n",
              "       [0.83244264, 0.21233911, 0.18182497, 0.18340451, 0.30424224,\n",
              "        0.52475643],\n",
              "       [0.43194502, 0.29122914, 0.61185289, 0.13949386, 0.29214465,\n",
              "        0.36636184],\n",
              "       [0.45606998, 0.78517596, 0.19967378, 0.51423444, 0.59241457,\n",
              "        0.04645041],\n",
              "       [0.60754485, 0.17052412, 0.06505159, 0.94888554, 0.96563203,\n",
              "        0.80839735]])"
            ]
          },
          "metadata": {},
          "execution_count": 30
        }
      ]
    },
    {
      "cell_type": "code",
      "source": [
        "print(\"Resultado del método de potencias:\")\n",
        "print(f\"λ_max ≈ {lambda_max:.6f}\")\n",
        "print(f\"Vector propio v_max ≈ {v_max}\")\n",
        "print(f\"Iteraciones: {iters}\")\n",
        "print(f\"Variación relativa final: {delta:.2e}\")\n",
        "\n",
        "print(\"\\nComparación con numpy.linalg.eig:\")\n",
        "print(f\"λ_max (eig) ≈ {lambda_dominante_numpy:.6f}\")\n",
        "print(f\"v_max (eig) ≈ {v_dominante_numpy}\")\n",
        "\n",
        "# Error relativo\n",
        "error_valor = np.abs(lambda_max - lambda_dominante_numpy) / np.abs(lambda_dominante_numpy)\n",
        "error_vector = np.linalg.norm(np.abs(v_max) - np.abs(v_dominante_numpy))  # hasta el signo puede variar\n",
        "\n",
        "print(f\"\\nError relativo en valor propio: {error_valor:.2e}\")\n",
        "print(f\"Error (norma L2) en vector propio: {error_vector:.2e}\")"
      ],
      "metadata": {
        "colab": {
          "base_uri": "https://localhost:8080/"
        },
        "id": "3HyNXWOE8oza",
        "outputId": "12ebcb03-c30b-4448-8017-22dbd34a1b50"
      },
      "execution_count": 31,
      "outputs": [
        {
          "output_type": "stream",
          "name": "stdout",
          "text": [
            "Resultado del método de potencias:\n",
            "λ_max ≈ 2.835153\n",
            "Vector propio v_max ≈ [0.40258952 0.47908181 0.33574933 0.38350287 0.3542382  0.47235107]\n",
            "Iteraciones: 6\n",
            "Variación relativa final: 7.89e-09\n",
            "\n",
            "Comparación con numpy.linalg.eig:\n",
            "λ_max (eig) ≈ 2.835153\n",
            "v_max (eig) ≈ [-0.40259498 -0.4790814  -0.3357358  -0.38350111 -0.3542414  -0.47235548]\n",
            "\n",
            "Error relativo en valor propio: 2.70e-10\n",
            "Error (norma L2) en vector propio: 1.57e-05\n"
          ]
        }
      ]
    },
    {
      "cell_type": "code",
      "source": [
        "def power_method_convergencia(A, tol=1e-7, max_iter=1000):\n",
        "    \"\"\"\n",
        "    Método de potencias con historial de convergencia del valor propio.\n",
        "\n",
        "    Retorna:\n",
        "    lambda_max : float\n",
        "        Valor propio dominante aproximado.\n",
        "    v_max : np.ndarray\n",
        "        Vector propio asociado (normalizado en norma 2).\n",
        "    num_iter : int\n",
        "        Número de iteraciones realizadas.\n",
        "    delta_lambda : float\n",
        "        Última variación relativa.\n",
        "    lambdas : list\n",
        "        Lista con los valores propios en cada iteración.\n",
        "    \"\"\"\n",
        "    n, m = A.shape\n",
        "    if n != m:\n",
        "        raise ValueError(\"La matriz A debe ser cuadrada.\")\n",
        "\n",
        "    q = np.random.rand(n)\n",
        "    q = q / np.linalg.norm(q)\n",
        "\n",
        "    lambda_old = 0.0\n",
        "    lambdas = []\n",
        "\n",
        "    for k in range(max_iter):\n",
        "        z = A @ q\n",
        "        q = z / np.linalg.norm(z)\n",
        "        lambda_new = q.T @ A @ q\n",
        "        lambdas.append(lambda_new)\n",
        "\n",
        "        delta_lambda = np.abs(lambda_new - lambda_old)\n",
        "        if np.abs(lambda_new) > 0:\n",
        "            delta_lambda /= np.abs(lambda_new)\n",
        "\n",
        "        if delta_lambda < tol:\n",
        "            return lambda_new, q, k + 1, delta_lambda, lambdas\n",
        "\n",
        "        lambda_old = lambda_new\n",
        "\n",
        "    return lambda_new, q, max_iter, delta_lambda, lambdas"
      ],
      "metadata": {
        "id": "sIgCS7_s8_R2"
      },
      "execution_count": 32,
      "outputs": []
    },
    {
      "cell_type": "code",
      "source": [
        "# Generar matriz simétrica aleatoria\n",
        "np.random.seed(42)\n",
        "M = np.random.rand(6, 6)\n",
        "A = (M + M.T) / 2\n",
        "\n",
        "# Ejecutar el método\n",
        "lambda_max, v_max, iters, delta, lambdas = power_method_convergencia(A)\n",
        "\n",
        "# Graficar\n",
        "plt.figure(figsize=(8, 5))\n",
        "plt.plot(range(1, len(lambdas)+1), lambdas, marker='o', linestyle='-', color='purple')\n",
        "plt.axhline(y=lambda_max, color='gray', linestyle='--', label=f'λ final ≈ {lambda_max:.6f}')\n",
        "plt.title(\"Convergencia del valor propio dominante (Método de Potencias)\")\n",
        "plt.xlabel(\"Iteración\")\n",
        "plt.ylabel(\"λ dominante aproximado\")\n",
        "plt.grid(True)\n",
        "plt.legend()\n",
        "plt.tight_layout()\n",
        "plt.show()"
      ],
      "metadata": {
        "colab": {
          "base_uri": "https://localhost:8080/",
          "height": 506
        },
        "id": "E4t2pHOW9DI_",
        "outputId": "472a2044-ff74-42a0-821b-b302ce9a40f0"
      },
      "execution_count": 33,
      "outputs": [
        {
          "output_type": "display_data",
          "data": {
            "text/plain": [
              "<Figure size 800x500 with 1 Axes>"
            ],
            "image/png": "[encoded data removed]"
          },
          "metadata": {}
        }
      ]
    },
    {
      "cell_type": "markdown",
      "source": [
        "#5\n",
        "\n",
        "Verifique que cualquier matriz hermitiana de 2 × 2 $ L $ puede escribirse como una suma de cuatro términos:\n",
        "\n",
        "$$ L = a\\sigma_x + b\\sigma_y + c\\sigma_z + dI $$\n",
        "\n",
        "donde $ a $, $ b $, $ c $ y $ d $ son números reales.\n",
        "\n",
        "Las cuatro matrices de Pauli son:\n",
        "\n",
        "$$ \\sigma_x = \\begin{pmatrix} 0 & 1 \\\\ 1 & 0 \\end{pmatrix}, \\quad \\sigma_y = \\begin{pmatrix} 0 & -i \\\\ i & 0 \\end{pmatrix}, \\quad \\sigma_z = \\begin{pmatrix} 1 & 0 \\\\ 0 & -1 \\end{pmatrix}, \\quad I = \\begin{pmatrix} 1 & 0 \\\\ 0 & 1 \\end{pmatrix} $$\n",
        "\n",
        "\n"
      ],
      "metadata": {
        "id": "iggu2jNwVpnK"
      }
    },
    {
      "cell_type": "code",
      "source": [
        "def pauli_decomposition(L):\n",
        "    \"\"\"\n",
        "    Descompone una matriz hermitiana 2x2 como combinación lineal real\n",
        "    de las matrices de Pauli y la identidad:\n",
        "        L = a*σ_x + b*σ_y + c*σ_z + d*I\n",
        "\n",
        "    Parámetros:\n",
        "    L : ndarray de dimensión (2,2)\n",
        "        Matriz hermitiana a descomponer.\n",
        "\n",
        "    Retorna:\n",
        "    a, b, c, d : float\n",
        "        Coeficientes reales de la combinación lineal.\n",
        "    \"\"\"\n",
        "\n",
        "    # Matrices de Pauli y la identidad\n",
        "    sigma_x = np.array([[0, 1], [1, 0]], dtype=complex)\n",
        "    sigma_y = np.array([[0, -1j], [1j, 0]], dtype=complex)\n",
        "    sigma_z = np.array([[1, 0], [0, -1]], dtype=complex)\n",
        "    I = np.eye(2, dtype=complex)\n",
        "\n",
        "    # Cálculo de los coeficientes reales\n",
        "    a = 0.5 * np.trace(L @ sigma_x).real\n",
        "    b = 0.5 * np.trace(L @ sigma_y).real\n",
        "    c = 0.5 * np.trace(L @ sigma_z).real\n",
        "    d = 0.5 * np.trace(L @ I).real / 2\n",
        "\n",
        "    # Verificación\n",
        "    L_rec = a * sigma_x + b * sigma_y + c * sigma_z + d * I\n",
        "\n",
        "    print(\"Coeficientes:\")\n",
        "    print(f\"a = {a:.4f}, b = {b:.4f}, c = {c:.4f}, d = {d:.4f}\")\n",
        "    print(\"\\nReconstrucción de L (L_rec):\")\n",
        "    print(L_rec)\n",
        "    print(\"\\n¿L ≈ L_rec?:\", np.allclose(L, L_rec))\n",
        "\n",
        "    return a, b, c, d\n",
        "\n",
        "# Ejemplo: matriz hermitiana aleatoria\n",
        "np.random.seed(0)\n",
        "re = np.random.randn(2, 2)\n",
        "im = np.random.randn(2, 2)\n",
        "L_random = re + 1j * im\n",
        "L_hermitian = (L_random + L_random.conj().T) / 2\n",
        "\n",
        "print(\"Matriz hermitiana L:\")\n",
        "print(L_hermitian)\n",
        "\n",
        "# Aplicar descomposición\n",
        "pauli_decomposition(L_hermitian)"
      ],
      "metadata": {
        "id": "8WN9_cOCV7cM",
        "colab": {
          "base_uri": "https://localhost:8080/"
        },
        "outputId": "c6806616-c51b-4aeb-e4c9-7311e44c98a5"
      },
      "execution_count": 34,
      "outputs": [
        {
          "output_type": "stream",
          "name": "stdout",
          "text": [
            "Matriz hermitiana L:\n",
            "[[1.76405235+0.j         0.6894476 -0.96368315j]\n",
            " [0.6894476 +0.96368315j 2.2408932 +0.j        ]]\n",
            "Coeficientes:\n",
            "a = 0.6894, b = 0.9637, c = -0.2384, d = 1.0012\n",
            "\n",
            "Reconstrucción de L (L_rec):\n",
            "[[0.76281596+0.j         0.6894476 -0.96368315j]\n",
            " [0.6894476 +0.96368315j 1.23965681+0.j        ]]\n",
            "\n",
            "¿L ≈ L_rec?: False\n"
          ]
        },
        {
          "output_type": "execute_result",
          "data": {
            "text/plain": [
              "(np.float64(0.6894475962364812),\n",
              " np.float64(0.9636831487010002),\n",
              " np.float64(-0.23842042661689689),\n",
              " np.float64(1.0012363862922804))"
            ]
          },
          "metadata": {},
          "execution_count": 34
        }
      ]
    },
    {
      "cell_type": "markdown",
      "source": [
        "# 6\n",
        "\n",
        "Haga un breve resumen en Markdown de las funciones y métodos más relevantes para algebra lineal usando Python. Emplee ejemplos."
      ],
      "metadata": {
        "id": "GnCw5_O5pMxl"
      }
    },
    {
      "cell_type": "markdown",
      "source": [
        "**Álgebra Lineal en Python con numpy y scipy.linalg**\n",
        "\n",
        "Python ofrece potentes herramientas para realizar operaciones de álgebra lineal. Las librerías más utilizadas son:\n",
        "\n",
        "\t•\tnumpy\n",
        "  \n",
        "\t•\tscipy.linalg\n"
      ],
      "metadata": {
        "id": "DDNtLymn-EAN"
      }
    },
    {
      "cell_type": "markdown",
      "source": [
        "**1. Producto punto y norma**\n",
        "\n",
        "\t•\tnp.dot(a, b) o a @ b: Producto punto o producto matricial.\n",
        "\n",
        "\t•\tnp.linalg.norm(v): Norma (longitud) de un vector."
      ],
      "metadata": {
        "id": "4AzKvSWX-Kbu"
      }
    },
    {
      "cell_type": "code",
      "source": [
        "v = np.array([1, 2, 3])\n",
        "w = np.array([4, 5, 6])\n",
        "dot_product = np.dot(v, w)\n",
        "norm_v = np.linalg.norm(v)"
      ],
      "metadata": {
        "id": "djdVPgpoparm"
      },
      "execution_count": 35,
      "outputs": []
    },
    {
      "cell_type": "code",
      "source": [
        "dot_product"
      ],
      "metadata": {
        "colab": {
          "base_uri": "https://localhost:8080/"
        },
        "id": "tdH8cB0m-VwV",
        "outputId": "2ed0e2f7-84f1-42e9-a877-d41608cb9be3"
      },
      "execution_count": 37,
      "outputs": [
        {
          "output_type": "execute_result",
          "data": {
            "text/plain": [
              "np.int64(32)"
            ]
          },
          "metadata": {},
          "execution_count": 37
        }
      ]
    },
    {
      "cell_type": "code",
      "source": [
        "norm_v"
      ],
      "metadata": {
        "colab": {
          "base_uri": "https://localhost:8080/"
        },
        "id": "ubXTFUs9-ZuH",
        "outputId": "f6188090-8103-432d-ad78-5d6624afbd19"
      },
      "execution_count": 38,
      "outputs": [
        {
          "output_type": "execute_result",
          "data": {
            "text/plain": [
              "np.float64(3.7416573867739413)"
            ]
          },
          "metadata": {},
          "execution_count": 38
        }
      ]
    },
    {
      "cell_type": "markdown",
      "source": [
        "**2. Sistemas lineales**\n",
        "\n",
        "\t•\tnp.linalg.solve(A, b): Resuelve el sistema Ax = b."
      ],
      "metadata": {
        "id": "mpOSOgxp-buv"
      }
    },
    {
      "cell_type": "code",
      "source": [
        "A = np.array([[2, 1], [1, 3]])\n",
        "b = np.array([8, 13])\n",
        "x = np.linalg.solve(A, b)"
      ],
      "metadata": {
        "id": "Tdjl5T0f-flz"
      },
      "execution_count": 39,
      "outputs": []
    },
    {
      "cell_type": "code",
      "source": [
        "x"
      ],
      "metadata": {
        "colab": {
          "base_uri": "https://localhost:8080/"
        },
        "id": "2IjNtt8d-hbs",
        "outputId": "27482a85-5d4e-4c3f-b3f8-72bf7a46d120"
      },
      "execution_count": 40,
      "outputs": [
        {
          "output_type": "execute_result",
          "data": {
            "text/plain": [
              "array([2.2, 3.6])"
            ]
          },
          "metadata": {},
          "execution_count": 40
        }
      ]
    },
    {
      "cell_type": "markdown",
      "source": [
        "**3. Determinante y traza**\n",
        "\n",
        "\t•\tnp.linalg.det(A): Determinante de una matriz.\n",
        "\n",
        "\t•\tnp.trace(A): Traza (suma de la diagonal)."
      ],
      "metadata": {
        "id": "8h3bT63R-mA7"
      }
    },
    {
      "cell_type": "code",
      "source": [
        "A = np.array([[1, 2], [3, 4]])\n",
        "det = np.linalg.det(A)\n",
        "trace = np.trace(A)"
      ],
      "metadata": {
        "id": "tfD3yeEY-iSX"
      },
      "execution_count": 41,
      "outputs": []
    },
    {
      "cell_type": "code",
      "source": [
        "det"
      ],
      "metadata": {
        "colab": {
          "base_uri": "https://localhost:8080/"
        },
        "id": "NVD-4CcS-sAq",
        "outputId": "3e9b7e90-5bd3-4109-e637-119378dd79d1"
      },
      "execution_count": 42,
      "outputs": [
        {
          "output_type": "execute_result",
          "data": {
            "text/plain": [
              "np.float64(-2.0000000000000004)"
            ]
          },
          "metadata": {},
          "execution_count": 42
        }
      ]
    },
    {
      "cell_type": "code",
      "source": [
        "trace"
      ],
      "metadata": {
        "colab": {
          "base_uri": "https://localhost:8080/"
        },
        "id": "BPenoYkb-tTu",
        "outputId": "78b2bf4f-02ef-401e-a291-5affc1965c97"
      },
      "execution_count": 43,
      "outputs": [
        {
          "output_type": "execute_result",
          "data": {
            "text/plain": [
              "np.int64(5)"
            ]
          },
          "metadata": {},
          "execution_count": 43
        }
      ]
    },
    {
      "cell_type": "markdown",
      "source": [
        "**4. Inversa y transpuesta**\n",
        "\n",
        "\t•\tnp.linalg.inv(A): Inversa de una matriz.\n",
        "\n",
        "\t•\tA.T: Transpuesta de una matriz."
      ],
      "metadata": {
        "id": "9deDq8dD-uzn"
      }
    },
    {
      "cell_type": "code",
      "source": [
        "A = np.array([[1, 2], [3, 4]])\n",
        "A_inv = np.linalg.inv(A)\n",
        "A_T = A.T"
      ],
      "metadata": {
        "id": "pzJuD8ek-zQy"
      },
      "execution_count": 44,
      "outputs": []
    },
    {
      "cell_type": "code",
      "source": [
        "A_inv"
      ],
      "metadata": {
        "colab": {
          "base_uri": "https://localhost:8080/"
        },
        "id": "s6ta86zt-1St",
        "outputId": "8c55e606-148a-4847-df87-867b4594a3d6"
      },
      "execution_count": 45,
      "outputs": [
        {
          "output_type": "execute_result",
          "data": {
            "text/plain": [
              "array([[-2. ,  1. ],\n",
              "       [ 1.5, -0.5]])"
            ]
          },
          "metadata": {},
          "execution_count": 45
        }
      ]
    },
    {
      "cell_type": "code",
      "source": [
        "A_T"
      ],
      "metadata": {
        "colab": {
          "base_uri": "https://localhost:8080/"
        },
        "id": "2nFO3Vzb-2vz",
        "outputId": "b6d59631-b786-4e81-8f07-90ba196e2080"
      },
      "execution_count": 46,
      "outputs": [
        {
          "output_type": "execute_result",
          "data": {
            "text/plain": [
              "array([[1, 3],\n",
              "       [2, 4]])"
            ]
          },
          "metadata": {},
          "execution_count": 46
        }
      ]
    },
    {
      "cell_type": "markdown",
      "source": [
        "**5. Autovalores y autovectores**\n",
        "\n",
        "\t•\tnp.linalg.eig(A): Devuelve autovalores y autovectores.\n",
        "\n",
        "\t•\tla.eigh(A): Para matrices simétricas o hermitianas."
      ],
      "metadata": {
        "id": "FvHzEEsW-6Xn"
      }
    },
    {
      "cell_type": "code",
      "source": [
        "A = np.array([[2, 0], [0, 3]])\n",
        "lambdas, vectors = np.linalg.eig(A)"
      ],
      "metadata": {
        "id": "qfcauH6x_N9r"
      },
      "execution_count": 48,
      "outputs": []
    },
    {
      "cell_type": "code",
      "source": [
        "lambdas"
      ],
      "metadata": {
        "colab": {
          "base_uri": "https://localhost:8080/"
        },
        "id": "uqOooYpG_jdR",
        "outputId": "c5b55bc3-1183-4110-fe98-92f62aed5004"
      },
      "execution_count": 50,
      "outputs": [
        {
          "output_type": "execute_result",
          "data": {
            "text/plain": [
              "array([2., 3.])"
            ]
          },
          "metadata": {},
          "execution_count": 50
        }
      ]
    },
    {
      "cell_type": "code",
      "source": [
        "vectors"
      ],
      "metadata": {
        "colab": {
          "base_uri": "https://localhost:8080/"
        },
        "id": "blqO6bNr_o1J",
        "outputId": "db3d3ed5-90c2-4d9f-8539-cbe493e98ad5"
      },
      "execution_count": 51,
      "outputs": [
        {
          "output_type": "execute_result",
          "data": {
            "text/plain": [
              "array([[1., 0.],\n",
              "       [0., 1.]])"
            ]
          },
          "metadata": {},
          "execution_count": 51
        }
      ]
    },
    {
      "cell_type": "markdown",
      "source": [
        "**6. Descomposición LU, QR y SVD**\n",
        "\n",
        "\t•\tla.lu(A): Descomposición LU → PA = LU\n",
        "\n",
        "\t•\tnp.linalg.qr(A): Descomposición QR → A = QR\n",
        "\n",
        "\t•\tnp.linalg.svd(A): Descomposición en valores singulares (SVD)"
      ],
      "metadata": {
        "id": "obf9mUNZ_UH3"
      }
    },
    {
      "cell_type": "code",
      "source": [
        "# LU\n",
        "P, L, U = la.lu(np.array([[4, 3], [6, 3]]))\n",
        "\n",
        "# QR\n",
        "Q, R = np.linalg.qr(np.array([[1, 1], [1, -1]]))\n",
        "\n",
        "# SVD\n",
        "U, S, Vt = np.linalg.svd(np.array([[1, 0], [0, -2]]))"
      ],
      "metadata": {
        "id": "KDlCwWbD_Yp7"
      },
      "execution_count": 52,
      "outputs": []
    },
    {
      "cell_type": "code",
      "source": [
        "P, L, U"
      ],
      "metadata": {
        "colab": {
          "base_uri": "https://localhost:8080/"
        },
        "id": "kfhj76dd_uAI",
        "outputId": "2816fde6-b5e2-4cd1-9f62-64698d1df2fa"
      },
      "execution_count": 53,
      "outputs": [
        {
          "output_type": "execute_result",
          "data": {
            "text/plain": [
              "(array([[0., 1.],\n",
              "        [1., 0.]]),\n",
              " array([[1.        , 0.        ],\n",
              "        [0.66666667, 1.        ]]),\n",
              " array([[0., 1.],\n",
              "        [1., 0.]]))"
            ]
          },
          "metadata": {},
          "execution_count": 53
        }
      ]
    },
    {
      "cell_type": "code",
      "source": [
        "Q, R"
      ],
      "metadata": {
        "colab": {
          "base_uri": "https://localhost:8080/"
        },
        "id": "SbETPxPZ_2DJ",
        "outputId": "d7779cc2-64c3-4381-fa8e-f7b175451168"
      },
      "execution_count": 54,
      "outputs": [
        {
          "output_type": "execute_result",
          "data": {
            "text/plain": [
              "(array([[-0.70710678, -0.70710678],\n",
              "        [-0.70710678,  0.70710678]]),\n",
              " array([[-1.41421356e+00,  3.33066907e-16],\n",
              "        [ 0.00000000e+00, -1.41421356e+00]]))"
            ]
          },
          "metadata": {},
          "execution_count": 54
        }
      ]
    },
    {
      "cell_type": "code",
      "source": [
        "U, S, Vt"
      ],
      "metadata": {
        "colab": {
          "base_uri": "https://localhost:8080/"
        },
        "id": "4kGZ76fD_3gy",
        "outputId": "d0fe3b02-f033-43f3-b495-96c497aee92d"
      },
      "execution_count": 55,
      "outputs": [
        {
          "output_type": "execute_result",
          "data": {
            "text/plain": [
              "(array([[0., 1.],\n",
              "        [1., 0.]]),\n",
              " array([2., 1.]),\n",
              " array([[-0., -1.],\n",
              "        [ 1.,  0.]]))"
            ]
          },
          "metadata": {},
          "execution_count": 55
        }
      ]
    },
    {
      "cell_type": "markdown",
      "source": [
        "**7. Matrices especiales**\n",
        "\n",
        "\t•\tnp.eye(n): Matriz identidad de tamaño n\n",
        "\n",
        "\t•\tnp.zeros((m, n)): Matriz de ceros\n",
        "\n",
        "\t•\tnp.ones((m, n)): Matriz de unos\n",
        "\n",
        "\t•\tnp.diag(v): Crea matriz diagonal con elementos de v"
      ],
      "metadata": {
        "id": "nDabrqzW_560"
      }
    },
    {
      "cell_type": "code",
      "source": [
        "I = np.eye(3)\n",
        "Z = np.zeros((2, 2))\n",
        "D = np.diag([1, 2, 3])"
      ],
      "metadata": {
        "id": "9XdzWyHW__Jv"
      },
      "execution_count": 57,
      "outputs": []
    },
    {
      "cell_type": "code",
      "source": [
        "I"
      ],
      "metadata": {
        "colab": {
          "base_uri": "https://localhost:8080/"
        },
        "id": "Mn1OpGeUALLj",
        "outputId": "a1ad39f3-c059-4693-b46e-9b374eb61a56"
      },
      "execution_count": 58,
      "outputs": [
        {
          "output_type": "execute_result",
          "data": {
            "text/plain": [
              "array([[1., 0., 0.],\n",
              "       [0., 1., 0.],\n",
              "       [0., 0., 1.]])"
            ]
          },
          "metadata": {},
          "execution_count": 58
        }
      ]
    },
    {
      "cell_type": "code",
      "source": [
        "Z"
      ],
      "metadata": {
        "colab": {
          "base_uri": "https://localhost:8080/"
        },
        "id": "6QySrbo_AMLj",
        "outputId": "c2462026-f811-4c78-ee4b-d812d1b24092"
      },
      "execution_count": 59,
      "outputs": [
        {
          "output_type": "execute_result",
          "data": {
            "text/plain": [
              "array([[0., 0.],\n",
              "       [0., 0.]])"
            ]
          },
          "metadata": {},
          "execution_count": 59
        }
      ]
    },
    {
      "cell_type": "code",
      "source": [
        "D"
      ],
      "metadata": {
        "colab": {
          "base_uri": "https://localhost:8080/"
        },
        "id": "La6pkSfvAM_6",
        "outputId": "c2f2e103-d441-4a2a-ba57-cfbbb2c70b9d"
      },
      "execution_count": 60,
      "outputs": [
        {
          "output_type": "execute_result",
          "data": {
            "text/plain": [
              "array([[1, 0, 0],\n",
              "       [0, 2, 0],\n",
              "       [0, 0, 3]])"
            ]
          },
          "metadata": {},
          "execution_count": 60
        }
      ]
    }
  ]
}