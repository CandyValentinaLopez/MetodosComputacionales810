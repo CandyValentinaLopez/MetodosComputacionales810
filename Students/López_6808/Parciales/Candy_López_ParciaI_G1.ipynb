{
  "nbformat": 4,
  "nbformat_minor": 0,
  "metadata": {
    "colab": {
      "provenance": []
    },
    "kernelspec": {
      "name": "python3",
      "display_name": "Python 3"
    },
    "language_info": {
      "name": "python"
    }
  },
  "cells": [
    {
      "cell_type": "markdown",
      "source": [
        "# Parcial I - Métodos Computacionales\n",
        "\n",
        "**2025-1**\n",
        "\n",
        "---\n",
        "\n",
        "Nombre: Candy Valentina López Villanueva\n",
        "\n",
        "Identificación: 1106226808\n",
        "\n",
        "---\n",
        "\n",
        "* ⚠ Explique su código usando con comentarios,\n",
        "\n",
        "* ❗Todas las funciones deben tener documentación básica,\n",
        "\n",
        "* 🛑 El uso de IA's no está permitido,\n",
        "\n",
        "* ⚛ La interpretación del enunciado hace parte de la evaluación,\n",
        "\n",
        "* ⏲ Este parcial tiene una duración de 2 horas"
      ],
      "metadata": {
        "id": "bcIQtfNJ4sBq"
      }
    },
    {
      "cell_type": "code",
      "source": [
        "# Librerias\n",
        "import numpy as np\n",
        "import matplotlib.pyplot as plt\n",
        "import pandas as pd\n",
        "from math import factorial\n",
        "from scipy.optimize import root_scalar, newton, bisect # Funciones para raices\n",
        "\n",
        "## Ayudas\n",
        "# np.sign (Signo de una variable)\n",
        "# np.deg2rad (Convertir grados a radianes)\n",
        "# pd.Dataframe Genera un dataframe a partir de un diccionario o listas\n",
        "# df['Columna'] == valor (Crea un filtro para buscar el valor)\n",
        "# range(0, 10, 2) (Pasos de 2 comenzando en 0 hasta 10)"
      ],
      "metadata": {
        "id": "-86TwvuE48Kp"
      },
      "execution_count": 22,
      "outputs": []
    },
    {
      "cell_type": "markdown",
      "source": [
        "# 1\n",
        "\n",
        "**(40 puntos)** El **método de Steffensen** es un algoritmo iterativo para encontrar raíces de ecuaciones no lineales de la forma:\n",
        "\n",
        "$$\n",
        "f(x) = 0.\n",
        "$$\n",
        "\n",
        "Se basa en aplicar una **aceleración cuadrática** al método de punto fijo, sin necesidad de calcular derivadas, a diferencia del método de Newton.\n",
        "\n",
        "---\n",
        "### Pasos para implementar\n",
        "\n",
        "1. **Definir la función** $f(x)$ cuya raíz se desea encontrar.\n",
        "\n",
        "   - Se busca una raíz $\\alpha$ tal que $f(\\alpha) = 0$.\n",
        "\n",
        "2. **Elegir una aproximación inicial** $x_0$ razonablemente cercana a la raíz.\n",
        "\n",
        "3. **Aplicar la iteración de Steffensen**:\n",
        "\n",
        "   Para cada iteración $n$, calcular:\n",
        "\n",
        "   $$\n",
        "   y_n = x_n + f(x_n)\n",
        "   $$\n",
        "\n",
        "   $$\n",
        "   x_{n+1} = x_n - \\frac{f(x_n)^2}{f(y_n) - f(x_n)}\n",
        "   $$\n",
        "\n",
        "   Asegurarse de que $f(y_n) \\ne f(x_n)$ para evitar división por cero.\n",
        "\n",
        "4. **Evaluar el criterio de convergencia**:\n",
        "\n",
        "   - Repetir el paso 3 hasta que se cumpla\n",
        "     - $|x_{n+1} - x_n| < \\varepsilon$ (precisión sobre el valor de la raíz).\n",
        "\n",
        "     donde $\\varepsilon$ son tolerancias pequeñas definidas por el usuario.\n",
        "\n",
        "5. **Resultado final**:\n",
        "\n",
        "   - Cuando se cumple el criterio de convergencia, tomar $x_{n+1}$ como una aproximación a la raíz de $f(x) = 0$.\n",
        "\n",
        "---\n",
        "\n",
        "\n",
        "* Defina una función llamada `Steffensen` que calcule la raiz de una función dada. Su función debe tener documentación y retornar el valor de la raiz junto con el número de iteraciones empleadas para alcanzar la convergencia dada una tolerancia.\n",
        "\n",
        "* Usando\n",
        "$$\\cos(x) = x^2,$$\n",
        "\n",
        "Grafique la función para $0\\leq x \\leq \\pi/2$ usando 100 puntos. Luego, cree un DataFrame llamado `df` con los datos de $x$ y $f(x)$  encuentre una primera aproximación a la raiz aplicando un filtro en el dataframe con los valores más cercanos a cero.\n",
        "\n",
        "* Usando el método de Steffensen encuentre la raiz númericamente y compare su resultado usando el método de bisección y secante.\n",
        "\n",
        "* Para las siguientes tolerancias (ver código) realice un gráfico usando escala logaritimica en $y$ de cuantas iteraciones son necesarias hasta alcanzar la convergencia. ¿Qué puede concluir acerca de la misma?\n",
        "\n",
        "```python\n",
        "# Tolerancias\n",
        "tol = np.logspace(-1, -10, 10)\n",
        "\n",
        "# Grafico semilog\n",
        "\n",
        "plt.semilogy(N, tol)\n",
        "\n",
        "```"
      ],
      "metadata": {
        "id": "rNIchL-H5ZII"
      }
    },
    {
      "cell_type": "code",
      "source": [
        "# Aquí va su código\n",
        "def Steffensen(f, x0, tol=1e-8, max_iter=100):\n",
        "    \"\"\"\n",
        "    Método de Steffensen para encontrar la raíz de una función f(x) = 0.\n",
        "\n",
        "    Parámetros:\n",
        "    - f: función a evaluar.\n",
        "    - x0: valor inicial.\n",
        "    - tol: tolerancia para el criterio de convergencia.\n",
        "    - max_iter: número máximo de iteraciones permitidas.\n",
        "\n",
        "    Retorna:\n",
        "    - x: la raíz aproximada.\n",
        "    - n: el número de iteraciones necesarias para alcanzar la tolerancia.\n",
        "    \"\"\"\n",
        "    for n in range(1, max_iter + 1):\n",
        "        fx = f(x0)\n",
        "        y = x0 + fx\n",
        "        fy = f(y)\n",
        "\n",
        "        # Evita división por cero\n",
        "        if fy == fx:\n",
        "            raise ZeroDivisionError(\"División por cero en la iteración.\")\n",
        "\n",
        "        # Fórmula de Steffensen\n",
        "        x1 = x0 - (fx ** 2) / (fy - fx)\n",
        "\n",
        "        # Verifica la convergencia\n",
        "        if abs(x1 - x0) < tol:\n",
        "            return x1, n\n",
        "\n",
        "        # Actualiza para la siguiente iteración\n",
        "        x0 = x1\n",
        "\n",
        "    raise RuntimeError(\"No se alcanzó la convergencia en el número máximo de iteraciones.\")"
      ],
      "metadata": {
        "id": "phBAIpoX7Y9W"
      },
      "execution_count": 23,
      "outputs": []
    },
    {
      "cell_type": "code",
      "source": [
        "# Funcionamiento de Steffensen\n",
        "\n",
        "# Definimos la función\n",
        "def f(x):\n",
        "    return np.cos(x) - x**2\n",
        "\n",
        "# Aproximación inicial\n",
        "x0 = 0.5\n",
        "\n",
        "# Llamamos al método de Steffensen\n",
        "raiz, iteraciones = Steffensen(f, x0)\n",
        "\n",
        "# Mostramos el resultado\n",
        "print(f\"Raíz aproximada: {raiz}\")\n",
        "print(f\"Iteraciones necesarias: {iteraciones}\")\n",
        "print(f\"Verificación: f(raíz) = {f(raiz)}\")"
      ],
      "metadata": {
        "colab": {
          "base_uri": "https://localhost:8080/"
        },
        "id": "FmksRwjmNssa",
        "outputId": "f54bc8a5-d3d7-4711-e02d-58bf2bf248f0"
      },
      "execution_count": 24,
      "outputs": [
        {
          "output_type": "stream",
          "name": "stdout",
          "text": [
            "Raíz aproximada: 0.8241323123025224\n",
            "Iteraciones necesarias: 5\n",
            "Verificación: f(raíz) = 1.1102230246251565e-16\n"
          ]
        }
      ]
    },
    {
      "cell_type": "code",
      "source": [
        "# Definimos la función f(x) = cos(x) - x^2\n",
        "def f(x):\n",
        "    return np.cos(x) - x**2\n",
        "\n",
        "# Dominio de 0 a pi/2 con 100 puntos\n",
        "x_vals = np.linspace(0, np.pi / 2, 100)\n",
        "y_vals = f(x_vals)\n",
        "\n",
        "# Gráfico\n",
        "plt.plot(x_vals, y_vals, label='f(x) = cos(x) - x^2')\n",
        "plt.axhline(0, color='gray', linestyle='--')\n",
        "plt.xlabel('x')\n",
        "plt.ylabel('f(x)')\n",
        "plt.title('Gráfica de f(x) = cos(x) - x^2')\n",
        "plt.legend()\n",
        "plt.grid(True)\n",
        "plt.show()\n",
        "\n",
        "# DataFrame con los valores\n",
        "df = pd.DataFrame({'x': x_vals, 'f(x)': y_vals})\n",
        "\n",
        "# Buscamos la fila con valor más cercano a cero\n",
        "df['abs(f(x))'] = np.abs(df['f(x)'])\n",
        "approx_row = df[df['abs(f(x))'] == df['abs(f(x))'].min()]\n",
        "x0_approx = approx_row['x'].values[0]  # Primer valor cercano a la raíz\n",
        "\n",
        "print(\"Aproximación inicial desde el DataFrame:\", x0_approx)"
      ],
      "metadata": {
        "colab": {
          "base_uri": "https://localhost:8080/",
          "height": 489
        },
        "id": "Aj-g2CNuFCGg",
        "outputId": "b6c135f6-da53-4aa3-b979-de2d99a53a03"
      },
      "execution_count": 25,
      "outputs": [
        {
          "output_type": "display_data",
          "data": {
            "text/plain": [
              "<Figure size 640x480 with 1 Axes>"
            ],
            "image/png": "[encoded data removed]"
          },
          "metadata": {}
        },
        {
          "output_type": "stream",
          "name": "stdout",
          "text": [
            "Aproximación inicial desde el DataFrame: 0.8250647373064104\n"
          ]
        }
      ]
    },
    {
      "cell_type": "code",
      "source": [
        "# Método de Steffensen\n",
        "raiz_steff, n_steff = Steffensen(f, x0_approx)\n",
        "print(f\"Steffensen: raíz = {raiz_steff}, iteraciones = {n_steff}\")\n",
        "\n",
        "# Bisección\n",
        "raiz_bisect = bisect(f, 0, np.pi/2, xtol=1e-8)\n",
        "print(f\"Bisección: raíz = {raiz_bisect}\")\n",
        "\n",
        "# Secante (usamos root_scalar)\n",
        "sol_secante = root_scalar(f, method='secant', x0=0.5, x1=1)\n",
        "print(f\"Secante: raíz = {sol_secante.root}\")"
      ],
      "metadata": {
        "colab": {
          "base_uri": "https://localhost:8080/"
        },
        "id": "-CTw8Zg1FMT4",
        "outputId": "2b8b97f2-b94d-42ee-f5e6-199d71f3867d"
      },
      "execution_count": 26,
      "outputs": [
        {
          "output_type": "stream",
          "name": "stdout",
          "text": [
            "Steffensen: raíz = 0.8241323123025224, iteraciones = 3\n",
            "Bisección: raíz = 0.824132307664318\n",
            "Secante: raíz = 0.8241323123025224\n"
          ]
        }
      ]
    },
    {
      "cell_type": "code",
      "source": [
        "# Evaluamos número de iteraciones para distintas tolerancias\n",
        "tol = np.logspace(-1, -10, 10)\n",
        "N_iter = []\n",
        "\n",
        "for t in tol:\n",
        "    _, n = Steffensen(f, x0_approx, tol=t)\n",
        "    N_iter.append(n)\n",
        "\n",
        "# Gráfico semilog\n",
        "plt.figure()\n",
        "plt.semilogy(tol, N_iter, marker='o', color='darkblue')\n",
        "plt.xlabel('Tolerancia')\n",
        "plt.ylabel('Número de iteraciones')\n",
        "plt.title('Convergencia del método de Steffensen')\n",
        "plt.grid(True, which=\"both\", linestyle=\"--\")\n",
        "plt.gca().invert_xaxis()  # De mayor a menor tolerancia\n",
        "plt.show()"
      ],
      "metadata": {
        "colab": {
          "base_uri": "https://localhost:8080/",
          "height": 472
        },
        "id": "IOzzJLdHFT0S",
        "outputId": "c2c3cbc9-3bac-443d-de03-6ee872b24ea3"
      },
      "execution_count": 27,
      "outputs": [
        {
          "output_type": "display_data",
          "data": {
            "text/plain": [
              "<Figure size 640x480 with 1 Axes>"
            ],
            "image/png": "[encoded data removed]"
          },
          "metadata": {}
        }
      ]
    },
    {
      "cell_type": "markdown",
      "source": [
        "**Conclusión:**\n",
        "\n",
        "A medida que la tolerancia disminuye, el número de iteraciones aumenta de forma suave y predecible. Esto refleja la convergencia cuadrática del método de Steffensen, que logra una alta precisión con relativamente pocas iteraciones comparado con otros métodos como bisección."
      ],
      "metadata": {
        "id": "BYxXR3YyHgWk"
      }
    },
    {
      "cell_type": "markdown",
      "source": [
        "#2\n",
        "\n",
        "**(60 puntos)** El periodo de oscilación $T$ de un péndulo simple con amplitud angular $\\theta_0$ está dado por la integral elíptica:\n",
        "\n",
        "$$T = 4\\sqrt{\\frac{L}{g}}\\int_0^{\\theta_0/2} \\frac{d\\theta}{\\sqrt{\\cos\\theta - \\cos\\theta_0}}$$\n",
        "\n",
        "Esta expresión puede representarse mediante la siguiente serie infinita:\n",
        "\n",
        "$$T = 2\\pi\\sqrt{\\frac{L}{g}}\\left[1 + \\sum_{n=1}^{\\infty}c_n\\sin^{2n}\\left(\\frac{\\theta_0}{2}\\right)\\right]$$\n",
        "\n",
        "donde los coeficientes $c_n$ están dados por:\n",
        "\n",
        "$$c_n = \\left(\\frac{(2n-1)!!}{2^n n!}\\right)^2$$\n",
        "\n",
        "El doble factorial $(2n-1)!!$ significa el producto de todos los números impares desde 1 hasta $(2n-1)$.\n",
        "\n",
        "Los primeros términos de esta serie son:\n",
        "\n",
        "$$T \\approx 2\\pi\\sqrt{\\frac{L}{g}}\\left[1 + \\frac{1}{4}\\sin^2\\left(\\frac{\\theta_0}{2}\\right) + \\frac{9}{64}\\sin^4\\left(\\frac{\\theta_0}{2}\\right) + \\frac{25}{256}\\sin^6\\left(\\frac{\\theta_0}{2}\\right) + \\frac{1225}{16384}\\sin^8\\left(\\frac{\\theta_0}{2}\\right) + \\ldots\\right]$$\n",
        "\n",
        "Para un péndulo de longitud $L = 1.2$ metros:\n",
        "\n",
        "## Parte A\n",
        "\n",
        "* Realice una función llamada `doble_factorial` que calcule $(2n - 1)!!$ y luego una llamada `coeficiente_cn` que devuelva el coeficiente $c_n$\n",
        "\n",
        "* Para una amplitud de $\\theta_0 = 90°$ y $\\theta_0 = 15°$, determine el valor de $T$ utilizando:\n",
        "  - La aproximación de pequeñas oscilaciones $T_0 = 2\\pi\\sqrt{L/g}$\n",
        "  - La serie truncada a 3 términos.\n",
        "  - ¿Cuál será el error de las aproximaciones anteriores si toma 10 terminos como el valor exacto? ¿Cómo influye el valor del ángulo usado?\n",
        "\n",
        "## Parte B\n",
        "\n",
        "* Encuentre una función $f(\\theta_0)$ para  $\\theta_0$ (en radianes) en la cual el periodo real es exactamente un 10% mayor que el periodo para oscilaciones infinitesimales ($T_0 = 2\\pi\\sqrt{L/g}$). Utilice para $T(\\theta_0)$ los primeros 4 términos de la serie y grafique esta función para $\\theta_0 \\in [0, \\pi/2]$.\n",
        "\n",
        "* Resuelva numéricamente la ecuación para $f(\\theta_0) = 0$ utilizando el método de Bisección y Newton-Raphson (sin incluir la derivada).\n",
        "\n",
        "\n",
        "\n"
      ],
      "metadata": {
        "id": "od2GDFK5-QJC"
      }
    },
    {
      "cell_type": "markdown",
      "source": [
        "**Parte A**"
      ],
      "metadata": {
        "id": "_rGjg1JIGBQV"
      }
    },
    {
      "cell_type": "code",
      "source": [
        "# Aqui va su código\n",
        "def doble_factorial(n):\n",
        "    \"\"\"\n",
        "    Calcula el doble factorial (2n - 1)!! = 1 × 3 × 5 × ... × (2n - 1)\n",
        "\n",
        "    Parámetros:\n",
        "    - n: entero positivo\n",
        "\n",
        "    Retorna:\n",
        "    - df: resultado del doble factorial\n",
        "    \"\"\"\n",
        "    resultado = 1\n",
        "    for k in range(1, 2 * n, 2):\n",
        "        resultado *= k\n",
        "    return resultado\n",
        "\n",
        "\n",
        "def coeficiente_cn(n):\n",
        "    \"\"\"\n",
        "    Calcula el coeficiente c_n de la serie del péndulo.\n",
        "\n",
        "    c_n = [(2n-1)!! / (2^n * n!)]^2\n",
        "\n",
        "    Parámetros:\n",
        "    - n: entero positivo\n",
        "\n",
        "    Retorna:\n",
        "    - c_n: coeficiente correspondiente\n",
        "    \"\"\"\n",
        "    num = doble_factorial(n)\n",
        "    den = 2**n * factorial(n)\n",
        "    return (num / den)**2"
      ],
      "metadata": {
        "id": "hkHRzyB9-mSS"
      },
      "execution_count": 28,
      "outputs": []
    },
    {
      "cell_type": "code",
      "source": [
        "# Funcionamiento doble_factorial:\n",
        "\n",
        "print(doble_factorial(1))  # → 1\n",
        "print(doble_factorial(2))  # → 1 * 3 = 3\n",
        "print(doble_factorial(3))  # → 1 * 3 * 5 = 15\n",
        "print(doble_factorial(4))  # → 1 * 3 * 5 * 7 = 105"
      ],
      "metadata": {
        "colab": {
          "base_uri": "https://localhost:8080/"
        },
        "id": "1nNi8hthONnl",
        "outputId": "de3b234a-903d-437f-81d7-5d3f164a8654"
      },
      "execution_count": 29,
      "outputs": [
        {
          "output_type": "stream",
          "name": "stdout",
          "text": [
            "1\n",
            "3\n",
            "15\n",
            "105\n"
          ]
        }
      ]
    },
    {
      "cell_type": "code",
      "source": [
        "# Funcionamiento coeficiente_cn:\n",
        "\n",
        "print(coeficiente_cn(1))\n",
        "print(coeficiente_cn(2))\n",
        "print(coeficiente_cn(3))\n",
        "print(coeficiente_cn(4))"
      ],
      "metadata": {
        "colab": {
          "base_uri": "https://localhost:8080/"
        },
        "id": "E6LKlcLuQGqK",
        "outputId": "a246843b-45ca-4573-82cd-e658541bdcb2"
      },
      "execution_count": 30,
      "outputs": [
        {
          "output_type": "stream",
          "name": "stdout",
          "text": [
            "0.25\n",
            "0.140625\n",
            "0.09765625\n",
            "0.07476806640625\n"
          ]
        }
      ]
    },
    {
      "cell_type": "code",
      "source": [
        "def periodo_pendulo(L, g, theta0, N):\n",
        "    \"\"\"\n",
        "    Calcula el periodo del péndulo usando una serie truncada de N términos.\n",
        "\n",
        "    Parámetros:\n",
        "    - L: longitud del péndulo (m)\n",
        "    - g: aceleración de la gravedad (m/s²)\n",
        "    - theta0: amplitud inicial en radianes\n",
        "    - N: número de términos en la serie\n",
        "\n",
        "    Retorna:\n",
        "    - T: periodo aproximado (s)\n",
        "    \"\"\"\n",
        "    base = 2 * np.pi * np.sqrt(L / g)\n",
        "    suma = 0\n",
        "    for n in range(1, N + 1):\n",
        "        cn = coeficiente_cn(n)\n",
        "        suma += cn * np.sin(theta0 / 2)**(2 * n)\n",
        "    return base * (1 + suma)"
      ],
      "metadata": {
        "id": "8F7Zv2t1GVDc"
      },
      "execution_count": 31,
      "outputs": []
    },
    {
      "cell_type": "code",
      "source": [
        "# Funcionamiento periodo_pendulo\n",
        "\n",
        "# Parámetros\n",
        "L = 1.2  # longitud en metros\n",
        "g = 9.81  # gravedad en m/s²\n",
        "theta0_deg = 90  # ángulo en grados\n",
        "theta0_rad = np.deg2rad(theta0_deg)  # conversión a radianes\n",
        "\n",
        "# Periodo para pequeñas oscilaciones\n",
        "T0 = 2 * np.pi * np.sqrt(L / g)\n",
        "\n",
        "# Periodo usando 3 y 10 términos\n",
        "T3 = periodo_pendulo(L, g, theta0_rad, N=3)\n",
        "T10 = periodo_pendulo(L, g, theta0_rad, N=10)\n",
        "\n",
        "# Mostrar resultados\n",
        "print(f\"Periodo (oscilaciones pequeñas): {T0:.6f} s\")\n",
        "print(f\"Periodo (serie con 3 términos):   {T3:.6f} s\")\n",
        "print(f\"Periodo (serie con 10 términos):  {T10:.6f} s\")\n",
        "\n",
        "# Cálculo de errores relativos\n",
        "error3 = abs(T10 - T3) / T10 * 100\n",
        "error0 = abs(T10 - T0) / T10 * 100\n",
        "print(f\"\\nError de 3 términos vs 10 términos: {error3:.4f}%\")\n",
        "print(f\"Error de T0 (oscilaciones pequeñas) vs 10 términos: {error0:.4f}%\")"
      ],
      "metadata": {
        "colab": {
          "base_uri": "https://localhost:8080/"
        },
        "id": "V3cXNWt3OS61",
        "outputId": "0ba561cd-8022-44bd-c6ab-21ae0abb4765"
      },
      "execution_count": 32,
      "outputs": [
        {
          "output_type": "stream",
          "name": "stdout",
          "text": [
            "Periodo (oscilaciones pequeñas): 2.197536 s\n",
            "Periodo (serie con 3 términos):   2.576310 s\n",
            "Periodo (serie con 10 términos):  2.593785 s\n",
            "\n",
            "Error de 3 términos vs 10 términos: 0.6737%\n",
            "Error de T0 (oscilaciones pequeñas) vs 10 términos: 15.2769%\n"
          ]
        }
      ]
    },
    {
      "cell_type": "code",
      "source": [
        "# Parámetros\n",
        "L = 1.2       # metros\n",
        "g = 9.81      # m/s²\n",
        "theta0_deg = [15, 90]  # grados\n",
        "theta0_rad = np.deg2rad(theta0_deg)\n",
        "\n",
        "# Periodo de oscilaciones pequeñas\n",
        "T0 = 2 * np.pi * np.sqrt(L / g)\n",
        "print(f\"Periodo de pequeñas oscilaciones (T0): {T0:.6f} s\")\n",
        "\n",
        "# Cálculos con 3 y 10 términos\n",
        "for i, theta in enumerate(theta0_rad):\n",
        "    T3 = periodo_pendulo(L, g, theta, N=3)\n",
        "    T10 = periodo_pendulo(L, g, theta, N=10)\n",
        "    error_3 = abs((T3 - T10) / T10) * 100  # Error porcentual\n",
        "    error_0 = abs((T0 - T10) / T10) * 100\n",
        "    print(f\"\\nθ₀ = {theta0_deg[i]}°\")\n",
        "    print(f\"  T con 3 términos  = {T3:.6f} s\")\n",
        "    print(f\"  T con 10 términos = {T10:.6f} s (considerado exacto)\")\n",
        "    print(f\"  Error usando 3 términos: {error_3:.6f} %\")\n",
        "    print(f\"  Error usando T₀: {error_0:.6f} %\")"
      ],
      "metadata": {
        "colab": {
          "base_uri": "https://localhost:8080/"
        },
        "id": "fLfeN4KbGYYV",
        "outputId": "828d11e7-a354-483f-ecc7-a3c9a3be99fc"
      },
      "execution_count": 33,
      "outputs": [
        {
          "output_type": "stream",
          "name": "stdout",
          "text": [
            "Periodo de pequeñas oscilaciones (T0): 2.197536 s\n",
            "\n",
            "θ₀ = 15°\n",
            "  T con 3 términos  = 2.206987 s\n",
            "  T con 10 términos = 2.206987 s (considerado exacto)\n",
            "  Error usando 3 términos: 0.000001 %\n",
            "  Error usando T₀: 0.428216 %\n",
            "\n",
            "θ₀ = 90°\n",
            "  T con 3 términos  = 2.576310 s\n",
            "  T con 10 términos = 2.593785 s (considerado exacto)\n",
            "  Error usando 3 términos: 0.673690 %\n",
            "  Error usando T₀: 15.276850 %\n"
          ]
        }
      ]
    },
    {
      "cell_type": "markdown",
      "source": [
        "**¿Cuál será el error de las aproximaciones anteriores si toma 10 terminos como el valor exacto? ¿Cómo influye el valor del ángulo usado?**\n",
        "\n",
        "El error de las aproximaciones depende fuertemente del valor del ángulo. A mayor amplitud angular, más términos se requieren en la serie para lograr una estimación precisa del período. Esto se debe a que, al aumentar la amplitud angular, las suposiciones del modelo de oscilaciones pequeñas dejan de ser válidas, y se requiere incluir más términos de la serie para capturar correctamente el efecto de la no linealidad. Por otro lado, para ángulos pequeños, pocas correcciones bastan y la fórmula de oscilaciones pequeñas es suficientemente precisa."
      ],
      "metadata": {
        "id": "IGUW2iqgIfxo"
      }
    },
    {
      "cell_type": "markdown",
      "source": [
        "**Parte B**"
      ],
      "metadata": {
        "id": "RWG9CvzaGRRg"
      }
    },
    {
      "cell_type": "code",
      "source": [
        "def f_incremento_10(theta0):\n",
        "    \"\"\"\n",
        "    Función que representa la diferencia entre el periodo con amplitud theta0\n",
        "    y el 110% del periodo de pequeñas oscilaciones.\n",
        "\n",
        "    Parámetros:\n",
        "    - theta0: ángulo en radianes\n",
        "\n",
        "    Retorna:\n",
        "    - f(theta0): diferencia entre T(theta0) y 1.1*T0\n",
        "    \"\"\"\n",
        "    T_theta = periodo_pendulo(L, g, theta0, N=4)\n",
        "    return T_theta - 1.1 * T0"
      ],
      "metadata": {
        "id": "TvBr79NQGfjT"
      },
      "execution_count": 34,
      "outputs": []
    },
    {
      "cell_type": "code",
      "source": [
        "theta_vals = np.linspace(0, np.pi / 2, 200)\n",
        "f_vals = [f_incremento_10(theta) for theta in theta_vals]\n",
        "\n",
        "plt.plot(theta_vals, f_vals, label=r'$f(\\theta_0)$')\n",
        "plt.axhline(0, color='gray', linestyle='--')\n",
        "plt.xlabel(r'$\\theta_0$ (rad)')\n",
        "plt.ylabel(r'$T(\\theta_0) - 1.1 \\cdot T_0$')\n",
        "plt.title('Función $f(\\\\theta_0)$ para incremento del 10% en periodo')\n",
        "plt.grid(True)\n",
        "plt.legend()\n",
        "plt.show()"
      ],
      "metadata": {
        "colab": {
          "base_uri": "https://localhost:8080/",
          "height": 478
        },
        "id": "2m4WTGHMGLPU",
        "outputId": "3736ab6b-95cc-4e63-92e2-9813531d77d2"
      },
      "execution_count": 35,
      "outputs": [
        {
          "output_type": "display_data",
          "data": {
            "text/plain": [
              "<Figure size 640x480 with 1 Axes>"
            ],
            "image/png": "[encoded data removed]"
          },
          "metadata": {}
        }
      ]
    },
    {
      "cell_type": "markdown",
      "source": [
        "Recordemos que: $1.2 rad \\approx 68.7549°$"
      ],
      "metadata": {
        "id": "FUr3K8yPUN31"
      }
    },
    {
      "cell_type": "code",
      "source": [
        "# Método de Bisección\n",
        "theta_bisect = bisect(f_incremento_10, 0.1, np.pi/2, xtol=1e-8)\n",
        "print(f\"Ángulo con T = 1.1*T₀ (bisección): {np.rad2deg(theta_bisect):.6f}°\")\n",
        "\n",
        "# Método de Newton (sin derivada)\n",
        "theta_newton = newton(f_incremento_10, x0=1.0)\n",
        "print(f\"Ángulo con T = 1.1*T₀ (Newton): {np.rad2deg(theta_newton):.6f}°\")"
      ],
      "metadata": {
        "colab": {
          "base_uri": "https://localhost:8080/"
        },
        "id": "X_A5guFtGqnN",
        "outputId": "2ff9e8cc-3dd1-4dbf-dee4-b8cc2926ab72"
      },
      "execution_count": 36,
      "outputs": [
        {
          "output_type": "stream",
          "name": "stdout",
          "text": [
            "Ángulo con T = 1.1*T₀ (bisección): 69.419877°\n",
            "Ángulo con T = 1.1*T₀ (Newton): 69.419877°\n"
          ]
        }
      ]
    }
  ]
}