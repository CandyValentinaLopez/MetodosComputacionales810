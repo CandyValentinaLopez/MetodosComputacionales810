{
  "metadata": {
    "kernelspec": {
      "name": "python3",
      "display_name": "Python 3 (ipykernel)",
      "language": "python"
    },
    "language_info": {
      "name": "python",
      "version": "3.10.16",
      "mimetype": "text/x-python",
      "codemirror_mode": {
        "name": "ipython",
        "version": 3
      },
      "pygments_lexer": "ipython3",
      "nbconvert_exporter": "python",
      "file_extension": ".py"
    },
    "colab": {
      "provenance": []
    }
  },
  "nbformat_minor": 5,
  "nbformat": 4,
  "cells": [
    {
      "id": "5833cba4",
      "cell_type": "markdown",
      "source": [
        "# Laboratorio 02: Representación Numérica, Errores y Estabilidad.\n",
        "\n",
        "---\n",
        "### Profesor: Daniel Ruiz Mejía\n",
        "### Nombre: Candy Valentina López Villanueva\n",
        "*Métodos computacionales 2025-I*\n",
        "\n",
        "---"
      ],
      "metadata": {
        "id": "5833cba4"
      }
    },
    {
      "id": "204306de",
      "cell_type": "markdown",
      "source": [
        "# 1.\n",
        "Cree una función llamada `myint` pero que a partir de un número binario con base de 16 bits encuentre el entero correspondiente. Compare su resultado con `int(0b1000011100001)`"
      ],
      "metadata": {
        "id": "204306de"
      }
    },
    {
      "id": "6b0117ca",
      "cell_type": "code",
      "source": [
        "#Aquí va su código\n",
        "def myint(bin_str):\n",
        "    if len(bin_str) != 16:\n",
        "        raise ValueError(\"La cadena debe tener exactamente 16 bits\")\n",
        "\n",
        "    # Si el número es positivo (primer bit = 0)\n",
        "    if bin_str[0] == '0':\n",
        "        return int(bin_str, 2)\n",
        "    else:\n",
        "        # Complemento a dos para números negativos\n",
        "        return int(bin_str, 2) - 2**16\n",
        "\n",
        "# Ejemplo: comparar con int(0b1000011100001)\n",
        "bin_input = '0000001000011100001'.zfill(16)[-16:]  # Aseguramos 16 bits\n",
        "\n",
        "# Calculamos usando nuestra función\n",
        "resultado_myint = myint(bin_input)\n",
        "\n",
        "# Calculamos usando int() de Python (sin signo, por defecto)\n",
        "valor_python = int(0b1000011100001)\n",
        "\n",
        "print(f\"myint('{bin_input}') = {resultado_myint}\")\n",
        "print(f\"int(0b1000011100001) = {valor_python}\")"
      ],
      "metadata": {
        "trusted": false,
        "colab": {
          "base_uri": "https://localhost:8080/"
        },
        "id": "6b0117ca",
        "outputId": "f09fc741-f9e4-43b0-efce-d258ec29e976"
      },
      "outputs": [
        {
          "output_type": "stream",
          "name": "stdout",
          "text": [
            "myint('0001000011100001') = 4321\n",
            "int(0b1000011100001) = 4321\n"
          ]
        }
      ],
      "execution_count": 1
    },
    {
      "id": "bb956b56",
      "cell_type": "markdown",
      "source": [
        "# 2.\n",
        "Generar una función llamada `number64` para flotantes de precisión doble (64bits) donde a partir de un número binario encuentre el valor real. Compruebe su solución usando\n",
        "\n",
        "```\n",
        "number64(\"0100000000111011100100001111111111111111111111111111111111111111\")\n",
        "```"
      ],
      "metadata": {
        "id": "bb956b56"
      }
    },
    {
      "id": "8d675a1e",
      "cell_type": "code",
      "source": [
        "#Aquí va su código\n",
        "def number64(bin_str):\n",
        "    if len(bin_str) != 64:\n",
        "        raise ValueError(\"La cadena debe tener exactamente 64 bits\")\n",
        "\n",
        "    # Paso 1: Extraer los campos\n",
        "    s = int(bin_str[0], 2)                          # Signo\n",
        "    e = int(bin_str[1:12], 2)                       # Exponente\n",
        "    m_bin = bin_str[12:]                            # Mantisa en binario\n",
        "\n",
        "    print(f\"Signo (s): {s}\")\n",
        "    print(f\"Exponente en binario: {bin_str[1:12]} → Decimal: {e}\")\n",
        "    print(f\"Fracción (mantisa): {m_bin}\")\n",
        "\n",
        "    # Paso 2: Calcular el valor real\n",
        "    if e == 2047:  # caso especial: infinito o NaN\n",
        "        if int(m_bin) == 0:\n",
        "            return float('inf') if s == 0 else float('-inf')\n",
        "        else:\n",
        "            return float('nan')\n",
        "    elif e == 0:  # números subnormales (denormales)\n",
        "        exponent = -1022\n",
        "        mantissa = sum(int(bit) * 2**(-i) for i, bit in enumerate(m_bin, start=1))\n",
        "        print(f\"Subnormal: exponente = {exponent}, mantisa = {mantissa}\")\n",
        "    else:  # número normalizado\n",
        "        exponent = e - 1023\n",
        "        mantissa = 1 + sum(int(bit) * 2**(-i) for i, bit in enumerate(m_bin, start=1))\n",
        "        print(f\"Normalizado: exponente = {exponent}, mantisa = {mantissa}\")\n",
        "\n",
        "    valor = (-1)**s * mantissa * 2**exponent\n",
        "    print(f\"Resultado final: {valor}\")\n",
        "    return valor"
      ],
      "metadata": {
        "trusted": false,
        "id": "8d675a1e"
      },
      "outputs": [],
      "execution_count": 2
    },
    {
      "cell_type": "code",
      "source": [
        "# Cadena binaria dada:\n",
        "cadena = \"0100000000111011100100001111111111111111111111111111111111111111\"\n",
        "resultado = number64(cadena)\n",
        "\n",
        "# Verificación con numpy (solo para comparar)\n",
        "import numpy as np\n",
        "valor_verificado = np.frombuffer(int(cadena, 2).to_bytes(8, 'big'), dtype=np.float64)[0]\n",
        "\n",
        "print(\"\\nVerificación con numpy:\", valor_verificado)"
      ],
      "metadata": {
        "colab": {
          "base_uri": "https://localhost:8080/"
        },
        "id": "zpbmIuEmDxPV",
        "outputId": "8cc12597-520b-4c5c-9ceb-69030704b781"
      },
      "id": "zpbmIuEmDxPV",
      "execution_count": 3,
      "outputs": [
        {
          "output_type": "stream",
          "name": "stdout",
          "text": [
            "Signo (s): 0\n",
            "Exponente en binario: 10000000011 → Decimal: 1027\n",
            "Fracción (mantisa): 1011100100001111111111111111111111111111111111111111\n",
            "Normalizado: exponente = 4, mantisa = 1.7229003906249998\n",
            "Resultado final: 27.566406249999996\n",
            "\n",
            "Verificación con numpy: nan\n"
          ]
        }
      ]
    },
    {
      "id": "a5693385",
      "cell_type": "markdown",
      "source": [
        "# 3. Aproximación de $\\pi$\n",
        "\n",
        "La serie de Maclaurin para la función tangente inversa converge en $-1 < x \\leq 1$ y está dada por:\n",
        "\n",
        "$$\n",
        "\\arctan x = \\lim_{n \\to \\infty} P_n(x) = \\lim_{n \\to \\infty} \\sum_{i=1}^n (-1)^{i+1} \\frac{x^{2i-1}}{2i-1}\n",
        "$$\n",
        "\n",
        "- **Aproximación básica**\n",
        "    - Utilizando el hecho de que $\\tan(\\pi/4) = 1$, implemente en Python una función que calcule $4P_n(1)$ y determina el número mínimo de términos $n$ necesarios para que $|4P_n(1) - \\pi| < 10^{-3}$. Compare su resultado con el valor de $\\pi$ de la librería math.\n",
        "    - Requiriendo que el valor de $\\pi$ esté dentro de un error de $10^{-4}$. ¿Cuántos términos de la serie se necesitaría sumar para obtener esta precisión? Implemente una solución en Python para encontrar este valor.\n",
        "- **Mejora de la convergencia**\n",
        "    El método anterior puede mejorarse significativamente usando la identidad:\n",
        "    $$\n",
        "    \\frac{\\pi}{4} = \\arctan\\left(\\frac{1}{2}\\right) + \\arctan\\left(\\frac{1}{3}\\right)\n",
        "    $$\n",
        "    - Implemente en Python una función que evalúe la serie para $\\arctan(1/2)$ y $\\arctan(1/3)$ por separado y luego las sume. Determine el número mínimo de términos necesarios para cada serie (pueden ser diferentes) para aproximar $\\pi$ con un error menor a $10^{-3}$ y $10^{-6}$.\n",
        "\n",
        "- **Método de alta precisión**\n",
        "    Para obtener una convergencia aún más rápida, usamos la identidad:\n",
        "    $$\n",
        "    \\frac{\\pi}{4} = 4\\arctan\\left(\\frac{1}{5}\\right) - \\arctan\\left(\\frac{1}{239}\\right)\n",
        "    $$\n",
        "    Desarrolle un programa en Python que implemente esta fórmula y determine:\n",
        "    - El número mínimo de términos necesarios en cada serie para aproximar $\\pi$ con error menor a $10^{-3}$ y $10^{-6}$.\n",
        "    - Compare el rendimiento (número de términos requeridos) con los métodos anteriores.\n",
        "\n",
        ""
      ],
      "metadata": {
        "id": "a5693385"
      }
    },
    {
      "cell_type": "markdown",
      "source": [
        "**Aproximación Básica**"
      ],
      "metadata": {
        "id": "I1vZrVJGE029"
      },
      "id": "I1vZrVJGE029"
    },
    {
      "id": "8aef365a",
      "cell_type": "code",
      "source": [
        "#Aquí va su código\n",
        "import math\n",
        "\n",
        "def aproximar_pi_basico(tolerancia=1e-3):\n",
        "    suma = 0\n",
        "    n = 0\n",
        "    error = float('inf')\n",
        "\n",
        "    while error > tolerancia:\n",
        "        n += 1\n",
        "        termino = (-1)**(n+1) / (2*n - 1)\n",
        "        suma += termino\n",
        "        pi_aprox = 4 * suma\n",
        "        error = abs(pi_aprox - math.pi)\n",
        "\n",
        "    return pi_aprox, n, error\n",
        "\n",
        "# Prueba con tolerancias\n",
        "pi1, n1, err1 = aproximar_pi_basico(1e-3)\n",
        "pi2, n2, err2 = aproximar_pi_basico(1e-4)\n",
        "\n",
        "print(f\"Para error < 1e-3: π ≈ {pi1:.6f} con n = {n1}\")\n",
        "print(f\"Para error < 1e-4: π ≈ {pi2:.6f} con n = {n2}\")"
      ],
      "metadata": {
        "trusted": false,
        "colab": {
          "base_uri": "https://localhost:8080/"
        },
        "id": "8aef365a",
        "outputId": "b0e6fa4e-ac51-4d3d-aacf-3d3e23f8e428"
      },
      "outputs": [
        {
          "output_type": "stream",
          "name": "stdout",
          "text": [
            "Para error < 1e-3: π ≈ 3.140593 con n = 1000\n",
            "Para error < 1e-4: π ≈ 3.141493 con n = 10000\n"
          ]
        }
      ],
      "execution_count": 4
    },
    {
      "cell_type": "markdown",
      "source": [
        "**Mejora de Convergencia**"
      ],
      "metadata": {
        "id": "7i2ttLdUFmO5"
      },
      "id": "7i2ttLdUFmO5"
    },
    {
      "cell_type": "code",
      "source": [
        "def arctan(x, tolerancia=1e-3):\n",
        "    suma = 0\n",
        "    n = 0\n",
        "    error = float('inf')\n",
        "\n",
        "    while error > tolerancia:\n",
        "        n += 1\n",
        "        termino = (-1)**(n+1) * x**(2*n-1) / (2*n-1)\n",
        "        suma += termino\n",
        "        error = abs(suma - math.atan(x))\n",
        "\n",
        "    return suma, n\n",
        "\n",
        "def mejorar_convergencia(tolerancia=1e-3):\n",
        "    # Aproximar arctan(1/2) y arctan(1/3)\n",
        "    arctan_1_2, n_1_2 = arctan(1/2, tolerancia)\n",
        "    arctan_1_3, n_1_3 = arctan(1/3, tolerancia)\n",
        "\n",
        "    # Sumamos los resultados\n",
        "    pi_aprox = 4 * (arctan_1_2 + arctan_1_3)\n",
        "\n",
        "    return pi_aprox, n_1_2, n_1_3\n",
        "\n",
        "# Prueba con tolerancia de 1e-3\n",
        "pi_mejorado_1e3, n1_2, n1_3 = mejorar_convergencia(1e-3)\n",
        "print(f\"Aproximación de π con tolerancia < 1e-3: {pi_mejorado_1e3:.6f}\")\n",
        "print(f\"Términos necesarios para arctan(1/2): {n1_2}\")\n",
        "print(f\"Términos necesarios para arctan(1/3): {n1_3}\")"
      ],
      "metadata": {
        "colab": {
          "base_uri": "https://localhost:8080/"
        },
        "id": "3ctg-N_WFqRY",
        "outputId": "cb9c7408-4c40-4ba1-e750-24802ed9dd8f"
      },
      "id": "3ctg-N_WFqRY",
      "execution_count": 5,
      "outputs": [
        {
          "output_type": "stream",
          "name": "stdout",
          "text": [
            "Aproximación de π con tolerancia < 1e-3: 3.142284\n",
            "Términos necesarios para arctan(1/2): 3\n",
            "Términos necesarios para arctan(1/3): 2\n"
          ]
        }
      ]
    },
    {
      "cell_type": "markdown",
      "source": [
        "**Método de Alta Precisión**"
      ],
      "metadata": {
        "id": "IS1Kf14hF2pd"
      },
      "id": "IS1Kf14hF2pd"
    },
    {
      "cell_type": "code",
      "source": [
        "def arctan_preciso(x, tolerancia=1e-3):\n",
        "    suma = 0\n",
        "    n = 0\n",
        "    error = float('inf')\n",
        "\n",
        "    while error > tolerancia:\n",
        "        n += 1\n",
        "        termino = (-1)**(n+1) * x**(2*n-1) / (2*n-1)\n",
        "        suma += termino\n",
        "        error = abs(suma - math.atan(x))\n",
        "\n",
        "    return suma, n\n",
        "\n",
        "def alta_precision(tolerancia=1e-3):\n",
        "    # Aproximar arctan(1/5) y arctan(1/239)\n",
        "    arctan_1_5, n_1_5 = arctan_preciso(1/5, tolerancia)\n",
        "    arctan_1_239, n_1_239 = arctan_preciso(1/239, tolerancia)\n",
        "\n",
        "    # Sumamos los resultados según la fórmula\n",
        "    pi_aprox = 4 * arctan_1_5 - arctan_1_239\n",
        "\n",
        "    return pi_aprox, n_1_5, n_1_239\n",
        "\n",
        "# Prueba con tolerancia de 1e-3\n",
        "pi_preciso_1e3, n1_5, n1_239 = alta_precision(1e-3)\n",
        "pi_preciso_1e6, n1_5_6, n1_239_6 = alta_precision(1e-6)\n",
        "\n",
        "print(f\"Aproximación de π con tolerancia < 1e-3: {pi_preciso_1e3:.6f}\")\n",
        "print(f\"Términos necesarios para arctan(1/5): {n1_5}\")\n",
        "print(f\"Términos necesarios para arctan(1/239): {n1_239}\")\n",
        "\n",
        "print(f\"Aproximación de π con tolerancia < 1e-6: {pi_preciso_1e6:.6f}\")\n",
        "print(f\"Términos necesarios para arctan(1/5): {n1_5_6}\")\n",
        "print(f\"Términos necesarios para arctan(1/239): {n1_239_6}\")"
      ],
      "metadata": {
        "colab": {
          "base_uri": "https://localhost:8080/"
        },
        "id": "6Gt8WCyNF0vv",
        "outputId": "5977249b-dd0f-4c14-c52f-96fb2039b2f9"
      },
      "id": "6Gt8WCyNF0vv",
      "execution_count": 6,
      "outputs": [
        {
          "output_type": "stream",
          "name": "stdout",
          "text": [
            "Aproximación de π con tolerancia < 1e-3: 0.785149\n",
            "Términos necesarios para arctan(1/5): 2\n",
            "Términos necesarios para arctan(1/239): 1\n",
            "Aproximación de π con tolerancia < 1e-6: 0.785398\n",
            "Términos necesarios para arctan(1/5): 4\n",
            "Términos necesarios para arctan(1/239): 1\n"
          ]
        }
      ]
    },
    {
      "cell_type": "markdown",
      "source": [
        "**Comparación del Rendimiento de los Métodos Anteriores**"
      ],
      "metadata": {
        "id": "8EGobCZ9HJIF"
      },
      "id": "8EGobCZ9HJIF"
    },
    {
      "cell_type": "code",
      "source": [
        "import math\n",
        "\n",
        "# Función para calcular arctan(x) usando la serie de Maclaurin\n",
        "def arctan(x, tolerancia=1e-3):\n",
        "    suma = 0\n",
        "    n = 0\n",
        "    error = float('inf')\n",
        "\n",
        "    while error > tolerancia:\n",
        "        n += 1\n",
        "        termino = (-1)**(n+1) * x**(2*n-1) / (2*n-1)\n",
        "        suma += termino\n",
        "        error = abs(suma - math.atan(x))\n",
        "\n",
        "    return suma, n\n",
        "\n",
        "# Aproximación básica para π\n",
        "def aproximar_pi_basico(tolerancia=1e-3):\n",
        "    suma = 0\n",
        "    n = 0\n",
        "    error = float('inf')\n",
        "\n",
        "    while error > tolerancia:\n",
        "        n += 1\n",
        "        termino = (-1)**(n+1) / (2*n - 1)\n",
        "        suma += termino\n",
        "        pi_aprox = 4 * suma\n",
        "        error = abs(pi_aprox - math.pi)\n",
        "\n",
        "    return pi_aprox, n, error\n",
        "\n",
        "# Mejora de convergencia usando arctan(1/2) y arctan(1/3)\n",
        "def mejorar_convergencia(tolerancia=1e-3):\n",
        "    arctan_1_2, n_1_2 = arctan(1/2, tolerancia)\n",
        "    arctan_1_3, n_1_3 = arctan(1/3, tolerancia)\n",
        "\n",
        "    pi_aprox = 4 * (arctan_1_2 + arctan_1_3)\n",
        "\n",
        "    return pi_aprox, n_1_2, n_1_3\n",
        "\n",
        "# Alta precisión usando arctan(1/5) y arctan(1/239)\n",
        "def alta_precision(tolerancia=1e-3):\n",
        "    arctan_1_5, n_1_5 = arctan(1/5, tolerancia)\n",
        "    arctan_1_239, n_1_239 = arctan(1/239, tolerancia)\n",
        "\n",
        "    pi_aprox = 4 * arctan_1_5 - arctan_1_239\n",
        "\n",
        "    return pi_aprox, n_1_5, n_1_239\n",
        "\n",
        "# Comparación de resultados\n",
        "def comparar_metodos():\n",
        "    tolerancias = [1e-3, 1e-4, 1e-6]\n",
        "\n",
        "    print(\"Comparación de métodos para aproximar π:\\n\")\n",
        "    for tol in tolerancias:\n",
        "        print(f\"Tolerancia: {tol}\")\n",
        "\n",
        "        # Aproximación básica\n",
        "        pi_basico, n_basico, err_basico = aproximar_pi_basico(tol)\n",
        "        print(f\"Aproximación básica: {pi_basico:.6f}, Términos necesarios: {n_basico}, Error: {err_basico:.6f}\")\n",
        "\n",
        "        # Mejora de convergencia\n",
        "        pi_mejorado, n_1_2, n_1_3 = mejorar_convergencia(tol)\n",
        "        print(f\"Mejora de convergencia: {pi_mejorado:.6f}, Términos para arctan(1/2): {n_1_2}, Términos para arctan(1/3): {n_1_3}\")\n",
        "\n",
        "        # Alta precisión\n",
        "        pi_preciso, n_1_5, n_1_239 = alta_precision(tol)\n",
        "        print(f\"Alta precisión: {pi_preciso:.6f}, Términos para arctan(1/5): {n_1_5}, Términos para arctan(1/239): {n_1_239}\")\n",
        "\n",
        "        print(\"\\n\" + \"-\"*50 + \"\\n\")\n",
        "\n",
        "# Ejecutamos la comparación\n",
        "comparar_metodos()"
      ],
      "metadata": {
        "colab": {
          "base_uri": "https://localhost:8080/"
        },
        "id": "UBebKKJmGvjf",
        "outputId": "95f311e4-59f1-4e4f-e263-4eed75883df0"
      },
      "id": "UBebKKJmGvjf",
      "execution_count": 8,
      "outputs": [
        {
          "output_type": "stream",
          "name": "stdout",
          "text": [
            "Comparación de métodos para aproximar π:\n",
            "\n",
            "Tolerancia: 0.001\n",
            "Aproximación básica: 3.140593, Términos necesarios: 1000, Error: 0.001000\n",
            "Mejora de convergencia: 3.142284, Términos para arctan(1/2): 3, Términos para arctan(1/3): 2\n",
            "Alta precisión: 0.785149, Términos para arctan(1/5): 2, Términos para arctan(1/239): 1\n",
            "\n",
            "--------------------------------------------------\n",
            "\n",
            "Tolerancia: 0.0001\n",
            "Aproximación básica: 3.141493, Términos necesarios: 10000, Error: 0.000100\n",
            "Mejora de convergencia: 3.141980, Términos para arctan(1/2): 5, Términos para arctan(1/3): 3\n",
            "Alta precisión: 0.785149, Términos para arctan(1/5): 2, Términos para arctan(1/239): 1\n",
            "\n",
            "--------------------------------------------------\n",
            "\n",
            "Tolerancia: 1e-06\n",
            "Aproximación básica: 3.141594, Términos necesarios: 1000001, Error: 0.000001\n",
            "Mejora de convergencia: 3.141593, Términos para arctan(1/2): 8, Términos para arctan(1/3): 5\n",
            "Alta precisión: 0.785398, Términos para arctan(1/5): 4, Términos para arctan(1/239): 1\n",
            "\n",
            "--------------------------------------------------\n",
            "\n"
          ]
        }
      ]
    },
    {
      "id": "ca9640b7",
      "cell_type": "markdown",
      "source": [
        "# 4. Serie Exponencial\n",
        "Considere la serie para $e^{-x}$\n",
        "\n",
        "$$\n",
        "e^{-x}=\\sum_{n=0}^{N}  (-1)^n \\frac{x^{n}}{n!}\n",
        "$$\n",
        "\n",
        "- Calcula la serie para $x \\le 1$ y compárela con la función incorporada `np.exp(x)` (asuma que la función exponencial incorporada es exacta). Elegir un $N$ para el cual el siguiente término en la serie no sea más que $10^{-7}$ de la suma hasta ese punto.\n",
        "\n",
        "$$\n",
        "\\left| \\frac{(-x)^{N+1}}{(N+1)!} \\right | \\le \\left| 10^{-7} \\sum_{N=0}^{N} \\frac{(-x)^{n}}{n!} \\right|\n",
        "$$\n",
        "\n",
        "- Examine los términos de la serie para $x\\approx 10$ y observa las cancelaciones sustractivas significativas que ocurren cuando términos grandes se suman para dar respuestas pequeñas. En particular, imprime la cancelación casi perfecta en $n \\approx x − 1$.\n",
        "\n",
        "- Compruebe si se obtiene una mejor precisión siendo ingenioso y usando $e^{−x} = \\frac{1}{e^x}$ para valores grandes de $x$. Esto elimina la cancelación sustractiva, pero no elimina todos los errores de redondeo.\n",
        "\n",
        "\n",
        "- Incrementando progresivamente $x$ de 1 a 10, y luego de 10 a 100, use el programa para determinar experimentalmente cuándo la serie comienza a perder precisión, y cuándo la serie ya no converge.\n",
        "\n",
        "\n",
        "- Realice una serie de gráficos del error versus $N$ para diferentes valores de $x$."
      ],
      "metadata": {
        "id": "ca9640b7"
      }
    },
    {
      "cell_type": "markdown",
      "source": [
        "**Serie Exponencial para $e^{-x}$**\n",
        "\n",
        "Primero, implementemos la serie para calcular $e^{-x}$ usando la fórmula de la serie proporcionada, y luego comprobamos que el siguiente término sea menor que $10^{-7}$ en comparación con la suma total de la serie. Esto también nos permitirá elegir un valor adecuado para $N$."
      ],
      "metadata": {
        "id": "K1gQyVL9H080"
      },
      "id": "K1gQyVL9H080"
    },
    {
      "id": "ad34281d",
      "cell_type": "code",
      "source": [
        "#Aquí va su código\n",
        "import numpy as np\n",
        "import math\n",
        "import matplotlib.pyplot as plt\n",
        "\n",
        "# Función para calcular e^(-x) usando la serie\n",
        "def exp_series(x, tol=1e-7):\n",
        "    sum_series = 0\n",
        "    n = 0\n",
        "    term = 1  # Primer término de la serie es 1\n",
        "    while abs(term) > tol:\n",
        "        sum_series += term\n",
        "        n += 1\n",
        "        term = (-1)**n * (x**n) / math.factorial(n)\n",
        "    return sum_series, n\n",
        "\n",
        "# Comparar con np.exp(x)\n",
        "def comparar_series():\n",
        "    x_values = np.linspace(0, 1, 5)  # valores de x <= 1\n",
        "    for x in x_values:\n",
        "        series_sum, n_terms = exp_series(x)\n",
        "        np_exp = np.exp(-x)\n",
        "        error = abs(np_exp - series_sum)\n",
        "        print(f\"x = {x}: Serie = {series_sum:.10f}, np.exp(-x) = {np_exp:.10f}, Error = {error:.10f}, Términos usados = {n_terms}\")\n",
        "\n",
        "comparar_series()"
      ],
      "metadata": {
        "trusted": false,
        "colab": {
          "base_uri": "https://localhost:8080/"
        },
        "id": "ad34281d",
        "outputId": "f0dc43d7-6655-4410-f70d-27447b32c5bd"
      },
      "outputs": [
        {
          "output_type": "stream",
          "name": "stdout",
          "text": [
            "x = 0.0: Serie = 1.0000000000, np.exp(-x) = 1.0000000000, Error = 0.0000000000, Términos usados = 1\n",
            "x = 0.25: Serie = 0.7788007948, np.exp(-x) = 0.7788007831, Error = 0.0000000117, Términos usados = 7\n",
            "x = 0.5: Serie = 0.6065305680, np.exp(-x) = 0.6065306597, Error = 0.0000000918, Términos usados = 8\n",
            "x = 0.75: Serie = 0.4723665382, np.exp(-x) = 0.4723665527, Error = 0.0000000145, Términos usados = 10\n",
            "x = 1.0: Serie = 0.3678794643, np.exp(-x) = 0.3678794412, Error = 0.0000000231, Términos usados = 11\n"
          ]
        }
      ],
      "execution_count": 10
    },
    {
      "cell_type": "markdown",
      "source": [
        "**Cancelación Sustractiva en $x \\approx 10$**\n",
        "\n",
        "Cuando $x$ es grande, los términos de la serie se pueden cancelar entre sí de forma significativa. Vamos a calcular la serie para $x = 10$ y mostrar cómo los términos grandes se cancelan."
      ],
      "metadata": {
        "id": "bsy81RhNIFeI"
      },
      "id": "bsy81RhNIFeI"
    },
    {
      "cell_type": "code",
      "source": [
        "# Examinar cancelación sustractiva en x = 10\n",
        "def cancelar_sustractiva(x=10):\n",
        "    series_sum = 0\n",
        "    n = 0\n",
        "    term = 1  # Primer término de la serie es 1\n",
        "    terms = []  # Para guardar los términos de la serie\n",
        "    while n < 50:  # Solo consideramos 50 términos para observar la cancelación\n",
        "        series_sum += term\n",
        "        terms.append(term)\n",
        "        n += 1\n",
        "        term = (-1)**n * (x**n) / math.factorial(n)\n",
        "\n",
        "    print(f\"Serie para e^(-{x}): {series_sum}\")\n",
        "\n",
        "    # Verificar la cancelación cerca de n ≈ x - 1\n",
        "    print(f\"\\nCancelación en n ≈ {x - 1}:\")\n",
        "    for i in range(5, 15):\n",
        "        print(f\"Término {i}: {terms[i]:.10f}\")\n",
        "\n",
        "    plt.plot(range(len(terms)), terms, label=\"Términos de la serie\")\n",
        "    plt.title(f\"Cancelación Sustractiva para x = {x}\")\n",
        "    plt.xlabel(\"Índice n\")\n",
        "    plt.ylabel(\"Valor del término\")\n",
        "    plt.show()\n",
        "\n",
        "cancelar_sustractiva(10)"
      ],
      "metadata": {
        "colab": {
          "base_uri": "https://localhost:8080/",
          "height": 697
        },
        "id": "MpSOrey5H82M",
        "outputId": "7681be6b-776e-46eb-e3a3-02014110dc8c"
      },
      "id": "MpSOrey5H82M",
      "execution_count": 11,
      "outputs": [
        {
          "output_type": "stream",
          "name": "stdout",
          "text": [
            "Serie para e^(-10): 4.5399929430860214e-05\n",
            "\n",
            "Cancelación en n ≈ 9:\n",
            "Término 5: -833.3333333333\n",
            "Término 6: 1388.8888888889\n",
            "Término 7: -1984.1269841270\n",
            "Término 8: 2480.1587301587\n",
            "Término 9: -2755.7319223986\n",
            "Término 10: 2755.7319223986\n",
            "Término 11: -2505.2108385442\n",
            "Término 12: 2087.6756987868\n",
            "Término 13: -1605.9043836822\n",
            "Término 14: 1147.0745597730\n"
          ]
        },
        {
          "output_type": "display_data",
          "data": {
            "text/plain": [
              "<Figure size 640x480 with 1 Axes>"
            ],
            "image/png": "[encoded data removed]"
          },
          "metadata": {}
        }
      ]
    },
    {
      "cell_type": "markdown",
      "source": [
        "**Uso de $e^{-x} = \\frac{1}{e^x}$ para valores grandes de $x$**\n",
        "\n",
        "Para evitar la cancelación sustractiva, podemos usar la relación $e^{-x} = \\frac{1}{e^x}$ cuando $x$ es grande. Esto elimina la cancelación, pero no evita completamente los errores de redondeo."
      ],
      "metadata": {
        "id": "HyVXygNXIQek"
      },
      "id": "HyVXygNXIQek"
    },
    {
      "cell_type": "code",
      "source": [
        "# Función para e^(-x) usando la relación e^(-x) = 1 / e^x\n",
        "def exp_inv(x, tol=1e-7):\n",
        "    if x > 1:\n",
        "        exp_x = np.exp(x)\n",
        "        return 1 / exp_x\n",
        "    else:\n",
        "        return exp_series(x, tol)[0]\n",
        "\n",
        "# Comparar resultados para grandes valores de x\n",
        "def comparar_inv():\n",
        "    x_values = [10, 50, 100]  # Prueba con valores grandes de x\n",
        "    for x in x_values:\n",
        "        series_sum = exp_inv(x)\n",
        "        np_exp = np.exp(-x)\n",
        "        error = abs(np_exp - series_sum)\n",
        "        print(f\"x = {x}: Serie inversa = {series_sum:.10f}, np.exp(-x) = {np_exp:.10f}, Error = {error:.10f}\")\n",
        "\n",
        "comparar_inv()"
      ],
      "metadata": {
        "colab": {
          "base_uri": "https://localhost:8080/"
        },
        "id": "V8--L5YBJeao",
        "outputId": "a85171b6-ed7e-45c2-e215-43c797902a0b"
      },
      "id": "V8--L5YBJeao",
      "execution_count": 12,
      "outputs": [
        {
          "output_type": "stream",
          "name": "stdout",
          "text": [
            "x = 10: Serie inversa = 0.0000453999, np.exp(-x) = 0.0000453999, Error = 0.0000000000\n",
            "x = 50: Serie inversa = 0.0000000000, np.exp(-x) = 0.0000000000, Error = 0.0000000000\n",
            "x = 100: Serie inversa = 0.0000000000, np.exp(-x) = 0.0000000000, Error = 0.0000000000\n"
          ]
        }
      ]
    },
    {
      "cell_type": "markdown",
      "source": [
        "**Determinación experimental de la pérdida de precisión**\n",
        "\n",
        "A medida que aumentamos $x$, se puede observar cuándo la serie comienza a perder precisión y ya no converge. Incrementamos progresivamente $x$ de 1 a 10 y luego de 10 a 100."
      ],
      "metadata": {
        "id": "sA_HzL6JJppu"
      },
      "id": "sA_HzL6JJppu"
    },
    {
      "cell_type": "code",
      "source": [
        "# Incrementando x y observando la pérdida de precisión\n",
        "def perdida_precision():\n",
        "    x_values = [1, 2, 3, 5, 10, 20, 50, 100]\n",
        "    for x in x_values:\n",
        "        series_sum, n_terms = exp_series(x)\n",
        "        np_exp = np.exp(-x)\n",
        "        error = abs(np_exp - series_sum)\n",
        "        print(f\"x = {x}: Serie = {series_sum:.10f}, np.exp(-x) = {np_exp:.10f}, Error = {error:.10f}, Términos usados = {n_terms}\")\n",
        "\n",
        "perdida_precision()"
      ],
      "metadata": {
        "colab": {
          "base_uri": "https://localhost:8080/"
        },
        "id": "Pd6DgfZVJoxx",
        "outputId": "44927cc8-c762-4c8c-b546-9c2e89d1514a"
      },
      "id": "Pd6DgfZVJoxx",
      "execution_count": 13,
      "outputs": [
        {
          "output_type": "stream",
          "name": "stdout",
          "text": [
            "x = 1: Serie = 0.3678794643, np.exp(-x) = 0.3678794412, Error = 0.0000000231, Términos usados = 11\n",
            "x = 2: Serie = 0.1353353055, np.exp(-x) = 0.1353352832, Error = 0.0000000223, Términos usados = 15\n",
            "x = 3: Serie = 0.0497870162, np.exp(-x) = 0.0497870684, Error = 0.0000000522, Términos usados = 18\n",
            "x = 5: Serie = 0.0067378670, np.exp(-x) = 0.0067379470, Error = 0.0000000800, Términos usados = 24\n",
            "x = 10: Serie = 0.0000454391, np.exp(-x) = 0.0000453999, Error = 0.0000000392, Términos usados = 39\n",
            "x = 20: Serie = 0.0000000318, np.exp(-x) = 0.0000000021, Error = 0.0000000297, Términos usados = 67\n",
            "x = 50: Serie = -7015.7762325695, np.exp(-x) = 0.0000000000, Error = 7015.7762325695, Términos usados = 149\n",
            "x = 100: Serie = -287565825147264832425164800.0000000000, np.exp(-x) = 0.0000000000, Error = 287565825147264832425164800.0000000000, Términos usados = 284\n"
          ]
        }
      ]
    },
    {
      "cell_type": "markdown",
      "source": [
        "**Gráficos del error versus $N$ para diferentes valores de $x$**"
      ],
      "metadata": {
        "id": "v-EcKp8nJ6Hz"
      },
      "id": "v-EcKp8nJ6Hz"
    },
    {
      "cell_type": "code",
      "source": [
        "# Graficar el error versus N para diferentes valores de x\n",
        "def graficos_error():\n",
        "    x_values = [1, 5, 10, 20]\n",
        "\n",
        "    for x in x_values:\n",
        "        error_values = []\n",
        "        series_sum = 0\n",
        "        term = 1\n",
        "        for n in range(50):\n",
        "            series_sum += term\n",
        "            error = abs(np.exp(-x) - series_sum)\n",
        "            error_values.append(error)\n",
        "            term = (-1)**(n+1) * (x**(n+1)) / math.factorial(n+1)\n",
        "\n",
        "        plt.plot(range(1, 51), error_values, label=f\"x = {x}\")\n",
        "\n",
        "    plt.legend()\n",
        "    plt.title(\"Error versus Número de Términos N\")\n",
        "    plt.xlabel(\"Número de Términos N\")\n",
        "    plt.ylabel(\"Error\")\n",
        "    plt.show()\n",
        "\n",
        "graficos_error()"
      ],
      "metadata": {
        "colab": {
          "base_uri": "https://localhost:8080/",
          "height": 472
        },
        "id": "lNyBr5IiKKy3",
        "outputId": "2857a9d1-becf-4921-c4c1-67d9b49ba89c"
      },
      "id": "lNyBr5IiKKy3",
      "execution_count": 14,
      "outputs": [
        {
          "output_type": "display_data",
          "data": {
            "text/plain": [
              "<Figure size 640x480 with 1 Axes>"
            ],
            "image/png": "[encoded data removed]"
          },
          "metadata": {}
        }
      ]
    },
    {
      "cell_type": "code",
      "source": [
        "import numpy as np\n",
        "import math\n",
        "import matplotlib.pyplot as plt\n",
        "\n",
        "# Función para calcular e^(-x) usando la serie\n",
        "def exp_series(x, tol=1e-7, max_terms=50):\n",
        "    sum_series = 0\n",
        "    n = 0\n",
        "    term = 1  # Primer término de la serie es 1\n",
        "    error_values = []  # Para guardar los errores\n",
        "    while n < max_terms:\n",
        "        sum_series += term\n",
        "        error = abs(np.exp(-x) - sum_series)  # Error respecto al valor exacto\n",
        "        error_values.append(error)\n",
        "        n += 1\n",
        "        term = (-1)**n * (x**n) / math.factorial(n)\n",
        "    return error_values\n",
        "\n",
        "# Graficar el error versus N para diferentes valores de x\n",
        "def graficos_error():\n",
        "    x_values = [1, 5, 10, 20]  # Valores de x para probar\n",
        "    plt.figure(figsize=(10, 6))\n",
        "\n",
        "    for x in x_values:\n",
        "        error_values = exp_series(x)\n",
        "        plt.plot(range(1, len(error_values)+1), error_values, label=f\"x = {x}\")\n",
        "\n",
        "    plt.legend()\n",
        "    plt.title(\"Error versus Número de Términos N\")\n",
        "    plt.xlabel(\"Número de Términos N\")\n",
        "    plt.ylabel(\"Error\")\n",
        "    plt.yscale('log')  # Usamos escala logarítmica para visualizar mejor los errores\n",
        "    plt.grid(True)\n",
        "    plt.show()\n",
        "\n",
        "graficos_error()"
      ],
      "metadata": {
        "colab": {
          "base_uri": "https://localhost:8080/",
          "height": 564
        },
        "id": "8tbe7i91KlE3",
        "outputId": "5f60b37a-c4be-489e-ce7a-afecb64fbd82"
      },
      "id": "8tbe7i91KlE3",
      "execution_count": 15,
      "outputs": [
        {
          "output_type": "display_data",
          "data": {
            "text/plain": [
              "<Figure size 1000x600 with 1 Axes>"
            ],
            "image/png": "[encoded data removed]"
          },
          "metadata": {}
        }
      ]
    },
    {
      "id": "56688fa9",
      "cell_type": "markdown",
      "source": [
        "# 5.\n",
        "\n",
        "Supongamos que tenemos una función $f(x)$ y queremos calcular su derivada en un punto $x$. Podemos hacerlo manualmente si conocemos la forma matemática de la función, o podemos hacerlo computacionalmente usando la definición de derivada:\n",
        "\n",
        "$$\n",
        "\\frac{df}{dx} = \\lim_{\\delta \\to 0} \\frac{f(x + \\delta) - f(x)}{\\delta}.\n",
        "$$\n",
        "\n",
        "En el computador no podemos tomar el límite cuando $\\delta$ tiende a cero, pero podemos obtener una aproximación razonable usando valores pequeños de $\\delta$.\n",
        "\n",
        "- Escriba un programa que:\n",
        "    - Defina una función $f(x)$ que retorne el valor $x(x-1)$\n",
        "    - Calcule la derivada de la función en $x = 1$ usando la fórmula anterior con $\\delta = 10^{-2}$\n",
        "    - Compare este resultado con el valor exacto obtenido analíticamente\n",
        "    \n",
        "    Los resultados no coincidirán exactamente. ¿Por qué?\n",
        "    \n",
        "- Repita el cálculo para $\\delta = 10^{-4}, 10^{-6}, 10^{-8}, 10^{-10}, 10^{-12}$, y $10^{-14}$. Observará que la precisión mejora inicialmente al disminuir $\\delta$, pero luego empeora. Explique este comportamiento.\n"
      ],
      "metadata": {
        "id": "56688fa9"
      }
    },
    {
      "id": "066104c2",
      "cell_type": "code",
      "source": [
        "#Aquí va su código\n",
        "def f(x):\n",
        "    return x * (x - 1)\n",
        "\n",
        "def derivada_approx(x, delta):\n",
        "    return (f(x + delta) - f(x)) / delta\n",
        "\n",
        "# Valor exacto de la derivada en x = 1\n",
        "valor_exacto = 1\n",
        "\n",
        "# Diferentes valores de delta\n",
        "deltas = [1e-2, 1e-4, 1e-6, 1e-8, 1e-10, 1e-12, 1e-14]\n",
        "\n",
        "# Calcular la derivada aproximada para cada delta\n",
        "resultados = []\n",
        "for delta in deltas:\n",
        "    derivada_aprox = derivada_approx(1, delta)\n",
        "    error = abs(derivada_aprox - valor_exacto)\n",
        "    resultados.append((delta, derivada_aprox, error))\n",
        "\n",
        "# Imprimir los resultados\n",
        "for delta, derivada, error in resultados:\n",
        "    print(f\"Delta: {delta:.1e}, Derivada Aproximada: {derivada:.8f}, Error: {error:.8f}\")"
      ],
      "metadata": {
        "trusted": false,
        "colab": {
          "base_uri": "https://localhost:8080/"
        },
        "id": "066104c2",
        "outputId": "a0272754-2e57-4c2b-dec0-49e3dfd5c84f"
      },
      "outputs": [
        {
          "output_type": "stream",
          "name": "stdout",
          "text": [
            "Delta: 1.0e-02, Derivada Aproximada: 1.01000000, Error: 0.01000000\n",
            "Delta: 1.0e-04, Derivada Aproximada: 1.00010000, Error: 0.00010000\n",
            "Delta: 1.0e-06, Derivada Aproximada: 1.00000100, Error: 0.00000100\n",
            "Delta: 1.0e-08, Derivada Aproximada: 1.00000000, Error: 0.00000000\n",
            "Delta: 1.0e-10, Derivada Aproximada: 1.00000008, Error: 0.00000008\n",
            "Delta: 1.0e-12, Derivada Aproximada: 1.00008890, Error: 0.00008890\n",
            "Delta: 1.0e-14, Derivada Aproximada: 0.99920072, Error: 0.00079928\n"
          ]
        }
      ],
      "execution_count": 16
    },
    {
      "cell_type": "markdown",
      "source": [
        "**Análisis de los Resultados:**\n",
        "\n",
        "**1.\tPrecisión al principio:**\n",
        "\n",
        "•\tPara $\\delta = 10^{-2}$, obtenemos un error de 0.01000000 y la derivada aproximada es 1.01000000. Esto muestra que el valor de $\\delta$ es demasiado grande para obtener una aproximación precisa. Aunque el valor de $\\delta$ es lo suficientemente pequeño como para ser manejable, la aproximación sigue siendo imprecisa.\n",
        "\n",
        "•\tA medida que disminuimos $\\delta a 10^{-4}$, el valor de la derivada se acerca más al valor exacto ( 1.00010000 ) y el error disminuye a 0.00010000. Este comportamiento es lo esperado, ya que un valor más pequeño de $\\delta$ hace que la fórmula de la derivada sea más precisa.\n",
        "\n",
        "•\tPara $\\delta = 10^{-6}$, el valor de la derivada es 1.00000100 y el error es 0.00000100, lo que muestra una mejora adicional.\n",
        "\n",
        "•\tA medida que $\\delta$ sigue disminuyendo, el valor de la derivada se estabiliza en 1.00000000, y el error sigue siendo muy pequeño.\n",
        "\n",
        "**2.\tComportamiento de los errores con valores más pequeños de $\\delta$:**\n",
        "\n",
        "•\tPara $\\delta = 10^{-10}$, el valor de la derivada es 1.00000008, y el error es muy pequeño, 0.00000008. Esto muestra que la precisión ha mejorado considerablemente, pero empiezan a notarse efectos de los errores de redondeo debido a la limitación en la precisión de los números representados en el computador (precisión de 64 bits).\n",
        "\n",
        "•\tPara $\\delta = 10^{-12}$, la derivada aproximada es 1.00008890 y el error es 0.00008890. Aquí, el valor de la derivada comienza a alejarse ligeramente del valor exacto debido a la pérdida de precisión en los cálculos debido a la representación numérica finita en las computadoras.\n",
        "\n",
        "•\tFinalmente, para $\\delta = 10^{-14}$, el valor de la derivada es 0.99920072, y el error es 0.00079928. El error crece significativamente a medida que $\\delta$ se vuelve demasiado pequeño, y el resultado se aleja del valor exacto de la derivada.\n",
        "\n",
        "**Explicación del Comportamiento:**\n",
        "\n",
        "•\t***Mejora inicial de la precisión:*** Cuando $\\delta$ es grande (por ejemplo, $10^{-2}$), los errores son mayores, ya que el valor de $\\frac{f(x + \\delta) - f(x)}{\\delta}$ no es una buena aproximación de la derivada. Al reducir $\\delta$, la precisión mejora porque el término $\\delta$ en el denominador se hace más pequeño, y la aproximación de la derivada es más precisa.\n",
        "\n",
        "•\t***Decrecimiento de la precisión para valores muy pequeños de $\\delta$:*** A medida que $\\delta$ sigue disminuyendo, los efectos de los errores de redondeo empiezan a afectar los cálculos. Los computadores tienen una precisión limitada (usualmente 64 bits en los números de punto flotante), lo que significa que cuando $\\delta$ se hace extremadamente pequeño, los cálculos empiezan a perder precisión debido a la pérdida de significancia. Este fenómeno ocurre porque las diferencias muy pequeñas se vuelven invisibles debido a la precisión finita de los números flotantes, y los errores acumulativos en los cálculos se vuelven más grandes.\n",
        "\n",
        "•\t***Efectos de la representación numérica:*** En cálculos numéricos con computadores, cuando la diferencia entre dos números es muy pequeña (en comparación con la precisión numérica del sistema), los errores de redondeo se acumulan. En este caso, para $\\delta = 10^{-12}$ y valores más pequeños, las representaciones numéricas en la computadora no pueden manejar de manera precisa las pequeñas diferencias, lo que resulta en errores en la derivada calculada."
      ],
      "metadata": {
        "id": "ht8Uoeq9MgGB"
      },
      "id": "ht8Uoeq9MgGB"
    }
  ]
}